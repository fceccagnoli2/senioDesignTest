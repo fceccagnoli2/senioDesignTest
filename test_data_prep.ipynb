{
 "cells": [
  {
   "cell_type": "code",
   "execution_count": 1,
   "metadata": {
    "collapsed": true
   },
   "outputs": [],
   "source": [
    "import pandas as pd\n",
    "from data_prep import IngestionPipe"
   ]
  },
  {
   "cell_type": "code",
   "execution_count": 2,
   "outputs": [],
   "source": [
    "# Arguments to use for data class\n",
    "features = [\n",
    "    'PO_Number',\n",
    "    'PO_Line_Number',\n",
    "    'Vendor_number',\n",
    "    'Material',\n",
    "    'Material_Group',\n",
    "    'PO_Document_Date',\n",
    "    'Scheduled_relevant_delivery_date',\n",
    "    'Posting_Date',\n",
    "    'days_late',\n",
    "    'expected_lead_time',\n",
    "    'material_order_history',\n",
    "    'avg_material_late',\n",
    "    'supplier_material_order_history',\n",
    "    'avg_supplier_material_late',\n",
    "    'supplier_total_order_history',\n",
    "    'avg_supplier_general_late',\n",
    "    'number_line_items',\n",
    "    'avg_MOQ',\n",
    "    'avg_unit_price',\n",
    "    'avg_min_price',\n",
    "    'delivery_month',\n",
    "    'dayofweek',\n",
    "    'time',\n",
    "    'delivery_season'\n",
    "]\n",
    "target = \"days_late\"\n",
    "categorical = [\n",
    "    'Material_Group',\n",
    "    'delivery_month',\n",
    "    'dayofweek',\n",
    "    'delivery_season'\n",
    "]\n",
    "dates = [\n",
    "    'Scheduled_relevant_delivery_date',\n",
    "    'Posting_Date',\n",
    "    'PO_Document_Date'\n",
    "]\n",
    "path='model_data.csv'\n",
    "clean_end_date = pd.to_datetime(\"2022-05-01\")\n",
    "clean_start_date = pd.to_datetime(\"2019-01-01\")"
   ],
   "metadata": {
    "collapsed": false,
    "pycharm": {
     "name": "#%%\n"
    }
   }
  },
  {
   "cell_type": "code",
   "execution_count": 3,
   "outputs": [
    {
     "name": "stdout",
     "output_type": "stream",
     "text": [
      "Beginning ingestion ========---------------------------------------------==========\n",
      "Data size:\n",
      "  Number of Rows: 67284\n",
      "  Number of Features: 24\n",
      "  Number of Targets: 1\n",
      "Cutting off date ranges:\n",
      "  Before: 2022-05-01 00:00:00\n",
      "  After: 2019-01-01 00:00:00\n",
      "Allocation complete ========---------------------------------------------==========\n",
      "\n"
     ]
    }
   ],
   "source": [
    "# Create data object\n",
    "data = IngestionPipe(features=features, target=target, dates=dates, pre_date=clean_start_date, post_date=clean_end_date)\n",
    "data.dataAllocation(path=path)"
   ],
   "metadata": {
    "collapsed": false,
    "pycharm": {
     "name": "#%%\n"
    }
   }
  },
  {
   "cell_type": "code",
   "execution_count": 4,
   "outputs": [
    {
     "data": {
      "text/plain": "       Unnamed: 0   PO_Number  PO_Line_Number  Vendor_number         Material  \\\n0               0  4508737436              24         522182        MRO199902   \n1               1  4508750816               1         503894    V_00015859-20   \n2               2  4508891281               1         522865        920107304   \n3               3  4508879999              12         556264  1027949001-6295   \n4               4  4508737436               4         522182        MRO195792   \n...           ...         ...             ...            ...              ...   \n67279       67279  4510701233               1         556428       1026298001   \n67280       67280  4510802132               2         567926      V_000379245   \n67281       67281  4510802132               1         567926      V_000379246   \n67282       67282  4510802133               1         567926      V_000379245   \n67283       67283  4510685836               1         521631      V_000393354   \n\n      Material_Group PO_Document_Date Scheduled_relevant_delivery_date  \\\n0               X714       2018-12-07                       2019-03-01   \n1                057       2018-12-13                       2019-03-01   \n2                013       2019-02-28                       2019-03-01   \n3                073       2019-02-22                       2019-03-01   \n4               X714       2018-12-07                       2019-03-01   \n...              ...              ...                              ...   \n67279            056       2022-04-28                       2023-04-11   \n67280            060       2022-07-02                       2023-04-21   \n67281            060       2022-07-02                       2023-04-21   \n67282            060       2022-07-02                       2023-04-27   \n67283            060       2022-04-18                       2023-06-30   \n\n      Posting_Date  days_late  ...  supplier_total_order_history  \\\n0       2019-03-05        4.0  ...                          28.0   \n1       2019-02-27       -2.0  ...                         349.0   \n2       2019-03-01        0.0  ...                        5449.0   \n3       2019-02-28       -1.0  ...                       30067.0   \n4       2019-03-05        4.0  ...                          28.0   \n...            ...        ...  ...                           ...   \n67279          NaT        NaN  ...                         127.0   \n67280          NaT        NaN  ...                         732.0   \n67281          NaT        NaN  ...                         732.0   \n67282          NaT        NaN  ...                         732.0   \n67283   2022-04-21     -435.0  ...                          65.0   \n\n       avg_supplier_general_late  number_line_items       avg_MOQ  \\\n0                       4.035714                 25      0.440273   \n1                      -2.155224                  1      0.000268   \n2                       0.272392                  1  31012.938776   \n3                      -0.394674                 17    868.658120   \n4                       4.035714                 25      0.440273   \n...                          ...                ...           ...   \n67279                  -9.677686                  1    464.030303   \n67280                  -3.205374                  2      0.000000   \n67281                  -3.205374                  2      0.000000   \n67282                  -3.205374                  1      0.000000   \n67283                 -36.362069                  1      0.000000   \n\n       avg_unit_price  avg_min_price  delivery_month  dayofweek    time  \\\n0          517.727440      23.568771             Mar     Friday    59.0   \n1           52.358737       0.005332             Mar     Friday    59.0   \n2           17.964587   11054.708676             Mar     Friday    59.0   \n3            3.905899     966.555355             Mar     Friday    59.0   \n4          517.727440      23.568771             Mar     Friday    59.0   \n...               ...            ...             ...        ...     ...   \n67279       10.687424    1576.625909           April    Tuesday  1561.0   \n67280       48.020036       0.000000           April     Friday  1571.0   \n67281       48.020036       0.000000           April     Friday  1571.0   \n67282       48.020036       0.000000           April   Thursday  1577.0   \n67283       48.020036       0.000000            June     Friday  1641.0   \n\n       delivery_season  \n0               Spring  \n1               Spring  \n2               Spring  \n3               Spring  \n4               Spring  \n...                ...  \n67279           Spring  \n67280           Spring  \n67281           Spring  \n67282           Spring  \n67283           Summer  \n\n[67284 rows x 25 columns]",
      "text/html": "<div>\n<style scoped>\n    .dataframe tbody tr th:only-of-type {\n        vertical-align: middle;\n    }\n\n    .dataframe tbody tr th {\n        vertical-align: top;\n    }\n\n    .dataframe thead th {\n        text-align: right;\n    }\n</style>\n<table border=\"1\" class=\"dataframe\">\n  <thead>\n    <tr style=\"text-align: right;\">\n      <th></th>\n      <th>Unnamed: 0</th>\n      <th>PO_Number</th>\n      <th>PO_Line_Number</th>\n      <th>Vendor_number</th>\n      <th>Material</th>\n      <th>Material_Group</th>\n      <th>PO_Document_Date</th>\n      <th>Scheduled_relevant_delivery_date</th>\n      <th>Posting_Date</th>\n      <th>days_late</th>\n      <th>...</th>\n      <th>supplier_total_order_history</th>\n      <th>avg_supplier_general_late</th>\n      <th>number_line_items</th>\n      <th>avg_MOQ</th>\n      <th>avg_unit_price</th>\n      <th>avg_min_price</th>\n      <th>delivery_month</th>\n      <th>dayofweek</th>\n      <th>time</th>\n      <th>delivery_season</th>\n    </tr>\n  </thead>\n  <tbody>\n    <tr>\n      <th>0</th>\n      <td>0</td>\n      <td>4508737436</td>\n      <td>24</td>\n      <td>522182</td>\n      <td>MRO199902</td>\n      <td>X714</td>\n      <td>2018-12-07</td>\n      <td>2019-03-01</td>\n      <td>2019-03-05</td>\n      <td>4.0</td>\n      <td>...</td>\n      <td>28.0</td>\n      <td>4.035714</td>\n      <td>25</td>\n      <td>0.440273</td>\n      <td>517.727440</td>\n      <td>23.568771</td>\n      <td>Mar</td>\n      <td>Friday</td>\n      <td>59.0</td>\n      <td>Spring</td>\n    </tr>\n    <tr>\n      <th>1</th>\n      <td>1</td>\n      <td>4508750816</td>\n      <td>1</td>\n      <td>503894</td>\n      <td>V_00015859-20</td>\n      <td>057</td>\n      <td>2018-12-13</td>\n      <td>2019-03-01</td>\n      <td>2019-02-27</td>\n      <td>-2.0</td>\n      <td>...</td>\n      <td>349.0</td>\n      <td>-2.155224</td>\n      <td>1</td>\n      <td>0.000268</td>\n      <td>52.358737</td>\n      <td>0.005332</td>\n      <td>Mar</td>\n      <td>Friday</td>\n      <td>59.0</td>\n      <td>Spring</td>\n    </tr>\n    <tr>\n      <th>2</th>\n      <td>2</td>\n      <td>4508891281</td>\n      <td>1</td>\n      <td>522865</td>\n      <td>920107304</td>\n      <td>013</td>\n      <td>2019-02-28</td>\n      <td>2019-03-01</td>\n      <td>2019-03-01</td>\n      <td>0.0</td>\n      <td>...</td>\n      <td>5449.0</td>\n      <td>0.272392</td>\n      <td>1</td>\n      <td>31012.938776</td>\n      <td>17.964587</td>\n      <td>11054.708676</td>\n      <td>Mar</td>\n      <td>Friday</td>\n      <td>59.0</td>\n      <td>Spring</td>\n    </tr>\n    <tr>\n      <th>3</th>\n      <td>3</td>\n      <td>4508879999</td>\n      <td>12</td>\n      <td>556264</td>\n      <td>1027949001-6295</td>\n      <td>073</td>\n      <td>2019-02-22</td>\n      <td>2019-03-01</td>\n      <td>2019-02-28</td>\n      <td>-1.0</td>\n      <td>...</td>\n      <td>30067.0</td>\n      <td>-0.394674</td>\n      <td>17</td>\n      <td>868.658120</td>\n      <td>3.905899</td>\n      <td>966.555355</td>\n      <td>Mar</td>\n      <td>Friday</td>\n      <td>59.0</td>\n      <td>Spring</td>\n    </tr>\n    <tr>\n      <th>4</th>\n      <td>4</td>\n      <td>4508737436</td>\n      <td>4</td>\n      <td>522182</td>\n      <td>MRO195792</td>\n      <td>X714</td>\n      <td>2018-12-07</td>\n      <td>2019-03-01</td>\n      <td>2019-03-05</td>\n      <td>4.0</td>\n      <td>...</td>\n      <td>28.0</td>\n      <td>4.035714</td>\n      <td>25</td>\n      <td>0.440273</td>\n      <td>517.727440</td>\n      <td>23.568771</td>\n      <td>Mar</td>\n      <td>Friday</td>\n      <td>59.0</td>\n      <td>Spring</td>\n    </tr>\n    <tr>\n      <th>...</th>\n      <td>...</td>\n      <td>...</td>\n      <td>...</td>\n      <td>...</td>\n      <td>...</td>\n      <td>...</td>\n      <td>...</td>\n      <td>...</td>\n      <td>...</td>\n      <td>...</td>\n      <td>...</td>\n      <td>...</td>\n      <td>...</td>\n      <td>...</td>\n      <td>...</td>\n      <td>...</td>\n      <td>...</td>\n      <td>...</td>\n      <td>...</td>\n      <td>...</td>\n      <td>...</td>\n    </tr>\n    <tr>\n      <th>67279</th>\n      <td>67279</td>\n      <td>4510701233</td>\n      <td>1</td>\n      <td>556428</td>\n      <td>1026298001</td>\n      <td>056</td>\n      <td>2022-04-28</td>\n      <td>2023-04-11</td>\n      <td>NaT</td>\n      <td>NaN</td>\n      <td>...</td>\n      <td>127.0</td>\n      <td>-9.677686</td>\n      <td>1</td>\n      <td>464.030303</td>\n      <td>10.687424</td>\n      <td>1576.625909</td>\n      <td>April</td>\n      <td>Tuesday</td>\n      <td>1561.0</td>\n      <td>Spring</td>\n    </tr>\n    <tr>\n      <th>67280</th>\n      <td>67280</td>\n      <td>4510802132</td>\n      <td>2</td>\n      <td>567926</td>\n      <td>V_000379245</td>\n      <td>060</td>\n      <td>2022-07-02</td>\n      <td>2023-04-21</td>\n      <td>NaT</td>\n      <td>NaN</td>\n      <td>...</td>\n      <td>732.0</td>\n      <td>-3.205374</td>\n      <td>2</td>\n      <td>0.000000</td>\n      <td>48.020036</td>\n      <td>0.000000</td>\n      <td>April</td>\n      <td>Friday</td>\n      <td>1571.0</td>\n      <td>Spring</td>\n    </tr>\n    <tr>\n      <th>67281</th>\n      <td>67281</td>\n      <td>4510802132</td>\n      <td>1</td>\n      <td>567926</td>\n      <td>V_000379246</td>\n      <td>060</td>\n      <td>2022-07-02</td>\n      <td>2023-04-21</td>\n      <td>NaT</td>\n      <td>NaN</td>\n      <td>...</td>\n      <td>732.0</td>\n      <td>-3.205374</td>\n      <td>2</td>\n      <td>0.000000</td>\n      <td>48.020036</td>\n      <td>0.000000</td>\n      <td>April</td>\n      <td>Friday</td>\n      <td>1571.0</td>\n      <td>Spring</td>\n    </tr>\n    <tr>\n      <th>67282</th>\n      <td>67282</td>\n      <td>4510802133</td>\n      <td>1</td>\n      <td>567926</td>\n      <td>V_000379245</td>\n      <td>060</td>\n      <td>2022-07-02</td>\n      <td>2023-04-27</td>\n      <td>NaT</td>\n      <td>NaN</td>\n      <td>...</td>\n      <td>732.0</td>\n      <td>-3.205374</td>\n      <td>1</td>\n      <td>0.000000</td>\n      <td>48.020036</td>\n      <td>0.000000</td>\n      <td>April</td>\n      <td>Thursday</td>\n      <td>1577.0</td>\n      <td>Spring</td>\n    </tr>\n    <tr>\n      <th>67283</th>\n      <td>67283</td>\n      <td>4510685836</td>\n      <td>1</td>\n      <td>521631</td>\n      <td>V_000393354</td>\n      <td>060</td>\n      <td>2022-04-18</td>\n      <td>2023-06-30</td>\n      <td>2022-04-21</td>\n      <td>-435.0</td>\n      <td>...</td>\n      <td>65.0</td>\n      <td>-36.362069</td>\n      <td>1</td>\n      <td>0.000000</td>\n      <td>48.020036</td>\n      <td>0.000000</td>\n      <td>June</td>\n      <td>Friday</td>\n      <td>1641.0</td>\n      <td>Summer</td>\n    </tr>\n  </tbody>\n</table>\n<p>67284 rows × 25 columns</p>\n</div>"
     },
     "execution_count": 4,
     "metadata": {},
     "output_type": "execute_result"
    }
   ],
   "source": [
    "data.data #all data"
   ],
   "metadata": {
    "collapsed": false,
    "pycharm": {
     "name": "#%%\n"
    }
   }
  },
  {
   "cell_type": "code",
   "execution_count": 5,
   "outputs": [
    {
     "data": {
      "text/plain": "       Unnamed: 0   PO_Number  PO_Line_Number  Vendor_number         Material  \\\n0               0  4508737436              24         522182        MRO199902   \n1               1  4508750816               1         503894    V_00015859-20   \n2               2  4508891281               1         522865        920107304   \n3               3  4508879999              12         556264  1027949001-6295   \n4               4  4508737436               4         522182        MRO195792   \n...           ...         ...             ...            ...              ...   \n60976       60976  4510667089               1         500288       1068328001   \n60977       60977  4510701131               1         569547        920300618   \n60978       60978  4510698958               6         529485        209774023   \n60979       60979  4510588261               2         577711         09627D01   \n60980       60980  4510698957               2         522865        930000005   \n\n      Material_Group PO_Document_Date Scheduled_relevant_delivery_date  \\\n0               X714       2018-12-07                       2019-03-01   \n1                057       2018-12-13                       2019-03-01   \n2                013       2019-02-28                       2019-03-01   \n3                073       2019-02-22                       2019-03-01   \n4               X714       2018-12-07                       2019-03-01   \n...              ...              ...                              ...   \n60976            048       2022-04-08                       2022-04-29   \n60977            013       2022-04-28                       2022-04-29   \n60978            018       2022-04-27                       2022-04-29   \n60979            047       2022-02-14                       2022-04-29   \n60980            013       2022-04-27                       2022-04-29   \n\n      Posting_Date  days_late  ...  supplier_total_order_history  \\\n0       2019-03-05        4.0  ...                          28.0   \n1       2019-02-27       -2.0  ...                         349.0   \n2       2019-03-01        0.0  ...                        5449.0   \n3       2019-02-28       -1.0  ...                       30067.0   \n4       2019-03-05        4.0  ...                          28.0   \n...            ...        ...  ...                           ...   \n60976   2022-04-28       -1.0  ...                         968.0   \n60977   2022-04-29        0.0  ...                         668.0   \n60978   2022-04-28       -1.0  ...                       11866.0   \n60979   2022-04-01      -28.0  ...                         253.0   \n60980   2022-04-28       -1.0  ...                        5449.0   \n\n       avg_supplier_general_late  number_line_items       avg_MOQ  \\\n0                       4.035714                 25      0.440273   \n1                      -2.155224                  1      0.000268   \n2                       0.272392                  1  31012.938776   \n3                      -0.394674                 17    868.658120   \n4                       4.035714                 25      0.440273   \n...                          ...                ...           ...   \n60976                  -1.461378                  1   7469.578947   \n60977                   0.374057                  1  31012.938776   \n60978                  -2.288488                  9   2678.519713   \n60979                 -10.968379                  3   1240.034483   \n60980                   0.272392                  2  31012.938776   \n\n       avg_unit_price  avg_min_price  delivery_month  dayofweek    time  \\\n0          517.727440      23.568771             Mar     Friday    59.0   \n1           52.358737       0.005332             Mar     Friday    59.0   \n2           17.964587   11054.708676             Mar     Friday    59.0   \n3            3.905899     966.555355             Mar     Friday    59.0   \n4          517.727440      23.568771             Mar     Friday    59.0   \n...               ...            ...             ...        ...     ...   \n60976        0.502938    3216.478863           April     Friday  1214.0   \n60977       17.964587   11054.708676           April     Friday  1214.0   \n60978        1.988488     347.433949           April     Friday  1214.0   \n60979       38.440000    2408.338276           April     Friday  1214.0   \n60980       17.964587   11054.708676           April     Friday  1214.0   \n\n       delivery_season  \n0               Spring  \n1               Spring  \n2               Spring  \n3               Spring  \n4               Spring  \n...                ...  \n60976           Spring  \n60977           Spring  \n60978           Spring  \n60979           Spring  \n60980           Spring  \n\n[60981 rows x 25 columns]",
      "text/html": "<div>\n<style scoped>\n    .dataframe tbody tr th:only-of-type {\n        vertical-align: middle;\n    }\n\n    .dataframe tbody tr th {\n        vertical-align: top;\n    }\n\n    .dataframe thead th {\n        text-align: right;\n    }\n</style>\n<table border=\"1\" class=\"dataframe\">\n  <thead>\n    <tr style=\"text-align: right;\">\n      <th></th>\n      <th>Unnamed: 0</th>\n      <th>PO_Number</th>\n      <th>PO_Line_Number</th>\n      <th>Vendor_number</th>\n      <th>Material</th>\n      <th>Material_Group</th>\n      <th>PO_Document_Date</th>\n      <th>Scheduled_relevant_delivery_date</th>\n      <th>Posting_Date</th>\n      <th>days_late</th>\n      <th>...</th>\n      <th>supplier_total_order_history</th>\n      <th>avg_supplier_general_late</th>\n      <th>number_line_items</th>\n      <th>avg_MOQ</th>\n      <th>avg_unit_price</th>\n      <th>avg_min_price</th>\n      <th>delivery_month</th>\n      <th>dayofweek</th>\n      <th>time</th>\n      <th>delivery_season</th>\n    </tr>\n  </thead>\n  <tbody>\n    <tr>\n      <th>0</th>\n      <td>0</td>\n      <td>4508737436</td>\n      <td>24</td>\n      <td>522182</td>\n      <td>MRO199902</td>\n      <td>X714</td>\n      <td>2018-12-07</td>\n      <td>2019-03-01</td>\n      <td>2019-03-05</td>\n      <td>4.0</td>\n      <td>...</td>\n      <td>28.0</td>\n      <td>4.035714</td>\n      <td>25</td>\n      <td>0.440273</td>\n      <td>517.727440</td>\n      <td>23.568771</td>\n      <td>Mar</td>\n      <td>Friday</td>\n      <td>59.0</td>\n      <td>Spring</td>\n    </tr>\n    <tr>\n      <th>1</th>\n      <td>1</td>\n      <td>4508750816</td>\n      <td>1</td>\n      <td>503894</td>\n      <td>V_00015859-20</td>\n      <td>057</td>\n      <td>2018-12-13</td>\n      <td>2019-03-01</td>\n      <td>2019-02-27</td>\n      <td>-2.0</td>\n      <td>...</td>\n      <td>349.0</td>\n      <td>-2.155224</td>\n      <td>1</td>\n      <td>0.000268</td>\n      <td>52.358737</td>\n      <td>0.005332</td>\n      <td>Mar</td>\n      <td>Friday</td>\n      <td>59.0</td>\n      <td>Spring</td>\n    </tr>\n    <tr>\n      <th>2</th>\n      <td>2</td>\n      <td>4508891281</td>\n      <td>1</td>\n      <td>522865</td>\n      <td>920107304</td>\n      <td>013</td>\n      <td>2019-02-28</td>\n      <td>2019-03-01</td>\n      <td>2019-03-01</td>\n      <td>0.0</td>\n      <td>...</td>\n      <td>5449.0</td>\n      <td>0.272392</td>\n      <td>1</td>\n      <td>31012.938776</td>\n      <td>17.964587</td>\n      <td>11054.708676</td>\n      <td>Mar</td>\n      <td>Friday</td>\n      <td>59.0</td>\n      <td>Spring</td>\n    </tr>\n    <tr>\n      <th>3</th>\n      <td>3</td>\n      <td>4508879999</td>\n      <td>12</td>\n      <td>556264</td>\n      <td>1027949001-6295</td>\n      <td>073</td>\n      <td>2019-02-22</td>\n      <td>2019-03-01</td>\n      <td>2019-02-28</td>\n      <td>-1.0</td>\n      <td>...</td>\n      <td>30067.0</td>\n      <td>-0.394674</td>\n      <td>17</td>\n      <td>868.658120</td>\n      <td>3.905899</td>\n      <td>966.555355</td>\n      <td>Mar</td>\n      <td>Friday</td>\n      <td>59.0</td>\n      <td>Spring</td>\n    </tr>\n    <tr>\n      <th>4</th>\n      <td>4</td>\n      <td>4508737436</td>\n      <td>4</td>\n      <td>522182</td>\n      <td>MRO195792</td>\n      <td>X714</td>\n      <td>2018-12-07</td>\n      <td>2019-03-01</td>\n      <td>2019-03-05</td>\n      <td>4.0</td>\n      <td>...</td>\n      <td>28.0</td>\n      <td>4.035714</td>\n      <td>25</td>\n      <td>0.440273</td>\n      <td>517.727440</td>\n      <td>23.568771</td>\n      <td>Mar</td>\n      <td>Friday</td>\n      <td>59.0</td>\n      <td>Spring</td>\n    </tr>\n    <tr>\n      <th>...</th>\n      <td>...</td>\n      <td>...</td>\n      <td>...</td>\n      <td>...</td>\n      <td>...</td>\n      <td>...</td>\n      <td>...</td>\n      <td>...</td>\n      <td>...</td>\n      <td>...</td>\n      <td>...</td>\n      <td>...</td>\n      <td>...</td>\n      <td>...</td>\n      <td>...</td>\n      <td>...</td>\n      <td>...</td>\n      <td>...</td>\n      <td>...</td>\n      <td>...</td>\n      <td>...</td>\n    </tr>\n    <tr>\n      <th>60976</th>\n      <td>60976</td>\n      <td>4510667089</td>\n      <td>1</td>\n      <td>500288</td>\n      <td>1068328001</td>\n      <td>048</td>\n      <td>2022-04-08</td>\n      <td>2022-04-29</td>\n      <td>2022-04-28</td>\n      <td>-1.0</td>\n      <td>...</td>\n      <td>968.0</td>\n      <td>-1.461378</td>\n      <td>1</td>\n      <td>7469.578947</td>\n      <td>0.502938</td>\n      <td>3216.478863</td>\n      <td>April</td>\n      <td>Friday</td>\n      <td>1214.0</td>\n      <td>Spring</td>\n    </tr>\n    <tr>\n      <th>60977</th>\n      <td>60977</td>\n      <td>4510701131</td>\n      <td>1</td>\n      <td>569547</td>\n      <td>920300618</td>\n      <td>013</td>\n      <td>2022-04-28</td>\n      <td>2022-04-29</td>\n      <td>2022-04-29</td>\n      <td>0.0</td>\n      <td>...</td>\n      <td>668.0</td>\n      <td>0.374057</td>\n      <td>1</td>\n      <td>31012.938776</td>\n      <td>17.964587</td>\n      <td>11054.708676</td>\n      <td>April</td>\n      <td>Friday</td>\n      <td>1214.0</td>\n      <td>Spring</td>\n    </tr>\n    <tr>\n      <th>60978</th>\n      <td>60978</td>\n      <td>4510698958</td>\n      <td>6</td>\n      <td>529485</td>\n      <td>209774023</td>\n      <td>018</td>\n      <td>2022-04-27</td>\n      <td>2022-04-29</td>\n      <td>2022-04-28</td>\n      <td>-1.0</td>\n      <td>...</td>\n      <td>11866.0</td>\n      <td>-2.288488</td>\n      <td>9</td>\n      <td>2678.519713</td>\n      <td>1.988488</td>\n      <td>347.433949</td>\n      <td>April</td>\n      <td>Friday</td>\n      <td>1214.0</td>\n      <td>Spring</td>\n    </tr>\n    <tr>\n      <th>60979</th>\n      <td>60979</td>\n      <td>4510588261</td>\n      <td>2</td>\n      <td>577711</td>\n      <td>09627D01</td>\n      <td>047</td>\n      <td>2022-02-14</td>\n      <td>2022-04-29</td>\n      <td>2022-04-01</td>\n      <td>-28.0</td>\n      <td>...</td>\n      <td>253.0</td>\n      <td>-10.968379</td>\n      <td>3</td>\n      <td>1240.034483</td>\n      <td>38.440000</td>\n      <td>2408.338276</td>\n      <td>April</td>\n      <td>Friday</td>\n      <td>1214.0</td>\n      <td>Spring</td>\n    </tr>\n    <tr>\n      <th>60980</th>\n      <td>60980</td>\n      <td>4510698957</td>\n      <td>2</td>\n      <td>522865</td>\n      <td>930000005</td>\n      <td>013</td>\n      <td>2022-04-27</td>\n      <td>2022-04-29</td>\n      <td>2022-04-28</td>\n      <td>-1.0</td>\n      <td>...</td>\n      <td>5449.0</td>\n      <td>0.272392</td>\n      <td>2</td>\n      <td>31012.938776</td>\n      <td>17.964587</td>\n      <td>11054.708676</td>\n      <td>April</td>\n      <td>Friday</td>\n      <td>1214.0</td>\n      <td>Spring</td>\n    </tr>\n  </tbody>\n</table>\n<p>60981 rows × 25 columns</p>\n</div>"
     },
     "execution_count": 5,
     "metadata": {},
     "output_type": "execute_result"
    }
   ],
   "source": [
    "data.clean_data #all clean data within date range (not getting rid of null values yet)"
   ],
   "metadata": {
    "collapsed": false,
    "pycharm": {
     "name": "#%%\n"
    }
   }
  },
  {
   "cell_type": "code",
   "execution_count": 6,
   "outputs": [
    {
     "name": "stdout",
     "output_type": "stream",
     "text": [
      "Getting slice of data ========------------------------==========\n",
      "Data successfully sliced. ========-------------------------------------==========\n",
      "\n"
     ]
    },
    {
     "data": {
      "text/plain": "       Unnamed: 0   PO_Number  PO_Line_Number  Vendor_number         Material  \\\n21378       21378  4509606381               4         529485       1025347001   \n21379       21379  4509554016               2         501967   V_00029491-802   \n21380       21380  4509593104               1         556264       1333689001   \n21381       21381  4509606381               8         529485       1025483001   \n21382       21382  4509598707               1         503769  1038038001-7245   \n...           ...         ...             ...            ...              ...   \n37334       37334  4509971697              12         501967   V_00017179-803   \n37335       37335  4510007628               2         522865        920107121   \n37336       37336  4509988967               1         503894   906600050-L151   \n37337       37337  4509986028               1         522865        920107104   \n37338       37338  4509986027               1         522865        920107104   \n\n      Material_Group PO_Document_Date Scheduled_relevant_delivery_date  \\\n21378            018       2020-02-27                       2020-03-02   \n21379            060       2020-01-30                       2020-03-02   \n21380            073       2020-02-20                       2020-03-02   \n21381            018       2020-02-27                       2020-03-02   \n21382            032       2020-02-24                       2020-03-02   \n...              ...              ...                              ...   \n37334            057       2020-12-02                       2020-12-30   \n37335            013       2020-12-29                       2020-12-30   \n37336            021       2020-12-14                       2020-12-30   \n37337            013       2020-12-11                       2020-12-30   \n37338            013       2020-12-11                       2020-12-31   \n\n      Posting_Date  days_late  ...  supplier_total_order_history  \\\n21378   2020-02-28       -3.0  ...                       11866.0   \n21379          NaT        NaN  ...                        3888.0   \n21380   2020-03-02        0.0  ...                       30067.0   \n21381   2020-02-28       -3.0  ...                       11866.0   \n21382   2020-03-02        0.0  ...                         596.0   \n...            ...        ...  ...                           ...   \n37334          NaT        NaN  ...                        3888.0   \n37335   2020-12-30        0.0  ...                        5449.0   \n37336   2020-12-28       -2.0  ...                         349.0   \n37337   2020-12-30        0.0  ...                        5449.0   \n37338   2020-12-30       -1.0  ...                        5449.0   \n\n       avg_supplier_general_late  number_line_items       avg_MOQ  \\\n21378                  -2.288488                 14   2678.519713   \n21379                  -3.282216                  2      0.000000   \n21380                  -0.394674                  1    868.658120   \n21381                  -2.288488                 14   2678.519713   \n21382                   0.970840                  2     10.853333   \n...                          ...                ...           ...   \n37334                  -3.282216                 15      0.000268   \n37335                   0.272392                  4  31012.938776   \n37336                  -2.155224                  1     54.013333   \n37337                   0.272392                  1  31012.938776   \n37338                   0.272392                  1  31012.938776   \n\n       avg_unit_price  avg_min_price  delivery_month  dayofweek   time  \\\n21378        1.988488     347.433949             Mar     Monday  426.0   \n21379       48.020036       0.000000             Mar     Monday  426.0   \n21380        3.905899     966.555355             Mar     Monday  426.0   \n21381        1.988488     347.433949             Mar     Monday  426.0   \n21382       52.789200     303.262667             Mar     Monday  426.0   \n...               ...            ...             ...        ...    ...   \n37334       52.358737       0.005332             Dec  Wednesday  729.0   \n37335       17.964587   11054.708676             Dec  Wednesday  729.0   \n37336        5.456000     229.913333             Dec  Wednesday  729.0   \n37337       17.964587   11054.708676             Dec  Wednesday  729.0   \n37338       17.964587   11054.708676             Dec   Thursday  730.0   \n\n       delivery_season  \n21378           Spring  \n21379           Spring  \n21380           Spring  \n21381           Spring  \n21382           Spring  \n...                ...  \n37334           Winter  \n37335           Winter  \n37336           Winter  \n37337           Winter  \n37338           Winter  \n\n[15961 rows x 25 columns]",
      "text/html": "<div>\n<style scoped>\n    .dataframe tbody tr th:only-of-type {\n        vertical-align: middle;\n    }\n\n    .dataframe tbody tr th {\n        vertical-align: top;\n    }\n\n    .dataframe thead th {\n        text-align: right;\n    }\n</style>\n<table border=\"1\" class=\"dataframe\">\n  <thead>\n    <tr style=\"text-align: right;\">\n      <th></th>\n      <th>Unnamed: 0</th>\n      <th>PO_Number</th>\n      <th>PO_Line_Number</th>\n      <th>Vendor_number</th>\n      <th>Material</th>\n      <th>Material_Group</th>\n      <th>PO_Document_Date</th>\n      <th>Scheduled_relevant_delivery_date</th>\n      <th>Posting_Date</th>\n      <th>days_late</th>\n      <th>...</th>\n      <th>supplier_total_order_history</th>\n      <th>avg_supplier_general_late</th>\n      <th>number_line_items</th>\n      <th>avg_MOQ</th>\n      <th>avg_unit_price</th>\n      <th>avg_min_price</th>\n      <th>delivery_month</th>\n      <th>dayofweek</th>\n      <th>time</th>\n      <th>delivery_season</th>\n    </tr>\n  </thead>\n  <tbody>\n    <tr>\n      <th>21378</th>\n      <td>21378</td>\n      <td>4509606381</td>\n      <td>4</td>\n      <td>529485</td>\n      <td>1025347001</td>\n      <td>018</td>\n      <td>2020-02-27</td>\n      <td>2020-03-02</td>\n      <td>2020-02-28</td>\n      <td>-3.0</td>\n      <td>...</td>\n      <td>11866.0</td>\n      <td>-2.288488</td>\n      <td>14</td>\n      <td>2678.519713</td>\n      <td>1.988488</td>\n      <td>347.433949</td>\n      <td>Mar</td>\n      <td>Monday</td>\n      <td>426.0</td>\n      <td>Spring</td>\n    </tr>\n    <tr>\n      <th>21379</th>\n      <td>21379</td>\n      <td>4509554016</td>\n      <td>2</td>\n      <td>501967</td>\n      <td>V_00029491-802</td>\n      <td>060</td>\n      <td>2020-01-30</td>\n      <td>2020-03-02</td>\n      <td>NaT</td>\n      <td>NaN</td>\n      <td>...</td>\n      <td>3888.0</td>\n      <td>-3.282216</td>\n      <td>2</td>\n      <td>0.000000</td>\n      <td>48.020036</td>\n      <td>0.000000</td>\n      <td>Mar</td>\n      <td>Monday</td>\n      <td>426.0</td>\n      <td>Spring</td>\n    </tr>\n    <tr>\n      <th>21380</th>\n      <td>21380</td>\n      <td>4509593104</td>\n      <td>1</td>\n      <td>556264</td>\n      <td>1333689001</td>\n      <td>073</td>\n      <td>2020-02-20</td>\n      <td>2020-03-02</td>\n      <td>2020-03-02</td>\n      <td>0.0</td>\n      <td>...</td>\n      <td>30067.0</td>\n      <td>-0.394674</td>\n      <td>1</td>\n      <td>868.658120</td>\n      <td>3.905899</td>\n      <td>966.555355</td>\n      <td>Mar</td>\n      <td>Monday</td>\n      <td>426.0</td>\n      <td>Spring</td>\n    </tr>\n    <tr>\n      <th>21381</th>\n      <td>21381</td>\n      <td>4509606381</td>\n      <td>8</td>\n      <td>529485</td>\n      <td>1025483001</td>\n      <td>018</td>\n      <td>2020-02-27</td>\n      <td>2020-03-02</td>\n      <td>2020-02-28</td>\n      <td>-3.0</td>\n      <td>...</td>\n      <td>11866.0</td>\n      <td>-2.288488</td>\n      <td>14</td>\n      <td>2678.519713</td>\n      <td>1.988488</td>\n      <td>347.433949</td>\n      <td>Mar</td>\n      <td>Monday</td>\n      <td>426.0</td>\n      <td>Spring</td>\n    </tr>\n    <tr>\n      <th>21382</th>\n      <td>21382</td>\n      <td>4509598707</td>\n      <td>1</td>\n      <td>503769</td>\n      <td>1038038001-7245</td>\n      <td>032</td>\n      <td>2020-02-24</td>\n      <td>2020-03-02</td>\n      <td>2020-03-02</td>\n      <td>0.0</td>\n      <td>...</td>\n      <td>596.0</td>\n      <td>0.970840</td>\n      <td>2</td>\n      <td>10.853333</td>\n      <td>52.789200</td>\n      <td>303.262667</td>\n      <td>Mar</td>\n      <td>Monday</td>\n      <td>426.0</td>\n      <td>Spring</td>\n    </tr>\n    <tr>\n      <th>...</th>\n      <td>...</td>\n      <td>...</td>\n      <td>...</td>\n      <td>...</td>\n      <td>...</td>\n      <td>...</td>\n      <td>...</td>\n      <td>...</td>\n      <td>...</td>\n      <td>...</td>\n      <td>...</td>\n      <td>...</td>\n      <td>...</td>\n      <td>...</td>\n      <td>...</td>\n      <td>...</td>\n      <td>...</td>\n      <td>...</td>\n      <td>...</td>\n      <td>...</td>\n      <td>...</td>\n    </tr>\n    <tr>\n      <th>37334</th>\n      <td>37334</td>\n      <td>4509971697</td>\n      <td>12</td>\n      <td>501967</td>\n      <td>V_00017179-803</td>\n      <td>057</td>\n      <td>2020-12-02</td>\n      <td>2020-12-30</td>\n      <td>NaT</td>\n      <td>NaN</td>\n      <td>...</td>\n      <td>3888.0</td>\n      <td>-3.282216</td>\n      <td>15</td>\n      <td>0.000268</td>\n      <td>52.358737</td>\n      <td>0.005332</td>\n      <td>Dec</td>\n      <td>Wednesday</td>\n      <td>729.0</td>\n      <td>Winter</td>\n    </tr>\n    <tr>\n      <th>37335</th>\n      <td>37335</td>\n      <td>4510007628</td>\n      <td>2</td>\n      <td>522865</td>\n      <td>920107121</td>\n      <td>013</td>\n      <td>2020-12-29</td>\n      <td>2020-12-30</td>\n      <td>2020-12-30</td>\n      <td>0.0</td>\n      <td>...</td>\n      <td>5449.0</td>\n      <td>0.272392</td>\n      <td>4</td>\n      <td>31012.938776</td>\n      <td>17.964587</td>\n      <td>11054.708676</td>\n      <td>Dec</td>\n      <td>Wednesday</td>\n      <td>729.0</td>\n      <td>Winter</td>\n    </tr>\n    <tr>\n      <th>37336</th>\n      <td>37336</td>\n      <td>4509988967</td>\n      <td>1</td>\n      <td>503894</td>\n      <td>906600050-L151</td>\n      <td>021</td>\n      <td>2020-12-14</td>\n      <td>2020-12-30</td>\n      <td>2020-12-28</td>\n      <td>-2.0</td>\n      <td>...</td>\n      <td>349.0</td>\n      <td>-2.155224</td>\n      <td>1</td>\n      <td>54.013333</td>\n      <td>5.456000</td>\n      <td>229.913333</td>\n      <td>Dec</td>\n      <td>Wednesday</td>\n      <td>729.0</td>\n      <td>Winter</td>\n    </tr>\n    <tr>\n      <th>37337</th>\n      <td>37337</td>\n      <td>4509986028</td>\n      <td>1</td>\n      <td>522865</td>\n      <td>920107104</td>\n      <td>013</td>\n      <td>2020-12-11</td>\n      <td>2020-12-30</td>\n      <td>2020-12-30</td>\n      <td>0.0</td>\n      <td>...</td>\n      <td>5449.0</td>\n      <td>0.272392</td>\n      <td>1</td>\n      <td>31012.938776</td>\n      <td>17.964587</td>\n      <td>11054.708676</td>\n      <td>Dec</td>\n      <td>Wednesday</td>\n      <td>729.0</td>\n      <td>Winter</td>\n    </tr>\n    <tr>\n      <th>37338</th>\n      <td>37338</td>\n      <td>4509986027</td>\n      <td>1</td>\n      <td>522865</td>\n      <td>920107104</td>\n      <td>013</td>\n      <td>2020-12-11</td>\n      <td>2020-12-31</td>\n      <td>2020-12-30</td>\n      <td>-1.0</td>\n      <td>...</td>\n      <td>5449.0</td>\n      <td>0.272392</td>\n      <td>1</td>\n      <td>31012.938776</td>\n      <td>17.964587</td>\n      <td>11054.708676</td>\n      <td>Dec</td>\n      <td>Thursday</td>\n      <td>730.0</td>\n      <td>Winter</td>\n    </tr>\n  </tbody>\n</table>\n<p>15961 rows × 25 columns</p>\n</div>"
     },
     "execution_count": 6,
     "metadata": {},
     "output_type": "execute_result"
    }
   ],
   "source": [
    "# Want to look just at covid data?\n",
    "time_start, time_end = '2020-03-01', '2021-01-01'\n",
    "covid_data = data.SplitData(time_start, time_end)\n",
    "covid_data"
   ],
   "metadata": {
    "collapsed": false,
    "pycharm": {
     "name": "#%%\n"
    }
   }
  },
  {
   "cell_type": "code",
   "execution_count": null,
   "outputs": [],
   "source": [],
   "metadata": {
    "collapsed": false,
    "pycharm": {
     "name": "#%%\n"
    }
   }
  }
 ],
 "metadata": {
  "kernelspec": {
   "display_name": "Python 3",
   "language": "python",
   "name": "python3"
  },
  "language_info": {
   "codemirror_mode": {
    "name": "ipython",
    "version": 2
   },
   "file_extension": ".py",
   "mimetype": "text/x-python",
   "name": "python",
   "nbconvert_exporter": "python",
   "pygments_lexer": "ipython2",
   "version": "2.7.6"
  }
 },
 "nbformat": 4,
 "nbformat_minor": 0
}