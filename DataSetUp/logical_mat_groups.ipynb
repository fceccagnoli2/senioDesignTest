{
 "cells": [
  {
   "cell_type": "code",
   "execution_count": 1,
   "metadata": {
    "collapsed": true
   },
   "outputs": [],
   "source": [
    "import pandas as pd\n",
    "import numpy as np\n",
    "import sqlite3\n",
    "import seaborn as sns\n",
    "import matplotlib.pyplot as plt\n",
    "import matplotlib.dates as mdates\n",
    "import datetime\n",
    "import matplotlib.ticker as mtick\n",
    "from tqdm import tqdm\n",
    "conn = sqlite3.connect('test_database')\n",
    "c = conn.cursor()"
   ]
  },
  {
   "cell_type": "code",
   "execution_count": 2,
   "outputs": [
    {
     "name": "stderr",
     "output_type": "stream",
     "text": [
      "100%|██████████| 59522/59522 [00:00<00:00, 1022436.21it/s]\n"
     ]
    }
   ],
   "source": [
    "query = \"\"\"\n",
    "SELECT material, material_name, vendor_name\n",
    "FROM schedule_table\n",
    "-- WHERE material in (select part_number from components_table)\n",
    "\"\"\"\n",
    "df = pd.read_sql_query(query,conn)\n",
    "new_col = []\n",
    "for material_name in tqdm(df['Material_Name']):\n",
    "    new_col.append(material_name.split('-')[0])\n",
    "df['Logical Group'] = new_col"
   ],
   "metadata": {
    "collapsed": false,
    "pycharm": {
     "name": "#%%\n"
    }
   }
  },
  {
   "cell_type": "code",
   "execution_count": 4,
   "outputs": [
    {
     "data": {
      "text/plain": "                      Vendor_Name\nLogical Group                    \nARM                            11\nPLATE                          10\nBRACKET                        10\nBASE                            9\nSHELL                           9\n...                           ...\nDRAFT W/VC3 BACKING             1\nDRAFT                           1\nDOYENNE                         1\nDOWNTOWN TWO                    1\nset                             1\n\n[5850 rows x 1 columns]",
      "text/html": "<div>\n<style scoped>\n    .dataframe tbody tr th:only-of-type {\n        vertical-align: middle;\n    }\n\n    .dataframe tbody tr th {\n        vertical-align: top;\n    }\n\n    .dataframe thead th {\n        text-align: right;\n    }\n</style>\n<table border=\"1\" class=\"dataframe\">\n  <thead>\n    <tr style=\"text-align: right;\">\n      <th></th>\n      <th>Vendor_Name</th>\n    </tr>\n    <tr>\n      <th>Logical Group</th>\n      <th></th>\n    </tr>\n  </thead>\n  <tbody>\n    <tr>\n      <th>ARM</th>\n      <td>11</td>\n    </tr>\n    <tr>\n      <th>PLATE</th>\n      <td>10</td>\n    </tr>\n    <tr>\n      <th>BRACKET</th>\n      <td>10</td>\n    </tr>\n    <tr>\n      <th>BASE</th>\n      <td>9</td>\n    </tr>\n    <tr>\n      <th>SHELL</th>\n      <td>9</td>\n    </tr>\n    <tr>\n      <th>...</th>\n      <td>...</td>\n    </tr>\n    <tr>\n      <th>DRAFT W/VC3 BACKING</th>\n      <td>1</td>\n    </tr>\n    <tr>\n      <th>DRAFT</th>\n      <td>1</td>\n    </tr>\n    <tr>\n      <th>DOYENNE</th>\n      <td>1</td>\n    </tr>\n    <tr>\n      <th>DOWNTOWN TWO</th>\n      <td>1</td>\n    </tr>\n    <tr>\n      <th>set</th>\n      <td>1</td>\n    </tr>\n  </tbody>\n</table>\n<p>5850 rows × 1 columns</p>\n</div>"
     },
     "execution_count": 4,
     "metadata": {},
     "output_type": "execute_result"
    }
   ],
   "source": [
    "df.groupby('Logical Group').agg('nunique')[['Vendor_Name']].sort_values('Vendor_Name', ascending=False)"
   ],
   "metadata": {
    "collapsed": false,
    "pycharm": {
     "name": "#%%\n"
    }
   }
  },
  {
   "cell_type": "code",
   "execution_count": null,
   "outputs": [],
   "source": [],
   "metadata": {
    "collapsed": false,
    "pycharm": {
     "name": "#%%\n"
    }
   }
  }
 ],
 "metadata": {
  "kernelspec": {
   "display_name": "Python 3",
   "language": "python",
   "name": "python3"
  },
  "language_info": {
   "codemirror_mode": {
    "name": "ipython",
    "version": 2
   },
   "file_extension": ".py",
   "mimetype": "text/x-python",
   "name": "python",
   "nbconvert_exporter": "python",
   "pygments_lexer": "ipython2",
   "version": "2.7.6"
  }
 },
 "nbformat": 4,
 "nbformat_minor": 0
}