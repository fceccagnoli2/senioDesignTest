{
 "cells": [
  {
   "cell_type": "code",
   "execution_count": 1,
   "metadata": {},
   "outputs": [],
   "source": [
    "import pandas as pd\n",
    "import numpy as np\n",
    "import sqlite3\n",
    "import warnings\n",
    "import tqdm\n",
    "warnings.simplefilter(action='ignore', category=FutureWarning)\n",
    "pd.options.mode.chained_assignment = None  # default='warn'"
   ]
  },
  {
   "cell_type": "code",
   "execution_count": 4,
   "metadata": {
    "pycharm": {
     "name": "#%%\n"
    }
   },
   "outputs": [
    {
     "name": "stdout",
     "output_type": "stream",
     "text": [
      "Warning: using NumPy version other than 1.22.3\n"
     ]
    }
   ],
   "source": [
    "#Check requirements\n",
    "if pd.__version__ != '1.4.2':\n",
    "    print('Warning: using Pandas version other than 1.4.2')\n",
    "elif np.__version__ != '1.22.3':\n",
    "    print('Warning: using NumPy version other than 1.22.3')\n",
    "elif sqlite3.sqlite_version != '3.36.0':\n",
    "    print('Warning: using SQLite3 version other than 3.36.0')\n",
    "elif tqdm.__version__ != '4.62.3':\n",
    "    print('Warning: using tqdm version other than 4.62.3')\n",
    "else:\n",
    "    print('No package conflicts')"
   ]
  },
  {
   "cell_type": "markdown",
   "metadata": {
    "pycharm": {
     "name": "#%% md\n"
    }
   },
   "source": [
    "# Read data and insert into SQL Lite"
   ]
  },
  {
   "cell_type": "markdown",
   "metadata": {
    "pycharm": {
     "name": "#%% md\n"
    }
   },
   "source": [
    "### 1. Reliability data"
   ]
  },
  {
   "cell_type": "code",
   "execution_count": 2,
   "metadata": {
    "pycharm": {
     "is_executing": true,
     "name": "#%%\n"
    }
   },
   "outputs": [],
   "source": [
    "rel_Dat = pd.read_excel('data_house.xlsx', sheet_name='Reliability Data', header = 2) #read in data"
   ]
  },
  {
   "cell_type": "markdown",
   "metadata": {
    "pycharm": {
     "name": "#%% md\n"
    }
   },
   "source": [
    "Clean the order data. This step might take up to 20 minutes."
   ]
  },
  {
   "cell_type": "code",
   "execution_count": 3,
   "metadata": {
    "pycharm": {
     "name": "#%%\n"
    }
   },
   "outputs": [],
   "source": [
    "clean = [pd.to_datetime('2021-07-20', format=\"%Y-%m-%d\")]*23\n",
    "rel_Dat['PO Document Date'][3:26]=clean #manually fix bad data\n",
    "def data_changer(row): #create function to fix date times\n",
    "    date = row['PO Document Date']\n",
    "    if type(date) != str:\n",
    "        return date\n",
    "    y,m,d = date[0:4],date[4:6],date[6:8]\n",
    "    date_Str = f'{y}-{m}-{d}'\n",
    "    return pd.to_datetime(date_Str, format=\"%Y-%m-%d\")\n",
    "\n",
    "rel_Dat['PO Document Date'] = rel_Dat.apply(data_changer, axis=1) ### Fix dates\n",
    "rel_Dat['PO Document Date'] = rel_Dat['PO Document Date'].dt.strftime('%Y-%m-%d') ### convert to strings for sql lite"
   ]
  },
  {
   "cell_type": "code",
   "execution_count": 4,
   "metadata": {
    "pycharm": {
     "name": "#%%\n"
    }
   },
   "outputs": [
    {
     "name": "stderr",
     "output_type": "stream",
     "text": [
      "100%|█████████████████████████████████████| 67284/67284 [26:08<00:00, 42.91it/s]\n"
     ]
    }
   ],
   "source": [
    "nums_lines = rel_Dat[['PO Number','PO Line Number']].sort_values('PO Number')\n",
    "numbers_lines = set(list(zip(nums_lines['PO Number'].to_list(), nums_lines['PO Line Number'].to_list())))\n",
    "clean_frame_rel_dat = pd.DataFrame(dict(zip(rel_Dat.columns, [[]*len(rel_Dat.columns)])))\n",
    "for item in tqdm.tqdm(numbers_lines): #PO Numbers\n",
    "    ponum = item[0]\n",
    "    polin = item[1]\n",
    "    check = rel_Dat[(rel_Dat['PO Number']==ponum)&(rel_Dat['PO Line Number']==polin)]\n",
    "    cols = [\n",
    "        'Changed On Date',\n",
    "        'Confirmed Delivery Date',\n",
    "        'Creation Date of Confirmation',\n",
    "        'Posting Date',\n",
    "        'Scheduled-relevant delivery date'\n",
    "    ]\n",
    "    check[cols] = check[cols].replace({'0':np.nan, 0:np.nan})\n",
    "    for col in cols:\n",
    "        if col == 'Scheduled-relevant delivery date':\n",
    "            check[col] = pd.to_datetime(check[col].astype(str), format='%m/%d/%Y')\n",
    "        else:\n",
    "            check[col] = pd.to_datetime(check[col].astype(str), format='%Y%m%d')\n",
    "    last_changed, error_final = check.sort_values(by=['Changed On Date'], ascending=False).iloc[0]['Changed On Date'], check.sort_values(by=['Changed On Date'], ascending=False).iloc[0]['Supply Chain Error Reason Code']\n",
    "    last_due_date = check.sort_values(by=['Scheduled-relevant delivery date'], ascending=False).iloc[0]['Scheduled-relevant delivery date']\n",
    "    arrival = check.sort_values(by=['Posting Date'], ascending=False).iloc[0]['Posting Date']\n",
    "    last = check.groupby(['PO Number','PO Line Number']).first()\n",
    "    new_row = pd.DataFrame({\n",
    "        'Zsupplier___T': last['Zsupplier___T'],\n",
    "        'Vendor Number': last['Vendor Number'],\n",
    "        'Purchasing organization': last['Purchasing organization'],\n",
    "        'PO Document Date': last['PO Document Date'],\n",
    "        'PO Number': ponum,\n",
    "        'PO Line Number': polin,\n",
    "        'Material': last['Material'],\n",
    "        'Material Group': last['Material Group'],\n",
    "        'MRP controller': last['MRP controller'],\n",
    "        'Changed On Date': last_changed,\n",
    "        'Confirmed Delivery Date': last['Confirmed Delivery Date'],\n",
    "        'Creation Date of Confirmation': last['Creation Date of Confirmation'],\n",
    "        'Posting Date': arrival,\n",
    "        'Item Delivery Date': last['Item Delivery Date'],\n",
    "        'Scheduled-relevant delivery date': last_due_date,\n",
    "        'Supply Chain Error Reason Code': error_final\n",
    "    })\n",
    "    clean_frame_rel_dat = pd.concat([clean_frame_rel_dat, new_row])"
   ]
  },
  {
   "cell_type": "markdown",
   "metadata": {
    "pycharm": {
     "name": "#%% md\n"
    }
   },
   "source": [
    "create SQL Lite table"
   ]
  },
  {
   "cell_type": "code",
   "execution_count": 5,
   "metadata": {
    "pycharm": {
     "name": "#%%\n"
    }
   },
   "outputs": [],
   "source": [
    "reliability_data_table =\"\"\"\n",
    "Supplier Text,\n",
    "Vendor_Number Integer,\n",
    "Purchasing_Organization Integer,\n",
    "PO_Document_Date Text,\n",
    "PO_Number Integer,\n",
    "PO_Line_Number Integer,\n",
    "Material Text,\n",
    "Material_Group Text,\n",
    "MRP_controller Text,\n",
    "Changed_On_Date Text,\n",
    "Confirmed_Delivery_Date Text,\n",
    "Creation_Date_of_Confirmation Text,\n",
    "Posting_Date Text,\n",
    "Item_Delivery_Date Text,\n",
    "Scheduled_relevant_delivery_date Text,\n",
    "Error_Code Text\n",
    "\"\"\" # Create structure of new table\n",
    "insert_structure = clean_frame_rel_dat[[\n",
    "    'Zsupplier___T',\n",
    "    'Vendor Number',\n",
    "    'Purchasing organization',\n",
    "    'PO Document Date',\n",
    "    'PO Number',\n",
    "    'PO Line Number',\n",
    "    'Material',\n",
    "    'Material Group',\n",
    "    'MRP controller',\n",
    "    'Changed On Date',\n",
    "    'Confirmed Delivery Date',\n",
    "    'Creation Date of Confirmation',\n",
    "    'Posting Date',\n",
    "    'Item Delivery Date',\n",
    "    'Scheduled-relevant delivery date',\n",
    "    'Supply Chain Error Reason Code'\n",
    "          ]] #grab data in correct order\n",
    "insert_structure = insert_structure.set_axis(['Supplier' ,\n",
    "'Vendor_Number' ,\n",
    "'Purchasing_Organization' ,\n",
    "'PO_Document_Date' ,\n",
    "'PO_Number' ,\n",
    "'PO_Line_Number' ,\n",
    "'Material' ,\n",
    "'Material_Group' ,\n",
    "'MRP_controller' ,\n",
    "'Changed_On_Date' ,\n",
    "'Confirmed_Delivery_Date' ,\n",
    "'Creation_Date_of_Confirmation' ,\n",
    "'Posting_Date' ,\n",
    "'Item_Delivery_Date' ,\n",
    "'Scheduled_relevant_delivery_date',\n",
    "'Error_Code'\n",
    "                                            ], axis=1, inplace=False) #rename pd data to match sql table\n",
    "conn = sqlite3.connect('test_database')\n",
    "c = conn.cursor()\n",
    "c.execute(f\"DROP TABLE IF EXISTS reliability_table\")\n",
    "c.execute(f\"CREATE TABLE IF NOT EXISTS reliability_table ({reliability_data_table})\")\n",
    "insert_structure.to_sql('reliability_table', conn, if_exists='append', index = False)\n",
    "conn.commit()\n",
    "conn.close()"
   ]
  },
  {
   "cell_type": "markdown",
   "metadata": {
    "pycharm": {
     "name": "#%% md\n"
    }
   },
   "source": [
    "### 2. Schedule A Data"
   ]
  },
  {
   "cell_type": "code",
   "execution_count": 6,
   "metadata": {
    "pycharm": {
     "name": "#%%\n"
    }
   },
   "outputs": [],
   "source": [
    "scd_Dat = pd.read_excel('data_house.xlsx', sheet_name='Schedule A', header = 3) #read in data\n",
    "scd_Dat = scd_Dat.rename(columns={'Unnamed: 4': 'Material_Description', 'Unnamed: 7': 'Plant_Name', 'Unnamed: 9': 'Material_Group_Description',  'Unnamed: 11': 'Supply_Chain_Lead'}) ### Enter in new header names"
   ]
  },
  {
   "cell_type": "code",
   "execution_count": 7,
   "metadata": {
    "pycharm": {
     "name": "#%%\n"
    }
   },
   "outputs": [],
   "source": [
    "scd_Dat['Minimum Qty'] = pd.to_numeric(scd_Dat['Minimum Qty'], errors='coerce').fillna(0)\n",
    "scd_Dat['PPU'] = scd_Dat['Current\\nPrice'] / scd_Dat['Price Unit']\n",
    "scd_Dat['Order_Price'] = scd_Dat['PPU'] * scd_Dat['Minimum Qty']"
   ]
  },
  {
   "cell_type": "markdown",
   "metadata": {
    "pycharm": {
     "name": "#%% md\n"
    }
   },
   "source": [
    "create SQL Lite Table"
   ]
  },
  {
   "cell_type": "code",
   "execution_count": 8,
   "metadata": {
    "pycharm": {
     "name": "#%%\n"
    }
   },
   "outputs": [],
   "source": [
    "schedule_data_table =\"\"\"\n",
    "Vendor_Number Integer,\n",
    "Vendor_Name Text,\n",
    "Purchasing_org Integer,\n",
    "Material Text,\n",
    "Material_Name,\n",
    "Specials_Indicator Text,\n",
    "Plant Integer,\n",
    "Plant_Name Text,\n",
    "Material_Group Text,\n",
    "Material_Group_Name Text,\n",
    "Purchasing_group Text,\n",
    "Supply_Chain_Lead Text,\n",
    "Plan_Delivery_Time_Days Integer,\n",
    "Minimum_Qty Integer,\n",
    "Overdelivery_Tolerance Text,\n",
    "Underdelivery_Tolerance Text,\n",
    "Base_Unit Text,\n",
    "Scales_Indicator  Text,\n",
    "MM_Deletion_flag Text,\n",
    "Current_Price Real,\n",
    "Price_Unit Real,\n",
    "PPU Real,\n",
    "Order_Price Real\n",
    "\"\"\" # Create structure of new table\n",
    "insert_structure_scd = scd_Dat[\n",
    "    ['Vendor Number', 'Vendor Name', 'Purchasing org.', 'Material',\n",
    "       'Material_Description', 'Specials Indicator', 'Plant', 'Plant_Name',\n",
    "       'Material Group', 'Material_Group_Description', 'Purchasing group',\n",
    "       'Supply_Chain_Lead', 'Plan Delivery Time (Days)', 'Minimum Qty',\n",
    "       'Overdelivery Tolerance', 'Underdelivery Tolerance', 'Base Unit',\n",
    "       'Scales Indicator', 'MM Deletion flag', 'Current\\nPrice', 'Price Unit',\n",
    "       'PPU', 'Order_Price']\n",
    "] #grab data in correct order\n",
    "insert_structure_scd = insert_structure_scd.set_axis([\n",
    "'Vendor_Number',\n",
    "'Vendor_Name',\n",
    "'Purchasing_org',\n",
    "'Material',\n",
    "'Material_Name',\n",
    "'Specials_Indicator',\n",
    "'Plant',\n",
    "'Plant_Name',\n",
    "'Material_Group',\n",
    "'Material_Group_Name',\n",
    "'Purchasing_group',\n",
    "'Supply_Chain_Lead',\n",
    "'Plan_Delivery_Time_Days',\n",
    "'Minimum_Qty',\n",
    "'Overdelivery_Tolerance',\n",
    "'Underdelivery_Tolerance',\n",
    "'Base_Unit',\n",
    "'Scales_Indicator',\n",
    "'MM_Deletion_flag',\n",
    "'Current_Price',\n",
    "'Price_Unit',\n",
    "'PPU',\n",
    "'Order_Price'], axis=1, inplace=False) #rename pd data to match sql table\n",
    "conn = sqlite3.connect('test_database')\n",
    "c = conn.cursor()\n",
    "c.execute(f\"DROP TABLE IF EXISTS schedule_table\")\n",
    "c.execute(f\"CREATE TABLE IF NOT EXISTS schedule_table ({schedule_data_table})\")\n",
    "insert_structure_scd.to_sql('schedule_table', conn, if_exists='append', index = False)\n",
    "conn.commit()\n",
    "conn.close()"
   ]
  },
  {
   "cell_type": "markdown",
   "metadata": {
    "pycharm": {
     "name": "#%% md\n"
    }
   },
   "source": [
    "### 3. Series 1 Component Data"
   ]
  },
  {
   "cell_type": "code",
   "execution_count": 9,
   "metadata": {
    "pycharm": {
     "name": "#%%\n"
    }
   },
   "outputs": [],
   "source": [
    "comp_Dat = pd.read_excel('data_house.xlsx', sheet_name='Series 1 Component List', header = 0) #read in data"
   ]
  },
  {
   "cell_type": "markdown",
   "metadata": {
    "pycharm": {
     "name": "#%% md\n"
    }
   },
   "source": [
    "Create SQL Lite Table"
   ]
  },
  {
   "cell_type": "code",
   "execution_count": 10,
   "metadata": {
    "pycharm": {
     "name": "#%%\n"
    }
   },
   "outputs": [],
   "source": [
    "components_data_table =\"\"\"\n",
    "Part_Number\tText,\n",
    "Part_Desciption\tText,\n",
    "Series_1\tText,\n",
    "Supplier \tText\n",
    "\"\"\" # Create structure of new table\n",
    "insert_structure_comp = comp_Dat.set_axis([\n",
    "\"Part_Number\",\n",
    "\"Part_Desciption\",\n",
    "\"Series_1\",\n",
    "\"Supplier\"], axis=1, inplace=False) #rename pd data to match sql table\n",
    "conn = sqlite3.connect('test_database')\n",
    "c = conn.cursor()\n",
    "c.execute(f\"DROP TABLE IF EXISTS components_table\")\n",
    "c.execute(f\"CREATE TABLE IF NOT EXISTS components_table ({components_data_table})\")\n",
    "insert_structure_comp.to_sql('components_table', conn, if_exists='append', index = False)\n",
    "conn.commit()\n",
    "conn.close()"
   ]
  },
  {
   "cell_type": "code",
   "execution_count": null,
   "metadata": {
    "pycharm": {
     "name": "#%%\n"
    }
   },
   "outputs": [],
   "source": []
  }
 ],
 "metadata": {
  "kernelspec": {
   "display_name": "Python 3 (ipykernel)",
   "language": "python",
   "name": "python3"
  },
  "language_info": {
   "codemirror_mode": {
    "name": "ipython",
    "version": 3
   },
   "file_extension": ".py",
   "mimetype": "text/x-python",
   "name": "python",
   "nbconvert_exporter": "python",
   "pygments_lexer": "ipython3",
   "version": "3.9.12"
  }
 },
 "nbformat": 4,
 "nbformat_minor": 1
}
