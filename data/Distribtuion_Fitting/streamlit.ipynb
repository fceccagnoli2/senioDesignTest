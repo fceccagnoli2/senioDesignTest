{
 "cells": [
  {
   "cell_type": "code",
   "execution_count": 9,
   "metadata": {
    "collapsed": true
   },
   "outputs": [],
   "source": [
    "import MVEF\n",
    "import pandas as pd\n",
    "import numpy as np"
   ]
  },
  {
   "cell_type": "code",
   "execution_count": 10,
   "outputs": [],
   "source": [
    "data = pd.read_csv('model_data3.csv')"
   ],
   "metadata": {
    "collapsed": false,
    "pycharm": {
     "name": "#%%\n"
    }
   }
  },
  {
   "cell_type": "code",
   "execution_count": 11,
   "outputs": [
    {
     "name": "stderr",
     "output_type": "stream",
     "text": [
      "/Users/whitmanblass/Desktop/Senior-Design/Analytics-Tool/tool_dev/app/data/Distribtuion_Fitting/MVEF.py:24: SettingWithCopyWarning: \n",
      "A value is trying to be set on a copy of a slice from a DataFrame.\n",
      "Try using .loc[row_indexer,col_indexer] = value instead\n",
      "\n",
      "See the caveats in the documentation: https://pandas.pydata.org/pandas-docs/stable/user_guide/indexing.html#returning-a-view-versus-a-copy\n",
      "  mg_data['late_bin'] = np.where(mg_data['days_late'] > 0, 1, 0)\n",
      "/Users/whitmanblass/Desktop/Senior-Design/Analytics-Tool/tool_dev/app/data/Distribtuion_Fitting/MVEF.py:25: SettingWithCopyWarning: \n",
      "A value is trying to be set on a copy of a slice from a DataFrame.\n",
      "Try using .loc[row_indexer,col_indexer] = value instead\n",
      "\n",
      "See the caveats in the documentation: https://pandas.pydata.org/pandas-docs/stable/user_guide/indexing.html#returning-a-view-versus-a-copy\n",
      "  mg_data['PO_Document_Date'] = pd.to_datetime(mg_data['PO_Document_Date'], format='%Y-%m-%d')\n"
     ]
    }
   ],
   "source": [
    "MVEF_Clean, sigma, perf_columns, sqrt_lamda_star, mvp = MVEF.data_process(mg='017', thresh_n=15, data=data)"
   ],
   "metadata": {
    "collapsed": false,
    "pycharm": {
     "name": "#%%\n"
    }
   }
  },
  {
   "cell_type": "code",
   "execution_count": 4,
   "outputs": [
    {
     "data": {
      "text/plain": "        Month  INTEX TECHNOLOGIES LLC OTP  GRAND RAPIDS FOAM TECHNOLOGIES OTP  \\\n0  2021-03-31                    1.000000                            0.875000   \n1  2021-04-30                    1.000000                            0.736842   \n2  2021-05-31                    0.333333                            0.651163   \n3  2021-06-30                    0.833333                            0.303030   \n4  2021-07-31                    1.000000                            0.346154   \n5  2021-08-31                    1.000000                            0.081081   \n6  2021-09-30                    1.000000                            0.387097   \n7  2021-10-31                    1.000000                            0.200000   \n8  2021-11-30                    1.000000                            0.562500   \n9  2021-12-31                    1.000000                            0.937500   \n10 2022-01-31                    0.750000                            0.766667   \n11 2022-02-28                    0.750000                            0.333333   \n12 2022-03-31                    1.000000                            0.500000   \n13 2022-04-30                    1.000000                            0.666667   \n14 2022-05-31                    1.000000                            0.857143   \n15 2022-06-30                    0.714286                            0.500000   \n16 2022-07-31                    1.000000                            0.315789   \n17 2022-08-31                    1.000000                            0.913043   \n18 2021-01-31                    1.000000                            0.878049   \n19 2021-02-28                    1.000000                            0.903226   \n20 2019-02-28                    0.875000                            0.714286   \n21 2019-03-31                    0.750000                            0.882353   \n22 2019-04-30                    0.888889                            0.806452   \n23 2019-05-31                    0.846154                            0.628571   \n24 2019-06-30                    0.571429                            0.368421   \n25 2019-07-31                    0.375000                            0.242424   \n26 2019-08-31                    0.571429                            0.720930   \n27 2019-09-30                    1.000000                            0.800000   \n28 2019-10-31                    0.500000                            1.000000   \n29 2019-11-30                    0.200000                            0.381818   \n30 2019-12-31                    0.500000                            0.622642   \n31 2020-01-31                    0.333333                            0.809524   \n32 2020-02-29                    1.000000                            0.976190   \n33 2020-03-31                    1.000000                            0.852941   \n34 2020-04-30                    1.000000                            1.000000   \n35 2020-05-31                    1.000000                            0.941176   \n36 2020-06-30                    0.900000                            0.915254   \n37 2020-07-31                    1.000000                            1.000000   \n38 2020-08-31                    0.750000                            0.936170   \n39 2020-09-30                    0.666667                            1.000000   \n40 2020-10-31                    0.000000                            0.394737   \n41 2020-11-30                    0.666667                            0.836066   \n42 2020-12-31                    1.000000                            0.903226   \n43 2019-01-31                    1.000000                            0.903226   \n44 2018-12-31                    1.000000                            0.903226   \n\n    ALL METAL DESIGNS INC OTP  PURFORMS INC OTP  STEELCASE SA (FRANCE) OTP  \n0                    0.869565          1.000000                   0.500000  \n1                    0.733333          1.000000                   0.666667  \n2                    0.300000          1.000000                   0.500000  \n3                    0.615385          1.000000                   0.000000  \n4                    0.111111          1.000000                   1.000000  \n5                    0.285714          1.000000                   0.888889  \n6                    0.785714          1.000000                   0.777778  \n7                    0.928571          1.000000                   0.666667  \n8                    0.941176          1.000000                   0.555556  \n9                    0.777778          1.000000                   0.444444  \n10                   0.272727          1.000000                   0.333333  \n11                   0.666667          1.000000                   0.222222  \n12                   0.545455          1.000000                   0.111111  \n13                   0.375000          1.000000                   0.000000  \n14                   0.625000          1.000000                   0.500000  \n15                   0.555556          1.000000                   1.000000  \n16                   0.500000          1.000000                   1.000000  \n17                   1.000000          1.000000                   1.000000  \n18                   1.000000          1.000000                   1.000000  \n19                   1.000000          1.000000                   1.000000  \n20                   1.000000          1.000000                   1.000000  \n21                   1.000000          1.000000                   1.000000  \n22                   1.000000          1.000000                   1.000000  \n23                   1.000000          1.000000                   1.000000  \n24                   1.000000          1.000000                   1.000000  \n25                   1.000000          1.000000                   1.000000  \n26                   1.000000          1.000000                   1.000000  \n27                   1.000000          1.000000                   1.000000  \n28                   1.000000          1.000000                   1.000000  \n29                   1.000000          1.000000                   1.000000  \n30                   1.000000          0.600000                   1.000000  \n31                   1.000000          0.833333                   1.000000  \n32                   1.000000          0.750000                   1.000000  \n33                   1.000000          1.000000                   1.000000  \n34                   1.000000          1.000000                   1.000000  \n35                   1.000000          1.000000                   1.000000  \n36                   1.000000          1.000000                   1.000000  \n37                   1.000000          1.000000                   1.000000  \n38                   1.000000          1.000000                   1.000000  \n39                   1.000000          1.000000                   1.000000  \n40                   1.000000          0.666667                   1.000000  \n41                   1.000000          0.857143                   1.000000  \n42                   1.000000          0.928571                   1.000000  \n43                   1.000000          1.000000                   0.500000  \n44                   1.000000          1.000000                   0.000000  ",
      "text/html": "<div>\n<style scoped>\n    .dataframe tbody tr th:only-of-type {\n        vertical-align: middle;\n    }\n\n    .dataframe tbody tr th {\n        vertical-align: top;\n    }\n\n    .dataframe thead th {\n        text-align: right;\n    }\n</style>\n<table border=\"1\" class=\"dataframe\">\n  <thead>\n    <tr style=\"text-align: right;\">\n      <th></th>\n      <th>Month</th>\n      <th>INTEX TECHNOLOGIES LLC OTP</th>\n      <th>GRAND RAPIDS FOAM TECHNOLOGIES OTP</th>\n      <th>ALL METAL DESIGNS INC OTP</th>\n      <th>PURFORMS INC OTP</th>\n      <th>STEELCASE SA (FRANCE) OTP</th>\n    </tr>\n  </thead>\n  <tbody>\n    <tr>\n      <th>0</th>\n      <td>2021-03-31</td>\n      <td>1.000000</td>\n      <td>0.875000</td>\n      <td>0.869565</td>\n      <td>1.000000</td>\n      <td>0.500000</td>\n    </tr>\n    <tr>\n      <th>1</th>\n      <td>2021-04-30</td>\n      <td>1.000000</td>\n      <td>0.736842</td>\n      <td>0.733333</td>\n      <td>1.000000</td>\n      <td>0.666667</td>\n    </tr>\n    <tr>\n      <th>2</th>\n      <td>2021-05-31</td>\n      <td>0.333333</td>\n      <td>0.651163</td>\n      <td>0.300000</td>\n      <td>1.000000</td>\n      <td>0.500000</td>\n    </tr>\n    <tr>\n      <th>3</th>\n      <td>2021-06-30</td>\n      <td>0.833333</td>\n      <td>0.303030</td>\n      <td>0.615385</td>\n      <td>1.000000</td>\n      <td>0.000000</td>\n    </tr>\n    <tr>\n      <th>4</th>\n      <td>2021-07-31</td>\n      <td>1.000000</td>\n      <td>0.346154</td>\n      <td>0.111111</td>\n      <td>1.000000</td>\n      <td>1.000000</td>\n    </tr>\n    <tr>\n      <th>5</th>\n      <td>2021-08-31</td>\n      <td>1.000000</td>\n      <td>0.081081</td>\n      <td>0.285714</td>\n      <td>1.000000</td>\n      <td>0.888889</td>\n    </tr>\n    <tr>\n      <th>6</th>\n      <td>2021-09-30</td>\n      <td>1.000000</td>\n      <td>0.387097</td>\n      <td>0.785714</td>\n      <td>1.000000</td>\n      <td>0.777778</td>\n    </tr>\n    <tr>\n      <th>7</th>\n      <td>2021-10-31</td>\n      <td>1.000000</td>\n      <td>0.200000</td>\n      <td>0.928571</td>\n      <td>1.000000</td>\n      <td>0.666667</td>\n    </tr>\n    <tr>\n      <th>8</th>\n      <td>2021-11-30</td>\n      <td>1.000000</td>\n      <td>0.562500</td>\n      <td>0.941176</td>\n      <td>1.000000</td>\n      <td>0.555556</td>\n    </tr>\n    <tr>\n      <th>9</th>\n      <td>2021-12-31</td>\n      <td>1.000000</td>\n      <td>0.937500</td>\n      <td>0.777778</td>\n      <td>1.000000</td>\n      <td>0.444444</td>\n    </tr>\n    <tr>\n      <th>10</th>\n      <td>2022-01-31</td>\n      <td>0.750000</td>\n      <td>0.766667</td>\n      <td>0.272727</td>\n      <td>1.000000</td>\n      <td>0.333333</td>\n    </tr>\n    <tr>\n      <th>11</th>\n      <td>2022-02-28</td>\n      <td>0.750000</td>\n      <td>0.333333</td>\n      <td>0.666667</td>\n      <td>1.000000</td>\n      <td>0.222222</td>\n    </tr>\n    <tr>\n      <th>12</th>\n      <td>2022-03-31</td>\n      <td>1.000000</td>\n      <td>0.500000</td>\n      <td>0.545455</td>\n      <td>1.000000</td>\n      <td>0.111111</td>\n    </tr>\n    <tr>\n      <th>13</th>\n      <td>2022-04-30</td>\n      <td>1.000000</td>\n      <td>0.666667</td>\n      <td>0.375000</td>\n      <td>1.000000</td>\n      <td>0.000000</td>\n    </tr>\n    <tr>\n      <th>14</th>\n      <td>2022-05-31</td>\n      <td>1.000000</td>\n      <td>0.857143</td>\n      <td>0.625000</td>\n      <td>1.000000</td>\n      <td>0.500000</td>\n    </tr>\n    <tr>\n      <th>15</th>\n      <td>2022-06-30</td>\n      <td>0.714286</td>\n      <td>0.500000</td>\n      <td>0.555556</td>\n      <td>1.000000</td>\n      <td>1.000000</td>\n    </tr>\n    <tr>\n      <th>16</th>\n      <td>2022-07-31</td>\n      <td>1.000000</td>\n      <td>0.315789</td>\n      <td>0.500000</td>\n      <td>1.000000</td>\n      <td>1.000000</td>\n    </tr>\n    <tr>\n      <th>17</th>\n      <td>2022-08-31</td>\n      <td>1.000000</td>\n      <td>0.913043</td>\n      <td>1.000000</td>\n      <td>1.000000</td>\n      <td>1.000000</td>\n    </tr>\n    <tr>\n      <th>18</th>\n      <td>2021-01-31</td>\n      <td>1.000000</td>\n      <td>0.878049</td>\n      <td>1.000000</td>\n      <td>1.000000</td>\n      <td>1.000000</td>\n    </tr>\n    <tr>\n      <th>19</th>\n      <td>2021-02-28</td>\n      <td>1.000000</td>\n      <td>0.903226</td>\n      <td>1.000000</td>\n      <td>1.000000</td>\n      <td>1.000000</td>\n    </tr>\n    <tr>\n      <th>20</th>\n      <td>2019-02-28</td>\n      <td>0.875000</td>\n      <td>0.714286</td>\n      <td>1.000000</td>\n      <td>1.000000</td>\n      <td>1.000000</td>\n    </tr>\n    <tr>\n      <th>21</th>\n      <td>2019-03-31</td>\n      <td>0.750000</td>\n      <td>0.882353</td>\n      <td>1.000000</td>\n      <td>1.000000</td>\n      <td>1.000000</td>\n    </tr>\n    <tr>\n      <th>22</th>\n      <td>2019-04-30</td>\n      <td>0.888889</td>\n      <td>0.806452</td>\n      <td>1.000000</td>\n      <td>1.000000</td>\n      <td>1.000000</td>\n    </tr>\n    <tr>\n      <th>23</th>\n      <td>2019-05-31</td>\n      <td>0.846154</td>\n      <td>0.628571</td>\n      <td>1.000000</td>\n      <td>1.000000</td>\n      <td>1.000000</td>\n    </tr>\n    <tr>\n      <th>24</th>\n      <td>2019-06-30</td>\n      <td>0.571429</td>\n      <td>0.368421</td>\n      <td>1.000000</td>\n      <td>1.000000</td>\n      <td>1.000000</td>\n    </tr>\n    <tr>\n      <th>25</th>\n      <td>2019-07-31</td>\n      <td>0.375000</td>\n      <td>0.242424</td>\n      <td>1.000000</td>\n      <td>1.000000</td>\n      <td>1.000000</td>\n    </tr>\n    <tr>\n      <th>26</th>\n      <td>2019-08-31</td>\n      <td>0.571429</td>\n      <td>0.720930</td>\n      <td>1.000000</td>\n      <td>1.000000</td>\n      <td>1.000000</td>\n    </tr>\n    <tr>\n      <th>27</th>\n      <td>2019-09-30</td>\n      <td>1.000000</td>\n      <td>0.800000</td>\n      <td>1.000000</td>\n      <td>1.000000</td>\n      <td>1.000000</td>\n    </tr>\n    <tr>\n      <th>28</th>\n      <td>2019-10-31</td>\n      <td>0.500000</td>\n      <td>1.000000</td>\n      <td>1.000000</td>\n      <td>1.000000</td>\n      <td>1.000000</td>\n    </tr>\n    <tr>\n      <th>29</th>\n      <td>2019-11-30</td>\n      <td>0.200000</td>\n      <td>0.381818</td>\n      <td>1.000000</td>\n      <td>1.000000</td>\n      <td>1.000000</td>\n    </tr>\n    <tr>\n      <th>30</th>\n      <td>2019-12-31</td>\n      <td>0.500000</td>\n      <td>0.622642</td>\n      <td>1.000000</td>\n      <td>0.600000</td>\n      <td>1.000000</td>\n    </tr>\n    <tr>\n      <th>31</th>\n      <td>2020-01-31</td>\n      <td>0.333333</td>\n      <td>0.809524</td>\n      <td>1.000000</td>\n      <td>0.833333</td>\n      <td>1.000000</td>\n    </tr>\n    <tr>\n      <th>32</th>\n      <td>2020-02-29</td>\n      <td>1.000000</td>\n      <td>0.976190</td>\n      <td>1.000000</td>\n      <td>0.750000</td>\n      <td>1.000000</td>\n    </tr>\n    <tr>\n      <th>33</th>\n      <td>2020-03-31</td>\n      <td>1.000000</td>\n      <td>0.852941</td>\n      <td>1.000000</td>\n      <td>1.000000</td>\n      <td>1.000000</td>\n    </tr>\n    <tr>\n      <th>34</th>\n      <td>2020-04-30</td>\n      <td>1.000000</td>\n      <td>1.000000</td>\n      <td>1.000000</td>\n      <td>1.000000</td>\n      <td>1.000000</td>\n    </tr>\n    <tr>\n      <th>35</th>\n      <td>2020-05-31</td>\n      <td>1.000000</td>\n      <td>0.941176</td>\n      <td>1.000000</td>\n      <td>1.000000</td>\n      <td>1.000000</td>\n    </tr>\n    <tr>\n      <th>36</th>\n      <td>2020-06-30</td>\n      <td>0.900000</td>\n      <td>0.915254</td>\n      <td>1.000000</td>\n      <td>1.000000</td>\n      <td>1.000000</td>\n    </tr>\n    <tr>\n      <th>37</th>\n      <td>2020-07-31</td>\n      <td>1.000000</td>\n      <td>1.000000</td>\n      <td>1.000000</td>\n      <td>1.000000</td>\n      <td>1.000000</td>\n    </tr>\n    <tr>\n      <th>38</th>\n      <td>2020-08-31</td>\n      <td>0.750000</td>\n      <td>0.936170</td>\n      <td>1.000000</td>\n      <td>1.000000</td>\n      <td>1.000000</td>\n    </tr>\n    <tr>\n      <th>39</th>\n      <td>2020-09-30</td>\n      <td>0.666667</td>\n      <td>1.000000</td>\n      <td>1.000000</td>\n      <td>1.000000</td>\n      <td>1.000000</td>\n    </tr>\n    <tr>\n      <th>40</th>\n      <td>2020-10-31</td>\n      <td>0.000000</td>\n      <td>0.394737</td>\n      <td>1.000000</td>\n      <td>0.666667</td>\n      <td>1.000000</td>\n    </tr>\n    <tr>\n      <th>41</th>\n      <td>2020-11-30</td>\n      <td>0.666667</td>\n      <td>0.836066</td>\n      <td>1.000000</td>\n      <td>0.857143</td>\n      <td>1.000000</td>\n    </tr>\n    <tr>\n      <th>42</th>\n      <td>2020-12-31</td>\n      <td>1.000000</td>\n      <td>0.903226</td>\n      <td>1.000000</td>\n      <td>0.928571</td>\n      <td>1.000000</td>\n    </tr>\n    <tr>\n      <th>43</th>\n      <td>2019-01-31</td>\n      <td>1.000000</td>\n      <td>0.903226</td>\n      <td>1.000000</td>\n      <td>1.000000</td>\n      <td>0.500000</td>\n    </tr>\n    <tr>\n      <th>44</th>\n      <td>2018-12-31</td>\n      <td>1.000000</td>\n      <td>0.903226</td>\n      <td>1.000000</td>\n      <td>1.000000</td>\n      <td>0.000000</td>\n    </tr>\n  </tbody>\n</table>\n</div>"
     },
     "execution_count": 4,
     "metadata": {},
     "output_type": "execute_result"
    }
   ],
   "source": [
    "MVEF_Clean"
   ],
   "metadata": {
    "collapsed": false,
    "pycharm": {
     "name": "#%%\n"
    }
   }
  },
  {
   "cell_type": "code",
   "execution_count": 5,
   "outputs": [
    {
     "name": "stderr",
     "output_type": "stream",
     "text": [
      "52307640it [00:17, 2955049.79it/s]\n"
     ]
    }
   ],
   "source": [
    "w_martrix = MVEF.portfolio_generator(columns=perf_columns, increments=[1,.9,.8,.7,.6,.5,.5,.4,.4,.3,.3,.3,.2,.2,.2,.2,.2,.1,.1,.1,.1,.1,.1,.1,.1,.1,.1,0,0,0,0,0,0,0,0,0,0])"
   ],
   "metadata": {
    "collapsed": false,
    "pycharm": {
     "name": "#%%\n"
    }
   }
  },
  {
   "cell_type": "code",
   "execution_count": 7,
   "outputs": [
    {
     "data": {
      "text/plain": "     Point      Mean       Std\n0        0  0.810422  0.147313\n1        1  0.802529  0.186401\n2        2  0.817834  0.155014\n3        3  0.817843  0.173239\n4        4  0.758296  0.185087\n..     ...       ...       ...\n855    855  0.842805  0.137243\n856    856  0.837446  0.149386\n857    857  0.792723  0.175458\n858    858  0.838938  0.118960\n859    859  0.778469  0.158689\n\n[860 rows x 3 columns]",
      "text/html": "<div>\n<style scoped>\n    .dataframe tbody tr th:only-of-type {\n        vertical-align: middle;\n    }\n\n    .dataframe tbody tr th {\n        vertical-align: top;\n    }\n\n    .dataframe thead th {\n        text-align: right;\n    }\n</style>\n<table border=\"1\" class=\"dataframe\">\n  <thead>\n    <tr style=\"text-align: right;\">\n      <th></th>\n      <th>Point</th>\n      <th>Mean</th>\n      <th>Std</th>\n    </tr>\n  </thead>\n  <tbody>\n    <tr>\n      <th>0</th>\n      <td>0</td>\n      <td>0.810422</td>\n      <td>0.147313</td>\n    </tr>\n    <tr>\n      <th>1</th>\n      <td>1</td>\n      <td>0.802529</td>\n      <td>0.186401</td>\n    </tr>\n    <tr>\n      <th>2</th>\n      <td>2</td>\n      <td>0.817834</td>\n      <td>0.155014</td>\n    </tr>\n    <tr>\n      <th>3</th>\n      <td>3</td>\n      <td>0.817843</td>\n      <td>0.173239</td>\n    </tr>\n    <tr>\n      <th>4</th>\n      <td>4</td>\n      <td>0.758296</td>\n      <td>0.185087</td>\n    </tr>\n    <tr>\n      <th>...</th>\n      <td>...</td>\n      <td>...</td>\n      <td>...</td>\n    </tr>\n    <tr>\n      <th>855</th>\n      <td>855</td>\n      <td>0.842805</td>\n      <td>0.137243</td>\n    </tr>\n    <tr>\n      <th>856</th>\n      <td>856</td>\n      <td>0.837446</td>\n      <td>0.149386</td>\n    </tr>\n    <tr>\n      <th>857</th>\n      <td>857</td>\n      <td>0.792723</td>\n      <td>0.175458</td>\n    </tr>\n    <tr>\n      <th>858</th>\n      <td>858</td>\n      <td>0.838938</td>\n      <td>0.118960</td>\n    </tr>\n    <tr>\n      <th>859</th>\n      <td>859</td>\n      <td>0.778469</td>\n      <td>0.158689</td>\n    </tr>\n  </tbody>\n</table>\n<p>860 rows × 3 columns</p>\n</div>"
     },
     "execution_count": 7,
     "metadata": {},
     "output_type": "execute_result"
    }
   ],
   "source": [
    "MVEF = MVEF.point_generator(w_matrix=w_martrix, cov_matrix=sigma, MVEF_Clean=MVEF_Clean)\n",
    "MVEF"
   ],
   "metadata": {
    "collapsed": false,
    "pycharm": {
     "name": "#%%\n"
    }
   }
  },
  {
   "cell_type": "code",
   "execution_count": 8,
   "outputs": [
    {
     "data": {
      "text/plain": "     Point      Mean       Std\n560    560  0.969683  0.088618\n90      90  0.956912  0.078247\n207    207  0.954438  0.094007\n55      55  0.951974  0.079185\n794    794  0.944140  0.077669\n..     ...       ...       ...\n406    406  0.714144  0.227785\n521    521  0.709276  0.247199\n772    772  0.706802  0.241964\n598    598  0.704338  0.241668\n173    173  0.694531  0.260560\n\n[860 rows x 3 columns]",
      "text/html": "<div>\n<style scoped>\n    .dataframe tbody tr th:only-of-type {\n        vertical-align: middle;\n    }\n\n    .dataframe tbody tr th {\n        vertical-align: top;\n    }\n\n    .dataframe thead th {\n        text-align: right;\n    }\n</style>\n<table border=\"1\" class=\"dataframe\">\n  <thead>\n    <tr style=\"text-align: right;\">\n      <th></th>\n      <th>Point</th>\n      <th>Mean</th>\n      <th>Std</th>\n    </tr>\n  </thead>\n  <tbody>\n    <tr>\n      <th>560</th>\n      <td>560</td>\n      <td>0.969683</td>\n      <td>0.088618</td>\n    </tr>\n    <tr>\n      <th>90</th>\n      <td>90</td>\n      <td>0.956912</td>\n      <td>0.078247</td>\n    </tr>\n    <tr>\n      <th>207</th>\n      <td>207</td>\n      <td>0.954438</td>\n      <td>0.094007</td>\n    </tr>\n    <tr>\n      <th>55</th>\n      <td>55</td>\n      <td>0.951974</td>\n      <td>0.079185</td>\n    </tr>\n    <tr>\n      <th>794</th>\n      <td>794</td>\n      <td>0.944140</td>\n      <td>0.077669</td>\n    </tr>\n    <tr>\n      <th>...</th>\n      <td>...</td>\n      <td>...</td>\n      <td>...</td>\n    </tr>\n    <tr>\n      <th>406</th>\n      <td>406</td>\n      <td>0.714144</td>\n      <td>0.227785</td>\n    </tr>\n    <tr>\n      <th>521</th>\n      <td>521</td>\n      <td>0.709276</td>\n      <td>0.247199</td>\n    </tr>\n    <tr>\n      <th>772</th>\n      <td>772</td>\n      <td>0.706802</td>\n      <td>0.241964</td>\n    </tr>\n    <tr>\n      <th>598</th>\n      <td>598</td>\n      <td>0.704338</td>\n      <td>0.241668</td>\n    </tr>\n    <tr>\n      <th>173</th>\n      <td>173</td>\n      <td>0.694531</td>\n      <td>0.260560</td>\n    </tr>\n  </tbody>\n</table>\n<p>860 rows × 3 columns</p>\n</div>"
     },
     "execution_count": 8,
     "metadata": {},
     "output_type": "execute_result"
    }
   ],
   "source": [
    "MVEF.sort_values(['Mean', 'Std'], ascending=False)"
   ],
   "metadata": {
    "collapsed": false,
    "pycharm": {
     "name": "#%%\n"
    }
   }
  },
  {
   "cell_type": "code",
   "execution_count": null,
   "outputs": [],
   "source": [],
   "metadata": {
    "collapsed": false,
    "pycharm": {
     "name": "#%%\n"
    }
   }
  }
 ],
 "metadata": {
  "kernelspec": {
   "display_name": "Python 3",
   "language": "python",
   "name": "python3"
  },
  "language_info": {
   "codemirror_mode": {
    "name": "ipython",
    "version": 2
   },
   "file_extension": ".py",
   "mimetype": "text/x-python",
   "name": "python",
   "nbconvert_exporter": "python",
   "pygments_lexer": "ipython2",
   "version": "2.7.6"
  }
 },
 "nbformat": 4,
 "nbformat_minor": 0
}