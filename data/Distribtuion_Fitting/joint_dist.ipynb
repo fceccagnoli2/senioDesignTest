{
 "cells": [
  {
   "cell_type": "code",
   "execution_count": 449,
   "metadata": {
    "collapsed": true
   },
   "outputs": [],
   "source": [
    "import pandas as pd\n",
    "import numpy as np\n",
    "import seaborn as sns\n",
    "import matplotlib.pyplot as plt\n",
    "import itertools\n",
    "from tqdm import tqdm\n",
    "import math\n",
    "import plotly.express as px\n",
    "from fitter import Fitter, get_common_distributions, get_distributions"
   ]
  },
  {
   "cell_type": "code",
   "execution_count": 450,
   "outputs": [],
   "source": [
    "data = pd.read_csv('model_data.csv')\n",
    "data['PO_Document_Date'] = pd.to_datetime(data['PO_Document_Date'] , format='%Y-%m-%d')"
   ],
   "metadata": {
    "collapsed": false,
    "pycharm": {
     "name": "#%%\n"
    }
   }
  },
  {
   "cell_type": "code",
   "execution_count": 451,
   "outputs": [],
   "source": [
    "data['days_late'] = np.where(data['days_late']>0, data['days_late'], 0)\n",
    "data = data[data['days_late'] < 25]"
   ],
   "metadata": {
    "collapsed": false,
    "pycharm": {
     "name": "#%%\n"
    }
   }
  },
  {
   "cell_type": "code",
   "execution_count": 452,
   "outputs": [
    {
     "data": {
      "text/plain": "Material_Group\n013     5413\n073     3663\n060     2504\n018     2447\n017     1918\n057     1493\n012     1316\n032      906\n048      791\n030      789\n041      464\n014      458\n059      444\n040      362\n009      350\n021      330\n002      216\nX714     214\nX709     187\nX711     187\n001      136\n056      121\n047      110\n054       92\n008       76\nX722      65\n098       57\nX713      54\n005       53\n010       43\n011       37\nX706      32\nX704      25\nX703      19\nX725      17\nX707      16\nX727      10\nX715       9\n027        8\nX712       7\nX701       6\nX717       6\nX721       6\nX708       5\n061        3\n080        2\nX726       1\nName: PO_Number, dtype: int64"
     },
     "execution_count": 452,
     "metadata": {},
     "output_type": "execute_result"
    }
   ],
   "source": [
    "(data.groupby('Material_Group').agg('nunique')['PO_Number']).sort_values(ascending=False)"
   ],
   "metadata": {
    "collapsed": false,
    "pycharm": {
     "name": "#%%\n"
    }
   }
  },
  {
   "cell_type": "code",
   "execution_count": 497,
   "outputs": [
    {
     "name": "stderr",
     "output_type": "stream",
     "text": [
      "/var/folders/ng/clzczwr96wz__2znzb2hjykr0000gn/T/ipykernel_10990/1277909378.py:3: SettingWithCopyWarning:\n",
      "\n",
      "\n",
      "A value is trying to be set on a copy of a slice from a DataFrame.\n",
      "Try using .loc[row_indexer,col_indexer] = value instead\n",
      "\n",
      "See the caveats in the documentation: https://pandas.pydata.org/pandas-docs/stable/user_guide/indexing.html#returning-a-view-versus-a-copy\n",
      "\n"
     ]
    }
   ],
   "source": [
    "def joint_distributions(input_data :pd.DataFrame, mg : str, increment_size):\n",
    "    mg_dat = input_data[input_data['Material_Group']==mg]\n",
    "    mg_dat['days_late'] = pd.to_numeric(mg_dat['days_late'])\n",
    "    grouped = mg_dat.groupby('Vendor_number').resample('M', on='PO_Document_Date')\n",
    "    late_p = grouped.mean()['days_late'].reset_index()\n",
    "\n",
    "    dates = list(late_p['PO_Document_Date'].unique())\n",
    "    MVEF_Ingest = pd.DataFrame({'Month': dates})\n",
    "    keep_columns = ['Month']\n",
    "    perf_columns = []\n",
    "    for Vendor_number in set(late_p['Vendor_number']):\n",
    "        sup_data = late_p[late_p['Vendor_number'] == Vendor_number][['PO_Document_Date', 'days_late']]\n",
    "        non_nulls = [x for x in sup_data['days_late'] if x > -1000]\n",
    "        if late_p[late_p['Vendor_number'] == Vendor_number]['days_late'].count() < 12:\n",
    "            continue\n",
    "        sup_data = sup_data.rename(\n",
    "            columns={'days_late': f'{Vendor_number} days_late', 'PO_Document_Date': f'{Vendor_number}_date'})\n",
    "        keep_columns.append(f'{Vendor_number} days_late')\n",
    "        perf_columns.append(f'{Vendor_number} days_late')\n",
    "        MVEF_Ingest = pd.merge(MVEF_Ingest, sup_data, how='left', left_on='Month', right_on=f'{Vendor_number}_date')\n",
    "    # keep_columns = ['Month','539861 days_late','566041 days_late','505439 days_late']\n",
    "    # perf_columns = ['539861 days_late','566041 days_late','505439 days_late']\n",
    "    MVEF_Ingest = MVEF_Ingest[keep_columns]\n",
    "    MVEF_Clean = MVEF_Ingest[perf_columns].interpolate(method='linear', axis=0, limit_direction='forward')\n",
    "    MVEF_Clean['Month'] = MVEF_Ingest['Month']\n",
    "    MVEF_Clean = MVEF_Clean.dropna()\n",
    "    return MVEF_Clean\n",
    "MVEF_Clean = joint_distributions(input_data=data, mg='017', increment_size=.1)\n",
    "\n",
    "#     MVEF_Clean = MVEF_Clean[keep_columns]\n",
    "#     MVEF_Clean = MVEF_Clean.sort_values(['Month'], ascending=True)\n",
    "#\n",
    "#     actual_weights = mg_dat.groupby('Vendor_number').agg('nunique')[['PO_Number']]\n",
    "#     # actual_weights = actual_weights / actual_weights.sum()\n",
    "#     actual_weights = actual_weights.transpose()\n",
    "#     ac_suppliers = actual_weights.columns\n",
    "#     change_dic = {}\n",
    "#     for sup in ac_suppliers:\n",
    "#         change_dic[sup] = str(sup) + ' days_late'\n",
    "#     actual_weights = actual_weights.rename(columns=change_dic)\n",
    "#     actual_weights = actual_weights[perf_columns]\n",
    "#     actual_weights = actual_weights.transpose()\n",
    "#     actual_weights = actual_weights / actual_weights.sum()\n",
    "#     actual_weights = actual_weights.transpose()\n",
    "#     actual_weights = actual_weights.round(2)\n",
    "#\n",
    "#     binned_frame = pd.DataFrame()\n",
    "#     for supplier in perf_columns:\n",
    "#         binned_frame[f'{supplier}'] = np.where(MVEF_Clean[f'{supplier}'] <= 0, 0,\n",
    "#                                         np.where(\n",
    "#                                             (MVEF_Clean[f'{supplier}'] > 0) & (MVEF_Clean[f'{supplier}'] <= 2), 1,\n",
    "#                                         np.where(\n",
    "#                                             MVEF_Clean[f'{supplier}'] > 2, 2, 'FLAG: BINNING ERROR'\n",
    "#                                             )\n",
    "#                                         )\n",
    "#                                     )\n",
    "#         binned_frame[f'{supplier}'] = pd.to_numeric(binned_frame[f'{supplier}'])\n",
    "#     # fig, ax = plt.subplots(nrows=1, ncols=len(perf_columns), figsize=(15, 6))\n",
    "#     # for index, supplier in enumerate(perf_columns):\n",
    "#     #     plot = sns.histplot(\n",
    "#     #         data=binned_frame[supplier],\n",
    "#     #         kde=False,\n",
    "#     #         element='step',\n",
    "#     #         ax=ax[index],\n",
    "#     #         bins=[0,1,2,3],\n",
    "#     #         stat='density',\n",
    "#     #         label='Actual',\n",
    "#     #         color='Green'\n",
    "#     #     )\n",
    "#     #     plot.set_xlabel('Days Late')\n",
    "#     #     Name = supplier.split()[0] + ' ' +supplier.split()[1]\n",
    "#     #     plot.set_title(f'{Name}')\n",
    "#     #     plt.tight_layout()\n",
    "#     binned_frame['Prob_Counter'] = 1\n",
    "#     joint_prob = binned_frame.groupby(perf_columns).agg('count')['Prob_Counter'].reset_index()\n",
    "#     joint_prob['Probability'] = joint_prob['Prob_Counter'] / sum(joint_prob['Prob_Counter'])\n",
    "#     return joint_prob, perf_columns, actual_weights, MVEF_Clean\n",
    "# joint_dist, perf_columns, actual_weights, MVEF_Clean = joint_distributions(input_data=data, mg='017', increment_size=.1)"
   ],
   "metadata": {
    "collapsed": false,
    "pycharm": {
     "name": "#%%\n"
    }
   }
  },
  {
   "cell_type": "code",
   "execution_count": 462,
   "outputs": [
    {
     "data": {
      "text/plain": "        Month  539850 days_late  578425 days_late  539861 days_late  \\\n43 2018-12-31          5.000000          0.000000               0.0   \n44 2019-01-31          5.000000          0.000000               0.0   \n25 2021-03-31          0.000000          1.217391               0.0   \n26 2021-04-30          2.666667          1.379310               0.0   \n27 2021-05-31          0.000000          2.900000               0.0   \n28 2021-06-30          0.000000          0.833333               0.0   \n29 2021-07-31          0.000000          4.111111               0.0   \n30 2021-08-31          1.555556          4.642857               0.0   \n31 2021-09-30          3.111111          0.214286               0.0   \n32 2021-10-31          4.666667          0.000000               0.0   \n33 2021-11-30          6.222222          0.117647               0.0   \n34 2021-12-31          7.777778          1.111111               0.0   \n35 2022-01-31          9.333333          3.818182               0.0   \n36 2022-02-28         10.888889          1.416667               0.0   \n37 2022-03-31         12.444444          0.909091               0.0   \n38 2022-04-30         14.000000          1.500000               0.0   \n39 2022-05-31          7.000000          1.125000               0.0   \n40 2022-06-30          0.000000          1.777778               0.0   \n41 2022-07-31          0.000000          1.250000               0.0   \n42 2022-08-31          0.000000          0.000000               0.0   \n\n    566041 days_late  505439 days_late  \n43          0.000000          0.130435  \n44          0.000000          0.130435  \n25          0.000000          0.312500  \n26          0.000000          1.894737  \n27          1.000000          3.333333  \n28          0.166667          6.606061  \n29          0.000000          4.076923  \n30          0.000000          9.294118  \n31          0.000000          3.612903  \n32          0.000000          5.160000  \n33          0.000000          3.500000  \n34          0.000000          0.062500  \n35          0.250000          1.100000  \n36          0.250000          1.388889  \n37          0.000000          1.027778  \n38          0.000000          0.666667  \n39          0.000000          0.642857  \n40          0.285714          1.636364  \n41          0.000000          2.368421  \n42          0.000000          0.130435  ",
      "text/html": "<div>\n<style scoped>\n    .dataframe tbody tr th:only-of-type {\n        vertical-align: middle;\n    }\n\n    .dataframe tbody tr th {\n        vertical-align: top;\n    }\n\n    .dataframe thead th {\n        text-align: right;\n    }\n</style>\n<table border=\"1\" class=\"dataframe\">\n  <thead>\n    <tr style=\"text-align: right;\">\n      <th></th>\n      <th>Month</th>\n      <th>539850 days_late</th>\n      <th>578425 days_late</th>\n      <th>539861 days_late</th>\n      <th>566041 days_late</th>\n      <th>505439 days_late</th>\n    </tr>\n  </thead>\n  <tbody>\n    <tr>\n      <th>43</th>\n      <td>2018-12-31</td>\n      <td>5.000000</td>\n      <td>0.000000</td>\n      <td>0.0</td>\n      <td>0.000000</td>\n      <td>0.130435</td>\n    </tr>\n    <tr>\n      <th>44</th>\n      <td>2019-01-31</td>\n      <td>5.000000</td>\n      <td>0.000000</td>\n      <td>0.0</td>\n      <td>0.000000</td>\n      <td>0.130435</td>\n    </tr>\n    <tr>\n      <th>25</th>\n      <td>2021-03-31</td>\n      <td>0.000000</td>\n      <td>1.217391</td>\n      <td>0.0</td>\n      <td>0.000000</td>\n      <td>0.312500</td>\n    </tr>\n    <tr>\n      <th>26</th>\n      <td>2021-04-30</td>\n      <td>2.666667</td>\n      <td>1.379310</td>\n      <td>0.0</td>\n      <td>0.000000</td>\n      <td>1.894737</td>\n    </tr>\n    <tr>\n      <th>27</th>\n      <td>2021-05-31</td>\n      <td>0.000000</td>\n      <td>2.900000</td>\n      <td>0.0</td>\n      <td>1.000000</td>\n      <td>3.333333</td>\n    </tr>\n    <tr>\n      <th>28</th>\n      <td>2021-06-30</td>\n      <td>0.000000</td>\n      <td>0.833333</td>\n      <td>0.0</td>\n      <td>0.166667</td>\n      <td>6.606061</td>\n    </tr>\n    <tr>\n      <th>29</th>\n      <td>2021-07-31</td>\n      <td>0.000000</td>\n      <td>4.111111</td>\n      <td>0.0</td>\n      <td>0.000000</td>\n      <td>4.076923</td>\n    </tr>\n    <tr>\n      <th>30</th>\n      <td>2021-08-31</td>\n      <td>1.555556</td>\n      <td>4.642857</td>\n      <td>0.0</td>\n      <td>0.000000</td>\n      <td>9.294118</td>\n    </tr>\n    <tr>\n      <th>31</th>\n      <td>2021-09-30</td>\n      <td>3.111111</td>\n      <td>0.214286</td>\n      <td>0.0</td>\n      <td>0.000000</td>\n      <td>3.612903</td>\n    </tr>\n    <tr>\n      <th>32</th>\n      <td>2021-10-31</td>\n      <td>4.666667</td>\n      <td>0.000000</td>\n      <td>0.0</td>\n      <td>0.000000</td>\n      <td>5.160000</td>\n    </tr>\n    <tr>\n      <th>33</th>\n      <td>2021-11-30</td>\n      <td>6.222222</td>\n      <td>0.117647</td>\n      <td>0.0</td>\n      <td>0.000000</td>\n      <td>3.500000</td>\n    </tr>\n    <tr>\n      <th>34</th>\n      <td>2021-12-31</td>\n      <td>7.777778</td>\n      <td>1.111111</td>\n      <td>0.0</td>\n      <td>0.000000</td>\n      <td>0.062500</td>\n    </tr>\n    <tr>\n      <th>35</th>\n      <td>2022-01-31</td>\n      <td>9.333333</td>\n      <td>3.818182</td>\n      <td>0.0</td>\n      <td>0.250000</td>\n      <td>1.100000</td>\n    </tr>\n    <tr>\n      <th>36</th>\n      <td>2022-02-28</td>\n      <td>10.888889</td>\n      <td>1.416667</td>\n      <td>0.0</td>\n      <td>0.250000</td>\n      <td>1.388889</td>\n    </tr>\n    <tr>\n      <th>37</th>\n      <td>2022-03-31</td>\n      <td>12.444444</td>\n      <td>0.909091</td>\n      <td>0.0</td>\n      <td>0.000000</td>\n      <td>1.027778</td>\n    </tr>\n    <tr>\n      <th>38</th>\n      <td>2022-04-30</td>\n      <td>14.000000</td>\n      <td>1.500000</td>\n      <td>0.0</td>\n      <td>0.000000</td>\n      <td>0.666667</td>\n    </tr>\n    <tr>\n      <th>39</th>\n      <td>2022-05-31</td>\n      <td>7.000000</td>\n      <td>1.125000</td>\n      <td>0.0</td>\n      <td>0.000000</td>\n      <td>0.642857</td>\n    </tr>\n    <tr>\n      <th>40</th>\n      <td>2022-06-30</td>\n      <td>0.000000</td>\n      <td>1.777778</td>\n      <td>0.0</td>\n      <td>0.285714</td>\n      <td>1.636364</td>\n    </tr>\n    <tr>\n      <th>41</th>\n      <td>2022-07-31</td>\n      <td>0.000000</td>\n      <td>1.250000</td>\n      <td>0.0</td>\n      <td>0.000000</td>\n      <td>2.368421</td>\n    </tr>\n    <tr>\n      <th>42</th>\n      <td>2022-08-31</td>\n      <td>0.000000</td>\n      <td>0.000000</td>\n      <td>0.0</td>\n      <td>0.000000</td>\n      <td>0.130435</td>\n    </tr>\n  </tbody>\n</table>\n</div>"
     },
     "execution_count": 462,
     "metadata": {},
     "output_type": "execute_result"
    }
   ],
   "source": [
    "MVEF_Clean"
   ],
   "metadata": {
    "collapsed": false,
    "pycharm": {
     "name": "#%%\n"
    }
   }
  },
  {
   "cell_type": "code",
   "execution_count": 463,
   "outputs": [
    {
     "name": "stderr",
     "output_type": "stream",
     "text": [
      "17100720it [00:06, 2626661.61it/s]\n"
     ]
    }
   ],
   "source": [
    "def weighted_portfolios(columns, increment_size):\n",
    "    # Function to create weight combinations to test\n",
    "    increments = []\n",
    "    n = 0\n",
    "    while n < .99:\n",
    "        increments.append(round(n,3))\n",
    "        n += increment_size\n",
    "    increments = increments + (increments[0:math.ceil(len(increments)/2)] * (len(columns)-1))\n",
    "    possible_combinations = itertools.permutations(increments, len(columns))\n",
    "    # print(list(possible_combinations)[:100])\n",
    "    subsets = set()\n",
    "    for subset in tqdm(possible_combinations):\n",
    "        if sum(subset) == 1:\n",
    "            subsets.add(subset)\n",
    "    weights = {}\n",
    "    for index, column in enumerate(columns):\n",
    "        weights[column] = [x[index] for x in subsets]\n",
    "    w_martrix = pd.DataFrame(weights)\n",
    "    return w_martrix\n",
    "weights = weighted_portfolios(columns=perf_columns,#['539861 days_late','566041 days_late','505439 days_late'],\n",
    "                              increment_size=.1)"
   ],
   "metadata": {
    "collapsed": false,
    "pycharm": {
     "name": "#%%\n"
    }
   }
  },
  {
   "cell_type": "code",
   "execution_count": 464,
   "outputs": [],
   "source": [
    "def weighted_dist(weights, joint_distribution, columns, actual_weights):\n",
    "    distribution_indexer = {}\n",
    "    distribution_dicts = {}\n",
    "    for index, weight in weights.iterrows():\n",
    "        weighted_distribution = joint_distribution[columns] * weight\n",
    "        weighted_distribution['Z'] = weighted_distribution.sum(axis=1)\n",
    "        weighted_distribution['Probability'] = joint_distribution['Probability']\n",
    "        weighted_distribution['E[Z]'] = weighted_distribution['Probability'] * weighted_distribution['Z']\n",
    "        weighted_distribution['E[Z^2]'] = weighted_distribution['Probability'] * (weighted_distribution['Z']**2)\n",
    "        mean = sum(weighted_distribution['E[Z]'])\n",
    "        variance = weighted_distribution['E[Z^2]'].sum() - weighted_distribution['E[Z]'].sum() **2\n",
    "        distribution_indexer[index] = mean #* (variance**(1/2))\n",
    "        distribution_dicts[index] = weighted_distribution\n",
    "    for index, weight in actual_weights.iterrows():\n",
    "        actual_weighted_distribution = joint_distribution[columns] * weight\n",
    "        actual_weighted_distribution['Z'] = actual_weighted_distribution.sum(axis=1)\n",
    "        actual_weighted_distribution['Probability'] = joint_distribution['Probability']\n",
    "    return distribution_indexer, distribution_dicts, actual_weighted_distribution\n",
    "dist_indexer, dist_dics, actual_weighted_distribution = weighted_dist(weights=weights, joint_distribution=joint_dist, columns = perf_columns, actual_weights=actual_weights)\n",
    "# ['539861 days_late','566041 days_late','505439 days_late'] )"
   ],
   "metadata": {
    "collapsed": false,
    "pycharm": {
     "name": "#%%\n"
    }
   }
  },
  {
   "cell_type": "code",
   "execution_count": 465,
   "outputs": [
    {
     "data": {
      "text/plain": "Vendor_number  539850 days_late  578425 days_late  539861 days_late  \\\nPO_Number                  0.02              0.13              0.09   \n\nVendor_number  566041 days_late  505439 days_late  \nPO_Number                  0.11              0.65  ",
      "text/html": "<div>\n<style scoped>\n    .dataframe tbody tr th:only-of-type {\n        vertical-align: middle;\n    }\n\n    .dataframe tbody tr th {\n        vertical-align: top;\n    }\n\n    .dataframe thead th {\n        text-align: right;\n    }\n</style>\n<table border=\"1\" class=\"dataframe\">\n  <thead>\n    <tr style=\"text-align: right;\">\n      <th>Vendor_number</th>\n      <th>539850 days_late</th>\n      <th>578425 days_late</th>\n      <th>539861 days_late</th>\n      <th>566041 days_late</th>\n      <th>505439 days_late</th>\n    </tr>\n  </thead>\n  <tbody>\n    <tr>\n      <th>PO_Number</th>\n      <td>0.02</td>\n      <td>0.13</td>\n      <td>0.09</td>\n      <td>0.11</td>\n      <td>0.65</td>\n    </tr>\n  </tbody>\n</table>\n</div>"
     },
     "execution_count": 465,
     "metadata": {},
     "output_type": "execute_result"
    }
   ],
   "source": [
    "actual_weights"
   ],
   "metadata": {
    "collapsed": false,
    "pycharm": {
     "name": "#%%\n"
    }
   }
  },
  {
   "cell_type": "code",
   "execution_count": 540,
   "outputs": [
    {
     "data": {
      "application/vnd.plotly.v1+json": {
       "data": [
        {
         "fillpattern": {
          "shape": ""
         },
         "hovertemplate": "Z=%{x}<br>Probability=%{y}<extra></extra>",
         "legendgroup": "",
         "line": {
          "color": "steelblue",
          "shape": "hvh"
         },
         "marker": {
          "symbol": "circle"
         },
         "mode": "lines",
         "name": "",
         "orientation": "v",
         "showlegend": false,
         "stackgroup": "1",
         "x": [
          0.0,
          0.1,
          0.2,
          0.3,
          0.4,
          0.5,
          0.6,
          0.65,
          0.69,
          0.7,
          0.78,
          0.8,
          0.82,
          0.89,
          0.9,
          0.93,
          1.0,
          1.06,
          1.1,
          1.2,
          1.3,
          1.34,
          1.4,
          1.43,
          1.47,
          1.5,
          1.54,
          1.56,
          1.58,
          1.6,
          1.67,
          1.7,
          1.8,
          1.9,
          2.0
         ],
         "xaxis": "x",
         "y": [
          0.0,
          0.0,
          0.0,
          0.0,
          0.0,
          0.0,
          0.0,
          0.05,
          0.1,
          0.0,
          0.05,
          0.0,
          0.25,
          0.05,
          0.0,
          0.05,
          0.0,
          0.05,
          0.0,
          0.0,
          0.0,
          0.05,
          0.0,
          0.05,
          0.1,
          0.0,
          0.05,
          0.05,
          0.05,
          0.0,
          0.05,
          0.0,
          0.0,
          0.0,
          0.0
         ],
         "yaxis": "y",
         "type": "scatter"
        }
       ],
       "layout": {
        "template": {
         "data": {
          "histogram2dcontour": [
           {
            "type": "histogram2dcontour",
            "colorbar": {
             "outlinewidth": 0,
             "ticks": ""
            },
            "colorscale": [
             [
              0.0,
              "#0d0887"
             ],
             [
              0.1111111111111111,
              "#46039f"
             ],
             [
              0.2222222222222222,
              "#7201a8"
             ],
             [
              0.3333333333333333,
              "#9c179e"
             ],
             [
              0.4444444444444444,
              "#bd3786"
             ],
             [
              0.5555555555555556,
              "#d8576b"
             ],
             [
              0.6666666666666666,
              "#ed7953"
             ],
             [
              0.7777777777777778,
              "#fb9f3a"
             ],
             [
              0.8888888888888888,
              "#fdca26"
             ],
             [
              1.0,
              "#f0f921"
             ]
            ]
           }
          ],
          "choropleth": [
           {
            "type": "choropleth",
            "colorbar": {
             "outlinewidth": 0,
             "ticks": ""
            }
           }
          ],
          "histogram2d": [
           {
            "type": "histogram2d",
            "colorbar": {
             "outlinewidth": 0,
             "ticks": ""
            },
            "colorscale": [
             [
              0.0,
              "#0d0887"
             ],
             [
              0.1111111111111111,
              "#46039f"
             ],
             [
              0.2222222222222222,
              "#7201a8"
             ],
             [
              0.3333333333333333,
              "#9c179e"
             ],
             [
              0.4444444444444444,
              "#bd3786"
             ],
             [
              0.5555555555555556,
              "#d8576b"
             ],
             [
              0.6666666666666666,
              "#ed7953"
             ],
             [
              0.7777777777777778,
              "#fb9f3a"
             ],
             [
              0.8888888888888888,
              "#fdca26"
             ],
             [
              1.0,
              "#f0f921"
             ]
            ]
           }
          ],
          "heatmap": [
           {
            "type": "heatmap",
            "colorbar": {
             "outlinewidth": 0,
             "ticks": ""
            },
            "colorscale": [
             [
              0.0,
              "#0d0887"
             ],
             [
              0.1111111111111111,
              "#46039f"
             ],
             [
              0.2222222222222222,
              "#7201a8"
             ],
             [
              0.3333333333333333,
              "#9c179e"
             ],
             [
              0.4444444444444444,
              "#bd3786"
             ],
             [
              0.5555555555555556,
              "#d8576b"
             ],
             [
              0.6666666666666666,
              "#ed7953"
             ],
             [
              0.7777777777777778,
              "#fb9f3a"
             ],
             [
              0.8888888888888888,
              "#fdca26"
             ],
             [
              1.0,
              "#f0f921"
             ]
            ]
           }
          ],
          "heatmapgl": [
           {
            "type": "heatmapgl",
            "colorbar": {
             "outlinewidth": 0,
             "ticks": ""
            },
            "colorscale": [
             [
              0.0,
              "#0d0887"
             ],
             [
              0.1111111111111111,
              "#46039f"
             ],
             [
              0.2222222222222222,
              "#7201a8"
             ],
             [
              0.3333333333333333,
              "#9c179e"
             ],
             [
              0.4444444444444444,
              "#bd3786"
             ],
             [
              0.5555555555555556,
              "#d8576b"
             ],
             [
              0.6666666666666666,
              "#ed7953"
             ],
             [
              0.7777777777777778,
              "#fb9f3a"
             ],
             [
              0.8888888888888888,
              "#fdca26"
             ],
             [
              1.0,
              "#f0f921"
             ]
            ]
           }
          ],
          "contourcarpet": [
           {
            "type": "contourcarpet",
            "colorbar": {
             "outlinewidth": 0,
             "ticks": ""
            }
           }
          ],
          "contour": [
           {
            "type": "contour",
            "colorbar": {
             "outlinewidth": 0,
             "ticks": ""
            },
            "colorscale": [
             [
              0.0,
              "#0d0887"
             ],
             [
              0.1111111111111111,
              "#46039f"
             ],
             [
              0.2222222222222222,
              "#7201a8"
             ],
             [
              0.3333333333333333,
              "#9c179e"
             ],
             [
              0.4444444444444444,
              "#bd3786"
             ],
             [
              0.5555555555555556,
              "#d8576b"
             ],
             [
              0.6666666666666666,
              "#ed7953"
             ],
             [
              0.7777777777777778,
              "#fb9f3a"
             ],
             [
              0.8888888888888888,
              "#fdca26"
             ],
             [
              1.0,
              "#f0f921"
             ]
            ]
           }
          ],
          "surface": [
           {
            "type": "surface",
            "colorbar": {
             "outlinewidth": 0,
             "ticks": ""
            },
            "colorscale": [
             [
              0.0,
              "#0d0887"
             ],
             [
              0.1111111111111111,
              "#46039f"
             ],
             [
              0.2222222222222222,
              "#7201a8"
             ],
             [
              0.3333333333333333,
              "#9c179e"
             ],
             [
              0.4444444444444444,
              "#bd3786"
             ],
             [
              0.5555555555555556,
              "#d8576b"
             ],
             [
              0.6666666666666666,
              "#ed7953"
             ],
             [
              0.7777777777777778,
              "#fb9f3a"
             ],
             [
              0.8888888888888888,
              "#fdca26"
             ],
             [
              1.0,
              "#f0f921"
             ]
            ]
           }
          ],
          "mesh3d": [
           {
            "type": "mesh3d",
            "colorbar": {
             "outlinewidth": 0,
             "ticks": ""
            }
           }
          ],
          "scatter": [
           {
            "fillpattern": {
             "fillmode": "overlay",
             "size": 10,
             "solidity": 0.2
            },
            "type": "scatter"
           }
          ],
          "parcoords": [
           {
            "type": "parcoords",
            "line": {
             "colorbar": {
              "outlinewidth": 0,
              "ticks": ""
             }
            }
           }
          ],
          "scatterpolargl": [
           {
            "type": "scatterpolargl",
            "marker": {
             "colorbar": {
              "outlinewidth": 0,
              "ticks": ""
             }
            }
           }
          ],
          "bar": [
           {
            "error_x": {
             "color": "#2a3f5f"
            },
            "error_y": {
             "color": "#2a3f5f"
            },
            "marker": {
             "line": {
              "color": "#E5ECF6",
              "width": 0.5
             },
             "pattern": {
              "fillmode": "overlay",
              "size": 10,
              "solidity": 0.2
             }
            },
            "type": "bar"
           }
          ],
          "scattergeo": [
           {
            "type": "scattergeo",
            "marker": {
             "colorbar": {
              "outlinewidth": 0,
              "ticks": ""
             }
            }
           }
          ],
          "scatterpolar": [
           {
            "type": "scatterpolar",
            "marker": {
             "colorbar": {
              "outlinewidth": 0,
              "ticks": ""
             }
            }
           }
          ],
          "histogram": [
           {
            "marker": {
             "pattern": {
              "fillmode": "overlay",
              "size": 10,
              "solidity": 0.2
             }
            },
            "type": "histogram"
           }
          ],
          "scattergl": [
           {
            "type": "scattergl",
            "marker": {
             "colorbar": {
              "outlinewidth": 0,
              "ticks": ""
             }
            }
           }
          ],
          "scatter3d": [
           {
            "type": "scatter3d",
            "line": {
             "colorbar": {
              "outlinewidth": 0,
              "ticks": ""
             }
            },
            "marker": {
             "colorbar": {
              "outlinewidth": 0,
              "ticks": ""
             }
            }
           }
          ],
          "scattermapbox": [
           {
            "type": "scattermapbox",
            "marker": {
             "colorbar": {
              "outlinewidth": 0,
              "ticks": ""
             }
            }
           }
          ],
          "scatterternary": [
           {
            "type": "scatterternary",
            "marker": {
             "colorbar": {
              "outlinewidth": 0,
              "ticks": ""
             }
            }
           }
          ],
          "scattercarpet": [
           {
            "type": "scattercarpet",
            "marker": {
             "colorbar": {
              "outlinewidth": 0,
              "ticks": ""
             }
            }
           }
          ],
          "carpet": [
           {
            "aaxis": {
             "endlinecolor": "#2a3f5f",
             "gridcolor": "white",
             "linecolor": "white",
             "minorgridcolor": "white",
             "startlinecolor": "#2a3f5f"
            },
            "baxis": {
             "endlinecolor": "#2a3f5f",
             "gridcolor": "white",
             "linecolor": "white",
             "minorgridcolor": "white",
             "startlinecolor": "#2a3f5f"
            },
            "type": "carpet"
           }
          ],
          "table": [
           {
            "cells": {
             "fill": {
              "color": "#EBF0F8"
             },
             "line": {
              "color": "white"
             }
            },
            "header": {
             "fill": {
              "color": "#C8D4E3"
             },
             "line": {
              "color": "white"
             }
            },
            "type": "table"
           }
          ],
          "barpolar": [
           {
            "marker": {
             "line": {
              "color": "#E5ECF6",
              "width": 0.5
             },
             "pattern": {
              "fillmode": "overlay",
              "size": 10,
              "solidity": 0.2
             }
            },
            "type": "barpolar"
           }
          ],
          "pie": [
           {
            "automargin": true,
            "type": "pie"
           }
          ]
         },
         "layout": {
          "autotypenumbers": "strict",
          "colorway": [
           "#636efa",
           "#EF553B",
           "#00cc96",
           "#ab63fa",
           "#FFA15A",
           "#19d3f3",
           "#FF6692",
           "#B6E880",
           "#FF97FF",
           "#FECB52"
          ],
          "font": {
           "color": "#2a3f5f"
          },
          "hovermode": "closest",
          "hoverlabel": {
           "align": "left"
          },
          "paper_bgcolor": "white",
          "plot_bgcolor": "#E5ECF6",
          "polar": {
           "bgcolor": "#E5ECF6",
           "angularaxis": {
            "gridcolor": "white",
            "linecolor": "white",
            "ticks": ""
           },
           "radialaxis": {
            "gridcolor": "white",
            "linecolor": "white",
            "ticks": ""
           }
          },
          "ternary": {
           "bgcolor": "#E5ECF6",
           "aaxis": {
            "gridcolor": "white",
            "linecolor": "white",
            "ticks": ""
           },
           "baxis": {
            "gridcolor": "white",
            "linecolor": "white",
            "ticks": ""
           },
           "caxis": {
            "gridcolor": "white",
            "linecolor": "white",
            "ticks": ""
           }
          },
          "coloraxis": {
           "colorbar": {
            "outlinewidth": 0,
            "ticks": ""
           }
          },
          "colorscale": {
           "sequential": [
            [
             0.0,
             "#0d0887"
            ],
            [
             0.1111111111111111,
             "#46039f"
            ],
            [
             0.2222222222222222,
             "#7201a8"
            ],
            [
             0.3333333333333333,
             "#9c179e"
            ],
            [
             0.4444444444444444,
             "#bd3786"
            ],
            [
             0.5555555555555556,
             "#d8576b"
            ],
            [
             0.6666666666666666,
             "#ed7953"
            ],
            [
             0.7777777777777778,
             "#fb9f3a"
            ],
            [
             0.8888888888888888,
             "#fdca26"
            ],
            [
             1.0,
             "#f0f921"
            ]
           ],
           "sequentialminus": [
            [
             0.0,
             "#0d0887"
            ],
            [
             0.1111111111111111,
             "#46039f"
            ],
            [
             0.2222222222222222,
             "#7201a8"
            ],
            [
             0.3333333333333333,
             "#9c179e"
            ],
            [
             0.4444444444444444,
             "#bd3786"
            ],
            [
             0.5555555555555556,
             "#d8576b"
            ],
            [
             0.6666666666666666,
             "#ed7953"
            ],
            [
             0.7777777777777778,
             "#fb9f3a"
            ],
            [
             0.8888888888888888,
             "#fdca26"
            ],
            [
             1.0,
             "#f0f921"
            ]
           ],
           "diverging": [
            [
             0,
             "#8e0152"
            ],
            [
             0.1,
             "#c51b7d"
            ],
            [
             0.2,
             "#de77ae"
            ],
            [
             0.3,
             "#f1b6da"
            ],
            [
             0.4,
             "#fde0ef"
            ],
            [
             0.5,
             "#f7f7f7"
            ],
            [
             0.6,
             "#e6f5d0"
            ],
            [
             0.7,
             "#b8e186"
            ],
            [
             0.8,
             "#7fbc41"
            ],
            [
             0.9,
             "#4d9221"
            ],
            [
             1,
             "#276419"
            ]
           ]
          },
          "xaxis": {
           "gridcolor": "white",
           "linecolor": "white",
           "ticks": "",
           "title": {
            "standoff": 15
           },
           "zerolinecolor": "white",
           "automargin": true,
           "zerolinewidth": 2
          },
          "yaxis": {
           "gridcolor": "white",
           "linecolor": "white",
           "ticks": "",
           "title": {
            "standoff": 15
           },
           "zerolinecolor": "white",
           "automargin": true,
           "zerolinewidth": 2
          },
          "scene": {
           "xaxis": {
            "backgroundcolor": "#E5ECF6",
            "gridcolor": "white",
            "linecolor": "white",
            "showbackground": true,
            "ticks": "",
            "zerolinecolor": "white",
            "gridwidth": 2
           },
           "yaxis": {
            "backgroundcolor": "#E5ECF6",
            "gridcolor": "white",
            "linecolor": "white",
            "showbackground": true,
            "ticks": "",
            "zerolinecolor": "white",
            "gridwidth": 2
           },
           "zaxis": {
            "backgroundcolor": "#E5ECF6",
            "gridcolor": "white",
            "linecolor": "white",
            "showbackground": true,
            "ticks": "",
            "zerolinecolor": "white",
            "gridwidth": 2
           }
          },
          "shapedefaults": {
           "line": {
            "color": "#2a3f5f"
           }
          },
          "annotationdefaults": {
           "arrowcolor": "#2a3f5f",
           "arrowhead": 0,
           "arrowwidth": 1
          },
          "geo": {
           "bgcolor": "white",
           "landcolor": "#E5ECF6",
           "subunitcolor": "white",
           "showland": true,
           "showlakes": true,
           "lakecolor": "white"
          },
          "title": {
           "x": 0.05
          },
          "mapbox": {
           "style": "light"
          }
         }
        },
        "xaxis": {
         "anchor": "y",
         "domain": [
          0.0,
          1.0
         ],
         "title": {
          "text": "Average Order Lateness"
         }
        },
        "yaxis": {
         "anchor": "x",
         "domain": [
          0.0,
          1.0
         ],
         "title": {
          "text": "Probability Density"
         }
        },
        "legend": {
         "tracegroupgap": 0
        },
        "title": {
         "text": "Probability Distribution of Average Order Lateness"
        },
        "font": {
         "family": "Arial",
         "size": 20,
         "color": "#000000"
        },
        "width": 900,
        "height": 900
       },
       "config": {
        "plotlyServerURL": "https://plot.ly"
       }
      },
      "text/html": "<div>                            <div id=\"b7d6af9d-495b-4bb0-9799-aa022aa9d411\" class=\"plotly-graph-div\" style=\"height:900px; width:900px;\"></div>            <script type=\"text/javascript\">                require([\"plotly\"], function(Plotly) {                    window.PLOTLYENV=window.PLOTLYENV || {};                                    if (document.getElementById(\"b7d6af9d-495b-4bb0-9799-aa022aa9d411\")) {                    Plotly.newPlot(                        \"b7d6af9d-495b-4bb0-9799-aa022aa9d411\",                        [{\"fillpattern\":{\"shape\":\"\"},\"hovertemplate\":\"Z=%{x}<br>Probability=%{y}<extra></extra>\",\"legendgroup\":\"\",\"line\":{\"color\":\"steelblue\",\"shape\":\"hvh\"},\"marker\":{\"symbol\":\"circle\"},\"mode\":\"lines\",\"name\":\"\",\"orientation\":\"v\",\"showlegend\":false,\"stackgroup\":\"1\",\"x\":[0.0,0.1,0.2,0.3,0.4,0.5,0.6,0.65,0.69,0.7,0.78,0.8,0.82,0.89,0.9,0.93,1.0,1.06,1.1,1.2,1.3,1.34,1.4,1.43,1.47,1.5,1.54,1.56,1.58,1.6,1.67,1.7,1.8,1.9,2.0],\"xaxis\":\"x\",\"y\":[0.0,0.0,0.0,0.0,0.0,0.0,0.0,0.05,0.1,0.0,0.05,0.0,0.25,0.05,0.0,0.05,0.0,0.05,0.0,0.0,0.0,0.05,0.0,0.05,0.1,0.0,0.05,0.05,0.05,0.0,0.05,0.0,0.0,0.0,0.0],\"yaxis\":\"y\",\"type\":\"scatter\"}],                        {\"template\":{\"data\":{\"histogram2dcontour\":[{\"type\":\"histogram2dcontour\",\"colorbar\":{\"outlinewidth\":0,\"ticks\":\"\"},\"colorscale\":[[0.0,\"#0d0887\"],[0.1111111111111111,\"#46039f\"],[0.2222222222222222,\"#7201a8\"],[0.3333333333333333,\"#9c179e\"],[0.4444444444444444,\"#bd3786\"],[0.5555555555555556,\"#d8576b\"],[0.6666666666666666,\"#ed7953\"],[0.7777777777777778,\"#fb9f3a\"],[0.8888888888888888,\"#fdca26\"],[1.0,\"#f0f921\"]]}],\"choropleth\":[{\"type\":\"choropleth\",\"colorbar\":{\"outlinewidth\":0,\"ticks\":\"\"}}],\"histogram2d\":[{\"type\":\"histogram2d\",\"colorbar\":{\"outlinewidth\":0,\"ticks\":\"\"},\"colorscale\":[[0.0,\"#0d0887\"],[0.1111111111111111,\"#46039f\"],[0.2222222222222222,\"#7201a8\"],[0.3333333333333333,\"#9c179e\"],[0.4444444444444444,\"#bd3786\"],[0.5555555555555556,\"#d8576b\"],[0.6666666666666666,\"#ed7953\"],[0.7777777777777778,\"#fb9f3a\"],[0.8888888888888888,\"#fdca26\"],[1.0,\"#f0f921\"]]}],\"heatmap\":[{\"type\":\"heatmap\",\"colorbar\":{\"outlinewidth\":0,\"ticks\":\"\"},\"colorscale\":[[0.0,\"#0d0887\"],[0.1111111111111111,\"#46039f\"],[0.2222222222222222,\"#7201a8\"],[0.3333333333333333,\"#9c179e\"],[0.4444444444444444,\"#bd3786\"],[0.5555555555555556,\"#d8576b\"],[0.6666666666666666,\"#ed7953\"],[0.7777777777777778,\"#fb9f3a\"],[0.8888888888888888,\"#fdca26\"],[1.0,\"#f0f921\"]]}],\"heatmapgl\":[{\"type\":\"heatmapgl\",\"colorbar\":{\"outlinewidth\":0,\"ticks\":\"\"},\"colorscale\":[[0.0,\"#0d0887\"],[0.1111111111111111,\"#46039f\"],[0.2222222222222222,\"#7201a8\"],[0.3333333333333333,\"#9c179e\"],[0.4444444444444444,\"#bd3786\"],[0.5555555555555556,\"#d8576b\"],[0.6666666666666666,\"#ed7953\"],[0.7777777777777778,\"#fb9f3a\"],[0.8888888888888888,\"#fdca26\"],[1.0,\"#f0f921\"]]}],\"contourcarpet\":[{\"type\":\"contourcarpet\",\"colorbar\":{\"outlinewidth\":0,\"ticks\":\"\"}}],\"contour\":[{\"type\":\"contour\",\"colorbar\":{\"outlinewidth\":0,\"ticks\":\"\"},\"colorscale\":[[0.0,\"#0d0887\"],[0.1111111111111111,\"#46039f\"],[0.2222222222222222,\"#7201a8\"],[0.3333333333333333,\"#9c179e\"],[0.4444444444444444,\"#bd3786\"],[0.5555555555555556,\"#d8576b\"],[0.6666666666666666,\"#ed7953\"],[0.7777777777777778,\"#fb9f3a\"],[0.8888888888888888,\"#fdca26\"],[1.0,\"#f0f921\"]]}],\"surface\":[{\"type\":\"surface\",\"colorbar\":{\"outlinewidth\":0,\"ticks\":\"\"},\"colorscale\":[[0.0,\"#0d0887\"],[0.1111111111111111,\"#46039f\"],[0.2222222222222222,\"#7201a8\"],[0.3333333333333333,\"#9c179e\"],[0.4444444444444444,\"#bd3786\"],[0.5555555555555556,\"#d8576b\"],[0.6666666666666666,\"#ed7953\"],[0.7777777777777778,\"#fb9f3a\"],[0.8888888888888888,\"#fdca26\"],[1.0,\"#f0f921\"]]}],\"mesh3d\":[{\"type\":\"mesh3d\",\"colorbar\":{\"outlinewidth\":0,\"ticks\":\"\"}}],\"scatter\":[{\"fillpattern\":{\"fillmode\":\"overlay\",\"size\":10,\"solidity\":0.2},\"type\":\"scatter\"}],\"parcoords\":[{\"type\":\"parcoords\",\"line\":{\"colorbar\":{\"outlinewidth\":0,\"ticks\":\"\"}}}],\"scatterpolargl\":[{\"type\":\"scatterpolargl\",\"marker\":{\"colorbar\":{\"outlinewidth\":0,\"ticks\":\"\"}}}],\"bar\":[{\"error_x\":{\"color\":\"#2a3f5f\"},\"error_y\":{\"color\":\"#2a3f5f\"},\"marker\":{\"line\":{\"color\":\"#E5ECF6\",\"width\":0.5},\"pattern\":{\"fillmode\":\"overlay\",\"size\":10,\"solidity\":0.2}},\"type\":\"bar\"}],\"scattergeo\":[{\"type\":\"scattergeo\",\"marker\":{\"colorbar\":{\"outlinewidth\":0,\"ticks\":\"\"}}}],\"scatterpolar\":[{\"type\":\"scatterpolar\",\"marker\":{\"colorbar\":{\"outlinewidth\":0,\"ticks\":\"\"}}}],\"histogram\":[{\"marker\":{\"pattern\":{\"fillmode\":\"overlay\",\"size\":10,\"solidity\":0.2}},\"type\":\"histogram\"}],\"scattergl\":[{\"type\":\"scattergl\",\"marker\":{\"colorbar\":{\"outlinewidth\":0,\"ticks\":\"\"}}}],\"scatter3d\":[{\"type\":\"scatter3d\",\"line\":{\"colorbar\":{\"outlinewidth\":0,\"ticks\":\"\"}},\"marker\":{\"colorbar\":{\"outlinewidth\":0,\"ticks\":\"\"}}}],\"scattermapbox\":[{\"type\":\"scattermapbox\",\"marker\":{\"colorbar\":{\"outlinewidth\":0,\"ticks\":\"\"}}}],\"scatterternary\":[{\"type\":\"scatterternary\",\"marker\":{\"colorbar\":{\"outlinewidth\":0,\"ticks\":\"\"}}}],\"scattercarpet\":[{\"type\":\"scattercarpet\",\"marker\":{\"colorbar\":{\"outlinewidth\":0,\"ticks\":\"\"}}}],\"carpet\":[{\"aaxis\":{\"endlinecolor\":\"#2a3f5f\",\"gridcolor\":\"white\",\"linecolor\":\"white\",\"minorgridcolor\":\"white\",\"startlinecolor\":\"#2a3f5f\"},\"baxis\":{\"endlinecolor\":\"#2a3f5f\",\"gridcolor\":\"white\",\"linecolor\":\"white\",\"minorgridcolor\":\"white\",\"startlinecolor\":\"#2a3f5f\"},\"type\":\"carpet\"}],\"table\":[{\"cells\":{\"fill\":{\"color\":\"#EBF0F8\"},\"line\":{\"color\":\"white\"}},\"header\":{\"fill\":{\"color\":\"#C8D4E3\"},\"line\":{\"color\":\"white\"}},\"type\":\"table\"}],\"barpolar\":[{\"marker\":{\"line\":{\"color\":\"#E5ECF6\",\"width\":0.5},\"pattern\":{\"fillmode\":\"overlay\",\"size\":10,\"solidity\":0.2}},\"type\":\"barpolar\"}],\"pie\":[{\"automargin\":true,\"type\":\"pie\"}]},\"layout\":{\"autotypenumbers\":\"strict\",\"colorway\":[\"#636efa\",\"#EF553B\",\"#00cc96\",\"#ab63fa\",\"#FFA15A\",\"#19d3f3\",\"#FF6692\",\"#B6E880\",\"#FF97FF\",\"#FECB52\"],\"font\":{\"color\":\"#2a3f5f\"},\"hovermode\":\"closest\",\"hoverlabel\":{\"align\":\"left\"},\"paper_bgcolor\":\"white\",\"plot_bgcolor\":\"#E5ECF6\",\"polar\":{\"bgcolor\":\"#E5ECF6\",\"angularaxis\":{\"gridcolor\":\"white\",\"linecolor\":\"white\",\"ticks\":\"\"},\"radialaxis\":{\"gridcolor\":\"white\",\"linecolor\":\"white\",\"ticks\":\"\"}},\"ternary\":{\"bgcolor\":\"#E5ECF6\",\"aaxis\":{\"gridcolor\":\"white\",\"linecolor\":\"white\",\"ticks\":\"\"},\"baxis\":{\"gridcolor\":\"white\",\"linecolor\":\"white\",\"ticks\":\"\"},\"caxis\":{\"gridcolor\":\"white\",\"linecolor\":\"white\",\"ticks\":\"\"}},\"coloraxis\":{\"colorbar\":{\"outlinewidth\":0,\"ticks\":\"\"}},\"colorscale\":{\"sequential\":[[0.0,\"#0d0887\"],[0.1111111111111111,\"#46039f\"],[0.2222222222222222,\"#7201a8\"],[0.3333333333333333,\"#9c179e\"],[0.4444444444444444,\"#bd3786\"],[0.5555555555555556,\"#d8576b\"],[0.6666666666666666,\"#ed7953\"],[0.7777777777777778,\"#fb9f3a\"],[0.8888888888888888,\"#fdca26\"],[1.0,\"#f0f921\"]],\"sequentialminus\":[[0.0,\"#0d0887\"],[0.1111111111111111,\"#46039f\"],[0.2222222222222222,\"#7201a8\"],[0.3333333333333333,\"#9c179e\"],[0.4444444444444444,\"#bd3786\"],[0.5555555555555556,\"#d8576b\"],[0.6666666666666666,\"#ed7953\"],[0.7777777777777778,\"#fb9f3a\"],[0.8888888888888888,\"#fdca26\"],[1.0,\"#f0f921\"]],\"diverging\":[[0,\"#8e0152\"],[0.1,\"#c51b7d\"],[0.2,\"#de77ae\"],[0.3,\"#f1b6da\"],[0.4,\"#fde0ef\"],[0.5,\"#f7f7f7\"],[0.6,\"#e6f5d0\"],[0.7,\"#b8e186\"],[0.8,\"#7fbc41\"],[0.9,\"#4d9221\"],[1,\"#276419\"]]},\"xaxis\":{\"gridcolor\":\"white\",\"linecolor\":\"white\",\"ticks\":\"\",\"title\":{\"standoff\":15},\"zerolinecolor\":\"white\",\"automargin\":true,\"zerolinewidth\":2},\"yaxis\":{\"gridcolor\":\"white\",\"linecolor\":\"white\",\"ticks\":\"\",\"title\":{\"standoff\":15},\"zerolinecolor\":\"white\",\"automargin\":true,\"zerolinewidth\":2},\"scene\":{\"xaxis\":{\"backgroundcolor\":\"#E5ECF6\",\"gridcolor\":\"white\",\"linecolor\":\"white\",\"showbackground\":true,\"ticks\":\"\",\"zerolinecolor\":\"white\",\"gridwidth\":2},\"yaxis\":{\"backgroundcolor\":\"#E5ECF6\",\"gridcolor\":\"white\",\"linecolor\":\"white\",\"showbackground\":true,\"ticks\":\"\",\"zerolinecolor\":\"white\",\"gridwidth\":2},\"zaxis\":{\"backgroundcolor\":\"#E5ECF6\",\"gridcolor\":\"white\",\"linecolor\":\"white\",\"showbackground\":true,\"ticks\":\"\",\"zerolinecolor\":\"white\",\"gridwidth\":2}},\"shapedefaults\":{\"line\":{\"color\":\"#2a3f5f\"}},\"annotationdefaults\":{\"arrowcolor\":\"#2a3f5f\",\"arrowhead\":0,\"arrowwidth\":1},\"geo\":{\"bgcolor\":\"white\",\"landcolor\":\"#E5ECF6\",\"subunitcolor\":\"white\",\"showland\":true,\"showlakes\":true,\"lakecolor\":\"white\"},\"title\":{\"x\":0.05},\"mapbox\":{\"style\":\"light\"}}},\"xaxis\":{\"anchor\":\"y\",\"domain\":[0.0,1.0],\"title\":{\"text\":\"Average Order Lateness\"}},\"yaxis\":{\"anchor\":\"x\",\"domain\":[0.0,1.0],\"title\":{\"text\":\"Probability Density\"}},\"legend\":{\"tracegroupgap\":0},\"title\":{\"text\":\"Probability Distribution of Average Order Lateness\"},\"font\":{\"family\":\"Arial\",\"size\":20,\"color\":\"#000000\"},\"width\":900,\"height\":900},                        {\"responsive\": true}                    ).then(function(){\n                            \nvar gd = document.getElementById('b7d6af9d-495b-4bb0-9799-aa022aa9d411');\nvar x = new MutationObserver(function (mutations, observer) {{\n        var display = window.getComputedStyle(gd).display;\n        if (!display || display === 'none') {{\n            console.log([gd, 'removed!']);\n            Plotly.purge(gd);\n            observer.disconnect();\n        }}\n}});\n\n// Listen for the removal of the full notebook cells\nvar notebookContainer = gd.closest('#notebook-container');\nif (notebookContainer) {{\n    x.observe(notebookContainer, {childList: true});\n}}\n\n// Listen for the clearing of the current output cell\nvar outputEl = gd.closest('.output');\nif (outputEl) {{\n    x.observe(outputEl, {childList: true});\n}}\n\n                        })                };                });            </script>        </div>"
     },
     "metadata": {},
     "output_type": "display_data"
    },
    {
     "data": {
      "text/plain": "<Figure size 640x480 with 0 Axes>"
     },
     "metadata": {},
     "output_type": "display_data"
    }
   ],
   "source": [
    "def best_option(dist_indexer, dist_dics, actual_weighted_distribution):\n",
    "    best_dist = [index for index in dist_indexer.keys() if dist_indexer[index]==min(dist_indexer.values())][0]\n",
    "    df = dist_dics[best_dist].groupby('Z').sum()[['Probability']].reset_index()\n",
    "    df['Z'] = df['Z'].round(2)\n",
    "    for value in range(0,21):\n",
    "        actual = value/10\n",
    "        if actual not in list(df['Z']):\n",
    "            df_add = pd.DataFrame({\"Z\":[actual],\n",
    "                        \"Probability\":[0]\n",
    "                        })\n",
    "            df = pd.concat([df, df_add])\n",
    "    df['Distribution'] = 'Suggested Supplier Mix'\n",
    "    df2 = actual_weighted_distribution.groupby('Z').sum()[['Probability']].reset_index()\n",
    "    df2['Z'] = df2['Z'].round(2)\n",
    "    for value in range(0,21):\n",
    "        actual = value/10\n",
    "        if float(actual) not in list(df2['Z']):\n",
    "            df2_add = pd.DataFrame({\"Z\":[actual],\n",
    "                        \"Probability\":[0]\n",
    "                        })\n",
    "            df2 = pd.concat([df2, df2_add])\n",
    "    df2 = df2.drop_duplicates(subset = ['Z'], keep = 'first')\n",
    "    df2['Distribution'] = 'Actual Supplier Mix'\n",
    "    main = pd.concat([df, df2])\n",
    "    main = main.sort_values(['Z'])\n",
    "    fig = px.area(main[main['Distribution']=='Actual Supplier Mix'],\n",
    "                  x=\"Z\",\n",
    "                  y=\"Probability\",\n",
    "                  # color='Distribution',\n",
    "                  color_discrete_sequence=['steelblue',],\n",
    "                  title=\"Probability Distribution of Average Order Lateness\",\n",
    "                  line_shape='hvh'\n",
    "                  )\n",
    "    fig.update_layout(\n",
    "        xaxis_title=\"Average Order Lateness\",\n",
    "        yaxis_title='Probability Density',\n",
    "        font=dict(\n",
    "        family=\"Arial\",\n",
    "        size=20,\n",
    "        color='#000000'),\n",
    "        width=900, height=900)\n",
    "    plt.tight_layout()\n",
    "    plt.savefig('eg_fig.png')\n",
    "    return fig\n",
    "best_option(dist_indexer=dist_indexer, dist_dics=dist_dics, actual_weighted_distribution=actual_weighted_distribution)"
   ],
   "metadata": {
    "collapsed": false,
    "pycharm": {
     "name": "#%%\n"
    }
   }
  },
  {
   "cell_type": "code",
   "execution_count": 437,
   "outputs": [
    {
     "name": "stdout",
     "output_type": "stream",
     "text": [
      "539850 days_late    0.0\n",
      "578425 days_late    0.0\n",
      "539861 days_late    0.9\n",
      "566041 days_late    0.1\n",
      "505439 days_late    0.0\n",
      "Name: 530, dtype: float64\n"
     ]
    },
    {
     "name": "stderr",
     "output_type": "stream",
     "text": [
      "/var/folders/ng/clzczwr96wz__2znzb2hjykr0000gn/T/ipykernel_10990/3027358990.py:4: SettingWithCopyWarning:\n",
      "\n",
      "\n",
      "A value is trying to be set on a copy of a slice from a DataFrame.\n",
      "Try using .loc[row_indexer,col_indexer] = value instead\n",
      "\n",
      "See the caveats in the documentation: https://pandas.pydata.org/pandas-docs/stable/user_guide/indexing.html#returning-a-view-versus-a-copy\n",
      "\n"
     ]
    },
    {
     "data": {
      "text/plain": "(Figure({\n     'data': [{'hovertemplate': 'Label=Actual Supplier Mix<br>Month=%{x}<br>Total Late Days=%{y}<extra></extra>',\n               'legendgroup': 'Actual Supplier Mix',\n               'line': {'color': '#636efa', 'dash': 'solid'},\n               'marker': {'symbol': 'circle'},\n               'mode': 'lines',\n               'name': 'Actual Supplier Mix',\n               'orientation': 'v',\n               'showlegend': True,\n               'type': 'scatter',\n               'x': array([datetime.datetime(2018, 12, 31, 0, 0),\n                           datetime.datetime(2019, 1, 31, 0, 0),\n                           datetime.datetime(2019, 2, 28, 0, 0),\n                           datetime.datetime(2019, 3, 31, 0, 0),\n                           datetime.datetime(2019, 4, 30, 0, 0),\n                           datetime.datetime(2019, 5, 31, 0, 0),\n                           datetime.datetime(2019, 6, 30, 0, 0),\n                           datetime.datetime(2019, 7, 31, 0, 0),\n                           datetime.datetime(2019, 8, 31, 0, 0),\n                           datetime.datetime(2019, 9, 30, 0, 0),\n                           datetime.datetime(2019, 10, 31, 0, 0),\n                           datetime.datetime(2019, 11, 30, 0, 0),\n                           datetime.datetime(2019, 12, 31, 0, 0),\n                           datetime.datetime(2020, 1, 31, 0, 0),\n                           datetime.datetime(2020, 2, 29, 0, 0),\n                           datetime.datetime(2020, 3, 31, 0, 0),\n                           datetime.datetime(2020, 4, 30, 0, 0),\n                           datetime.datetime(2020, 5, 31, 0, 0),\n                           datetime.datetime(2020, 6, 30, 0, 0),\n                           datetime.datetime(2020, 7, 31, 0, 0),\n                           datetime.datetime(2020, 8, 31, 0, 0),\n                           datetime.datetime(2020, 9, 30, 0, 0),\n                           datetime.datetime(2020, 10, 31, 0, 0),\n                           datetime.datetime(2020, 11, 30, 0, 0),\n                           datetime.datetime(2020, 12, 31, 0, 0),\n                           datetime.datetime(2021, 1, 31, 0, 0),\n                           datetime.datetime(2021, 2, 28, 0, 0),\n                           datetime.datetime(2021, 3, 31, 0, 0),\n                           datetime.datetime(2021, 4, 30, 0, 0),\n                           datetime.datetime(2021, 5, 31, 0, 0),\n                           datetime.datetime(2021, 6, 30, 0, 0),\n                           datetime.datetime(2021, 7, 31, 0, 0),\n                           datetime.datetime(2021, 8, 31, 0, 0),\n                           datetime.datetime(2021, 9, 30, 0, 0),\n                           datetime.datetime(2021, 10, 31, 0, 0),\n                           datetime.datetime(2021, 11, 30, 0, 0),\n                           datetime.datetime(2021, 12, 31, 0, 0),\n                           datetime.datetime(2022, 1, 31, 0, 0),\n                           datetime.datetime(2022, 2, 28, 0, 0),\n                           datetime.datetime(2022, 3, 31, 0, 0),\n                           datetime.datetime(2022, 4, 30, 0, 0),\n                           datetime.datetime(2022, 5, 31, 0, 0),\n                           datetime.datetime(2022, 6, 30, 0, 0),\n                           datetime.datetime(2022, 7, 31, 0, 0),\n                           datetime.datetime(2022, 8, 31, 0, 0)], dtype=object),\n               'xaxis': 'x',\n               'y': array([  5.        ,   0.        ,  18.9       ,  17.6       ,  15.83333333,\n                            34.53030303,  87.125     , 161.50909091,  91.42857143,  18.62903226,\n                            15.37078652,  44.23880597,  30.50704225,  22.2962963 ,   3.25925926,\n                             4.04255319,   0.        ,   8.85245902,  18.        ,   0.        ,\n                            10.64516129,   1.75438596, 117.82978723,  20.75675676,   4.72222222,\n                            24.36      ,   6.88372093,  31.02      ,  78.20689655, 195.38028169,\n                           209.8245614 , 160.71428571, 379.6875    , 105.0862069 , 118.0212766 ,\n                            51.25581395,  19.6875    ,  71.59649123,  38.76190476,  10.90909091,\n                            28.        ,  16.5       ,  46.1754386 ,  44.28571429,   2.52272727]),\n               'yaxis': 'y'},\n              {'hovertemplate': ('Label=Recommended Supplier Mix' ... ' Late Days=%{y}<extra></extra>'),\n               'legendgroup': 'Recommended Supplier Mix',\n               'line': {'color': '#EF553B', 'dash': 'solid'},\n               'marker': {'symbol': 'circle'},\n               'mode': 'lines',\n               'name': 'Recommended Supplier Mix',\n               'orientation': 'v',\n               'showlegend': True,\n               'type': 'scatter',\n               'x': array([datetime.datetime(2021, 9, 30, 0, 0),\n                           datetime.datetime(2021, 10, 31, 0, 0),\n                           datetime.datetime(2021, 11, 30, 0, 0),\n                           datetime.datetime(2021, 12, 31, 0, 0),\n                           datetime.datetime(2022, 1, 31, 0, 0),\n                           datetime.datetime(2022, 2, 28, 0, 0),\n                           datetime.datetime(2022, 3, 31, 0, 0),\n                           datetime.datetime(2022, 4, 30, 0, 0),\n                           datetime.datetime(2022, 5, 31, 0, 0),\n                           datetime.datetime(2022, 6, 30, 0, 0),\n                           datetime.datetime(2022, 7, 31, 0, 0),\n                           datetime.datetime(2022, 8, 31, 0, 0)], dtype=object),\n               'xaxis': 'x',\n               'y': array([0.        , 0.        , 0.        , 0.        , 1.325     , 0.925     ,\n                           0.        , 0.        , 0.        , 1.34285714, 0.        , 0.        ]),\n               'yaxis': 'y'}],\n     'layout': {'height': 600,\n                'legend': {'title': {'text': 'Label'}, 'tracegroupgap': 0},\n                'shapes': [{'type': 'line',\n                            'x0': Timestamp('2021-09-01 00:00:00'),\n                            'x1': Timestamp('2021-09-01 00:00:00'),\n                            'xref': 'x',\n                            'y0': 0,\n                            'y1': 1,\n                            'yref': 'y domain'}],\n                'template': '...',\n                'title': {'text': 'Marginal improvement of using recommended supplier mix'},\n                'width': 1200,\n                'xaxis': {'anchor': 'y', 'domain': [0.0, 1.0], 'title': {'text': 'Month'}},\n                'yaxis': {'anchor': 'x', 'domain': [0.0, 1.0], 'title': {'text': 'Total Late Days'}}}\n }),\n     MG       Date  Recommended Avg. Monthly Total Days Late  \\\n 0  017 2021-09-01                                  0.299405   \n \n    Actual Avg. Monthly Total Days Late  \n 0                            46.066847  )"
     },
     "execution_count": 437,
     "metadata": {},
     "output_type": "execute_result"
    }
   ],
   "source": [
    "def validator_extreme(mg, dist_indexer, MVEF_Clean, input_data, weights, perf_columns, cutoff_date):\n",
    "    # Validate the methodology extremely\n",
    "    mg_dat = input_data[input_data['Material_Group']==mg]\n",
    "    mg_dat['days_late'] = pd.to_numeric(mg_dat['days_late'])\n",
    "    grouped = mg_dat.resample('M', on='PO_Document_Date').mean()['days_late'].reset_index()\n",
    "\n",
    "    grouped[f'Bins'] = np.where(grouped['days_late'] <= 0, 0,\n",
    "                                np.where(\n",
    "                                    (grouped['days_late'] > 0) & (grouped['days_late'] <= 2), 1,\n",
    "                                np.where(\n",
    "                                    grouped['days_late'] > 2, 2, 'FLAG: BINNING ERROR'\n",
    "                                    )\n",
    "                                )\n",
    "                            )\n",
    "    grouped = grouped.rename(columns={'PO_Document_Date':\"Month\",\n",
    "                                      'days_late':'Average Days Late'\n",
    "                                      })\n",
    "    grouped['Label'] = 'Actual Supplier Mix'\n",
    "    best_dist = [index for index in dist_indexer.keys() if dist_indexer[index]==min(dist_indexer.values())][0]\n",
    "    best_weights = weights.loc[best_dist]\n",
    "    print(best_weights)\n",
    "    best_performance = MVEF_Clean[perf_columns] * best_weights\n",
    "    best_performance['Month'] = MVEF_Clean['Month']\n",
    "    best_performance['Average Days Late'] = best_performance[perf_columns].sum(axis=1)\n",
    "    best_performance['Label'] = 'Recommended Supplier Mix'\n",
    "    best_performance = best_performance[best_performance['Month']>=cutoff_date]\n",
    "\n",
    "    main = pd.concat([grouped, best_performance])\n",
    "\n",
    "    grouped2 = mg_dat.resample('M', on='PO_Document_Date').nunique()['PO_Number'].reset_index()\n",
    "    main = pd.merge(main, grouped2, how='left', left_on='Month', right_on='PO_Document_Date')\n",
    "    main['Total Late Days'] = main['Average Days Late'] * main['PO_Number']\n",
    "\n",
    "    interim = main[main['Month']>=cutoff_date]\n",
    "    details = interim.groupby('Label').agg('mean')[['Total Late Days']]\n",
    "\n",
    "    # return details\n",
    "    details_frame = pd.DataFrame({\n",
    "        'MG':[mg],\n",
    "        'Date':[cutoff_date],\n",
    "        'Recommended Avg. Monthly Total Days Late': details['Total Late Days'].loc['Recommended Supplier Mix'],\n",
    "        'Actual Avg. Monthly Total Days Late': details['Total Late Days'].loc['Actual Supplier Mix'],\n",
    "    })\n",
    "\n",
    "    fig = px.line(main,\n",
    "                  x=\"Month\",\n",
    "                  y=\"Total Late Days\",\n",
    "                  color = 'Label',\n",
    "                  title=\"Marginal improvement of using recommended supplier mix\",\n",
    "                  )\n",
    "\n",
    "    fig.update_layout(\n",
    "        # xaxis_title=\"Average Order Cost\",\n",
    "        width=1200, height=600)\n",
    "    fig.add_vline(x=cutoff_date)\n",
    "\n",
    "    return fig, details_frame\n",
    "\n",
    "# USE ALL DATA AS INPUT DATA HERE\n",
    "cutoff_date = pd.to_datetime('2021-09-01', format='%Y-%m-%d')\n",
    "validator_extreme(mg = '017',\n",
    "                  dist_indexer = dist_indexer,\n",
    "                  MVEF_Clean = MVEF_Clean,\n",
    "                  input_data = data,\n",
    "                  weights = weights,\n",
    "                  perf_columns = perf_columns,\n",
    "                  cutoff_date = cutoff_date\n",
    "                  )"
   ],
   "metadata": {
    "collapsed": false,
    "pycharm": {
     "name": "#%%\n"
    }
   }
  },
  {
   "cell_type": "code",
   "execution_count": 483,
   "outputs": [
    {
     "name": "stderr",
     "output_type": "stream",
     "text": [
      "/var/folders/ng/clzczwr96wz__2znzb2hjykr0000gn/T/ipykernel_10990/3245379082.py:3: SettingWithCopyWarning:\n",
      "\n",
      "\n",
      "A value is trying to be set on a copy of a slice from a DataFrame.\n",
      "Try using .loc[row_indexer,col_indexer] = value instead\n",
      "\n",
      "See the caveats in the documentation: https://pandas.pydata.org/pandas-docs/stable/user_guide/indexing.html#returning-a-view-versus-a-copy\n",
      "\n",
      "/var/folders/ng/clzczwr96wz__2znzb2hjykr0000gn/T/ipykernel_10990/3245379082.py:3: SettingWithCopyWarning:\n",
      "\n",
      "\n",
      "A value is trying to be set on a copy of a slice from a DataFrame.\n",
      "Try using .loc[row_indexer,col_indexer] = value instead\n",
      "\n",
      "See the caveats in the documentation: https://pandas.pydata.org/pandas-docs/stable/user_guide/indexing.html#returning-a-view-versus-a-copy\n",
      "\n",
      "17100720it [00:06, 2679474.02it/s]\n"
     ]
    },
    {
     "name": "stdout",
     "output_type": "stream",
     "text": [
      "539850 days_late    0.0\n",
      "578425 days_late    0.0\n",
      "539861 days_late    0.9\n",
      "566041 days_late    0.1\n",
      "505439 days_late    0.0\n",
      "Name: 530, dtype: float64\n"
     ]
    },
    {
     "name": "stderr",
     "output_type": "stream",
     "text": [
      "/var/folders/ng/clzczwr96wz__2znzb2hjykr0000gn/T/ipykernel_10990/3027358990.py:4: SettingWithCopyWarning:\n",
      "\n",
      "\n",
      "A value is trying to be set on a copy of a slice from a DataFrame.\n",
      "Try using .loc[row_indexer,col_indexer] = value instead\n",
      "\n",
      "See the caveats in the documentation: https://pandas.pydata.org/pandas-docs/stable/user_guide/indexing.html#returning-a-view-versus-a-copy\n",
      "\n"
     ]
    },
    {
     "ename": "ValueError",
     "evalue": "not enough values to unpack (expected 5, got 4)",
     "output_type": "error",
     "traceback": [
      "\u001B[0;31m---------------------------------------------------------------------------\u001B[0m",
      "\u001B[0;31mValueError\u001B[0m                                Traceback (most recent call last)",
      "Input \u001B[0;32mIn [483]\u001B[0m, in \u001B[0;36m<cell line: 42>\u001B[0;34m()\u001B[0m\n\u001B[1;32m     33\u001B[0m     valid_fig, details \u001B[38;5;241m=\u001B[39m validator_extreme(mg \u001B[38;5;241m=\u001B[39m mg,\n\u001B[1;32m     34\u001B[0m                   dist_indexer \u001B[38;5;241m=\u001B[39m dist_indexer,\n\u001B[1;32m     35\u001B[0m                   MVEF_Clean \u001B[38;5;241m=\u001B[39m MVEF_Clean2,\n\u001B[0;32m   (...)\u001B[0m\n\u001B[1;32m     39\u001B[0m                   cutoff_date \u001B[38;5;241m=\u001B[39m cutoff_date\n\u001B[1;32m     40\u001B[0m                   )\n\u001B[1;32m     41\u001B[0m     \u001B[38;5;28;01mreturn\u001B[39;00m valid_fig, details, distributions_fig, recommended_weights\n\u001B[0;32m---> 42\u001B[0m valid_fig, details, distributions_fig, recommended_weights, MVEF_Clean2 \u001B[38;5;241m=\u001B[39m compiler(increment_size\u001B[38;5;241m=\u001B[39m\u001B[38;5;241m.1\u001B[39m,\n\u001B[1;32m     43\u001B[0m                                                                       mg\u001B[38;5;241m=\u001B[39m\u001B[38;5;124m'\u001B[39m\u001B[38;5;124m017\u001B[39m\u001B[38;5;124m'\u001B[39m,\n\u001B[1;32m     44\u001B[0m                                                                       cutoff_date\u001B[38;5;241m=\u001B[39mpd\u001B[38;5;241m.\u001B[39mto_datetime(\u001B[38;5;124m'\u001B[39m\u001B[38;5;124m2022-08-01\u001B[39m\u001B[38;5;124m'\u001B[39m, \u001B[38;5;28mformat\u001B[39m\u001B[38;5;241m=\u001B[39m\u001B[38;5;124m'\u001B[39m\u001B[38;5;124m%\u001B[39m\u001B[38;5;124mY-\u001B[39m\u001B[38;5;124m%\u001B[39m\u001B[38;5;124mm-\u001B[39m\u001B[38;5;132;01m%d\u001B[39;00m\u001B[38;5;124m'\u001B[39m)\n\u001B[1;32m     45\u001B[0m                                                                         )\n\u001B[1;32m     46\u001B[0m recommended_weights\n",
      "\u001B[0;31mValueError\u001B[0m: not enough values to unpack (expected 5, got 4)"
     ]
    },
    {
     "data": {
      "text/plain": "<Figure size 640x480 with 0 Axes>"
     },
     "metadata": {},
     "output_type": "display_data"
    }
   ],
   "source": [
    "def compiler(increment_size, mg, cutoff_date):\n",
    "    # CUT OFF DATE FOR VALIDATION EXCEPT ON VALIDATOR\n",
    "\n",
    "    # Parameters\n",
    "    # increment_size = .1\n",
    "    # mg = '013'\n",
    "    # cutoff_date = pd.to_datetime('2021-10-01', format='%Y-%m-%d')\n",
    "\n",
    "    # Clean Data\n",
    "    data = pd.read_csv('model_data.csv')\n",
    "    data['PO_Document_Date'] = pd.to_datetime(data['PO_Document_Date'] , format='%Y-%m-%d')\n",
    "    data['days_late'] = np.where(data['days_late']>0, data['days_late'], 0)\n",
    "    data = data[data['days_late'] < 25]\n",
    "\n",
    "    input_data = data[data['PO_Document_Date'] < cutoff_date]\n",
    "\n",
    "    # Find Joint Distribution\n",
    "    joint_dist, perf_columns, actual_weights, MVEF_Clean = joint_distributions(input_data=input_data, mg=mg, increment_size=increment_size)\n",
    "    # Get updated results\n",
    "    joint_dist2, perf_columns2, actual_weights2, MVEF_Clean2 = joint_distributions(input_data=data, mg=mg, increment_size=increment_size)\n",
    "    # Create Weights\n",
    "    weights = weighted_portfolios(columns=perf_columns, increment_size=increment_size)\n",
    "    if len(perf_columns) == 1:\n",
    "        weights2 = pd.DataFrame({perf_columns[0]:[1]})\n",
    "        weights = pd.concat([weights, weights2])\n",
    "    # Build Distributions\n",
    "    dist_indexer, dist_dics, actual_weighted_distribution = weighted_dist(weights=weights, joint_distribution=joint_dist, columns = perf_columns, actual_weights=actual_weights)\n",
    "    best_dist = [index for index in dist_indexer.keys() if dist_indexer[index]==min(dist_indexer.values())][0]\n",
    "    recommended_weights = weights.loc[best_dist]\n",
    "    # Find Best Weights And Compare to Actual Weights\n",
    "    distributions_fig = best_option(dist_indexer=dist_indexer, dist_dics=dist_dics, actual_weighted_distribution=actual_weighted_distribution)\n",
    "    # Validate Methodology\n",
    "    valid_fig, details = validator_extreme(mg = mg,\n",
    "                  dist_indexer = dist_indexer,\n",
    "                  MVEF_Clean = MVEF_Clean2,\n",
    "                  input_data = data,\n",
    "                  weights = weights,\n",
    "                  perf_columns = perf_columns,\n",
    "                  cutoff_date = cutoff_date\n",
    "                  )\n",
    "    return valid_fig, details, distributions_fig, recommended_weights\n",
    "valid_fig, details, distributions_fig, recommended_weights, MVEF_Clean2 = compiler(increment_size=.1,\n",
    "                                                                      mg='017',\n",
    "                                                                      cutoff_date=pd.to_datetime('2022-08-01', format='%Y-%m-%d')\n",
    "                                                                        )\n",
    "recommended_weights"
   ],
   "metadata": {
    "collapsed": false,
    "pycharm": {
     "name": "#%%\n"
    }
   }
  },
  {
   "cell_type": "code",
   "execution_count": 419,
   "outputs": [
    {
     "name": "stderr",
     "output_type": "stream",
     "text": [
      "/var/folders/ng/clzczwr96wz__2znzb2hjykr0000gn/T/ipykernel_10990/3245379082.py:3: SettingWithCopyWarning:\n",
      "\n",
      "\n",
      "A value is trying to be set on a copy of a slice from a DataFrame.\n",
      "Try using .loc[row_indexer,col_indexer] = value instead\n",
      "\n",
      "See the caveats in the documentation: https://pandas.pydata.org/pandas-docs/stable/user_guide/indexing.html#returning-a-view-versus-a-copy\n",
      "\n",
      "/var/folders/ng/clzczwr96wz__2znzb2hjykr0000gn/T/ipykernel_10990/3245379082.py:3: SettingWithCopyWarning:\n",
      "\n",
      "\n",
      "A value is trying to be set on a copy of a slice from a DataFrame.\n",
      "Try using .loc[row_indexer,col_indexer] = value instead\n",
      "\n",
      "See the caveats in the documentation: https://pandas.pydata.org/pandas-docs/stable/user_guide/indexing.html#returning-a-view-versus-a-copy\n",
      "\n",
      "303600it [00:00, 2280803.24it/s]\n"
     ]
    },
    {
     "name": "stdout",
     "output_type": "stream",
     "text": [
      "539850 days_late    0.4\n",
      "539861 days_late    0.6\n",
      "566041 days_late    0.0\n",
      "505439 days_late    0.0\n",
      "Name: 99, dtype: float64\n"
     ]
    },
    {
     "name": "stderr",
     "output_type": "stream",
     "text": [
      "/var/folders/ng/clzczwr96wz__2znzb2hjykr0000gn/T/ipykernel_10990/2290122452.py:4: SettingWithCopyWarning:\n",
      "\n",
      "\n",
      "A value is trying to be set on a copy of a slice from a DataFrame.\n",
      "Try using .loc[row_indexer,col_indexer] = value instead\n",
      "\n",
      "See the caveats in the documentation: https://pandas.pydata.org/pandas-docs/stable/user_guide/indexing.html#returning-a-view-versus-a-copy\n",
      "\n"
     ]
    },
    {
     "data": {
      "text/plain": "<Figure size 640x480 with 0 Axes>"
     },
     "metadata": {},
     "output_type": "display_data"
    }
   ],
   "source": [
    "valid_fig, details, distributions_fig, recommended_weights, MVEF_Clean2 = compiler(increment_size=.1,\n",
    "                                                                      mg='017',\n",
    "                                                                      cutoff_date=pd.to_datetime('2021-08-01', format='%Y-%m-%d')\n",
    "                                                                        )"
   ],
   "metadata": {
    "collapsed": false,
    "pycharm": {
     "name": "#%%\n"
    }
   }
  },
  {
   "cell_type": "code",
   "execution_count": 420,
   "outputs": [
    {
     "data": {
      "text/plain": "539850 days_late    0.4\n539861 days_late    0.6\n566041 days_late    0.0\n505439 days_late    0.0\nName: 99, dtype: float64"
     },
     "execution_count": 420,
     "metadata": {},
     "output_type": "execute_result"
    }
   ],
   "source": [
    "recommended_weights"
   ],
   "metadata": {
    "collapsed": false,
    "pycharm": {
     "name": "#%%\n"
    }
   }
  },
  {
   "cell_type": "code",
   "execution_count": 416,
   "outputs": [
    {
     "data": {
      "text/plain": "        Month  539850 days_late  578425 days_late  539861 days_late  \\\n43 2018-12-31          5.000000          0.000000               0.0   \n44 2019-01-31          5.000000          0.000000               0.0   \n25 2021-03-31          0.000000          1.217391               0.0   \n26 2021-04-30          2.666667          1.379310               0.0   \n27 2021-05-31          0.000000          2.900000               0.0   \n28 2021-06-30          0.000000          0.833333               0.0   \n29 2021-07-31          0.000000          4.111111               0.0   \n30 2021-08-31          1.555556          4.642857               0.0   \n31 2021-09-30          3.111111          0.214286               0.0   \n32 2021-10-31          4.666667          0.000000               0.0   \n33 2021-11-30          6.222222          0.117647               0.0   \n34 2021-12-31          7.777778          1.111111               0.0   \n35 2022-01-31          9.333333          3.818182               0.0   \n36 2022-02-28         10.888889          1.416667               0.0   \n37 2022-03-31         12.444444          0.909091               0.0   \n38 2022-04-30         14.000000          1.500000               0.0   \n39 2022-05-31          7.000000          1.125000               0.0   \n40 2022-06-30          0.000000          1.777778               0.0   \n41 2022-07-31          0.000000          1.250000               0.0   \n42 2022-08-31          0.000000          0.000000               0.0   \n\n    566041 days_late  505439 days_late  \n43          0.000000          0.130435  \n44          0.000000          0.130435  \n25          0.000000          0.312500  \n26          0.000000          1.894737  \n27          1.000000          3.333333  \n28          0.166667          6.606061  \n29          0.000000          4.076923  \n30          0.000000          9.294118  \n31          0.000000          3.612903  \n32          0.000000          5.160000  \n33          0.000000          3.500000  \n34          0.000000          0.062500  \n35          0.250000          1.100000  \n36          0.250000          1.388889  \n37          0.000000          1.027778  \n38          0.000000          0.666667  \n39          0.000000          0.642857  \n40          0.285714          1.636364  \n41          0.000000          2.368421  \n42          0.000000          0.130435  ",
      "text/html": "<div>\n<style scoped>\n    .dataframe tbody tr th:only-of-type {\n        vertical-align: middle;\n    }\n\n    .dataframe tbody tr th {\n        vertical-align: top;\n    }\n\n    .dataframe thead th {\n        text-align: right;\n    }\n</style>\n<table border=\"1\" class=\"dataframe\">\n  <thead>\n    <tr style=\"text-align: right;\">\n      <th></th>\n      <th>Month</th>\n      <th>539850 days_late</th>\n      <th>578425 days_late</th>\n      <th>539861 days_late</th>\n      <th>566041 days_late</th>\n      <th>505439 days_late</th>\n    </tr>\n  </thead>\n  <tbody>\n    <tr>\n      <th>43</th>\n      <td>2018-12-31</td>\n      <td>5.000000</td>\n      <td>0.000000</td>\n      <td>0.0</td>\n      <td>0.000000</td>\n      <td>0.130435</td>\n    </tr>\n    <tr>\n      <th>44</th>\n      <td>2019-01-31</td>\n      <td>5.000000</td>\n      <td>0.000000</td>\n      <td>0.0</td>\n      <td>0.000000</td>\n      <td>0.130435</td>\n    </tr>\n    <tr>\n      <th>25</th>\n      <td>2021-03-31</td>\n      <td>0.000000</td>\n      <td>1.217391</td>\n      <td>0.0</td>\n      <td>0.000000</td>\n      <td>0.312500</td>\n    </tr>\n    <tr>\n      <th>26</th>\n      <td>2021-04-30</td>\n      <td>2.666667</td>\n      <td>1.379310</td>\n      <td>0.0</td>\n      <td>0.000000</td>\n      <td>1.894737</td>\n    </tr>\n    <tr>\n      <th>27</th>\n      <td>2021-05-31</td>\n      <td>0.000000</td>\n      <td>2.900000</td>\n      <td>0.0</td>\n      <td>1.000000</td>\n      <td>3.333333</td>\n    </tr>\n    <tr>\n      <th>28</th>\n      <td>2021-06-30</td>\n      <td>0.000000</td>\n      <td>0.833333</td>\n      <td>0.0</td>\n      <td>0.166667</td>\n      <td>6.606061</td>\n    </tr>\n    <tr>\n      <th>29</th>\n      <td>2021-07-31</td>\n      <td>0.000000</td>\n      <td>4.111111</td>\n      <td>0.0</td>\n      <td>0.000000</td>\n      <td>4.076923</td>\n    </tr>\n    <tr>\n      <th>30</th>\n      <td>2021-08-31</td>\n      <td>1.555556</td>\n      <td>4.642857</td>\n      <td>0.0</td>\n      <td>0.000000</td>\n      <td>9.294118</td>\n    </tr>\n    <tr>\n      <th>31</th>\n      <td>2021-09-30</td>\n      <td>3.111111</td>\n      <td>0.214286</td>\n      <td>0.0</td>\n      <td>0.000000</td>\n      <td>3.612903</td>\n    </tr>\n    <tr>\n      <th>32</th>\n      <td>2021-10-31</td>\n      <td>4.666667</td>\n      <td>0.000000</td>\n      <td>0.0</td>\n      <td>0.000000</td>\n      <td>5.160000</td>\n    </tr>\n    <tr>\n      <th>33</th>\n      <td>2021-11-30</td>\n      <td>6.222222</td>\n      <td>0.117647</td>\n      <td>0.0</td>\n      <td>0.000000</td>\n      <td>3.500000</td>\n    </tr>\n    <tr>\n      <th>34</th>\n      <td>2021-12-31</td>\n      <td>7.777778</td>\n      <td>1.111111</td>\n      <td>0.0</td>\n      <td>0.000000</td>\n      <td>0.062500</td>\n    </tr>\n    <tr>\n      <th>35</th>\n      <td>2022-01-31</td>\n      <td>9.333333</td>\n      <td>3.818182</td>\n      <td>0.0</td>\n      <td>0.250000</td>\n      <td>1.100000</td>\n    </tr>\n    <tr>\n      <th>36</th>\n      <td>2022-02-28</td>\n      <td>10.888889</td>\n      <td>1.416667</td>\n      <td>0.0</td>\n      <td>0.250000</td>\n      <td>1.388889</td>\n    </tr>\n    <tr>\n      <th>37</th>\n      <td>2022-03-31</td>\n      <td>12.444444</td>\n      <td>0.909091</td>\n      <td>0.0</td>\n      <td>0.000000</td>\n      <td>1.027778</td>\n    </tr>\n    <tr>\n      <th>38</th>\n      <td>2022-04-30</td>\n      <td>14.000000</td>\n      <td>1.500000</td>\n      <td>0.0</td>\n      <td>0.000000</td>\n      <td>0.666667</td>\n    </tr>\n    <tr>\n      <th>39</th>\n      <td>2022-05-31</td>\n      <td>7.000000</td>\n      <td>1.125000</td>\n      <td>0.0</td>\n      <td>0.000000</td>\n      <td>0.642857</td>\n    </tr>\n    <tr>\n      <th>40</th>\n      <td>2022-06-30</td>\n      <td>0.000000</td>\n      <td>1.777778</td>\n      <td>0.0</td>\n      <td>0.285714</td>\n      <td>1.636364</td>\n    </tr>\n    <tr>\n      <th>41</th>\n      <td>2022-07-31</td>\n      <td>0.000000</td>\n      <td>1.250000</td>\n      <td>0.0</td>\n      <td>0.000000</td>\n      <td>2.368421</td>\n    </tr>\n    <tr>\n      <th>42</th>\n      <td>2022-08-31</td>\n      <td>0.000000</td>\n      <td>0.000000</td>\n      <td>0.0</td>\n      <td>0.000000</td>\n      <td>0.130435</td>\n    </tr>\n  </tbody>\n</table>\n</div>"
     },
     "execution_count": 416,
     "metadata": {},
     "output_type": "execute_result"
    }
   ],
   "source": [
    "MVEF_Clean2"
   ],
   "metadata": {
    "collapsed": false,
    "pycharm": {
     "name": "#%%\n"
    }
   }
  },
  {
   "cell_type": "code",
   "execution_count": 421,
   "outputs": [
    {
     "data": {
      "application/vnd.plotly.v1+json": {
       "data": [
        {
         "hovertemplate": "Label=Actual Supplier Mix<br>Month=%{x}<br>Total Late Days=%{y}<extra></extra>",
         "legendgroup": "Actual Supplier Mix",
         "line": {
          "color": "#636efa",
          "dash": "solid"
         },
         "marker": {
          "symbol": "circle"
         },
         "mode": "lines",
         "name": "Actual Supplier Mix",
         "orientation": "v",
         "showlegend": true,
         "x": [
          "2018-12-31T00:00:00",
          "2019-01-31T00:00:00",
          "2019-02-28T00:00:00",
          "2019-03-31T00:00:00",
          "2019-04-30T00:00:00",
          "2019-05-31T00:00:00",
          "2019-06-30T00:00:00",
          "2019-07-31T00:00:00",
          "2019-08-31T00:00:00",
          "2019-09-30T00:00:00",
          "2019-10-31T00:00:00",
          "2019-11-30T00:00:00",
          "2019-12-31T00:00:00",
          "2020-01-31T00:00:00",
          "2020-02-29T00:00:00",
          "2020-03-31T00:00:00",
          "2020-04-30T00:00:00",
          "2020-05-31T00:00:00",
          "2020-06-30T00:00:00",
          "2020-07-31T00:00:00",
          "2020-08-31T00:00:00",
          "2020-09-30T00:00:00",
          "2020-10-31T00:00:00",
          "2020-11-30T00:00:00",
          "2020-12-31T00:00:00",
          "2021-01-31T00:00:00",
          "2021-02-28T00:00:00",
          "2021-03-31T00:00:00",
          "2021-04-30T00:00:00",
          "2021-05-31T00:00:00",
          "2021-06-30T00:00:00",
          "2021-07-31T00:00:00",
          "2021-08-31T00:00:00",
          "2021-09-30T00:00:00",
          "2021-10-31T00:00:00",
          "2021-11-30T00:00:00",
          "2021-12-31T00:00:00",
          "2022-01-31T00:00:00",
          "2022-02-28T00:00:00",
          "2022-03-31T00:00:00",
          "2022-04-30T00:00:00",
          "2022-05-31T00:00:00",
          "2022-06-30T00:00:00",
          "2022-07-31T00:00:00",
          "2022-08-31T00:00:00"
         ],
         "xaxis": "x",
         "y": [
          5.0,
          0.0,
          18.900000000000002,
          17.599999999999998,
          15.833333333333334,
          34.53030303030303,
          87.125,
          161.50909090909093,
          91.42857142857143,
          18.629032258064516,
          15.370786516853933,
          44.23880597014925,
          30.507042253521128,
          22.296296296296294,
          3.259259259259259,
          4.042553191489362,
          0.0,
          8.852459016393443,
          18.0,
          0.0,
          10.64516129032258,
          1.7543859649122806,
          117.82978723404256,
          20.756756756756758,
          4.722222222222222,
          24.36,
          6.883720930232558,
          31.020000000000003,
          78.20689655172414,
          195.38028169014086,
          209.82456140350877,
          160.71428571428572,
          379.6875,
          105.08620689655173,
          118.02127659574468,
          51.25581395348837,
          19.6875,
          71.59649122807018,
          38.761904761904766,
          10.909090909090908,
          28.0,
          16.5,
          46.175438596491226,
          44.285714285714285,
          2.5227272727272725
         ],
         "yaxis": "y",
         "type": "scatter"
        },
        {
         "hovertemplate": "Label=Recommended Supplier Mix<br>Month=%{x}<br>Total Late Days=%{y}<extra></extra>",
         "legendgroup": "Recommended Supplier Mix",
         "line": {
          "color": "#EF553B",
          "dash": "solid"
         },
         "marker": {
          "symbol": "circle"
         },
         "mode": "lines",
         "name": "Recommended Supplier Mix",
         "orientation": "v",
         "showlegend": true,
         "x": [
          "2021-08-31T00:00:00",
          "2021-09-30T00:00:00",
          "2021-10-31T00:00:00",
          "2021-11-30T00:00:00",
          "2021-12-31T00:00:00",
          "2022-01-31T00:00:00",
          "2022-02-28T00:00:00",
          "2022-03-31T00:00:00",
          "2022-04-30T00:00:00",
          "2022-05-31T00:00:00",
          "2022-06-30T00:00:00",
          "2022-07-31T00:00:00",
          "2022-08-31T00:00:00"
         ],
         "xaxis": "x",
         "y": [
          37.333333333333336,
          65.95555555555556,
          80.26666666666668,
          94.57777777777778,
          140.0,
          197.8666666666667,
          161.15555555555557,
          99.55555555555556,
          95.2,
          92.4,
          0.0,
          0.0,
          0.0
         ],
         "yaxis": "y",
         "type": "scatter"
        }
       ],
       "layout": {
        "template": {
         "data": {
          "histogram2dcontour": [
           {
            "type": "histogram2dcontour",
            "colorbar": {
             "outlinewidth": 0,
             "ticks": ""
            },
            "colorscale": [
             [
              0.0,
              "#0d0887"
             ],
             [
              0.1111111111111111,
              "#46039f"
             ],
             [
              0.2222222222222222,
              "#7201a8"
             ],
             [
              0.3333333333333333,
              "#9c179e"
             ],
             [
              0.4444444444444444,
              "#bd3786"
             ],
             [
              0.5555555555555556,
              "#d8576b"
             ],
             [
              0.6666666666666666,
              "#ed7953"
             ],
             [
              0.7777777777777778,
              "#fb9f3a"
             ],
             [
              0.8888888888888888,
              "#fdca26"
             ],
             [
              1.0,
              "#f0f921"
             ]
            ]
           }
          ],
          "choropleth": [
           {
            "type": "choropleth",
            "colorbar": {
             "outlinewidth": 0,
             "ticks": ""
            }
           }
          ],
          "histogram2d": [
           {
            "type": "histogram2d",
            "colorbar": {
             "outlinewidth": 0,
             "ticks": ""
            },
            "colorscale": [
             [
              0.0,
              "#0d0887"
             ],
             [
              0.1111111111111111,
              "#46039f"
             ],
             [
              0.2222222222222222,
              "#7201a8"
             ],
             [
              0.3333333333333333,
              "#9c179e"
             ],
             [
              0.4444444444444444,
              "#bd3786"
             ],
             [
              0.5555555555555556,
              "#d8576b"
             ],
             [
              0.6666666666666666,
              "#ed7953"
             ],
             [
              0.7777777777777778,
              "#fb9f3a"
             ],
             [
              0.8888888888888888,
              "#fdca26"
             ],
             [
              1.0,
              "#f0f921"
             ]
            ]
           }
          ],
          "heatmap": [
           {
            "type": "heatmap",
            "colorbar": {
             "outlinewidth": 0,
             "ticks": ""
            },
            "colorscale": [
             [
              0.0,
              "#0d0887"
             ],
             [
              0.1111111111111111,
              "#46039f"
             ],
             [
              0.2222222222222222,
              "#7201a8"
             ],
             [
              0.3333333333333333,
              "#9c179e"
             ],
             [
              0.4444444444444444,
              "#bd3786"
             ],
             [
              0.5555555555555556,
              "#d8576b"
             ],
             [
              0.6666666666666666,
              "#ed7953"
             ],
             [
              0.7777777777777778,
              "#fb9f3a"
             ],
             [
              0.8888888888888888,
              "#fdca26"
             ],
             [
              1.0,
              "#f0f921"
             ]
            ]
           }
          ],
          "heatmapgl": [
           {
            "type": "heatmapgl",
            "colorbar": {
             "outlinewidth": 0,
             "ticks": ""
            },
            "colorscale": [
             [
              0.0,
              "#0d0887"
             ],
             [
              0.1111111111111111,
              "#46039f"
             ],
             [
              0.2222222222222222,
              "#7201a8"
             ],
             [
              0.3333333333333333,
              "#9c179e"
             ],
             [
              0.4444444444444444,
              "#bd3786"
             ],
             [
              0.5555555555555556,
              "#d8576b"
             ],
             [
              0.6666666666666666,
              "#ed7953"
             ],
             [
              0.7777777777777778,
              "#fb9f3a"
             ],
             [
              0.8888888888888888,
              "#fdca26"
             ],
             [
              1.0,
              "#f0f921"
             ]
            ]
           }
          ],
          "contourcarpet": [
           {
            "type": "contourcarpet",
            "colorbar": {
             "outlinewidth": 0,
             "ticks": ""
            }
           }
          ],
          "contour": [
           {
            "type": "contour",
            "colorbar": {
             "outlinewidth": 0,
             "ticks": ""
            },
            "colorscale": [
             [
              0.0,
              "#0d0887"
             ],
             [
              0.1111111111111111,
              "#46039f"
             ],
             [
              0.2222222222222222,
              "#7201a8"
             ],
             [
              0.3333333333333333,
              "#9c179e"
             ],
             [
              0.4444444444444444,
              "#bd3786"
             ],
             [
              0.5555555555555556,
              "#d8576b"
             ],
             [
              0.6666666666666666,
              "#ed7953"
             ],
             [
              0.7777777777777778,
              "#fb9f3a"
             ],
             [
              0.8888888888888888,
              "#fdca26"
             ],
             [
              1.0,
              "#f0f921"
             ]
            ]
           }
          ],
          "surface": [
           {
            "type": "surface",
            "colorbar": {
             "outlinewidth": 0,
             "ticks": ""
            },
            "colorscale": [
             [
              0.0,
              "#0d0887"
             ],
             [
              0.1111111111111111,
              "#46039f"
             ],
             [
              0.2222222222222222,
              "#7201a8"
             ],
             [
              0.3333333333333333,
              "#9c179e"
             ],
             [
              0.4444444444444444,
              "#bd3786"
             ],
             [
              0.5555555555555556,
              "#d8576b"
             ],
             [
              0.6666666666666666,
              "#ed7953"
             ],
             [
              0.7777777777777778,
              "#fb9f3a"
             ],
             [
              0.8888888888888888,
              "#fdca26"
             ],
             [
              1.0,
              "#f0f921"
             ]
            ]
           }
          ],
          "mesh3d": [
           {
            "type": "mesh3d",
            "colorbar": {
             "outlinewidth": 0,
             "ticks": ""
            }
           }
          ],
          "scatter": [
           {
            "fillpattern": {
             "fillmode": "overlay",
             "size": 10,
             "solidity": 0.2
            },
            "type": "scatter"
           }
          ],
          "parcoords": [
           {
            "type": "parcoords",
            "line": {
             "colorbar": {
              "outlinewidth": 0,
              "ticks": ""
             }
            }
           }
          ],
          "scatterpolargl": [
           {
            "type": "scatterpolargl",
            "marker": {
             "colorbar": {
              "outlinewidth": 0,
              "ticks": ""
             }
            }
           }
          ],
          "bar": [
           {
            "error_x": {
             "color": "#2a3f5f"
            },
            "error_y": {
             "color": "#2a3f5f"
            },
            "marker": {
             "line": {
              "color": "#E5ECF6",
              "width": 0.5
             },
             "pattern": {
              "fillmode": "overlay",
              "size": 10,
              "solidity": 0.2
             }
            },
            "type": "bar"
           }
          ],
          "scattergeo": [
           {
            "type": "scattergeo",
            "marker": {
             "colorbar": {
              "outlinewidth": 0,
              "ticks": ""
             }
            }
           }
          ],
          "scatterpolar": [
           {
            "type": "scatterpolar",
            "marker": {
             "colorbar": {
              "outlinewidth": 0,
              "ticks": ""
             }
            }
           }
          ],
          "histogram": [
           {
            "marker": {
             "pattern": {
              "fillmode": "overlay",
              "size": 10,
              "solidity": 0.2
             }
            },
            "type": "histogram"
           }
          ],
          "scattergl": [
           {
            "type": "scattergl",
            "marker": {
             "colorbar": {
              "outlinewidth": 0,
              "ticks": ""
             }
            }
           }
          ],
          "scatter3d": [
           {
            "type": "scatter3d",
            "line": {
             "colorbar": {
              "outlinewidth": 0,
              "ticks": ""
             }
            },
            "marker": {
             "colorbar": {
              "outlinewidth": 0,
              "ticks": ""
             }
            }
           }
          ],
          "scattermapbox": [
           {
            "type": "scattermapbox",
            "marker": {
             "colorbar": {
              "outlinewidth": 0,
              "ticks": ""
             }
            }
           }
          ],
          "scatterternary": [
           {
            "type": "scatterternary",
            "marker": {
             "colorbar": {
              "outlinewidth": 0,
              "ticks": ""
             }
            }
           }
          ],
          "scattercarpet": [
           {
            "type": "scattercarpet",
            "marker": {
             "colorbar": {
              "outlinewidth": 0,
              "ticks": ""
             }
            }
           }
          ],
          "carpet": [
           {
            "aaxis": {
             "endlinecolor": "#2a3f5f",
             "gridcolor": "white",
             "linecolor": "white",
             "minorgridcolor": "white",
             "startlinecolor": "#2a3f5f"
            },
            "baxis": {
             "endlinecolor": "#2a3f5f",
             "gridcolor": "white",
             "linecolor": "white",
             "minorgridcolor": "white",
             "startlinecolor": "#2a3f5f"
            },
            "type": "carpet"
           }
          ],
          "table": [
           {
            "cells": {
             "fill": {
              "color": "#EBF0F8"
             },
             "line": {
              "color": "white"
             }
            },
            "header": {
             "fill": {
              "color": "#C8D4E3"
             },
             "line": {
              "color": "white"
             }
            },
            "type": "table"
           }
          ],
          "barpolar": [
           {
            "marker": {
             "line": {
              "color": "#E5ECF6",
              "width": 0.5
             },
             "pattern": {
              "fillmode": "overlay",
              "size": 10,
              "solidity": 0.2
             }
            },
            "type": "barpolar"
           }
          ],
          "pie": [
           {
            "automargin": true,
            "type": "pie"
           }
          ]
         },
         "layout": {
          "autotypenumbers": "strict",
          "colorway": [
           "#636efa",
           "#EF553B",
           "#00cc96",
           "#ab63fa",
           "#FFA15A",
           "#19d3f3",
           "#FF6692",
           "#B6E880",
           "#FF97FF",
           "#FECB52"
          ],
          "font": {
           "color": "#2a3f5f"
          },
          "hovermode": "closest",
          "hoverlabel": {
           "align": "left"
          },
          "paper_bgcolor": "white",
          "plot_bgcolor": "#E5ECF6",
          "polar": {
           "bgcolor": "#E5ECF6",
           "angularaxis": {
            "gridcolor": "white",
            "linecolor": "white",
            "ticks": ""
           },
           "radialaxis": {
            "gridcolor": "white",
            "linecolor": "white",
            "ticks": ""
           }
          },
          "ternary": {
           "bgcolor": "#E5ECF6",
           "aaxis": {
            "gridcolor": "white",
            "linecolor": "white",
            "ticks": ""
           },
           "baxis": {
            "gridcolor": "white",
            "linecolor": "white",
            "ticks": ""
           },
           "caxis": {
            "gridcolor": "white",
            "linecolor": "white",
            "ticks": ""
           }
          },
          "coloraxis": {
           "colorbar": {
            "outlinewidth": 0,
            "ticks": ""
           }
          },
          "colorscale": {
           "sequential": [
            [
             0.0,
             "#0d0887"
            ],
            [
             0.1111111111111111,
             "#46039f"
            ],
            [
             0.2222222222222222,
             "#7201a8"
            ],
            [
             0.3333333333333333,
             "#9c179e"
            ],
            [
             0.4444444444444444,
             "#bd3786"
            ],
            [
             0.5555555555555556,
             "#d8576b"
            ],
            [
             0.6666666666666666,
             "#ed7953"
            ],
            [
             0.7777777777777778,
             "#fb9f3a"
            ],
            [
             0.8888888888888888,
             "#fdca26"
            ],
            [
             1.0,
             "#f0f921"
            ]
           ],
           "sequentialminus": [
            [
             0.0,
             "#0d0887"
            ],
            [
             0.1111111111111111,
             "#46039f"
            ],
            [
             0.2222222222222222,
             "#7201a8"
            ],
            [
             0.3333333333333333,
             "#9c179e"
            ],
            [
             0.4444444444444444,
             "#bd3786"
            ],
            [
             0.5555555555555556,
             "#d8576b"
            ],
            [
             0.6666666666666666,
             "#ed7953"
            ],
            [
             0.7777777777777778,
             "#fb9f3a"
            ],
            [
             0.8888888888888888,
             "#fdca26"
            ],
            [
             1.0,
             "#f0f921"
            ]
           ],
           "diverging": [
            [
             0,
             "#8e0152"
            ],
            [
             0.1,
             "#c51b7d"
            ],
            [
             0.2,
             "#de77ae"
            ],
            [
             0.3,
             "#f1b6da"
            ],
            [
             0.4,
             "#fde0ef"
            ],
            [
             0.5,
             "#f7f7f7"
            ],
            [
             0.6,
             "#e6f5d0"
            ],
            [
             0.7,
             "#b8e186"
            ],
            [
             0.8,
             "#7fbc41"
            ],
            [
             0.9,
             "#4d9221"
            ],
            [
             1,
             "#276419"
            ]
           ]
          },
          "xaxis": {
           "gridcolor": "white",
           "linecolor": "white",
           "ticks": "",
           "title": {
            "standoff": 15
           },
           "zerolinecolor": "white",
           "automargin": true,
           "zerolinewidth": 2
          },
          "yaxis": {
           "gridcolor": "white",
           "linecolor": "white",
           "ticks": "",
           "title": {
            "standoff": 15
           },
           "zerolinecolor": "white",
           "automargin": true,
           "zerolinewidth": 2
          },
          "scene": {
           "xaxis": {
            "backgroundcolor": "#E5ECF6",
            "gridcolor": "white",
            "linecolor": "white",
            "showbackground": true,
            "ticks": "",
            "zerolinecolor": "white",
            "gridwidth": 2
           },
           "yaxis": {
            "backgroundcolor": "#E5ECF6",
            "gridcolor": "white",
            "linecolor": "white",
            "showbackground": true,
            "ticks": "",
            "zerolinecolor": "white",
            "gridwidth": 2
           },
           "zaxis": {
            "backgroundcolor": "#E5ECF6",
            "gridcolor": "white",
            "linecolor": "white",
            "showbackground": true,
            "ticks": "",
            "zerolinecolor": "white",
            "gridwidth": 2
           }
          },
          "shapedefaults": {
           "line": {
            "color": "#2a3f5f"
           }
          },
          "annotationdefaults": {
           "arrowcolor": "#2a3f5f",
           "arrowhead": 0,
           "arrowwidth": 1
          },
          "geo": {
           "bgcolor": "white",
           "landcolor": "#E5ECF6",
           "subunitcolor": "white",
           "showland": true,
           "showlakes": true,
           "lakecolor": "white"
          },
          "title": {
           "x": 0.05
          },
          "mapbox": {
           "style": "light"
          }
         }
        },
        "xaxis": {
         "anchor": "y",
         "domain": [
          0.0,
          1.0
         ],
         "title": {
          "text": "Month"
         }
        },
        "yaxis": {
         "anchor": "x",
         "domain": [
          0.0,
          1.0
         ],
         "title": {
          "text": "Total Late Days"
         }
        },
        "legend": {
         "title": {
          "text": "Label"
         },
         "tracegroupgap": 0
        },
        "title": {
         "text": "Marginal improvement of using recommended supplier mix"
        },
        "width": 1200,
        "height": 600,
        "shapes": [
         {
          "type": "line",
          "x0": "2021-08-01T00:00:00",
          "x1": "2021-08-01T00:00:00",
          "xref": "x",
          "y0": 0,
          "y1": 1,
          "yref": "y domain"
         }
        ]
       },
       "config": {
        "plotlyServerURL": "https://plot.ly"
       }
      },
      "text/html": "<div>                            <div id=\"a16956c7-1837-4e53-83f1-fcde7e8dd03f\" class=\"plotly-graph-div\" style=\"height:600px; width:1200px;\"></div>            <script type=\"text/javascript\">                require([\"plotly\"], function(Plotly) {                    window.PLOTLYENV=window.PLOTLYENV || {};                                    if (document.getElementById(\"a16956c7-1837-4e53-83f1-fcde7e8dd03f\")) {                    Plotly.newPlot(                        \"a16956c7-1837-4e53-83f1-fcde7e8dd03f\",                        [{\"hovertemplate\":\"Label=Actual Supplier Mix<br>Month=%{x}<br>Total Late Days=%{y}<extra></extra>\",\"legendgroup\":\"Actual Supplier Mix\",\"line\":{\"color\":\"#636efa\",\"dash\":\"solid\"},\"marker\":{\"symbol\":\"circle\"},\"mode\":\"lines\",\"name\":\"Actual Supplier Mix\",\"orientation\":\"v\",\"showlegend\":true,\"x\":[\"2018-12-31T00:00:00\",\"2019-01-31T00:00:00\",\"2019-02-28T00:00:00\",\"2019-03-31T00:00:00\",\"2019-04-30T00:00:00\",\"2019-05-31T00:00:00\",\"2019-06-30T00:00:00\",\"2019-07-31T00:00:00\",\"2019-08-31T00:00:00\",\"2019-09-30T00:00:00\",\"2019-10-31T00:00:00\",\"2019-11-30T00:00:00\",\"2019-12-31T00:00:00\",\"2020-01-31T00:00:00\",\"2020-02-29T00:00:00\",\"2020-03-31T00:00:00\",\"2020-04-30T00:00:00\",\"2020-05-31T00:00:00\",\"2020-06-30T00:00:00\",\"2020-07-31T00:00:00\",\"2020-08-31T00:00:00\",\"2020-09-30T00:00:00\",\"2020-10-31T00:00:00\",\"2020-11-30T00:00:00\",\"2020-12-31T00:00:00\",\"2021-01-31T00:00:00\",\"2021-02-28T00:00:00\",\"2021-03-31T00:00:00\",\"2021-04-30T00:00:00\",\"2021-05-31T00:00:00\",\"2021-06-30T00:00:00\",\"2021-07-31T00:00:00\",\"2021-08-31T00:00:00\",\"2021-09-30T00:00:00\",\"2021-10-31T00:00:00\",\"2021-11-30T00:00:00\",\"2021-12-31T00:00:00\",\"2022-01-31T00:00:00\",\"2022-02-28T00:00:00\",\"2022-03-31T00:00:00\",\"2022-04-30T00:00:00\",\"2022-05-31T00:00:00\",\"2022-06-30T00:00:00\",\"2022-07-31T00:00:00\",\"2022-08-31T00:00:00\"],\"xaxis\":\"x\",\"y\":[5.0,0.0,18.900000000000002,17.599999999999998,15.833333333333334,34.53030303030303,87.125,161.50909090909093,91.42857142857143,18.629032258064516,15.370786516853933,44.23880597014925,30.507042253521128,22.296296296296294,3.259259259259259,4.042553191489362,0.0,8.852459016393443,18.0,0.0,10.64516129032258,1.7543859649122806,117.82978723404256,20.756756756756758,4.722222222222222,24.36,6.883720930232558,31.020000000000003,78.20689655172414,195.38028169014086,209.82456140350877,160.71428571428572,379.6875,105.08620689655173,118.02127659574468,51.25581395348837,19.6875,71.59649122807018,38.761904761904766,10.909090909090908,28.0,16.5,46.175438596491226,44.285714285714285,2.5227272727272725],\"yaxis\":\"y\",\"type\":\"scatter\"},{\"hovertemplate\":\"Label=Recommended Supplier Mix<br>Month=%{x}<br>Total Late Days=%{y}<extra></extra>\",\"legendgroup\":\"Recommended Supplier Mix\",\"line\":{\"color\":\"#EF553B\",\"dash\":\"solid\"},\"marker\":{\"symbol\":\"circle\"},\"mode\":\"lines\",\"name\":\"Recommended Supplier Mix\",\"orientation\":\"v\",\"showlegend\":true,\"x\":[\"2021-08-31T00:00:00\",\"2021-09-30T00:00:00\",\"2021-10-31T00:00:00\",\"2021-11-30T00:00:00\",\"2021-12-31T00:00:00\",\"2022-01-31T00:00:00\",\"2022-02-28T00:00:00\",\"2022-03-31T00:00:00\",\"2022-04-30T00:00:00\",\"2022-05-31T00:00:00\",\"2022-06-30T00:00:00\",\"2022-07-31T00:00:00\",\"2022-08-31T00:00:00\"],\"xaxis\":\"x\",\"y\":[37.333333333333336,65.95555555555556,80.26666666666668,94.57777777777778,140.0,197.8666666666667,161.15555555555557,99.55555555555556,95.2,92.4,0.0,0.0,0.0],\"yaxis\":\"y\",\"type\":\"scatter\"}],                        {\"template\":{\"data\":{\"histogram2dcontour\":[{\"type\":\"histogram2dcontour\",\"colorbar\":{\"outlinewidth\":0,\"ticks\":\"\"},\"colorscale\":[[0.0,\"#0d0887\"],[0.1111111111111111,\"#46039f\"],[0.2222222222222222,\"#7201a8\"],[0.3333333333333333,\"#9c179e\"],[0.4444444444444444,\"#bd3786\"],[0.5555555555555556,\"#d8576b\"],[0.6666666666666666,\"#ed7953\"],[0.7777777777777778,\"#fb9f3a\"],[0.8888888888888888,\"#fdca26\"],[1.0,\"#f0f921\"]]}],\"choropleth\":[{\"type\":\"choropleth\",\"colorbar\":{\"outlinewidth\":0,\"ticks\":\"\"}}],\"histogram2d\":[{\"type\":\"histogram2d\",\"colorbar\":{\"outlinewidth\":0,\"ticks\":\"\"},\"colorscale\":[[0.0,\"#0d0887\"],[0.1111111111111111,\"#46039f\"],[0.2222222222222222,\"#7201a8\"],[0.3333333333333333,\"#9c179e\"],[0.4444444444444444,\"#bd3786\"],[0.5555555555555556,\"#d8576b\"],[0.6666666666666666,\"#ed7953\"],[0.7777777777777778,\"#fb9f3a\"],[0.8888888888888888,\"#fdca26\"],[1.0,\"#f0f921\"]]}],\"heatmap\":[{\"type\":\"heatmap\",\"colorbar\":{\"outlinewidth\":0,\"ticks\":\"\"},\"colorscale\":[[0.0,\"#0d0887\"],[0.1111111111111111,\"#46039f\"],[0.2222222222222222,\"#7201a8\"],[0.3333333333333333,\"#9c179e\"],[0.4444444444444444,\"#bd3786\"],[0.5555555555555556,\"#d8576b\"],[0.6666666666666666,\"#ed7953\"],[0.7777777777777778,\"#fb9f3a\"],[0.8888888888888888,\"#fdca26\"],[1.0,\"#f0f921\"]]}],\"heatmapgl\":[{\"type\":\"heatmapgl\",\"colorbar\":{\"outlinewidth\":0,\"ticks\":\"\"},\"colorscale\":[[0.0,\"#0d0887\"],[0.1111111111111111,\"#46039f\"],[0.2222222222222222,\"#7201a8\"],[0.3333333333333333,\"#9c179e\"],[0.4444444444444444,\"#bd3786\"],[0.5555555555555556,\"#d8576b\"],[0.6666666666666666,\"#ed7953\"],[0.7777777777777778,\"#fb9f3a\"],[0.8888888888888888,\"#fdca26\"],[1.0,\"#f0f921\"]]}],\"contourcarpet\":[{\"type\":\"contourcarpet\",\"colorbar\":{\"outlinewidth\":0,\"ticks\":\"\"}}],\"contour\":[{\"type\":\"contour\",\"colorbar\":{\"outlinewidth\":0,\"ticks\":\"\"},\"colorscale\":[[0.0,\"#0d0887\"],[0.1111111111111111,\"#46039f\"],[0.2222222222222222,\"#7201a8\"],[0.3333333333333333,\"#9c179e\"],[0.4444444444444444,\"#bd3786\"],[0.5555555555555556,\"#d8576b\"],[0.6666666666666666,\"#ed7953\"],[0.7777777777777778,\"#fb9f3a\"],[0.8888888888888888,\"#fdca26\"],[1.0,\"#f0f921\"]]}],\"surface\":[{\"type\":\"surface\",\"colorbar\":{\"outlinewidth\":0,\"ticks\":\"\"},\"colorscale\":[[0.0,\"#0d0887\"],[0.1111111111111111,\"#46039f\"],[0.2222222222222222,\"#7201a8\"],[0.3333333333333333,\"#9c179e\"],[0.4444444444444444,\"#bd3786\"],[0.5555555555555556,\"#d8576b\"],[0.6666666666666666,\"#ed7953\"],[0.7777777777777778,\"#fb9f3a\"],[0.8888888888888888,\"#fdca26\"],[1.0,\"#f0f921\"]]}],\"mesh3d\":[{\"type\":\"mesh3d\",\"colorbar\":{\"outlinewidth\":0,\"ticks\":\"\"}}],\"scatter\":[{\"fillpattern\":{\"fillmode\":\"overlay\",\"size\":10,\"solidity\":0.2},\"type\":\"scatter\"}],\"parcoords\":[{\"type\":\"parcoords\",\"line\":{\"colorbar\":{\"outlinewidth\":0,\"ticks\":\"\"}}}],\"scatterpolargl\":[{\"type\":\"scatterpolargl\",\"marker\":{\"colorbar\":{\"outlinewidth\":0,\"ticks\":\"\"}}}],\"bar\":[{\"error_x\":{\"color\":\"#2a3f5f\"},\"error_y\":{\"color\":\"#2a3f5f\"},\"marker\":{\"line\":{\"color\":\"#E5ECF6\",\"width\":0.5},\"pattern\":{\"fillmode\":\"overlay\",\"size\":10,\"solidity\":0.2}},\"type\":\"bar\"}],\"scattergeo\":[{\"type\":\"scattergeo\",\"marker\":{\"colorbar\":{\"outlinewidth\":0,\"ticks\":\"\"}}}],\"scatterpolar\":[{\"type\":\"scatterpolar\",\"marker\":{\"colorbar\":{\"outlinewidth\":0,\"ticks\":\"\"}}}],\"histogram\":[{\"marker\":{\"pattern\":{\"fillmode\":\"overlay\",\"size\":10,\"solidity\":0.2}},\"type\":\"histogram\"}],\"scattergl\":[{\"type\":\"scattergl\",\"marker\":{\"colorbar\":{\"outlinewidth\":0,\"ticks\":\"\"}}}],\"scatter3d\":[{\"type\":\"scatter3d\",\"line\":{\"colorbar\":{\"outlinewidth\":0,\"ticks\":\"\"}},\"marker\":{\"colorbar\":{\"outlinewidth\":0,\"ticks\":\"\"}}}],\"scattermapbox\":[{\"type\":\"scattermapbox\",\"marker\":{\"colorbar\":{\"outlinewidth\":0,\"ticks\":\"\"}}}],\"scatterternary\":[{\"type\":\"scatterternary\",\"marker\":{\"colorbar\":{\"outlinewidth\":0,\"ticks\":\"\"}}}],\"scattercarpet\":[{\"type\":\"scattercarpet\",\"marker\":{\"colorbar\":{\"outlinewidth\":0,\"ticks\":\"\"}}}],\"carpet\":[{\"aaxis\":{\"endlinecolor\":\"#2a3f5f\",\"gridcolor\":\"white\",\"linecolor\":\"white\",\"minorgridcolor\":\"white\",\"startlinecolor\":\"#2a3f5f\"},\"baxis\":{\"endlinecolor\":\"#2a3f5f\",\"gridcolor\":\"white\",\"linecolor\":\"white\",\"minorgridcolor\":\"white\",\"startlinecolor\":\"#2a3f5f\"},\"type\":\"carpet\"}],\"table\":[{\"cells\":{\"fill\":{\"color\":\"#EBF0F8\"},\"line\":{\"color\":\"white\"}},\"header\":{\"fill\":{\"color\":\"#C8D4E3\"},\"line\":{\"color\":\"white\"}},\"type\":\"table\"}],\"barpolar\":[{\"marker\":{\"line\":{\"color\":\"#E5ECF6\",\"width\":0.5},\"pattern\":{\"fillmode\":\"overlay\",\"size\":10,\"solidity\":0.2}},\"type\":\"barpolar\"}],\"pie\":[{\"automargin\":true,\"type\":\"pie\"}]},\"layout\":{\"autotypenumbers\":\"strict\",\"colorway\":[\"#636efa\",\"#EF553B\",\"#00cc96\",\"#ab63fa\",\"#FFA15A\",\"#19d3f3\",\"#FF6692\",\"#B6E880\",\"#FF97FF\",\"#FECB52\"],\"font\":{\"color\":\"#2a3f5f\"},\"hovermode\":\"closest\",\"hoverlabel\":{\"align\":\"left\"},\"paper_bgcolor\":\"white\",\"plot_bgcolor\":\"#E5ECF6\",\"polar\":{\"bgcolor\":\"#E5ECF6\",\"angularaxis\":{\"gridcolor\":\"white\",\"linecolor\":\"white\",\"ticks\":\"\"},\"radialaxis\":{\"gridcolor\":\"white\",\"linecolor\":\"white\",\"ticks\":\"\"}},\"ternary\":{\"bgcolor\":\"#E5ECF6\",\"aaxis\":{\"gridcolor\":\"white\",\"linecolor\":\"white\",\"ticks\":\"\"},\"baxis\":{\"gridcolor\":\"white\",\"linecolor\":\"white\",\"ticks\":\"\"},\"caxis\":{\"gridcolor\":\"white\",\"linecolor\":\"white\",\"ticks\":\"\"}},\"coloraxis\":{\"colorbar\":{\"outlinewidth\":0,\"ticks\":\"\"}},\"colorscale\":{\"sequential\":[[0.0,\"#0d0887\"],[0.1111111111111111,\"#46039f\"],[0.2222222222222222,\"#7201a8\"],[0.3333333333333333,\"#9c179e\"],[0.4444444444444444,\"#bd3786\"],[0.5555555555555556,\"#d8576b\"],[0.6666666666666666,\"#ed7953\"],[0.7777777777777778,\"#fb9f3a\"],[0.8888888888888888,\"#fdca26\"],[1.0,\"#f0f921\"]],\"sequentialminus\":[[0.0,\"#0d0887\"],[0.1111111111111111,\"#46039f\"],[0.2222222222222222,\"#7201a8\"],[0.3333333333333333,\"#9c179e\"],[0.4444444444444444,\"#bd3786\"],[0.5555555555555556,\"#d8576b\"],[0.6666666666666666,\"#ed7953\"],[0.7777777777777778,\"#fb9f3a\"],[0.8888888888888888,\"#fdca26\"],[1.0,\"#f0f921\"]],\"diverging\":[[0,\"#8e0152\"],[0.1,\"#c51b7d\"],[0.2,\"#de77ae\"],[0.3,\"#f1b6da\"],[0.4,\"#fde0ef\"],[0.5,\"#f7f7f7\"],[0.6,\"#e6f5d0\"],[0.7,\"#b8e186\"],[0.8,\"#7fbc41\"],[0.9,\"#4d9221\"],[1,\"#276419\"]]},\"xaxis\":{\"gridcolor\":\"white\",\"linecolor\":\"white\",\"ticks\":\"\",\"title\":{\"standoff\":15},\"zerolinecolor\":\"white\",\"automargin\":true,\"zerolinewidth\":2},\"yaxis\":{\"gridcolor\":\"white\",\"linecolor\":\"white\",\"ticks\":\"\",\"title\":{\"standoff\":15},\"zerolinecolor\":\"white\",\"automargin\":true,\"zerolinewidth\":2},\"scene\":{\"xaxis\":{\"backgroundcolor\":\"#E5ECF6\",\"gridcolor\":\"white\",\"linecolor\":\"white\",\"showbackground\":true,\"ticks\":\"\",\"zerolinecolor\":\"white\",\"gridwidth\":2},\"yaxis\":{\"backgroundcolor\":\"#E5ECF6\",\"gridcolor\":\"white\",\"linecolor\":\"white\",\"showbackground\":true,\"ticks\":\"\",\"zerolinecolor\":\"white\",\"gridwidth\":2},\"zaxis\":{\"backgroundcolor\":\"#E5ECF6\",\"gridcolor\":\"white\",\"linecolor\":\"white\",\"showbackground\":true,\"ticks\":\"\",\"zerolinecolor\":\"white\",\"gridwidth\":2}},\"shapedefaults\":{\"line\":{\"color\":\"#2a3f5f\"}},\"annotationdefaults\":{\"arrowcolor\":\"#2a3f5f\",\"arrowhead\":0,\"arrowwidth\":1},\"geo\":{\"bgcolor\":\"white\",\"landcolor\":\"#E5ECF6\",\"subunitcolor\":\"white\",\"showland\":true,\"showlakes\":true,\"lakecolor\":\"white\"},\"title\":{\"x\":0.05},\"mapbox\":{\"style\":\"light\"}}},\"xaxis\":{\"anchor\":\"y\",\"domain\":[0.0,1.0],\"title\":{\"text\":\"Month\"}},\"yaxis\":{\"anchor\":\"x\",\"domain\":[0.0,1.0],\"title\":{\"text\":\"Total Late Days\"}},\"legend\":{\"title\":{\"text\":\"Label\"},\"tracegroupgap\":0},\"title\":{\"text\":\"Marginal improvement of using recommended supplier mix\"},\"width\":1200,\"height\":600,\"shapes\":[{\"type\":\"line\",\"x0\":\"2021-08-01T00:00:00\",\"x1\":\"2021-08-01T00:00:00\",\"xref\":\"x\",\"y0\":0,\"y1\":1,\"yref\":\"y domain\"}]},                        {\"responsive\": true}                    ).then(function(){\n                            \nvar gd = document.getElementById('a16956c7-1837-4e53-83f1-fcde7e8dd03f');\nvar x = new MutationObserver(function (mutations, observer) {{\n        var display = window.getComputedStyle(gd).display;\n        if (!display || display === 'none') {{\n            console.log([gd, 'removed!']);\n            Plotly.purge(gd);\n            observer.disconnect();\n        }}\n}});\n\n// Listen for the removal of the full notebook cells\nvar notebookContainer = gd.closest('#notebook-container');\nif (notebookContainer) {{\n    x.observe(notebookContainer, {childList: true});\n}}\n\n// Listen for the clearing of the current output cell\nvar outputEl = gd.closest('.output');\nif (outputEl) {{\n    x.observe(outputEl, {childList: true});\n}}\n\n                        })                };                });            </script>        </div>"
     },
     "metadata": {},
     "output_type": "display_data"
    }
   ],
   "source": [
    "valid_fig"
   ],
   "metadata": {
    "collapsed": false,
    "pycharm": {
     "name": "#%%\n"
    }
   }
  },
  {
   "cell_type": "code",
   "execution_count": 422,
   "outputs": [
    {
     "data": {
      "text/plain": "    MG       Date  Recommended Avg. Monthly Total Days Late  \\\n0  017 2021-08-01                                 81.870085   \n\n   Actual Avg. Monthly Total Days Late  \n0                            71.729974  ",
      "text/html": "<div>\n<style scoped>\n    .dataframe tbody tr th:only-of-type {\n        vertical-align: middle;\n    }\n\n    .dataframe tbody tr th {\n        vertical-align: top;\n    }\n\n    .dataframe thead th {\n        text-align: right;\n    }\n</style>\n<table border=\"1\" class=\"dataframe\">\n  <thead>\n    <tr style=\"text-align: right;\">\n      <th></th>\n      <th>MG</th>\n      <th>Date</th>\n      <th>Recommended Avg. Monthly Total Days Late</th>\n      <th>Actual Avg. Monthly Total Days Late</th>\n    </tr>\n  </thead>\n  <tbody>\n    <tr>\n      <th>0</th>\n      <td>017</td>\n      <td>2021-08-01</td>\n      <td>81.870085</td>\n      <td>71.729974</td>\n    </tr>\n  </tbody>\n</table>\n</div>"
     },
     "execution_count": 422,
     "metadata": {},
     "output_type": "execute_result"
    }
   ],
   "source": [
    "details"
   ],
   "metadata": {
    "collapsed": false,
    "pycharm": {
     "name": "#%%\n"
    }
   }
  },
  {
   "cell_type": "code",
   "execution_count": 526,
   "outputs": [
    {
     "data": {
      "application/vnd.plotly.v1+json": {
       "data": [
        {
         "hovertemplate": "Distribution=Suggested Supplier Mix<br>Z=%{x}<br>Probability=%{y}<extra></extra>",
         "legendgroup": "Suggested Supplier Mix",
         "line": {
          "color": "#636efa",
          "dash": "solid",
          "shape": "hvh"
         },
         "marker": {
          "symbol": "circle"
         },
         "mode": "lines",
         "name": "Suggested Supplier Mix",
         "orientation": "v",
         "showlegend": true,
         "x": [
          0.0,
          0.1,
          0.2,
          0.3,
          0.4,
          0.5,
          0.6,
          0.7,
          0.8,
          0.9,
          1.0,
          1.1,
          1.2,
          1.3,
          1.4,
          1.5,
          1.6,
          1.7,
          1.8,
          1.9,
          2.0
         ],
         "xaxis": "x",
         "y": [
          0.6666666666666666,
          0.0,
          0.0,
          0.0,
          0.0,
          0.0,
          0.23333333333333334,
          0.0,
          0.1,
          0.0,
          0.0,
          0.0,
          0.0,
          0.0,
          0.0,
          0.0,
          0.0,
          0.0,
          0.0,
          0.0,
          0.0
         ],
         "yaxis": "y",
         "type": "scatter"
        },
        {
         "hovertemplate": "Distribution=Actual Supplier Mix<br>Z=%{x}<br>Probability=%{y}<extra></extra>",
         "legendgroup": "Actual Supplier Mix",
         "line": {
          "color": "#EF553B",
          "dash": "solid",
          "shape": "hvh"
         },
         "marker": {
          "symbol": "circle"
         },
         "mode": "lines",
         "name": "Actual Supplier Mix",
         "orientation": "v",
         "showlegend": true,
         "x": [
          0.0,
          0.1,
          0.13,
          0.2,
          0.3,
          0.4,
          0.5,
          0.6,
          0.7,
          0.77,
          0.8,
          0.81,
          0.86,
          0.9,
          0.99,
          1.0,
          1.1,
          1.2,
          1.3,
          1.4,
          1.5,
          1.54,
          1.58,
          1.6,
          1.67,
          1.7,
          1.8,
          1.89,
          1.9,
          2.0
         ],
         "xaxis": "x",
         "y": [
          0.06666666666666667,
          0.0,
          0.06666666666666667,
          0.0,
          0.0,
          0.0,
          0.0,
          0.0,
          0.0,
          0.16666666666666666,
          0.0,
          0.03333333333333333,
          0.1,
          0.2,
          0.1,
          0.0,
          0.0,
          0.0,
          0.0,
          0.0,
          0.0,
          0.03333333333333333,
          0.06666666666666667,
          0.0,
          0.13333333333333333,
          0.0,
          0.0,
          0.03333333333333333,
          0.0,
          0.0
         ],
         "yaxis": "y",
         "type": "scatter"
        }
       ],
       "layout": {
        "template": {
         "data": {
          "histogram2dcontour": [
           {
            "type": "histogram2dcontour",
            "colorbar": {
             "outlinewidth": 0,
             "ticks": ""
            },
            "colorscale": [
             [
              0.0,
              "#0d0887"
             ],
             [
              0.1111111111111111,
              "#46039f"
             ],
             [
              0.2222222222222222,
              "#7201a8"
             ],
             [
              0.3333333333333333,
              "#9c179e"
             ],
             [
              0.4444444444444444,
              "#bd3786"
             ],
             [
              0.5555555555555556,
              "#d8576b"
             ],
             [
              0.6666666666666666,
              "#ed7953"
             ],
             [
              0.7777777777777778,
              "#fb9f3a"
             ],
             [
              0.8888888888888888,
              "#fdca26"
             ],
             [
              1.0,
              "#f0f921"
             ]
            ]
           }
          ],
          "choropleth": [
           {
            "type": "choropleth",
            "colorbar": {
             "outlinewidth": 0,
             "ticks": ""
            }
           }
          ],
          "histogram2d": [
           {
            "type": "histogram2d",
            "colorbar": {
             "outlinewidth": 0,
             "ticks": ""
            },
            "colorscale": [
             [
              0.0,
              "#0d0887"
             ],
             [
              0.1111111111111111,
              "#46039f"
             ],
             [
              0.2222222222222222,
              "#7201a8"
             ],
             [
              0.3333333333333333,
              "#9c179e"
             ],
             [
              0.4444444444444444,
              "#bd3786"
             ],
             [
              0.5555555555555556,
              "#d8576b"
             ],
             [
              0.6666666666666666,
              "#ed7953"
             ],
             [
              0.7777777777777778,
              "#fb9f3a"
             ],
             [
              0.8888888888888888,
              "#fdca26"
             ],
             [
              1.0,
              "#f0f921"
             ]
            ]
           }
          ],
          "heatmap": [
           {
            "type": "heatmap",
            "colorbar": {
             "outlinewidth": 0,
             "ticks": ""
            },
            "colorscale": [
             [
              0.0,
              "#0d0887"
             ],
             [
              0.1111111111111111,
              "#46039f"
             ],
             [
              0.2222222222222222,
              "#7201a8"
             ],
             [
              0.3333333333333333,
              "#9c179e"
             ],
             [
              0.4444444444444444,
              "#bd3786"
             ],
             [
              0.5555555555555556,
              "#d8576b"
             ],
             [
              0.6666666666666666,
              "#ed7953"
             ],
             [
              0.7777777777777778,
              "#fb9f3a"
             ],
             [
              0.8888888888888888,
              "#fdca26"
             ],
             [
              1.0,
              "#f0f921"
             ]
            ]
           }
          ],
          "heatmapgl": [
           {
            "type": "heatmapgl",
            "colorbar": {
             "outlinewidth": 0,
             "ticks": ""
            },
            "colorscale": [
             [
              0.0,
              "#0d0887"
             ],
             [
              0.1111111111111111,
              "#46039f"
             ],
             [
              0.2222222222222222,
              "#7201a8"
             ],
             [
              0.3333333333333333,
              "#9c179e"
             ],
             [
              0.4444444444444444,
              "#bd3786"
             ],
             [
              0.5555555555555556,
              "#d8576b"
             ],
             [
              0.6666666666666666,
              "#ed7953"
             ],
             [
              0.7777777777777778,
              "#fb9f3a"
             ],
             [
              0.8888888888888888,
              "#fdca26"
             ],
             [
              1.0,
              "#f0f921"
             ]
            ]
           }
          ],
          "contourcarpet": [
           {
            "type": "contourcarpet",
            "colorbar": {
             "outlinewidth": 0,
             "ticks": ""
            }
           }
          ],
          "contour": [
           {
            "type": "contour",
            "colorbar": {
             "outlinewidth": 0,
             "ticks": ""
            },
            "colorscale": [
             [
              0.0,
              "#0d0887"
             ],
             [
              0.1111111111111111,
              "#46039f"
             ],
             [
              0.2222222222222222,
              "#7201a8"
             ],
             [
              0.3333333333333333,
              "#9c179e"
             ],
             [
              0.4444444444444444,
              "#bd3786"
             ],
             [
              0.5555555555555556,
              "#d8576b"
             ],
             [
              0.6666666666666666,
              "#ed7953"
             ],
             [
              0.7777777777777778,
              "#fb9f3a"
             ],
             [
              0.8888888888888888,
              "#fdca26"
             ],
             [
              1.0,
              "#f0f921"
             ]
            ]
           }
          ],
          "surface": [
           {
            "type": "surface",
            "colorbar": {
             "outlinewidth": 0,
             "ticks": ""
            },
            "colorscale": [
             [
              0.0,
              "#0d0887"
             ],
             [
              0.1111111111111111,
              "#46039f"
             ],
             [
              0.2222222222222222,
              "#7201a8"
             ],
             [
              0.3333333333333333,
              "#9c179e"
             ],
             [
              0.4444444444444444,
              "#bd3786"
             ],
             [
              0.5555555555555556,
              "#d8576b"
             ],
             [
              0.6666666666666666,
              "#ed7953"
             ],
             [
              0.7777777777777778,
              "#fb9f3a"
             ],
             [
              0.8888888888888888,
              "#fdca26"
             ],
             [
              1.0,
              "#f0f921"
             ]
            ]
           }
          ],
          "mesh3d": [
           {
            "type": "mesh3d",
            "colorbar": {
             "outlinewidth": 0,
             "ticks": ""
            }
           }
          ],
          "scatter": [
           {
            "fillpattern": {
             "fillmode": "overlay",
             "size": 10,
             "solidity": 0.2
            },
            "type": "scatter"
           }
          ],
          "parcoords": [
           {
            "type": "parcoords",
            "line": {
             "colorbar": {
              "outlinewidth": 0,
              "ticks": ""
             }
            }
           }
          ],
          "scatterpolargl": [
           {
            "type": "scatterpolargl",
            "marker": {
             "colorbar": {
              "outlinewidth": 0,
              "ticks": ""
             }
            }
           }
          ],
          "bar": [
           {
            "error_x": {
             "color": "#2a3f5f"
            },
            "error_y": {
             "color": "#2a3f5f"
            },
            "marker": {
             "line": {
              "color": "#E5ECF6",
              "width": 0.5
             },
             "pattern": {
              "fillmode": "overlay",
              "size": 10,
              "solidity": 0.2
             }
            },
            "type": "bar"
           }
          ],
          "scattergeo": [
           {
            "type": "scattergeo",
            "marker": {
             "colorbar": {
              "outlinewidth": 0,
              "ticks": ""
             }
            }
           }
          ],
          "scatterpolar": [
           {
            "type": "scatterpolar",
            "marker": {
             "colorbar": {
              "outlinewidth": 0,
              "ticks": ""
             }
            }
           }
          ],
          "histogram": [
           {
            "marker": {
             "pattern": {
              "fillmode": "overlay",
              "size": 10,
              "solidity": 0.2
             }
            },
            "type": "histogram"
           }
          ],
          "scattergl": [
           {
            "type": "scattergl",
            "marker": {
             "colorbar": {
              "outlinewidth": 0,
              "ticks": ""
             }
            }
           }
          ],
          "scatter3d": [
           {
            "type": "scatter3d",
            "line": {
             "colorbar": {
              "outlinewidth": 0,
              "ticks": ""
             }
            },
            "marker": {
             "colorbar": {
              "outlinewidth": 0,
              "ticks": ""
             }
            }
           }
          ],
          "scattermapbox": [
           {
            "type": "scattermapbox",
            "marker": {
             "colorbar": {
              "outlinewidth": 0,
              "ticks": ""
             }
            }
           }
          ],
          "scatterternary": [
           {
            "type": "scatterternary",
            "marker": {
             "colorbar": {
              "outlinewidth": 0,
              "ticks": ""
             }
            }
           }
          ],
          "scattercarpet": [
           {
            "type": "scattercarpet",
            "marker": {
             "colorbar": {
              "outlinewidth": 0,
              "ticks": ""
             }
            }
           }
          ],
          "carpet": [
           {
            "aaxis": {
             "endlinecolor": "#2a3f5f",
             "gridcolor": "white",
             "linecolor": "white",
             "minorgridcolor": "white",
             "startlinecolor": "#2a3f5f"
            },
            "baxis": {
             "endlinecolor": "#2a3f5f",
             "gridcolor": "white",
             "linecolor": "white",
             "minorgridcolor": "white",
             "startlinecolor": "#2a3f5f"
            },
            "type": "carpet"
           }
          ],
          "table": [
           {
            "cells": {
             "fill": {
              "color": "#EBF0F8"
             },
             "line": {
              "color": "white"
             }
            },
            "header": {
             "fill": {
              "color": "#C8D4E3"
             },
             "line": {
              "color": "white"
             }
            },
            "type": "table"
           }
          ],
          "barpolar": [
           {
            "marker": {
             "line": {
              "color": "#E5ECF6",
              "width": 0.5
             },
             "pattern": {
              "fillmode": "overlay",
              "size": 10,
              "solidity": 0.2
             }
            },
            "type": "barpolar"
           }
          ],
          "pie": [
           {
            "automargin": true,
            "type": "pie"
           }
          ]
         },
         "layout": {
          "autotypenumbers": "strict",
          "colorway": [
           "#636efa",
           "#EF553B",
           "#00cc96",
           "#ab63fa",
           "#FFA15A",
           "#19d3f3",
           "#FF6692",
           "#B6E880",
           "#FF97FF",
           "#FECB52"
          ],
          "font": {
           "color": "#2a3f5f"
          },
          "hovermode": "closest",
          "hoverlabel": {
           "align": "left"
          },
          "paper_bgcolor": "white",
          "plot_bgcolor": "#E5ECF6",
          "polar": {
           "bgcolor": "#E5ECF6",
           "angularaxis": {
            "gridcolor": "white",
            "linecolor": "white",
            "ticks": ""
           },
           "radialaxis": {
            "gridcolor": "white",
            "linecolor": "white",
            "ticks": ""
           }
          },
          "ternary": {
           "bgcolor": "#E5ECF6",
           "aaxis": {
            "gridcolor": "white",
            "linecolor": "white",
            "ticks": ""
           },
           "baxis": {
            "gridcolor": "white",
            "linecolor": "white",
            "ticks": ""
           },
           "caxis": {
            "gridcolor": "white",
            "linecolor": "white",
            "ticks": ""
           }
          },
          "coloraxis": {
           "colorbar": {
            "outlinewidth": 0,
            "ticks": ""
           }
          },
          "colorscale": {
           "sequential": [
            [
             0.0,
             "#0d0887"
            ],
            [
             0.1111111111111111,
             "#46039f"
            ],
            [
             0.2222222222222222,
             "#7201a8"
            ],
            [
             0.3333333333333333,
             "#9c179e"
            ],
            [
             0.4444444444444444,
             "#bd3786"
            ],
            [
             0.5555555555555556,
             "#d8576b"
            ],
            [
             0.6666666666666666,
             "#ed7953"
            ],
            [
             0.7777777777777778,
             "#fb9f3a"
            ],
            [
             0.8888888888888888,
             "#fdca26"
            ],
            [
             1.0,
             "#f0f921"
            ]
           ],
           "sequentialminus": [
            [
             0.0,
             "#0d0887"
            ],
            [
             0.1111111111111111,
             "#46039f"
            ],
            [
             0.2222222222222222,
             "#7201a8"
            ],
            [
             0.3333333333333333,
             "#9c179e"
            ],
            [
             0.4444444444444444,
             "#bd3786"
            ],
            [
             0.5555555555555556,
             "#d8576b"
            ],
            [
             0.6666666666666666,
             "#ed7953"
            ],
            [
             0.7777777777777778,
             "#fb9f3a"
            ],
            [
             0.8888888888888888,
             "#fdca26"
            ],
            [
             1.0,
             "#f0f921"
            ]
           ],
           "diverging": [
            [
             0,
             "#8e0152"
            ],
            [
             0.1,
             "#c51b7d"
            ],
            [
             0.2,
             "#de77ae"
            ],
            [
             0.3,
             "#f1b6da"
            ],
            [
             0.4,
             "#fde0ef"
            ],
            [
             0.5,
             "#f7f7f7"
            ],
            [
             0.6,
             "#e6f5d0"
            ],
            [
             0.7,
             "#b8e186"
            ],
            [
             0.8,
             "#7fbc41"
            ],
            [
             0.9,
             "#4d9221"
            ],
            [
             1,
             "#276419"
            ]
           ]
          },
          "xaxis": {
           "gridcolor": "white",
           "linecolor": "white",
           "ticks": "",
           "title": {
            "standoff": 15
           },
           "zerolinecolor": "white",
           "automargin": true,
           "zerolinewidth": 2
          },
          "yaxis": {
           "gridcolor": "white",
           "linecolor": "white",
           "ticks": "",
           "title": {
            "standoff": 15
           },
           "zerolinecolor": "white",
           "automargin": true,
           "zerolinewidth": 2
          },
          "scene": {
           "xaxis": {
            "backgroundcolor": "#E5ECF6",
            "gridcolor": "white",
            "linecolor": "white",
            "showbackground": true,
            "ticks": "",
            "zerolinecolor": "white",
            "gridwidth": 2
           },
           "yaxis": {
            "backgroundcolor": "#E5ECF6",
            "gridcolor": "white",
            "linecolor": "white",
            "showbackground": true,
            "ticks": "",
            "zerolinecolor": "white",
            "gridwidth": 2
           },
           "zaxis": {
            "backgroundcolor": "#E5ECF6",
            "gridcolor": "white",
            "linecolor": "white",
            "showbackground": true,
            "ticks": "",
            "zerolinecolor": "white",
            "gridwidth": 2
           }
          },
          "shapedefaults": {
           "line": {
            "color": "#2a3f5f"
           }
          },
          "annotationdefaults": {
           "arrowcolor": "#2a3f5f",
           "arrowhead": 0,
           "arrowwidth": 1
          },
          "geo": {
           "bgcolor": "white",
           "landcolor": "#E5ECF6",
           "subunitcolor": "white",
           "showland": true,
           "showlakes": true,
           "lakecolor": "white"
          },
          "title": {
           "x": 0.05
          },
          "mapbox": {
           "style": "light"
          }
         }
        },
        "xaxis": {
         "anchor": "y",
         "domain": [
          0.0,
          1.0
         ],
         "title": {
          "text": "Average Order Cost"
         }
        },
        "yaxis": {
         "anchor": "x",
         "domain": [
          0.0,
          1.0
         ],
         "title": {
          "text": "Probability"
         }
        },
        "legend": {
         "title": {
          "text": "Distribution"
         },
         "tracegroupgap": 0
        },
        "title": {
         "text": "Probability Distribution of Average Order Cost"
        },
        "width": 1200,
        "height": 600
       },
       "config": {
        "plotlyServerURL": "https://plot.ly"
       }
      },
      "text/html": "<div>                            <div id=\"4f70ede2-91f6-4161-acc7-81d92fc70af5\" class=\"plotly-graph-div\" style=\"height:600px; width:1200px;\"></div>            <script type=\"text/javascript\">                require([\"plotly\"], function(Plotly) {                    window.PLOTLYENV=window.PLOTLYENV || {};                                    if (document.getElementById(\"4f70ede2-91f6-4161-acc7-81d92fc70af5\")) {                    Plotly.newPlot(                        \"4f70ede2-91f6-4161-acc7-81d92fc70af5\",                        [{\"hovertemplate\":\"Distribution=Suggested Supplier Mix<br>Z=%{x}<br>Probability=%{y}<extra></extra>\",\"legendgroup\":\"Suggested Supplier Mix\",\"line\":{\"color\":\"#636efa\",\"dash\":\"solid\",\"shape\":\"hvh\"},\"marker\":{\"symbol\":\"circle\"},\"mode\":\"lines\",\"name\":\"Suggested Supplier Mix\",\"orientation\":\"v\",\"showlegend\":true,\"x\":[0.0,0.1,0.2,0.3,0.4,0.5,0.6,0.7,0.8,0.9,1.0,1.1,1.2,1.3,1.4,1.5,1.6,1.7,1.8,1.9,2.0],\"xaxis\":\"x\",\"y\":[0.6666666666666666,0.0,0.0,0.0,0.0,0.0,0.23333333333333334,0.0,0.1,0.0,0.0,0.0,0.0,0.0,0.0,0.0,0.0,0.0,0.0,0.0,0.0],\"yaxis\":\"y\",\"type\":\"scatter\"},{\"hovertemplate\":\"Distribution=Actual Supplier Mix<br>Z=%{x}<br>Probability=%{y}<extra></extra>\",\"legendgroup\":\"Actual Supplier Mix\",\"line\":{\"color\":\"#EF553B\",\"dash\":\"solid\",\"shape\":\"hvh\"},\"marker\":{\"symbol\":\"circle\"},\"mode\":\"lines\",\"name\":\"Actual Supplier Mix\",\"orientation\":\"v\",\"showlegend\":true,\"x\":[0.0,0.1,0.13,0.2,0.3,0.4,0.5,0.6,0.7,0.77,0.8,0.81,0.86,0.9,0.99,1.0,1.1,1.2,1.3,1.4,1.5,1.54,1.58,1.6,1.67,1.7,1.8,1.89,1.9,2.0],\"xaxis\":\"x\",\"y\":[0.06666666666666667,0.0,0.06666666666666667,0.0,0.0,0.0,0.0,0.0,0.0,0.16666666666666666,0.0,0.03333333333333333,0.1,0.2,0.1,0.0,0.0,0.0,0.0,0.0,0.0,0.03333333333333333,0.06666666666666667,0.0,0.13333333333333333,0.0,0.0,0.03333333333333333,0.0,0.0],\"yaxis\":\"y\",\"type\":\"scatter\"}],                        {\"template\":{\"data\":{\"histogram2dcontour\":[{\"type\":\"histogram2dcontour\",\"colorbar\":{\"outlinewidth\":0,\"ticks\":\"\"},\"colorscale\":[[0.0,\"#0d0887\"],[0.1111111111111111,\"#46039f\"],[0.2222222222222222,\"#7201a8\"],[0.3333333333333333,\"#9c179e\"],[0.4444444444444444,\"#bd3786\"],[0.5555555555555556,\"#d8576b\"],[0.6666666666666666,\"#ed7953\"],[0.7777777777777778,\"#fb9f3a\"],[0.8888888888888888,\"#fdca26\"],[1.0,\"#f0f921\"]]}],\"choropleth\":[{\"type\":\"choropleth\",\"colorbar\":{\"outlinewidth\":0,\"ticks\":\"\"}}],\"histogram2d\":[{\"type\":\"histogram2d\",\"colorbar\":{\"outlinewidth\":0,\"ticks\":\"\"},\"colorscale\":[[0.0,\"#0d0887\"],[0.1111111111111111,\"#46039f\"],[0.2222222222222222,\"#7201a8\"],[0.3333333333333333,\"#9c179e\"],[0.4444444444444444,\"#bd3786\"],[0.5555555555555556,\"#d8576b\"],[0.6666666666666666,\"#ed7953\"],[0.7777777777777778,\"#fb9f3a\"],[0.8888888888888888,\"#fdca26\"],[1.0,\"#f0f921\"]]}],\"heatmap\":[{\"type\":\"heatmap\",\"colorbar\":{\"outlinewidth\":0,\"ticks\":\"\"},\"colorscale\":[[0.0,\"#0d0887\"],[0.1111111111111111,\"#46039f\"],[0.2222222222222222,\"#7201a8\"],[0.3333333333333333,\"#9c179e\"],[0.4444444444444444,\"#bd3786\"],[0.5555555555555556,\"#d8576b\"],[0.6666666666666666,\"#ed7953\"],[0.7777777777777778,\"#fb9f3a\"],[0.8888888888888888,\"#fdca26\"],[1.0,\"#f0f921\"]]}],\"heatmapgl\":[{\"type\":\"heatmapgl\",\"colorbar\":{\"outlinewidth\":0,\"ticks\":\"\"},\"colorscale\":[[0.0,\"#0d0887\"],[0.1111111111111111,\"#46039f\"],[0.2222222222222222,\"#7201a8\"],[0.3333333333333333,\"#9c179e\"],[0.4444444444444444,\"#bd3786\"],[0.5555555555555556,\"#d8576b\"],[0.6666666666666666,\"#ed7953\"],[0.7777777777777778,\"#fb9f3a\"],[0.8888888888888888,\"#fdca26\"],[1.0,\"#f0f921\"]]}],\"contourcarpet\":[{\"type\":\"contourcarpet\",\"colorbar\":{\"outlinewidth\":0,\"ticks\":\"\"}}],\"contour\":[{\"type\":\"contour\",\"colorbar\":{\"outlinewidth\":0,\"ticks\":\"\"},\"colorscale\":[[0.0,\"#0d0887\"],[0.1111111111111111,\"#46039f\"],[0.2222222222222222,\"#7201a8\"],[0.3333333333333333,\"#9c179e\"],[0.4444444444444444,\"#bd3786\"],[0.5555555555555556,\"#d8576b\"],[0.6666666666666666,\"#ed7953\"],[0.7777777777777778,\"#fb9f3a\"],[0.8888888888888888,\"#fdca26\"],[1.0,\"#f0f921\"]]}],\"surface\":[{\"type\":\"surface\",\"colorbar\":{\"outlinewidth\":0,\"ticks\":\"\"},\"colorscale\":[[0.0,\"#0d0887\"],[0.1111111111111111,\"#46039f\"],[0.2222222222222222,\"#7201a8\"],[0.3333333333333333,\"#9c179e\"],[0.4444444444444444,\"#bd3786\"],[0.5555555555555556,\"#d8576b\"],[0.6666666666666666,\"#ed7953\"],[0.7777777777777778,\"#fb9f3a\"],[0.8888888888888888,\"#fdca26\"],[1.0,\"#f0f921\"]]}],\"mesh3d\":[{\"type\":\"mesh3d\",\"colorbar\":{\"outlinewidth\":0,\"ticks\":\"\"}}],\"scatter\":[{\"fillpattern\":{\"fillmode\":\"overlay\",\"size\":10,\"solidity\":0.2},\"type\":\"scatter\"}],\"parcoords\":[{\"type\":\"parcoords\",\"line\":{\"colorbar\":{\"outlinewidth\":0,\"ticks\":\"\"}}}],\"scatterpolargl\":[{\"type\":\"scatterpolargl\",\"marker\":{\"colorbar\":{\"outlinewidth\":0,\"ticks\":\"\"}}}],\"bar\":[{\"error_x\":{\"color\":\"#2a3f5f\"},\"error_y\":{\"color\":\"#2a3f5f\"},\"marker\":{\"line\":{\"color\":\"#E5ECF6\",\"width\":0.5},\"pattern\":{\"fillmode\":\"overlay\",\"size\":10,\"solidity\":0.2}},\"type\":\"bar\"}],\"scattergeo\":[{\"type\":\"scattergeo\",\"marker\":{\"colorbar\":{\"outlinewidth\":0,\"ticks\":\"\"}}}],\"scatterpolar\":[{\"type\":\"scatterpolar\",\"marker\":{\"colorbar\":{\"outlinewidth\":0,\"ticks\":\"\"}}}],\"histogram\":[{\"marker\":{\"pattern\":{\"fillmode\":\"overlay\",\"size\":10,\"solidity\":0.2}},\"type\":\"histogram\"}],\"scattergl\":[{\"type\":\"scattergl\",\"marker\":{\"colorbar\":{\"outlinewidth\":0,\"ticks\":\"\"}}}],\"scatter3d\":[{\"type\":\"scatter3d\",\"line\":{\"colorbar\":{\"outlinewidth\":0,\"ticks\":\"\"}},\"marker\":{\"colorbar\":{\"outlinewidth\":0,\"ticks\":\"\"}}}],\"scattermapbox\":[{\"type\":\"scattermapbox\",\"marker\":{\"colorbar\":{\"outlinewidth\":0,\"ticks\":\"\"}}}],\"scatterternary\":[{\"type\":\"scatterternary\",\"marker\":{\"colorbar\":{\"outlinewidth\":0,\"ticks\":\"\"}}}],\"scattercarpet\":[{\"type\":\"scattercarpet\",\"marker\":{\"colorbar\":{\"outlinewidth\":0,\"ticks\":\"\"}}}],\"carpet\":[{\"aaxis\":{\"endlinecolor\":\"#2a3f5f\",\"gridcolor\":\"white\",\"linecolor\":\"white\",\"minorgridcolor\":\"white\",\"startlinecolor\":\"#2a3f5f\"},\"baxis\":{\"endlinecolor\":\"#2a3f5f\",\"gridcolor\":\"white\",\"linecolor\":\"white\",\"minorgridcolor\":\"white\",\"startlinecolor\":\"#2a3f5f\"},\"type\":\"carpet\"}],\"table\":[{\"cells\":{\"fill\":{\"color\":\"#EBF0F8\"},\"line\":{\"color\":\"white\"}},\"header\":{\"fill\":{\"color\":\"#C8D4E3\"},\"line\":{\"color\":\"white\"}},\"type\":\"table\"}],\"barpolar\":[{\"marker\":{\"line\":{\"color\":\"#E5ECF6\",\"width\":0.5},\"pattern\":{\"fillmode\":\"overlay\",\"size\":10,\"solidity\":0.2}},\"type\":\"barpolar\"}],\"pie\":[{\"automargin\":true,\"type\":\"pie\"}]},\"layout\":{\"autotypenumbers\":\"strict\",\"colorway\":[\"#636efa\",\"#EF553B\",\"#00cc96\",\"#ab63fa\",\"#FFA15A\",\"#19d3f3\",\"#FF6692\",\"#B6E880\",\"#FF97FF\",\"#FECB52\"],\"font\":{\"color\":\"#2a3f5f\"},\"hovermode\":\"closest\",\"hoverlabel\":{\"align\":\"left\"},\"paper_bgcolor\":\"white\",\"plot_bgcolor\":\"#E5ECF6\",\"polar\":{\"bgcolor\":\"#E5ECF6\",\"angularaxis\":{\"gridcolor\":\"white\",\"linecolor\":\"white\",\"ticks\":\"\"},\"radialaxis\":{\"gridcolor\":\"white\",\"linecolor\":\"white\",\"ticks\":\"\"}},\"ternary\":{\"bgcolor\":\"#E5ECF6\",\"aaxis\":{\"gridcolor\":\"white\",\"linecolor\":\"white\",\"ticks\":\"\"},\"baxis\":{\"gridcolor\":\"white\",\"linecolor\":\"white\",\"ticks\":\"\"},\"caxis\":{\"gridcolor\":\"white\",\"linecolor\":\"white\",\"ticks\":\"\"}},\"coloraxis\":{\"colorbar\":{\"outlinewidth\":0,\"ticks\":\"\"}},\"colorscale\":{\"sequential\":[[0.0,\"#0d0887\"],[0.1111111111111111,\"#46039f\"],[0.2222222222222222,\"#7201a8\"],[0.3333333333333333,\"#9c179e\"],[0.4444444444444444,\"#bd3786\"],[0.5555555555555556,\"#d8576b\"],[0.6666666666666666,\"#ed7953\"],[0.7777777777777778,\"#fb9f3a\"],[0.8888888888888888,\"#fdca26\"],[1.0,\"#f0f921\"]],\"sequentialminus\":[[0.0,\"#0d0887\"],[0.1111111111111111,\"#46039f\"],[0.2222222222222222,\"#7201a8\"],[0.3333333333333333,\"#9c179e\"],[0.4444444444444444,\"#bd3786\"],[0.5555555555555556,\"#d8576b\"],[0.6666666666666666,\"#ed7953\"],[0.7777777777777778,\"#fb9f3a\"],[0.8888888888888888,\"#fdca26\"],[1.0,\"#f0f921\"]],\"diverging\":[[0,\"#8e0152\"],[0.1,\"#c51b7d\"],[0.2,\"#de77ae\"],[0.3,\"#f1b6da\"],[0.4,\"#fde0ef\"],[0.5,\"#f7f7f7\"],[0.6,\"#e6f5d0\"],[0.7,\"#b8e186\"],[0.8,\"#7fbc41\"],[0.9,\"#4d9221\"],[1,\"#276419\"]]},\"xaxis\":{\"gridcolor\":\"white\",\"linecolor\":\"white\",\"ticks\":\"\",\"title\":{\"standoff\":15},\"zerolinecolor\":\"white\",\"automargin\":true,\"zerolinewidth\":2},\"yaxis\":{\"gridcolor\":\"white\",\"linecolor\":\"white\",\"ticks\":\"\",\"title\":{\"standoff\":15},\"zerolinecolor\":\"white\",\"automargin\":true,\"zerolinewidth\":2},\"scene\":{\"xaxis\":{\"backgroundcolor\":\"#E5ECF6\",\"gridcolor\":\"white\",\"linecolor\":\"white\",\"showbackground\":true,\"ticks\":\"\",\"zerolinecolor\":\"white\",\"gridwidth\":2},\"yaxis\":{\"backgroundcolor\":\"#E5ECF6\",\"gridcolor\":\"white\",\"linecolor\":\"white\",\"showbackground\":true,\"ticks\":\"\",\"zerolinecolor\":\"white\",\"gridwidth\":2},\"zaxis\":{\"backgroundcolor\":\"#E5ECF6\",\"gridcolor\":\"white\",\"linecolor\":\"white\",\"showbackground\":true,\"ticks\":\"\",\"zerolinecolor\":\"white\",\"gridwidth\":2}},\"shapedefaults\":{\"line\":{\"color\":\"#2a3f5f\"}},\"annotationdefaults\":{\"arrowcolor\":\"#2a3f5f\",\"arrowhead\":0,\"arrowwidth\":1},\"geo\":{\"bgcolor\":\"white\",\"landcolor\":\"#E5ECF6\",\"subunitcolor\":\"white\",\"showland\":true,\"showlakes\":true,\"lakecolor\":\"white\"},\"title\":{\"x\":0.05},\"mapbox\":{\"style\":\"light\"}}},\"xaxis\":{\"anchor\":\"y\",\"domain\":[0.0,1.0],\"title\":{\"text\":\"Average Order Cost\"}},\"yaxis\":{\"anchor\":\"x\",\"domain\":[0.0,1.0],\"title\":{\"text\":\"Probability\"}},\"legend\":{\"title\":{\"text\":\"Distribution\"},\"tracegroupgap\":0},\"title\":{\"text\":\"Probability Distribution of Average Order Cost\"},\"width\":1200,\"height\":600},                        {\"responsive\": true}                    ).then(function(){\n                            \nvar gd = document.getElementById('4f70ede2-91f6-4161-acc7-81d92fc70af5');\nvar x = new MutationObserver(function (mutations, observer) {{\n        var display = window.getComputedStyle(gd).display;\n        if (!display || display === 'none') {{\n            console.log([gd, 'removed!']);\n            Plotly.purge(gd);\n            observer.disconnect();\n        }}\n}});\n\n// Listen for the removal of the full notebook cells\nvar notebookContainer = gd.closest('#notebook-container');\nif (notebookContainer) {{\n    x.observe(notebookContainer, {childList: true});\n}}\n\n// Listen for the clearing of the current output cell\nvar outputEl = gd.closest('.output');\nif (outputEl) {{\n    x.observe(outputEl, {childList: true});\n}}\n\n                        })                };                });            </script>        </div>"
     },
     "metadata": {},
     "output_type": "display_data"
    }
   ],
   "source": [
    "distributions_fig"
   ],
   "metadata": {
    "collapsed": false,
    "pycharm": {
     "name": "#%%\n"
    }
   }
  },
  {
   "cell_type": "code",
   "execution_count": 280,
   "outputs": [
    {
     "data": {
      "text/plain": "569547 days_late    0.9\n561549 days_late    0.1\n522865 days_late    0.0\nName: 20, dtype: float64"
     },
     "execution_count": 280,
     "metadata": {},
     "output_type": "execute_result"
    }
   ],
   "source": [
    "recommended_weights"
   ],
   "metadata": {
    "collapsed": false,
    "pycharm": {
     "name": "#%%\n"
    }
   }
  },
  {
   "cell_type": "code",
   "execution_count": 443,
   "outputs": [],
   "source": [
    "# import tqdm\n",
    "def master_compiler_extreme():\n",
    "    mgs = [\n",
    "        '017',\n",
    "    ]\n",
    "    cutoffs = [\n",
    "        # '2021-05-01',\n",
    "        # '2021-06-01',\n",
    "        # '2021-07-01',\n",
    "        # '2021-08-01',\n",
    "        '2021-09-01',\n",
    "        # '2021-10-01',\n",
    "    ]\n",
    "    cutoffs = [pd.to_datetime(x, format='%Y-%m-%d') for x in cutoffs]\n",
    "    mg_dic = {}\n",
    "    details_frame = pd.DataFrame({\n",
    "        'MG':[],\n",
    "        'Date':[],\n",
    "        'Recommended Avg. Monthly Total Days Late': [],\n",
    "        'Actual Avg. Monthly Total Days Late': [],\n",
    "    })\n",
    "    for mg in mgs:\n",
    "        print(mg)\n",
    "        stored_figs = {}\n",
    "        stored_weights = {}\n",
    "        for cutoff_date in cutoffs:\n",
    "            valid_fig, details, distributions_fig, recommended_weights = compiler(increment_size=.1, mg=mg, cutoff_date=cutoff_date)\n",
    "            stored_figs[cutoff_date] = valid_fig\n",
    "            details_frame = pd.concat([details_frame,details])\n",
    "            stored_weights[cutoff_date] = recommended_weights\n",
    "        mg_dic[mg] = {'Validation':stored_figs,\n",
    "                  'Weights':stored_weights\n",
    "                  }\n",
    "    return mg_dic, details_frame"
   ],
   "metadata": {
    "collapsed": false,
    "pycharm": {
     "name": "#%%\n"
    }
   }
  },
  {
   "cell_type": "code",
   "execution_count": 444,
   "outputs": [
    {
     "name": "stdout",
     "output_type": "stream",
     "text": [
      "017\n"
     ]
    },
    {
     "name": "stderr",
     "output_type": "stream",
     "text": [
      "/var/folders/ng/clzczwr96wz__2znzb2hjykr0000gn/T/ipykernel_10990/3245379082.py:3: SettingWithCopyWarning:\n",
      "\n",
      "\n",
      "A value is trying to be set on a copy of a slice from a DataFrame.\n",
      "Try using .loc[row_indexer,col_indexer] = value instead\n",
      "\n",
      "See the caveats in the documentation: https://pandas.pydata.org/pandas-docs/stable/user_guide/indexing.html#returning-a-view-versus-a-copy\n",
      "\n",
      "/var/folders/ng/clzczwr96wz__2znzb2hjykr0000gn/T/ipykernel_10990/3245379082.py:3: SettingWithCopyWarning:\n",
      "\n",
      "\n",
      "A value is trying to be set on a copy of a slice from a DataFrame.\n",
      "Try using .loc[row_indexer,col_indexer] = value instead\n",
      "\n",
      "See the caveats in the documentation: https://pandas.pydata.org/pandas-docs/stable/user_guide/indexing.html#returning-a-view-versus-a-copy\n",
      "\n",
      "303600it [00:00, 2380356.39it/s]\n"
     ]
    },
    {
     "name": "stdout",
     "output_type": "stream",
     "text": [
      "539850 days_late    0.1\n",
      "539861 days_late    0.9\n",
      "566041 days_late    0.0\n",
      "505439 days_late    0.0\n",
      "Name: 15, dtype: float64\n"
     ]
    },
    {
     "name": "stderr",
     "output_type": "stream",
     "text": [
      "/var/folders/ng/clzczwr96wz__2znzb2hjykr0000gn/T/ipykernel_10990/3027358990.py:4: SettingWithCopyWarning:\n",
      "\n",
      "\n",
      "A value is trying to be set on a copy of a slice from a DataFrame.\n",
      "Try using .loc[row_indexer,col_indexer] = value instead\n",
      "\n",
      "See the caveats in the documentation: https://pandas.pydata.org/pandas-docs/stable/user_guide/indexing.html#returning-a-view-versus-a-copy\n",
      "\n"
     ]
    },
    {
     "data": {
      "text/plain": "<Figure size 640x480 with 0 Axes>"
     },
     "metadata": {},
     "output_type": "display_data"
    }
   ],
   "source": [
    "results, details_frames = master_compiler_extreme()"
   ],
   "metadata": {
    "collapsed": false,
    "pycharm": {
     "name": "#%%\n"
    }
   }
  },
  {
   "cell_type": "code",
   "execution_count": 445,
   "outputs": [
    {
     "data": {
      "text/plain": "    MG       Date  Recommended Avg. Monthly Total Days Late  \\\n0  017 2021-09-01                                  21.39537   \n\n   Actual Avg. Monthly Total Days Late    Margins  \n0                            46.066847  24.671477  ",
      "text/html": "<div>\n<style scoped>\n    .dataframe tbody tr th:only-of-type {\n        vertical-align: middle;\n    }\n\n    .dataframe tbody tr th {\n        vertical-align: top;\n    }\n\n    .dataframe thead th {\n        text-align: right;\n    }\n</style>\n<table border=\"1\" class=\"dataframe\">\n  <thead>\n    <tr style=\"text-align: right;\">\n      <th></th>\n      <th>MG</th>\n      <th>Date</th>\n      <th>Recommended Avg. Monthly Total Days Late</th>\n      <th>Actual Avg. Monthly Total Days Late</th>\n      <th>Margins</th>\n    </tr>\n  </thead>\n  <tbody>\n    <tr>\n      <th>0</th>\n      <td>017</td>\n      <td>2021-09-01</td>\n      <td>21.39537</td>\n      <td>46.066847</td>\n      <td>24.671477</td>\n    </tr>\n  </tbody>\n</table>\n</div>"
     },
     "execution_count": 445,
     "metadata": {},
     "output_type": "execute_result"
    }
   ],
   "source": [
    "details_frames['Margins'] = details_frames['Actual Avg. Monthly Total Days Late'] - details_frames['Recommended Avg. Monthly Total Days Late']\n",
    "details_frames\n",
    "# details_frames.to_csv('details2.csv')"
   ],
   "metadata": {
    "collapsed": false,
    "pycharm": {
     "name": "#%%\n"
    }
   }
  },
  {
   "cell_type": "code",
   "execution_count": 311,
   "outputs": [
    {
     "name": "stdout",
     "output_type": "stream",
     "text": [
      "073 2021-05-01\n",
      "                          Total Late Days\n",
      "Label                                    \n",
      "Actual Supplier Mix            169.761803\n",
      "Recommended Supplier Mix       119.693992\n",
      "073 2021-06-01\n",
      "                          Total Late Days\n",
      "Label                                    \n",
      "Actual Supplier Mix            165.488912\n",
      "Recommended Supplier Mix        56.289896\n",
      "073 2021-07-01\n",
      "                          Total Late Days\n",
      "Label                                    \n",
      "Actual Supplier Mix            154.247736\n",
      "Recommended Supplier Mix        55.696692\n",
      "073 2021-08-01\n",
      "                          Total Late Days\n",
      "Label                                    \n",
      "Actual Supplier Mix            145.131042\n",
      "Recommended Supplier Mix        54.949225\n",
      "073 2021-09-01\n",
      "                          Total Late Days\n",
      "Label                                    \n",
      "Actual Supplier Mix            103.014021\n",
      "Recommended Supplier Mix        52.944355\n",
      "073 2021-10-01\n",
      "                          Total Late Days\n",
      "Label                                    \n",
      "Actual Supplier Mix             92.284513\n",
      "Recommended Supplier Mix        51.990273\n",
      "013 2021-05-01\n",
      "                          Total Late Days\n",
      "Label                                    \n",
      "Actual Supplier Mix            666.025533\n",
      "Recommended Supplier Mix       209.222178\n",
      "013 2021-06-01\n",
      "                          Total Late Days\n",
      "Label                                    \n",
      "Actual Supplier Mix            643.741322\n",
      "Recommended Supplier Mix       201.576388\n",
      "013 2021-07-01\n",
      "                          Total Late Days\n",
      "Label                                    \n",
      "Actual Supplier Mix            626.440351\n",
      "Recommended Supplier Mix       199.956388\n",
      "013 2021-08-01\n",
      "                          Total Late Days\n",
      "Label                                    \n",
      "Actual Supplier Mix            562.361920\n",
      "Recommended Supplier Mix       197.376388\n",
      "013 2021-09-01\n",
      "                          Total Late Days\n",
      "Label                                    \n",
      "Actual Supplier Mix            470.583074\n",
      "Recommended Supplier Mix       194.056388\n",
      "013 2021-10-01\n",
      "                          Total Late Days\n",
      "Label                                    \n",
      "Actual Supplier Mix            409.149112\n",
      "Recommended Supplier Mix       184.706388\n",
      "017 2021-05-01\n",
      "                          Total Late Days\n",
      "Label                                    \n",
      "Actual Supplier Mix           1498.408793\n",
      "Recommended Supplier Mix      2394.700000\n",
      "017 2021-06-01\n",
      "                          Total Late Days\n",
      "Label                                    \n",
      "Actual Supplier Mix           1303.028512\n",
      "Recommended Supplier Mix      2394.700000\n",
      "017 2021-07-01\n",
      "                          Total Late Days\n",
      "Label                                    \n",
      "Actual Supplier Mix           1093.203950\n",
      "Recommended Supplier Mix       266.077778\n",
      "017 2021-08-01\n",
      "                          Total Late Days\n",
      "Label                                    \n",
      "Actual Supplier Mix            932.489664\n",
      "Recommended Supplier Mix      2394.700000\n",
      "017 2021-09-01\n",
      "                          Total Late Days\n",
      "Label                                    \n",
      "Actual Supplier Mix            552.802164\n",
      "Recommended Supplier Mix       256.744444\n",
      "017 2021-10-01\n",
      "                          Total Late Days\n",
      "Label                                    \n",
      "Actual Supplier Mix            447.715958\n",
      "Recommended Supplier Mix       240.255556\n"
     ]
    }
   ],
   "source": [
    "mgs = [\n",
    "    '073',\n",
    "    '013',\n",
    "    '017'\n",
    "]\n",
    "cutoffs = [\n",
    "    '2021-05-01',\n",
    "    '2021-06-01',\n",
    "    '2021-07-01',\n",
    "    '2021-08-01',\n",
    "    '2021-09-01',\n",
    "    '2021-10-01',\n",
    "]\n",
    "for mg in mgs:\n",
    "    for cutoff_date in cutoffs:\n",
    "        print(mg, cutoff_date)\n",
    "        print(results[mg]['Details'][pd.to_datetime(cutoff_date, format='%Y-%m-%d')])"
   ],
   "metadata": {
    "collapsed": false,
    "pycharm": {
     "name": "#%%\n"
    }
   }
  },
  {
   "cell_type": "code",
   "execution_count": 313,
   "outputs": [
    {
     "data": {
      "text/plain": "{'073': {'Validation': {Timestamp('2021-05-01 00:00:00'): Figure({\n       'data': [{'hovertemplate': 'Label=Actual Supplier Mix<br>Month=%{x}<br>Total Late Days=%{y}<extra></extra>',\n                 'legendgroup': 'Actual Supplier Mix',\n                 'line': {'color': '#636efa', 'dash': 'solid'},\n                 'marker': {'symbol': 'circle'},\n                 'mode': 'lines',\n                 'name': 'Actual Supplier Mix',\n                 'orientation': 'v',\n                 'showlegend': True,\n                 'type': 'scatter',\n                 'x': array([datetime.datetime(2019, 2, 28, 0, 0),\n                             datetime.datetime(2019, 3, 31, 0, 0),\n                             datetime.datetime(2019, 4, 30, 0, 0),\n                             datetime.datetime(2019, 5, 31, 0, 0),\n                             datetime.datetime(2019, 6, 30, 0, 0),\n                             datetime.datetime(2019, 7, 31, 0, 0),\n                             datetime.datetime(2019, 8, 31, 0, 0),\n                             datetime.datetime(2019, 9, 30, 0, 0),\n                             datetime.datetime(2019, 10, 31, 0, 0),\n                             datetime.datetime(2019, 11, 30, 0, 0),\n                             datetime.datetime(2019, 12, 31, 0, 0),\n                             datetime.datetime(2020, 1, 31, 0, 0),\n                             datetime.datetime(2020, 2, 29, 0, 0),\n                             datetime.datetime(2020, 3, 31, 0, 0),\n                             datetime.datetime(2020, 4, 30, 0, 0),\n                             datetime.datetime(2020, 5, 31, 0, 0),\n                             datetime.datetime(2020, 6, 30, 0, 0),\n                             datetime.datetime(2020, 7, 31, 0, 0),\n                             datetime.datetime(2020, 8, 31, 0, 0),\n                             datetime.datetime(2020, 9, 30, 0, 0),\n                             datetime.datetime(2020, 10, 31, 0, 0),\n                             datetime.datetime(2020, 11, 30, 0, 0),\n                             datetime.datetime(2020, 12, 31, 0, 0),\n                             datetime.datetime(2021, 1, 31, 0, 0),\n                             datetime.datetime(2021, 2, 28, 0, 0),\n                             datetime.datetime(2021, 3, 31, 0, 0),\n                             datetime.datetime(2021, 4, 30, 0, 0),\n                             datetime.datetime(2021, 5, 31, 0, 0),\n                             datetime.datetime(2021, 6, 30, 0, 0),\n                             datetime.datetime(2021, 7, 31, 0, 0),\n                             datetime.datetime(2021, 8, 31, 0, 0),\n                             datetime.datetime(2021, 9, 30, 0, 0),\n                             datetime.datetime(2021, 10, 31, 0, 0),\n                             datetime.datetime(2021, 11, 30, 0, 0),\n                             datetime.datetime(2021, 12, 31, 0, 0),\n                             datetime.datetime(2022, 1, 31, 0, 0),\n                             datetime.datetime(2022, 2, 28, 0, 0),\n                             datetime.datetime(2022, 3, 31, 0, 0),\n                             datetime.datetime(2022, 4, 30, 0, 0),\n                             datetime.datetime(2022, 5, 31, 0, 0),\n                             datetime.datetime(2022, 6, 30, 0, 0),\n                             datetime.datetime(2022, 7, 31, 0, 0),\n                             datetime.datetime(2022, 8, 31, 0, 0)], dtype=object),\n                 'xaxis': 'x',\n                 'y': array([1.01694915e+00, 0.00000000e+00, 2.70275792e+00, 1.45454545e+00,\n                             4.16248746e-01, 9.61915125e-01, 1.37755102e+00, 1.04567308e-01,\n                             4.38818565e-01, 5.99221790e-01, 2.66836086e+00, 5.57746479e+00,\n                             6.02960969e-01, 1.27654321e+01, 1.48333333e+01, 1.56358118e+01,\n                             2.58192628e+01, 1.28409091e+01, 4.35822637e+01, 3.17045455e+00,\n                             1.91577225e+02, 1.72378223e+01, 4.52551834e+01, 3.64800000e+00,\n                             2.61485714e+01, 1.56164384e+01, 5.45924765e+00, 4.27289048e+00,\n                             1.12411765e+01, 9.11669368e+00, 4.21170213e+01, 1.07295082e+01,\n                             1.51626409e+01, 2.36910569e+01, 9.97443609e+00, 1.38147651e+01,\n                             2.90620872e+00, 5.84919473e+00, 1.42912621e+01, 1.22241087e+00,\n                             3.22120419e+00, 1.96651446e+00, 1.84818482e-01]),\n                 'yaxis': 'y'},\n                {'hovertemplate': ('Label=Recommended Supplier Mix' ... ' Late Days=%{y}<extra></extra>'),\n                 'legendgroup': 'Recommended Supplier Mix',\n                 'line': {'color': '#EF553B', 'dash': 'solid'},\n                 'marker': {'symbol': 'circle'},\n                 'mode': 'lines',\n                 'name': 'Recommended Supplier Mix',\n                 'orientation': 'v',\n                 'showlegend': True,\n                 'type': 'scatter',\n                 'x': array([datetime.datetime(2021, 5, 31, 0, 0),\n                             datetime.datetime(2021, 6, 30, 0, 0),\n                             datetime.datetime(2021, 7, 31, 0, 0),\n                             datetime.datetime(2021, 8, 31, 0, 0),\n                             datetime.datetime(2021, 9, 30, 0, 0),\n                             datetime.datetime(2021, 10, 31, 0, 0),\n                             datetime.datetime(2021, 11, 30, 0, 0),\n                             datetime.datetime(2021, 12, 31, 0, 0),\n                             datetime.datetime(2022, 1, 31, 0, 0),\n                             datetime.datetime(2022, 2, 28, 0, 0),\n                             datetime.datetime(2022, 3, 31, 0, 0),\n                             datetime.datetime(2022, 4, 30, 0, 0),\n                             datetime.datetime(2022, 5, 31, 0, 0),\n                             datetime.datetime(2022, 6, 30, 0, 0),\n                             datetime.datetime(2022, 7, 31, 0, 0),\n                             datetime.datetime(2022, 8, 31, 0, 0)], dtype=object),\n                 'xaxis': 'x',\n                 'y': array([6.34040968e+01, 5.93203883e-01, 7.47466216e-01, 2.00487062e+00,\n                             9.54081633e-01, 1.41794020e+00, 1.13637640e+00, 8.12440945e-01,\n                             2.62500000e-01, 4.75971930e+01, 1.99843260e-01, 6.40000000e-02,\n                             0.00000000e+00, 2.78875171e-01, 2.01246106e-01, 1.98581560e-02]),\n                 'yaxis': 'y'}],\n       'layout': {'height': 600,\n                  'legend': {'title': {'text': 'Label'}, 'tracegroupgap': 0},\n                  'shapes': [{'type': 'line',\n                              'x0': Timestamp('2021-05-01 00:00:00'),\n                              'x1': Timestamp('2021-05-01 00:00:00'),\n                              'xref': 'x',\n                              'y0': 0,\n                              'y1': 1,\n                              'yref': 'y domain'}],\n                  'template': '...',\n                  'title': {'text': 'Marginal improvement of using recommended supplier mix'},\n                  'width': 1200,\n                  'xaxis': {'anchor': 'y', 'domain': [0.0, 1.0], 'title': {'text': 'Month'}},\n                  'yaxis': {'anchor': 'x', 'domain': [0.0, 1.0], 'title': {'text': 'Total Late Days'}}}\n   }),\n   Timestamp('2021-06-01 00:00:00'): Figure({\n       'data': [{'hovertemplate': 'Label=Actual Supplier Mix<br>Month=%{x}<br>Total Late Days=%{y}<extra></extra>',\n                 'legendgroup': 'Actual Supplier Mix',\n                 'line': {'color': '#636efa', 'dash': 'solid'},\n                 'marker': {'symbol': 'circle'},\n                 'mode': 'lines',\n                 'name': 'Actual Supplier Mix',\n                 'orientation': 'v',\n                 'showlegend': True,\n                 'type': 'scatter',\n                 'x': array([datetime.datetime(2019, 2, 28, 0, 0),\n                             datetime.datetime(2019, 3, 31, 0, 0),\n                             datetime.datetime(2019, 4, 30, 0, 0),\n                             datetime.datetime(2019, 5, 31, 0, 0),\n                             datetime.datetime(2019, 6, 30, 0, 0),\n                             datetime.datetime(2019, 7, 31, 0, 0),\n                             datetime.datetime(2019, 8, 31, 0, 0),\n                             datetime.datetime(2019, 9, 30, 0, 0),\n                             datetime.datetime(2019, 10, 31, 0, 0),\n                             datetime.datetime(2019, 11, 30, 0, 0),\n                             datetime.datetime(2019, 12, 31, 0, 0),\n                             datetime.datetime(2020, 1, 31, 0, 0),\n                             datetime.datetime(2020, 2, 29, 0, 0),\n                             datetime.datetime(2020, 3, 31, 0, 0),\n                             datetime.datetime(2020, 4, 30, 0, 0),\n                             datetime.datetime(2020, 5, 31, 0, 0),\n                             datetime.datetime(2020, 6, 30, 0, 0),\n                             datetime.datetime(2020, 7, 31, 0, 0),\n                             datetime.datetime(2020, 8, 31, 0, 0),\n                             datetime.datetime(2020, 9, 30, 0, 0),\n                             datetime.datetime(2020, 10, 31, 0, 0),\n                             datetime.datetime(2020, 11, 30, 0, 0),\n                             datetime.datetime(2020, 12, 31, 0, 0),\n                             datetime.datetime(2021, 1, 31, 0, 0),\n                             datetime.datetime(2021, 2, 28, 0, 0),\n                             datetime.datetime(2021, 3, 31, 0, 0),\n                             datetime.datetime(2021, 4, 30, 0, 0),\n                             datetime.datetime(2021, 5, 31, 0, 0),\n                             datetime.datetime(2021, 6, 30, 0, 0),\n                             datetime.datetime(2021, 7, 31, 0, 0),\n                             datetime.datetime(2021, 8, 31, 0, 0),\n                             datetime.datetime(2021, 9, 30, 0, 0),\n                             datetime.datetime(2021, 10, 31, 0, 0),\n                             datetime.datetime(2021, 11, 30, 0, 0),\n                             datetime.datetime(2021, 12, 31, 0, 0),\n                             datetime.datetime(2022, 1, 31, 0, 0),\n                             datetime.datetime(2022, 2, 28, 0, 0),\n                             datetime.datetime(2022, 3, 31, 0, 0),\n                             datetime.datetime(2022, 4, 30, 0, 0),\n                             datetime.datetime(2022, 5, 31, 0, 0),\n                             datetime.datetime(2022, 6, 30, 0, 0),\n                             datetime.datetime(2022, 7, 31, 0, 0),\n                             datetime.datetime(2022, 8, 31, 0, 0)], dtype=object),\n                 'xaxis': 'x',\n                 'y': array([1.01694915e+00, 0.00000000e+00, 2.70275792e+00, 1.45454545e+00,\n                             4.16248746e-01, 9.61915125e-01, 1.37755102e+00, 1.04567308e-01,\n                             4.38818565e-01, 5.99221790e-01, 2.66836086e+00, 5.57746479e+00,\n                             6.02960969e-01, 1.27654321e+01, 1.48333333e+01, 1.56358118e+01,\n                             2.58192628e+01, 1.28409091e+01, 4.35822637e+01, 3.17045455e+00,\n                             1.91577225e+02, 1.72378223e+01, 4.52551834e+01, 3.64800000e+00,\n                             2.61485714e+01, 1.56164384e+01, 5.45924765e+00, 4.27289048e+00,\n                             1.12411765e+01, 9.11669368e+00, 4.21170213e+01, 1.07295082e+01,\n                             1.51626409e+01, 2.36910569e+01, 9.97443609e+00, 1.38147651e+01,\n                             2.90620872e+00, 5.84919473e+00, 1.42912621e+01, 1.22241087e+00,\n                             3.22120419e+00, 1.96651446e+00, 1.84818482e-01]),\n                 'yaxis': 'y'},\n                {'hovertemplate': ('Label=Recommended Supplier Mix' ... ' Late Days=%{y}<extra></extra>'),\n                 'legendgroup': 'Recommended Supplier Mix',\n                 'line': {'color': '#EF553B', 'dash': 'solid'},\n                 'marker': {'symbol': 'circle'},\n                 'mode': 'lines',\n                 'name': 'Recommended Supplier Mix',\n                 'orientation': 'v',\n                 'showlegend': True,\n                 'type': 'scatter',\n                 'x': array([datetime.datetime(2021, 6, 30, 0, 0),\n                             datetime.datetime(2021, 7, 31, 0, 0),\n                             datetime.datetime(2021, 8, 31, 0, 0),\n                             datetime.datetime(2021, 9, 30, 0, 0),\n                             datetime.datetime(2021, 10, 31, 0, 0),\n                             datetime.datetime(2021, 11, 30, 0, 0),\n                             datetime.datetime(2021, 12, 31, 0, 0),\n                             datetime.datetime(2022, 1, 31, 0, 0),\n                             datetime.datetime(2022, 2, 28, 0, 0),\n                             datetime.datetime(2022, 3, 31, 0, 0),\n                             datetime.datetime(2022, 4, 30, 0, 0),\n                             datetime.datetime(2022, 5, 31, 0, 0),\n                             datetime.datetime(2022, 6, 30, 0, 0),\n                             datetime.datetime(2022, 7, 31, 0, 0),\n                             datetime.datetime(2022, 8, 31, 0, 0)], dtype=object),\n                 'xaxis': 'x',\n                 'y': array([5.93203883e-01, 7.47466216e-01, 2.00487062e+00, 9.54081633e-01,\n                             1.41794020e+00, 1.13637640e+00, 8.12440945e-01, 2.62500000e-01,\n                             4.75971930e+01, 1.99843260e-01, 6.40000000e-02, 0.00000000e+00,\n                             2.78875171e-01, 2.01246106e-01, 1.98581560e-02]),\n                 'yaxis': 'y'}],\n       'layout': {'height': 600,\n                  'legend': {'title': {'text': 'Label'}, 'tracegroupgap': 0},\n                  'shapes': [{'type': 'line',\n                              'x0': Timestamp('2021-06-01 00:00:00'),\n                              'x1': Timestamp('2021-06-01 00:00:00'),\n                              'xref': 'x',\n                              'y0': 0,\n                              'y1': 1,\n                              'yref': 'y domain'}],\n                  'template': '...',\n                  'title': {'text': 'Marginal improvement of using recommended supplier mix'},\n                  'width': 1200,\n                  'xaxis': {'anchor': 'y', 'domain': [0.0, 1.0], 'title': {'text': 'Month'}},\n                  'yaxis': {'anchor': 'x', 'domain': [0.0, 1.0], 'title': {'text': 'Total Late Days'}}}\n   }),\n   Timestamp('2021-07-01 00:00:00'): Figure({\n       'data': [{'hovertemplate': 'Label=Actual Supplier Mix<br>Month=%{x}<br>Total Late Days=%{y}<extra></extra>',\n                 'legendgroup': 'Actual Supplier Mix',\n                 'line': {'color': '#636efa', 'dash': 'solid'},\n                 'marker': {'symbol': 'circle'},\n                 'mode': 'lines',\n                 'name': 'Actual Supplier Mix',\n                 'orientation': 'v',\n                 'showlegend': True,\n                 'type': 'scatter',\n                 'x': array([datetime.datetime(2019, 2, 28, 0, 0),\n                             datetime.datetime(2019, 3, 31, 0, 0),\n                             datetime.datetime(2019, 4, 30, 0, 0),\n                             datetime.datetime(2019, 5, 31, 0, 0),\n                             datetime.datetime(2019, 6, 30, 0, 0),\n                             datetime.datetime(2019, 7, 31, 0, 0),\n                             datetime.datetime(2019, 8, 31, 0, 0),\n                             datetime.datetime(2019, 9, 30, 0, 0),\n                             datetime.datetime(2019, 10, 31, 0, 0),\n                             datetime.datetime(2019, 11, 30, 0, 0),\n                             datetime.datetime(2019, 12, 31, 0, 0),\n                             datetime.datetime(2020, 1, 31, 0, 0),\n                             datetime.datetime(2020, 2, 29, 0, 0),\n                             datetime.datetime(2020, 3, 31, 0, 0),\n                             datetime.datetime(2020, 4, 30, 0, 0),\n                             datetime.datetime(2020, 5, 31, 0, 0),\n                             datetime.datetime(2020, 6, 30, 0, 0),\n                             datetime.datetime(2020, 7, 31, 0, 0),\n                             datetime.datetime(2020, 8, 31, 0, 0),\n                             datetime.datetime(2020, 9, 30, 0, 0),\n                             datetime.datetime(2020, 10, 31, 0, 0),\n                             datetime.datetime(2020, 11, 30, 0, 0),\n                             datetime.datetime(2020, 12, 31, 0, 0),\n                             datetime.datetime(2021, 1, 31, 0, 0),\n                             datetime.datetime(2021, 2, 28, 0, 0),\n                             datetime.datetime(2021, 3, 31, 0, 0),\n                             datetime.datetime(2021, 4, 30, 0, 0),\n                             datetime.datetime(2021, 5, 31, 0, 0),\n                             datetime.datetime(2021, 6, 30, 0, 0),\n                             datetime.datetime(2021, 7, 31, 0, 0),\n                             datetime.datetime(2021, 8, 31, 0, 0),\n                             datetime.datetime(2021, 9, 30, 0, 0),\n                             datetime.datetime(2021, 10, 31, 0, 0),\n                             datetime.datetime(2021, 11, 30, 0, 0),\n                             datetime.datetime(2021, 12, 31, 0, 0),\n                             datetime.datetime(2022, 1, 31, 0, 0),\n                             datetime.datetime(2022, 2, 28, 0, 0),\n                             datetime.datetime(2022, 3, 31, 0, 0),\n                             datetime.datetime(2022, 4, 30, 0, 0),\n                             datetime.datetime(2022, 5, 31, 0, 0),\n                             datetime.datetime(2022, 6, 30, 0, 0),\n                             datetime.datetime(2022, 7, 31, 0, 0),\n                             datetime.datetime(2022, 8, 31, 0, 0)], dtype=object),\n                 'xaxis': 'x',\n                 'y': array([1.01694915e+00, 0.00000000e+00, 2.70275792e+00, 1.45454545e+00,\n                             4.16248746e-01, 9.61915125e-01, 1.37755102e+00, 1.04567308e-01,\n                             4.38818565e-01, 5.99221790e-01, 2.66836086e+00, 5.57746479e+00,\n                             6.02960969e-01, 1.27654321e+01, 1.48333333e+01, 1.56358118e+01,\n                             2.58192628e+01, 1.28409091e+01, 4.35822637e+01, 3.17045455e+00,\n                             1.91577225e+02, 1.72378223e+01, 4.52551834e+01, 3.64800000e+00,\n                             2.61485714e+01, 1.56164384e+01, 5.45924765e+00, 4.27289048e+00,\n                             1.12411765e+01, 9.11669368e+00, 4.21170213e+01, 1.07295082e+01,\n                             1.51626409e+01, 2.36910569e+01, 9.97443609e+00, 1.38147651e+01,\n                             2.90620872e+00, 5.84919473e+00, 1.42912621e+01, 1.22241087e+00,\n                             3.22120419e+00, 1.96651446e+00, 1.84818482e-01]),\n                 'yaxis': 'y'},\n                {'hovertemplate': ('Label=Recommended Supplier Mix' ... ' Late Days=%{y}<extra></extra>'),\n                 'legendgroup': 'Recommended Supplier Mix',\n                 'line': {'color': '#EF553B', 'dash': 'solid'},\n                 'marker': {'symbol': 'circle'},\n                 'mode': 'lines',\n                 'name': 'Recommended Supplier Mix',\n                 'orientation': 'v',\n                 'showlegend': True,\n                 'type': 'scatter',\n                 'x': array([datetime.datetime(2021, 7, 31, 0, 0),\n                             datetime.datetime(2021, 8, 31, 0, 0),\n                             datetime.datetime(2021, 9, 30, 0, 0),\n                             datetime.datetime(2021, 10, 31, 0, 0),\n                             datetime.datetime(2021, 11, 30, 0, 0),\n                             datetime.datetime(2021, 12, 31, 0, 0),\n                             datetime.datetime(2022, 1, 31, 0, 0),\n                             datetime.datetime(2022, 2, 28, 0, 0),\n                             datetime.datetime(2022, 3, 31, 0, 0),\n                             datetime.datetime(2022, 4, 30, 0, 0),\n                             datetime.datetime(2022, 5, 31, 0, 0),\n                             datetime.datetime(2022, 6, 30, 0, 0),\n                             datetime.datetime(2022, 7, 31, 0, 0),\n                             datetime.datetime(2022, 8, 31, 0, 0)], dtype=object),\n                 'xaxis': 'x',\n                 'y': array([7.47466216e-01, 2.00487062e+00, 9.54081633e-01, 1.41794020e+00,\n                             1.13637640e+00, 8.12440945e-01, 2.62500000e-01, 4.75971930e+01,\n                             1.99843260e-01, 6.40000000e-02, 0.00000000e+00, 2.78875171e-01,\n                             2.01246106e-01, 1.98581560e-02]),\n                 'yaxis': 'y'}],\n       'layout': {'height': 600,\n                  'legend': {'title': {'text': 'Label'}, 'tracegroupgap': 0},\n                  'shapes': [{'type': 'line',\n                              'x0': Timestamp('2021-07-01 00:00:00'),\n                              'x1': Timestamp('2021-07-01 00:00:00'),\n                              'xref': 'x',\n                              'y0': 0,\n                              'y1': 1,\n                              'yref': 'y domain'}],\n                  'template': '...',\n                  'title': {'text': 'Marginal improvement of using recommended supplier mix'},\n                  'width': 1200,\n                  'xaxis': {'anchor': 'y', 'domain': [0.0, 1.0], 'title': {'text': 'Month'}},\n                  'yaxis': {'anchor': 'x', 'domain': [0.0, 1.0], 'title': {'text': 'Total Late Days'}}}\n   }),\n   Timestamp('2021-08-01 00:00:00'): Figure({\n       'data': [{'hovertemplate': 'Label=Actual Supplier Mix<br>Month=%{x}<br>Total Late Days=%{y}<extra></extra>',\n                 'legendgroup': 'Actual Supplier Mix',\n                 'line': {'color': '#636efa', 'dash': 'solid'},\n                 'marker': {'symbol': 'circle'},\n                 'mode': 'lines',\n                 'name': 'Actual Supplier Mix',\n                 'orientation': 'v',\n                 'showlegend': True,\n                 'type': 'scatter',\n                 'x': array([datetime.datetime(2019, 2, 28, 0, 0),\n                             datetime.datetime(2019, 3, 31, 0, 0),\n                             datetime.datetime(2019, 4, 30, 0, 0),\n                             datetime.datetime(2019, 5, 31, 0, 0),\n                             datetime.datetime(2019, 6, 30, 0, 0),\n                             datetime.datetime(2019, 7, 31, 0, 0),\n                             datetime.datetime(2019, 8, 31, 0, 0),\n                             datetime.datetime(2019, 9, 30, 0, 0),\n                             datetime.datetime(2019, 10, 31, 0, 0),\n                             datetime.datetime(2019, 11, 30, 0, 0),\n                             datetime.datetime(2019, 12, 31, 0, 0),\n                             datetime.datetime(2020, 1, 31, 0, 0),\n                             datetime.datetime(2020, 2, 29, 0, 0),\n                             datetime.datetime(2020, 3, 31, 0, 0),\n                             datetime.datetime(2020, 4, 30, 0, 0),\n                             datetime.datetime(2020, 5, 31, 0, 0),\n                             datetime.datetime(2020, 6, 30, 0, 0),\n                             datetime.datetime(2020, 7, 31, 0, 0),\n                             datetime.datetime(2020, 8, 31, 0, 0),\n                             datetime.datetime(2020, 9, 30, 0, 0),\n                             datetime.datetime(2020, 10, 31, 0, 0),\n                             datetime.datetime(2020, 11, 30, 0, 0),\n                             datetime.datetime(2020, 12, 31, 0, 0),\n                             datetime.datetime(2021, 1, 31, 0, 0),\n                             datetime.datetime(2021, 2, 28, 0, 0),\n                             datetime.datetime(2021, 3, 31, 0, 0),\n                             datetime.datetime(2021, 4, 30, 0, 0),\n                             datetime.datetime(2021, 5, 31, 0, 0),\n                             datetime.datetime(2021, 6, 30, 0, 0),\n                             datetime.datetime(2021, 7, 31, 0, 0),\n                             datetime.datetime(2021, 8, 31, 0, 0),\n                             datetime.datetime(2021, 9, 30, 0, 0),\n                             datetime.datetime(2021, 10, 31, 0, 0),\n                             datetime.datetime(2021, 11, 30, 0, 0),\n                             datetime.datetime(2021, 12, 31, 0, 0),\n                             datetime.datetime(2022, 1, 31, 0, 0),\n                             datetime.datetime(2022, 2, 28, 0, 0),\n                             datetime.datetime(2022, 3, 31, 0, 0),\n                             datetime.datetime(2022, 4, 30, 0, 0),\n                             datetime.datetime(2022, 5, 31, 0, 0),\n                             datetime.datetime(2022, 6, 30, 0, 0),\n                             datetime.datetime(2022, 7, 31, 0, 0),\n                             datetime.datetime(2022, 8, 31, 0, 0)], dtype=object),\n                 'xaxis': 'x',\n                 'y': array([1.01694915e+00, 0.00000000e+00, 2.70275792e+00, 1.45454545e+00,\n                             4.16248746e-01, 9.61915125e-01, 1.37755102e+00, 1.04567308e-01,\n                             4.38818565e-01, 5.99221790e-01, 2.66836086e+00, 5.57746479e+00,\n                             6.02960969e-01, 1.27654321e+01, 1.48333333e+01, 1.56358118e+01,\n                             2.58192628e+01, 1.28409091e+01, 4.35822637e+01, 3.17045455e+00,\n                             1.91577225e+02, 1.72378223e+01, 4.52551834e+01, 3.64800000e+00,\n                             2.61485714e+01, 1.56164384e+01, 5.45924765e+00, 4.27289048e+00,\n                             1.12411765e+01, 9.11669368e+00, 4.21170213e+01, 1.07295082e+01,\n                             1.51626409e+01, 2.36910569e+01, 9.97443609e+00, 1.38147651e+01,\n                             2.90620872e+00, 5.84919473e+00, 1.42912621e+01, 1.22241087e+00,\n                             3.22120419e+00, 1.96651446e+00, 1.84818482e-01]),\n                 'yaxis': 'y'},\n                {'hovertemplate': ('Label=Recommended Supplier Mix' ... ' Late Days=%{y}<extra></extra>'),\n                 'legendgroup': 'Recommended Supplier Mix',\n                 'line': {'color': '#EF553B', 'dash': 'solid'},\n                 'marker': {'symbol': 'circle'},\n                 'mode': 'lines',\n                 'name': 'Recommended Supplier Mix',\n                 'orientation': 'v',\n                 'showlegend': True,\n                 'type': 'scatter',\n                 'x': array([datetime.datetime(2021, 8, 31, 0, 0),\n                             datetime.datetime(2021, 9, 30, 0, 0),\n                             datetime.datetime(2021, 10, 31, 0, 0),\n                             datetime.datetime(2021, 11, 30, 0, 0),\n                             datetime.datetime(2021, 12, 31, 0, 0),\n                             datetime.datetime(2022, 1, 31, 0, 0),\n                             datetime.datetime(2022, 2, 28, 0, 0),\n                             datetime.datetime(2022, 3, 31, 0, 0),\n                             datetime.datetime(2022, 4, 30, 0, 0),\n                             datetime.datetime(2022, 5, 31, 0, 0),\n                             datetime.datetime(2022, 6, 30, 0, 0),\n                             datetime.datetime(2022, 7, 31, 0, 0),\n                             datetime.datetime(2022, 8, 31, 0, 0)], dtype=object),\n                 'xaxis': 'x',\n                 'y': array([2.00487062e+00, 9.54081633e-01, 1.41794020e+00, 1.13637640e+00,\n                             8.12440945e-01, 2.62500000e-01, 4.75971930e+01, 1.99843260e-01,\n                             6.40000000e-02, 0.00000000e+00, 2.78875171e-01, 2.01246106e-01,\n                             1.98581560e-02]),\n                 'yaxis': 'y'}],\n       'layout': {'height': 600,\n                  'legend': {'title': {'text': 'Label'}, 'tracegroupgap': 0},\n                  'shapes': [{'type': 'line',\n                              'x0': Timestamp('2021-08-01 00:00:00'),\n                              'x1': Timestamp('2021-08-01 00:00:00'),\n                              'xref': 'x',\n                              'y0': 0,\n                              'y1': 1,\n                              'yref': 'y domain'}],\n                  'template': '...',\n                  'title': {'text': 'Marginal improvement of using recommended supplier mix'},\n                  'width': 1200,\n                  'xaxis': {'anchor': 'y', 'domain': [0.0, 1.0], 'title': {'text': 'Month'}},\n                  'yaxis': {'anchor': 'x', 'domain': [0.0, 1.0], 'title': {'text': 'Total Late Days'}}}\n   }),\n   Timestamp('2021-09-01 00:00:00'): Figure({\n       'data': [{'hovertemplate': 'Label=Actual Supplier Mix<br>Month=%{x}<br>Total Late Days=%{y}<extra></extra>',\n                 'legendgroup': 'Actual Supplier Mix',\n                 'line': {'color': '#636efa', 'dash': 'solid'},\n                 'marker': {'symbol': 'circle'},\n                 'mode': 'lines',\n                 'name': 'Actual Supplier Mix',\n                 'orientation': 'v',\n                 'showlegend': True,\n                 'type': 'scatter',\n                 'x': array([datetime.datetime(2019, 2, 28, 0, 0),\n                             datetime.datetime(2019, 3, 31, 0, 0),\n                             datetime.datetime(2019, 4, 30, 0, 0),\n                             datetime.datetime(2019, 5, 31, 0, 0),\n                             datetime.datetime(2019, 6, 30, 0, 0),\n                             datetime.datetime(2019, 7, 31, 0, 0),\n                             datetime.datetime(2019, 8, 31, 0, 0),\n                             datetime.datetime(2019, 9, 30, 0, 0),\n                             datetime.datetime(2019, 10, 31, 0, 0),\n                             datetime.datetime(2019, 11, 30, 0, 0),\n                             datetime.datetime(2019, 12, 31, 0, 0),\n                             datetime.datetime(2020, 1, 31, 0, 0),\n                             datetime.datetime(2020, 2, 29, 0, 0),\n                             datetime.datetime(2020, 3, 31, 0, 0),\n                             datetime.datetime(2020, 4, 30, 0, 0),\n                             datetime.datetime(2020, 5, 31, 0, 0),\n                             datetime.datetime(2020, 6, 30, 0, 0),\n                             datetime.datetime(2020, 7, 31, 0, 0),\n                             datetime.datetime(2020, 8, 31, 0, 0),\n                             datetime.datetime(2020, 9, 30, 0, 0),\n                             datetime.datetime(2020, 10, 31, 0, 0),\n                             datetime.datetime(2020, 11, 30, 0, 0),\n                             datetime.datetime(2020, 12, 31, 0, 0),\n                             datetime.datetime(2021, 1, 31, 0, 0),\n                             datetime.datetime(2021, 2, 28, 0, 0),\n                             datetime.datetime(2021, 3, 31, 0, 0),\n                             datetime.datetime(2021, 4, 30, 0, 0),\n                             datetime.datetime(2021, 5, 31, 0, 0),\n                             datetime.datetime(2021, 6, 30, 0, 0),\n                             datetime.datetime(2021, 7, 31, 0, 0),\n                             datetime.datetime(2021, 8, 31, 0, 0),\n                             datetime.datetime(2021, 9, 30, 0, 0),\n                             datetime.datetime(2021, 10, 31, 0, 0),\n                             datetime.datetime(2021, 11, 30, 0, 0),\n                             datetime.datetime(2021, 12, 31, 0, 0),\n                             datetime.datetime(2022, 1, 31, 0, 0),\n                             datetime.datetime(2022, 2, 28, 0, 0),\n                             datetime.datetime(2022, 3, 31, 0, 0),\n                             datetime.datetime(2022, 4, 30, 0, 0),\n                             datetime.datetime(2022, 5, 31, 0, 0),\n                             datetime.datetime(2022, 6, 30, 0, 0),\n                             datetime.datetime(2022, 7, 31, 0, 0),\n                             datetime.datetime(2022, 8, 31, 0, 0)], dtype=object),\n                 'xaxis': 'x',\n                 'y': array([1.01694915e+00, 0.00000000e+00, 2.70275792e+00, 1.45454545e+00,\n                             4.16248746e-01, 9.61915125e-01, 1.37755102e+00, 1.04567308e-01,\n                             4.38818565e-01, 5.99221790e-01, 2.66836086e+00, 5.57746479e+00,\n                             6.02960969e-01, 1.27654321e+01, 1.48333333e+01, 1.56358118e+01,\n                             2.58192628e+01, 1.28409091e+01, 4.35822637e+01, 3.17045455e+00,\n                             1.91577225e+02, 1.72378223e+01, 4.52551834e+01, 3.64800000e+00,\n                             2.61485714e+01, 1.56164384e+01, 5.45924765e+00, 4.27289048e+00,\n                             1.12411765e+01, 9.11669368e+00, 4.21170213e+01, 1.07295082e+01,\n                             1.51626409e+01, 2.36910569e+01, 9.97443609e+00, 1.38147651e+01,\n                             2.90620872e+00, 5.84919473e+00, 1.42912621e+01, 1.22241087e+00,\n                             3.22120419e+00, 1.96651446e+00, 1.84818482e-01]),\n                 'yaxis': 'y'},\n                {'hovertemplate': ('Label=Recommended Supplier Mix' ... ' Late Days=%{y}<extra></extra>'),\n                 'legendgroup': 'Recommended Supplier Mix',\n                 'line': {'color': '#EF553B', 'dash': 'solid'},\n                 'marker': {'symbol': 'circle'},\n                 'mode': 'lines',\n                 'name': 'Recommended Supplier Mix',\n                 'orientation': 'v',\n                 'showlegend': True,\n                 'type': 'scatter',\n                 'x': array([datetime.datetime(2021, 9, 30, 0, 0),\n                             datetime.datetime(2021, 10, 31, 0, 0),\n                             datetime.datetime(2021, 11, 30, 0, 0),\n                             datetime.datetime(2021, 12, 31, 0, 0),\n                             datetime.datetime(2022, 1, 31, 0, 0),\n                             datetime.datetime(2022, 2, 28, 0, 0),\n                             datetime.datetime(2022, 3, 31, 0, 0),\n                             datetime.datetime(2022, 4, 30, 0, 0),\n                             datetime.datetime(2022, 5, 31, 0, 0),\n                             datetime.datetime(2022, 6, 30, 0, 0),\n                             datetime.datetime(2022, 7, 31, 0, 0),\n                             datetime.datetime(2022, 8, 31, 0, 0)], dtype=object),\n                 'xaxis': 'x',\n                 'y': array([9.54081633e-01, 1.41794020e+00, 1.13637640e+00, 8.12440945e-01,\n                             2.62500000e-01, 4.75971930e+01, 1.99843260e-01, 6.40000000e-02,\n                             0.00000000e+00, 2.78875171e-01, 2.01246106e-01, 1.98581560e-02]),\n                 'yaxis': 'y'}],\n       'layout': {'height': 600,\n                  'legend': {'title': {'text': 'Label'}, 'tracegroupgap': 0},\n                  'shapes': [{'type': 'line',\n                              'x0': Timestamp('2021-09-01 00:00:00'),\n                              'x1': Timestamp('2021-09-01 00:00:00'),\n                              'xref': 'x',\n                              'y0': 0,\n                              'y1': 1,\n                              'yref': 'y domain'}],\n                  'template': '...',\n                  'title': {'text': 'Marginal improvement of using recommended supplier mix'},\n                  'width': 1200,\n                  'xaxis': {'anchor': 'y', 'domain': [0.0, 1.0], 'title': {'text': 'Month'}},\n                  'yaxis': {'anchor': 'x', 'domain': [0.0, 1.0], 'title': {'text': 'Total Late Days'}}}\n   }),\n   Timestamp('2021-10-01 00:00:00'): Figure({\n       'data': [{'hovertemplate': 'Label=Actual Supplier Mix<br>Month=%{x}<br>Total Late Days=%{y}<extra></extra>',\n                 'legendgroup': 'Actual Supplier Mix',\n                 'line': {'color': '#636efa', 'dash': 'solid'},\n                 'marker': {'symbol': 'circle'},\n                 'mode': 'lines',\n                 'name': 'Actual Supplier Mix',\n                 'orientation': 'v',\n                 'showlegend': True,\n                 'type': 'scatter',\n                 'x': array([datetime.datetime(2019, 2, 28, 0, 0),\n                             datetime.datetime(2019, 3, 31, 0, 0),\n                             datetime.datetime(2019, 4, 30, 0, 0),\n                             datetime.datetime(2019, 5, 31, 0, 0),\n                             datetime.datetime(2019, 6, 30, 0, 0),\n                             datetime.datetime(2019, 7, 31, 0, 0),\n                             datetime.datetime(2019, 8, 31, 0, 0),\n                             datetime.datetime(2019, 9, 30, 0, 0),\n                             datetime.datetime(2019, 10, 31, 0, 0),\n                             datetime.datetime(2019, 11, 30, 0, 0),\n                             datetime.datetime(2019, 12, 31, 0, 0),\n                             datetime.datetime(2020, 1, 31, 0, 0),\n                             datetime.datetime(2020, 2, 29, 0, 0),\n                             datetime.datetime(2020, 3, 31, 0, 0),\n                             datetime.datetime(2020, 4, 30, 0, 0),\n                             datetime.datetime(2020, 5, 31, 0, 0),\n                             datetime.datetime(2020, 6, 30, 0, 0),\n                             datetime.datetime(2020, 7, 31, 0, 0),\n                             datetime.datetime(2020, 8, 31, 0, 0),\n                             datetime.datetime(2020, 9, 30, 0, 0),\n                             datetime.datetime(2020, 10, 31, 0, 0),\n                             datetime.datetime(2020, 11, 30, 0, 0),\n                             datetime.datetime(2020, 12, 31, 0, 0),\n                             datetime.datetime(2021, 1, 31, 0, 0),\n                             datetime.datetime(2021, 2, 28, 0, 0),\n                             datetime.datetime(2021, 3, 31, 0, 0),\n                             datetime.datetime(2021, 4, 30, 0, 0),\n                             datetime.datetime(2021, 5, 31, 0, 0),\n                             datetime.datetime(2021, 6, 30, 0, 0),\n                             datetime.datetime(2021, 7, 31, 0, 0),\n                             datetime.datetime(2021, 8, 31, 0, 0),\n                             datetime.datetime(2021, 9, 30, 0, 0),\n                             datetime.datetime(2021, 10, 31, 0, 0),\n                             datetime.datetime(2021, 11, 30, 0, 0),\n                             datetime.datetime(2021, 12, 31, 0, 0),\n                             datetime.datetime(2022, 1, 31, 0, 0),\n                             datetime.datetime(2022, 2, 28, 0, 0),\n                             datetime.datetime(2022, 3, 31, 0, 0),\n                             datetime.datetime(2022, 4, 30, 0, 0),\n                             datetime.datetime(2022, 5, 31, 0, 0),\n                             datetime.datetime(2022, 6, 30, 0, 0),\n                             datetime.datetime(2022, 7, 31, 0, 0),\n                             datetime.datetime(2022, 8, 31, 0, 0)], dtype=object),\n                 'xaxis': 'x',\n                 'y': array([1.01694915e+00, 0.00000000e+00, 2.70275792e+00, 1.45454545e+00,\n                             4.16248746e-01, 9.61915125e-01, 1.37755102e+00, 1.04567308e-01,\n                             4.38818565e-01, 5.99221790e-01, 2.66836086e+00, 5.57746479e+00,\n                             6.02960969e-01, 1.27654321e+01, 1.48333333e+01, 1.56358118e+01,\n                             2.58192628e+01, 1.28409091e+01, 4.35822637e+01, 3.17045455e+00,\n                             1.91577225e+02, 1.72378223e+01, 4.52551834e+01, 3.64800000e+00,\n                             2.61485714e+01, 1.56164384e+01, 5.45924765e+00, 4.27289048e+00,\n                             1.12411765e+01, 9.11669368e+00, 4.21170213e+01, 1.07295082e+01,\n                             1.51626409e+01, 2.36910569e+01, 9.97443609e+00, 1.38147651e+01,\n                             2.90620872e+00, 5.84919473e+00, 1.42912621e+01, 1.22241087e+00,\n                             3.22120419e+00, 1.96651446e+00, 1.84818482e-01]),\n                 'yaxis': 'y'},\n                {'hovertemplate': ('Label=Recommended Supplier Mix' ... ' Late Days=%{y}<extra></extra>'),\n                 'legendgroup': 'Recommended Supplier Mix',\n                 'line': {'color': '#EF553B', 'dash': 'solid'},\n                 'marker': {'symbol': 'circle'},\n                 'mode': 'lines',\n                 'name': 'Recommended Supplier Mix',\n                 'orientation': 'v',\n                 'showlegend': True,\n                 'type': 'scatter',\n                 'x': array([datetime.datetime(2021, 10, 31, 0, 0),\n                             datetime.datetime(2021, 11, 30, 0, 0),\n                             datetime.datetime(2021, 12, 31, 0, 0),\n                             datetime.datetime(2022, 1, 31, 0, 0),\n                             datetime.datetime(2022, 2, 28, 0, 0),\n                             datetime.datetime(2022, 3, 31, 0, 0),\n                             datetime.datetime(2022, 4, 30, 0, 0),\n                             datetime.datetime(2022, 5, 31, 0, 0),\n                             datetime.datetime(2022, 6, 30, 0, 0),\n                             datetime.datetime(2022, 7, 31, 0, 0),\n                             datetime.datetime(2022, 8, 31, 0, 0)], dtype=object),\n                 'xaxis': 'x',\n                 'y': array([1.41794020e+00, 1.13637640e+00, 8.12440945e-01, 2.62500000e-01,\n                             4.75971930e+01, 1.99843260e-01, 6.40000000e-02, 0.00000000e+00,\n                             2.78875171e-01, 2.01246106e-01, 1.98581560e-02]),\n                 'yaxis': 'y'}],\n       'layout': {'height': 600,\n                  'legend': {'title': {'text': 'Label'}, 'tracegroupgap': 0},\n                  'shapes': [{'type': 'line',\n                              'x0': Timestamp('2021-10-01 00:00:00'),\n                              'x1': Timestamp('2021-10-01 00:00:00'),\n                              'xref': 'x',\n                              'y0': 0,\n                              'y1': 1,\n                              'yref': 'y domain'}],\n                  'template': '...',\n                  'title': {'text': 'Marginal improvement of using recommended supplier mix'},\n                  'width': 1200,\n                  'xaxis': {'anchor': 'y', 'domain': [0.0, 1.0], 'title': {'text': 'Month'}},\n                  'yaxis': {'anchor': 'x', 'domain': [0.0, 1.0], 'title': {'text': 'Total Late Days'}}}\n   })},\n  'Details': {Timestamp('2021-05-01 00:00:00'):                           Total Late Days\n   Label                                    \n   Actual Supplier Mix            169.761803\n   Recommended Supplier Mix       119.693992,\n   Timestamp('2021-06-01 00:00:00'):                           Total Late Days\n   Label                                    \n   Actual Supplier Mix            165.488912\n   Recommended Supplier Mix        56.289896,\n   Timestamp('2021-07-01 00:00:00'):                           Total Late Days\n   Label                                    \n   Actual Supplier Mix            154.247736\n   Recommended Supplier Mix        55.696692,\n   Timestamp('2021-08-01 00:00:00'):                           Total Late Days\n   Label                                    \n   Actual Supplier Mix            145.131042\n   Recommended Supplier Mix        54.949225,\n   Timestamp('2021-09-01 00:00:00'):                           Total Late Days\n   Label                                    \n   Actual Supplier Mix            103.014021\n   Recommended Supplier Mix        52.944355,\n   Timestamp('2021-10-01 00:00:00'):                           Total Late Days\n   Label                                    \n   Actual Supplier Mix             92.284513\n   Recommended Supplier Mix        51.990273},\n  'Weights': {Timestamp('2021-05-01 00:00:00'): 505993 days_late    0.9\n   551948 days_late    0.0\n   556264 days_late    0.1\n   Name: 51, dtype: float64,\n   Timestamp('2021-06-01 00:00:00'): 505993 days_late    0.9\n   551948 days_late    0.0\n   556264 days_late    0.1\n   Name: 51, dtype: float64,\n   Timestamp('2021-07-01 00:00:00'): 556264 days_late    0.1\n   505993 days_late    0.9\n   551948 days_late    0.0\n   Name: 42, dtype: float64,\n   Timestamp('2021-08-01 00:00:00'): 556264 days_late    0.1\n   505993 days_late    0.9\n   551948 days_late    0.0\n   Name: 42, dtype: float64,\n   Timestamp('2021-09-01 00:00:00'): 556264 days_late    0.1\n   505993 days_late    0.9\n   551948 days_late    0.0\n   Name: 42, dtype: float64,\n   Timestamp('2021-10-01 00:00:00'): 556264 days_late    0.1\n   505993 days_late    0.9\n   551948 days_late    0.0\n   Name: 42, dtype: float64}},\n '013': {'Validation': {Timestamp('2021-05-01 00:00:00'): Figure({\n       'data': [{'hovertemplate': 'Label=Actual Supplier Mix<br>Month=%{x}<br>Total Late Days=%{y}<extra></extra>',\n                 'legendgroup': 'Actual Supplier Mix',\n                 'line': {'color': '#636efa', 'dash': 'solid'},\n                 'marker': {'symbol': 'circle'},\n                 'mode': 'lines',\n                 'name': 'Actual Supplier Mix',\n                 'orientation': 'v',\n                 'showlegend': True,\n                 'type': 'scatter',\n                 'x': array([datetime.datetime(2019, 2, 28, 0, 0),\n                             datetime.datetime(2019, 3, 31, 0, 0),\n                             datetime.datetime(2019, 4, 30, 0, 0),\n                             datetime.datetime(2019, 5, 31, 0, 0),\n                             datetime.datetime(2019, 6, 30, 0, 0),\n                             datetime.datetime(2019, 7, 31, 0, 0),\n                             datetime.datetime(2019, 8, 31, 0, 0),\n                             datetime.datetime(2019, 9, 30, 0, 0),\n                             datetime.datetime(2019, 10, 31, 0, 0),\n                             datetime.datetime(2019, 11, 30, 0, 0),\n                             datetime.datetime(2019, 12, 31, 0, 0),\n                             datetime.datetime(2020, 1, 31, 0, 0),\n                             datetime.datetime(2020, 2, 29, 0, 0),\n                             datetime.datetime(2020, 3, 31, 0, 0),\n                             datetime.datetime(2020, 4, 30, 0, 0),\n                             datetime.datetime(2020, 5, 31, 0, 0),\n                             datetime.datetime(2020, 6, 30, 0, 0),\n                             datetime.datetime(2020, 7, 31, 0, 0),\n                             datetime.datetime(2020, 8, 31, 0, 0),\n                             datetime.datetime(2020, 9, 30, 0, 0),\n                             datetime.datetime(2020, 10, 31, 0, 0),\n                             datetime.datetime(2020, 11, 30, 0, 0),\n                             datetime.datetime(2020, 12, 31, 0, 0),\n                             datetime.datetime(2021, 1, 31, 0, 0),\n                             datetime.datetime(2021, 2, 28, 0, 0),\n                             datetime.datetime(2021, 3, 31, 0, 0),\n                             datetime.datetime(2021, 4, 30, 0, 0),\n                             datetime.datetime(2021, 5, 31, 0, 0),\n                             datetime.datetime(2021, 6, 30, 0, 0),\n                             datetime.datetime(2021, 7, 31, 0, 0),\n                             datetime.datetime(2021, 8, 31, 0, 0),\n                             datetime.datetime(2021, 9, 30, 0, 0),\n                             datetime.datetime(2021, 10, 31, 0, 0),\n                             datetime.datetime(2021, 11, 30, 0, 0),\n                             datetime.datetime(2021, 12, 31, 0, 0),\n                             datetime.datetime(2022, 1, 31, 0, 0),\n                             datetime.datetime(2022, 2, 28, 0, 0),\n                             datetime.datetime(2022, 3, 31, 0, 0),\n                             datetime.datetime(2022, 4, 30, 0, 0),\n                             datetime.datetime(2022, 5, 31, 0, 0),\n                             datetime.datetime(2022, 6, 30, 0, 0),\n                             datetime.datetime(2022, 7, 31, 0, 0),\n                             datetime.datetime(2022, 8, 31, 0, 0)], dtype=object),\n                 'xaxis': 'x',\n                 'y': array([  0.        ,   1.98484848,   3.87969925,   6.87544484,  23.87434555,\n                              35.65876777,  23.60869565,  21.        ,  17.63709677,  10.93714286,\n                               5.89772727,   0.        ,  11.91666667, 156.85135135,  25.        ,\n                              10.93209877,  17.68786127,  34.33712121,  50.09039548,  10.76842105,\n                             135.27659574,  15.09090909,  49.38582677,  20.57480315,  21.62601626,\n                              28.38888889,  64.89583333,  22.28421053,  17.30097087,  64.07843137,\n                              91.77884615,  61.43396226,  79.24271845,  57.44545455,  87.46666667,\n                              30.58823529,  29.47368421,  76.57657658,   4.85106383,  16.1875    ,\n                              20.26315789,   7.05405405,   0.        ]),\n                 'yaxis': 'y'},\n                {'hovertemplate': ('Label=Recommended Supplier Mix' ... ' Late Days=%{y}<extra></extra>'),\n                 'legendgroup': 'Recommended Supplier Mix',\n                 'line': {'color': '#EF553B', 'dash': 'solid'},\n                 'marker': {'symbol': 'circle'},\n                 'mode': 'lines',\n                 'name': 'Recommended Supplier Mix',\n                 'orientation': 'v',\n                 'showlegend': True,\n                 'type': 'scatter',\n                 'x': array([datetime.datetime(2021, 5, 31, 0, 0),\n                             datetime.datetime(2021, 6, 30, 0, 0),\n                             datetime.datetime(2021, 7, 31, 0, 0),\n                             datetime.datetime(2021, 8, 31, 0, 0),\n                             datetime.datetime(2021, 9, 30, 0, 0),\n                             datetime.datetime(2021, 10, 31, 0, 0),\n                             datetime.datetime(2021, 11, 30, 0, 0),\n                             datetime.datetime(2021, 12, 31, 0, 0),\n                             datetime.datetime(2022, 1, 31, 0, 0),\n                             datetime.datetime(2022, 2, 28, 0, 0),\n                             datetime.datetime(2022, 3, 31, 0, 0),\n                             datetime.datetime(2022, 4, 30, 0, 0),\n                             datetime.datetime(2022, 5, 31, 0, 0),\n                             datetime.datetime(2022, 6, 30, 0, 0),\n                             datetime.datetime(2022, 7, 31, 0, 0),\n                             datetime.datetime(2022, 8, 31, 0, 0)], dtype=object),\n                 'xaxis': 'x',\n                 'y': array([ 7.64578947,  1.62      ,  2.58      ,  3.32      ,  9.35      ,\n                             11.10576923, 34.19473684, 29.90588235, 19.5       , 33.2       ,\n                             29.75      ,  7.6       ,  7.4       ,  7.7       ,  4.35      ,\n                              0.        ]),\n                 'yaxis': 'y'}],\n       'layout': {'height': 600,\n                  'legend': {'title': {'text': 'Label'}, 'tracegroupgap': 0},\n                  'shapes': [{'type': 'line',\n                              'x0': Timestamp('2021-05-01 00:00:00'),\n                              'x1': Timestamp('2021-05-01 00:00:00'),\n                              'xref': 'x',\n                              'y0': 0,\n                              'y1': 1,\n                              'yref': 'y domain'}],\n                  'template': '...',\n                  'title': {'text': 'Marginal improvement of using recommended supplier mix'},\n                  'width': 1200,\n                  'xaxis': {'anchor': 'y', 'domain': [0.0, 1.0], 'title': {'text': 'Month'}},\n                  'yaxis': {'anchor': 'x', 'domain': [0.0, 1.0], 'title': {'text': 'Total Late Days'}}}\n   }),\n   Timestamp('2021-06-01 00:00:00'): Figure({\n       'data': [{'hovertemplate': 'Label=Actual Supplier Mix<br>Month=%{x}<br>Total Late Days=%{y}<extra></extra>',\n                 'legendgroup': 'Actual Supplier Mix',\n                 'line': {'color': '#636efa', 'dash': 'solid'},\n                 'marker': {'symbol': 'circle'},\n                 'mode': 'lines',\n                 'name': 'Actual Supplier Mix',\n                 'orientation': 'v',\n                 'showlegend': True,\n                 'type': 'scatter',\n                 'x': array([datetime.datetime(2019, 2, 28, 0, 0),\n                             datetime.datetime(2019, 3, 31, 0, 0),\n                             datetime.datetime(2019, 4, 30, 0, 0),\n                             datetime.datetime(2019, 5, 31, 0, 0),\n                             datetime.datetime(2019, 6, 30, 0, 0),\n                             datetime.datetime(2019, 7, 31, 0, 0),\n                             datetime.datetime(2019, 8, 31, 0, 0),\n                             datetime.datetime(2019, 9, 30, 0, 0),\n                             datetime.datetime(2019, 10, 31, 0, 0),\n                             datetime.datetime(2019, 11, 30, 0, 0),\n                             datetime.datetime(2019, 12, 31, 0, 0),\n                             datetime.datetime(2020, 1, 31, 0, 0),\n                             datetime.datetime(2020, 2, 29, 0, 0),\n                             datetime.datetime(2020, 3, 31, 0, 0),\n                             datetime.datetime(2020, 4, 30, 0, 0),\n                             datetime.datetime(2020, 5, 31, 0, 0),\n                             datetime.datetime(2020, 6, 30, 0, 0),\n                             datetime.datetime(2020, 7, 31, 0, 0),\n                             datetime.datetime(2020, 8, 31, 0, 0),\n                             datetime.datetime(2020, 9, 30, 0, 0),\n                             datetime.datetime(2020, 10, 31, 0, 0),\n                             datetime.datetime(2020, 11, 30, 0, 0),\n                             datetime.datetime(2020, 12, 31, 0, 0),\n                             datetime.datetime(2021, 1, 31, 0, 0),\n                             datetime.datetime(2021, 2, 28, 0, 0),\n                             datetime.datetime(2021, 3, 31, 0, 0),\n                             datetime.datetime(2021, 4, 30, 0, 0),\n                             datetime.datetime(2021, 5, 31, 0, 0),\n                             datetime.datetime(2021, 6, 30, 0, 0),\n                             datetime.datetime(2021, 7, 31, 0, 0),\n                             datetime.datetime(2021, 8, 31, 0, 0),\n                             datetime.datetime(2021, 9, 30, 0, 0),\n                             datetime.datetime(2021, 10, 31, 0, 0),\n                             datetime.datetime(2021, 11, 30, 0, 0),\n                             datetime.datetime(2021, 12, 31, 0, 0),\n                             datetime.datetime(2022, 1, 31, 0, 0),\n                             datetime.datetime(2022, 2, 28, 0, 0),\n                             datetime.datetime(2022, 3, 31, 0, 0),\n                             datetime.datetime(2022, 4, 30, 0, 0),\n                             datetime.datetime(2022, 5, 31, 0, 0),\n                             datetime.datetime(2022, 6, 30, 0, 0),\n                             datetime.datetime(2022, 7, 31, 0, 0),\n                             datetime.datetime(2022, 8, 31, 0, 0)], dtype=object),\n                 'xaxis': 'x',\n                 'y': array([  0.        ,   1.98484848,   3.87969925,   6.87544484,  23.87434555,\n                              35.65876777,  23.60869565,  21.        ,  17.63709677,  10.93714286,\n                               5.89772727,   0.        ,  11.91666667, 156.85135135,  25.        ,\n                              10.93209877,  17.68786127,  34.33712121,  50.09039548,  10.76842105,\n                             135.27659574,  15.09090909,  49.38582677,  20.57480315,  21.62601626,\n                              28.38888889,  64.89583333,  22.28421053,  17.30097087,  64.07843137,\n                              91.77884615,  61.43396226,  79.24271845,  57.44545455,  87.46666667,\n                              30.58823529,  29.47368421,  76.57657658,   4.85106383,  16.1875    ,\n                              20.26315789,   7.05405405,   0.        ]),\n                 'yaxis': 'y'},\n                {'hovertemplate': ('Label=Recommended Supplier Mix' ... ' Late Days=%{y}<extra></extra>'),\n                 'legendgroup': 'Recommended Supplier Mix',\n                 'line': {'color': '#EF553B', 'dash': 'solid'},\n                 'marker': {'symbol': 'circle'},\n                 'mode': 'lines',\n                 'name': 'Recommended Supplier Mix',\n                 'orientation': 'v',\n                 'showlegend': True,\n                 'type': 'scatter',\n                 'x': array([datetime.datetime(2021, 6, 30, 0, 0),\n                             datetime.datetime(2021, 7, 31, 0, 0),\n                             datetime.datetime(2021, 8, 31, 0, 0),\n                             datetime.datetime(2021, 9, 30, 0, 0),\n                             datetime.datetime(2021, 10, 31, 0, 0),\n                             datetime.datetime(2021, 11, 30, 0, 0),\n                             datetime.datetime(2021, 12, 31, 0, 0),\n                             datetime.datetime(2022, 1, 31, 0, 0),\n                             datetime.datetime(2022, 2, 28, 0, 0),\n                             datetime.datetime(2022, 3, 31, 0, 0),\n                             datetime.datetime(2022, 4, 30, 0, 0),\n                             datetime.datetime(2022, 5, 31, 0, 0),\n                             datetime.datetime(2022, 6, 30, 0, 0),\n                             datetime.datetime(2022, 7, 31, 0, 0),\n                             datetime.datetime(2022, 8, 31, 0, 0)], dtype=object),\n                 'xaxis': 'x',\n                 'y': array([ 1.62      ,  2.58      ,  3.32      ,  9.35      , 11.10576923,\n                             34.19473684, 29.90588235, 19.5       , 33.2       , 29.75      ,\n                              7.6       ,  7.4       ,  7.7       ,  4.35      ,  0.        ]),\n                 'yaxis': 'y'}],\n       'layout': {'height': 600,\n                  'legend': {'title': {'text': 'Label'}, 'tracegroupgap': 0},\n                  'shapes': [{'type': 'line',\n                              'x0': Timestamp('2021-06-01 00:00:00'),\n                              'x1': Timestamp('2021-06-01 00:00:00'),\n                              'xref': 'x',\n                              'y0': 0,\n                              'y1': 1,\n                              'yref': 'y domain'}],\n                  'template': '...',\n                  'title': {'text': 'Marginal improvement of using recommended supplier mix'},\n                  'width': 1200,\n                  'xaxis': {'anchor': 'y', 'domain': [0.0, 1.0], 'title': {'text': 'Month'}},\n                  'yaxis': {'anchor': 'x', 'domain': [0.0, 1.0], 'title': {'text': 'Total Late Days'}}}\n   }),\n   Timestamp('2021-07-01 00:00:00'): Figure({\n       'data': [{'hovertemplate': 'Label=Actual Supplier Mix<br>Month=%{x}<br>Total Late Days=%{y}<extra></extra>',\n                 'legendgroup': 'Actual Supplier Mix',\n                 'line': {'color': '#636efa', 'dash': 'solid'},\n                 'marker': {'symbol': 'circle'},\n                 'mode': 'lines',\n                 'name': 'Actual Supplier Mix',\n                 'orientation': 'v',\n                 'showlegend': True,\n                 'type': 'scatter',\n                 'x': array([datetime.datetime(2019, 2, 28, 0, 0),\n                             datetime.datetime(2019, 3, 31, 0, 0),\n                             datetime.datetime(2019, 4, 30, 0, 0),\n                             datetime.datetime(2019, 5, 31, 0, 0),\n                             datetime.datetime(2019, 6, 30, 0, 0),\n                             datetime.datetime(2019, 7, 31, 0, 0),\n                             datetime.datetime(2019, 8, 31, 0, 0),\n                             datetime.datetime(2019, 9, 30, 0, 0),\n                             datetime.datetime(2019, 10, 31, 0, 0),\n                             datetime.datetime(2019, 11, 30, 0, 0),\n                             datetime.datetime(2019, 12, 31, 0, 0),\n                             datetime.datetime(2020, 1, 31, 0, 0),\n                             datetime.datetime(2020, 2, 29, 0, 0),\n                             datetime.datetime(2020, 3, 31, 0, 0),\n                             datetime.datetime(2020, 4, 30, 0, 0),\n                             datetime.datetime(2020, 5, 31, 0, 0),\n                             datetime.datetime(2020, 6, 30, 0, 0),\n                             datetime.datetime(2020, 7, 31, 0, 0),\n                             datetime.datetime(2020, 8, 31, 0, 0),\n                             datetime.datetime(2020, 9, 30, 0, 0),\n                             datetime.datetime(2020, 10, 31, 0, 0),\n                             datetime.datetime(2020, 11, 30, 0, 0),\n                             datetime.datetime(2020, 12, 31, 0, 0),\n                             datetime.datetime(2021, 1, 31, 0, 0),\n                             datetime.datetime(2021, 2, 28, 0, 0),\n                             datetime.datetime(2021, 3, 31, 0, 0),\n                             datetime.datetime(2021, 4, 30, 0, 0),\n                             datetime.datetime(2021, 5, 31, 0, 0),\n                             datetime.datetime(2021, 6, 30, 0, 0),\n                             datetime.datetime(2021, 7, 31, 0, 0),\n                             datetime.datetime(2021, 8, 31, 0, 0),\n                             datetime.datetime(2021, 9, 30, 0, 0),\n                             datetime.datetime(2021, 10, 31, 0, 0),\n                             datetime.datetime(2021, 11, 30, 0, 0),\n                             datetime.datetime(2021, 12, 31, 0, 0),\n                             datetime.datetime(2022, 1, 31, 0, 0),\n                             datetime.datetime(2022, 2, 28, 0, 0),\n                             datetime.datetime(2022, 3, 31, 0, 0),\n                             datetime.datetime(2022, 4, 30, 0, 0),\n                             datetime.datetime(2022, 5, 31, 0, 0),\n                             datetime.datetime(2022, 6, 30, 0, 0),\n                             datetime.datetime(2022, 7, 31, 0, 0),\n                             datetime.datetime(2022, 8, 31, 0, 0)], dtype=object),\n                 'xaxis': 'x',\n                 'y': array([  0.        ,   1.98484848,   3.87969925,   6.87544484,  23.87434555,\n                              35.65876777,  23.60869565,  21.        ,  17.63709677,  10.93714286,\n                               5.89772727,   0.        ,  11.91666667, 156.85135135,  25.        ,\n                              10.93209877,  17.68786127,  34.33712121,  50.09039548,  10.76842105,\n                             135.27659574,  15.09090909,  49.38582677,  20.57480315,  21.62601626,\n                              28.38888889,  64.89583333,  22.28421053,  17.30097087,  64.07843137,\n                              91.77884615,  61.43396226,  79.24271845,  57.44545455,  87.46666667,\n                              30.58823529,  29.47368421,  76.57657658,   4.85106383,  16.1875    ,\n                              20.26315789,   7.05405405,   0.        ]),\n                 'yaxis': 'y'},\n                {'hovertemplate': ('Label=Recommended Supplier Mix' ... ' Late Days=%{y}<extra></extra>'),\n                 'legendgroup': 'Recommended Supplier Mix',\n                 'line': {'color': '#EF553B', 'dash': 'solid'},\n                 'marker': {'symbol': 'circle'},\n                 'mode': 'lines',\n                 'name': 'Recommended Supplier Mix',\n                 'orientation': 'v',\n                 'showlegend': True,\n                 'type': 'scatter',\n                 'x': array([datetime.datetime(2021, 7, 31, 0, 0),\n                             datetime.datetime(2021, 8, 31, 0, 0),\n                             datetime.datetime(2021, 9, 30, 0, 0),\n                             datetime.datetime(2021, 10, 31, 0, 0),\n                             datetime.datetime(2021, 11, 30, 0, 0),\n                             datetime.datetime(2021, 12, 31, 0, 0),\n                             datetime.datetime(2022, 1, 31, 0, 0),\n                             datetime.datetime(2022, 2, 28, 0, 0),\n                             datetime.datetime(2022, 3, 31, 0, 0),\n                             datetime.datetime(2022, 4, 30, 0, 0),\n                             datetime.datetime(2022, 5, 31, 0, 0),\n                             datetime.datetime(2022, 6, 30, 0, 0),\n                             datetime.datetime(2022, 7, 31, 0, 0),\n                             datetime.datetime(2022, 8, 31, 0, 0)], dtype=object),\n                 'xaxis': 'x',\n                 'y': array([ 2.58      ,  3.32      ,  9.35      , 11.10576923, 34.19473684,\n                             29.90588235, 19.5       , 33.2       , 29.75      ,  7.6       ,\n                              7.4       ,  7.7       ,  4.35      ,  0.        ]),\n                 'yaxis': 'y'}],\n       'layout': {'height': 600,\n                  'legend': {'title': {'text': 'Label'}, 'tracegroupgap': 0},\n                  'shapes': [{'type': 'line',\n                              'x0': Timestamp('2021-07-01 00:00:00'),\n                              'x1': Timestamp('2021-07-01 00:00:00'),\n                              'xref': 'x',\n                              'y0': 0,\n                              'y1': 1,\n                              'yref': 'y domain'}],\n                  'template': '...',\n                  'title': {'text': 'Marginal improvement of using recommended supplier mix'},\n                  'width': 1200,\n                  'xaxis': {'anchor': 'y', 'domain': [0.0, 1.0], 'title': {'text': 'Month'}},\n                  'yaxis': {'anchor': 'x', 'domain': [0.0, 1.0], 'title': {'text': 'Total Late Days'}}}\n   }),\n   Timestamp('2021-08-01 00:00:00'): Figure({\n       'data': [{'hovertemplate': 'Label=Actual Supplier Mix<br>Month=%{x}<br>Total Late Days=%{y}<extra></extra>',\n                 'legendgroup': 'Actual Supplier Mix',\n                 'line': {'color': '#636efa', 'dash': 'solid'},\n                 'marker': {'symbol': 'circle'},\n                 'mode': 'lines',\n                 'name': 'Actual Supplier Mix',\n                 'orientation': 'v',\n                 'showlegend': True,\n                 'type': 'scatter',\n                 'x': array([datetime.datetime(2019, 2, 28, 0, 0),\n                             datetime.datetime(2019, 3, 31, 0, 0),\n                             datetime.datetime(2019, 4, 30, 0, 0),\n                             datetime.datetime(2019, 5, 31, 0, 0),\n                             datetime.datetime(2019, 6, 30, 0, 0),\n                             datetime.datetime(2019, 7, 31, 0, 0),\n                             datetime.datetime(2019, 8, 31, 0, 0),\n                             datetime.datetime(2019, 9, 30, 0, 0),\n                             datetime.datetime(2019, 10, 31, 0, 0),\n                             datetime.datetime(2019, 11, 30, 0, 0),\n                             datetime.datetime(2019, 12, 31, 0, 0),\n                             datetime.datetime(2020, 1, 31, 0, 0),\n                             datetime.datetime(2020, 2, 29, 0, 0),\n                             datetime.datetime(2020, 3, 31, 0, 0),\n                             datetime.datetime(2020, 4, 30, 0, 0),\n                             datetime.datetime(2020, 5, 31, 0, 0),\n                             datetime.datetime(2020, 6, 30, 0, 0),\n                             datetime.datetime(2020, 7, 31, 0, 0),\n                             datetime.datetime(2020, 8, 31, 0, 0),\n                             datetime.datetime(2020, 9, 30, 0, 0),\n                             datetime.datetime(2020, 10, 31, 0, 0),\n                             datetime.datetime(2020, 11, 30, 0, 0),\n                             datetime.datetime(2020, 12, 31, 0, 0),\n                             datetime.datetime(2021, 1, 31, 0, 0),\n                             datetime.datetime(2021, 2, 28, 0, 0),\n                             datetime.datetime(2021, 3, 31, 0, 0),\n                             datetime.datetime(2021, 4, 30, 0, 0),\n                             datetime.datetime(2021, 5, 31, 0, 0),\n                             datetime.datetime(2021, 6, 30, 0, 0),\n                             datetime.datetime(2021, 7, 31, 0, 0),\n                             datetime.datetime(2021, 8, 31, 0, 0),\n                             datetime.datetime(2021, 9, 30, 0, 0),\n                             datetime.datetime(2021, 10, 31, 0, 0),\n                             datetime.datetime(2021, 11, 30, 0, 0),\n                             datetime.datetime(2021, 12, 31, 0, 0),\n                             datetime.datetime(2022, 1, 31, 0, 0),\n                             datetime.datetime(2022, 2, 28, 0, 0),\n                             datetime.datetime(2022, 3, 31, 0, 0),\n                             datetime.datetime(2022, 4, 30, 0, 0),\n                             datetime.datetime(2022, 5, 31, 0, 0),\n                             datetime.datetime(2022, 6, 30, 0, 0),\n                             datetime.datetime(2022, 7, 31, 0, 0),\n                             datetime.datetime(2022, 8, 31, 0, 0)], dtype=object),\n                 'xaxis': 'x',\n                 'y': array([  0.        ,   1.98484848,   3.87969925,   6.87544484,  23.87434555,\n                              35.65876777,  23.60869565,  21.        ,  17.63709677,  10.93714286,\n                               5.89772727,   0.        ,  11.91666667, 156.85135135,  25.        ,\n                              10.93209877,  17.68786127,  34.33712121,  50.09039548,  10.76842105,\n                             135.27659574,  15.09090909,  49.38582677,  20.57480315,  21.62601626,\n                              28.38888889,  64.89583333,  22.28421053,  17.30097087,  64.07843137,\n                              91.77884615,  61.43396226,  79.24271845,  57.44545455,  87.46666667,\n                              30.58823529,  29.47368421,  76.57657658,   4.85106383,  16.1875    ,\n                              20.26315789,   7.05405405,   0.        ]),\n                 'yaxis': 'y'},\n                {'hovertemplate': ('Label=Recommended Supplier Mix' ... ' Late Days=%{y}<extra></extra>'),\n                 'legendgroup': 'Recommended Supplier Mix',\n                 'line': {'color': '#EF553B', 'dash': 'solid'},\n                 'marker': {'symbol': 'circle'},\n                 'mode': 'lines',\n                 'name': 'Recommended Supplier Mix',\n                 'orientation': 'v',\n                 'showlegend': True,\n                 'type': 'scatter',\n                 'x': array([datetime.datetime(2021, 8, 31, 0, 0),\n                             datetime.datetime(2021, 9, 30, 0, 0),\n                             datetime.datetime(2021, 10, 31, 0, 0),\n                             datetime.datetime(2021, 11, 30, 0, 0),\n                             datetime.datetime(2021, 12, 31, 0, 0),\n                             datetime.datetime(2022, 1, 31, 0, 0),\n                             datetime.datetime(2022, 2, 28, 0, 0),\n                             datetime.datetime(2022, 3, 31, 0, 0),\n                             datetime.datetime(2022, 4, 30, 0, 0),\n                             datetime.datetime(2022, 5, 31, 0, 0),\n                             datetime.datetime(2022, 6, 30, 0, 0),\n                             datetime.datetime(2022, 7, 31, 0, 0),\n                             datetime.datetime(2022, 8, 31, 0, 0)], dtype=object),\n                 'xaxis': 'x',\n                 'y': array([ 3.32      ,  9.35      , 11.10576923, 34.19473684, 29.90588235,\n                             19.5       , 33.2       , 29.75      ,  7.6       ,  7.4       ,\n                              7.7       ,  4.35      ,  0.        ]),\n                 'yaxis': 'y'}],\n       'layout': {'height': 600,\n                  'legend': {'title': {'text': 'Label'}, 'tracegroupgap': 0},\n                  'shapes': [{'type': 'line',\n                              'x0': Timestamp('2021-08-01 00:00:00'),\n                              'x1': Timestamp('2021-08-01 00:00:00'),\n                              'xref': 'x',\n                              'y0': 0,\n                              'y1': 1,\n                              'yref': 'y domain'}],\n                  'template': '...',\n                  'title': {'text': 'Marginal improvement of using recommended supplier mix'},\n                  'width': 1200,\n                  'xaxis': {'anchor': 'y', 'domain': [0.0, 1.0], 'title': {'text': 'Month'}},\n                  'yaxis': {'anchor': 'x', 'domain': [0.0, 1.0], 'title': {'text': 'Total Late Days'}}}\n   }),\n   Timestamp('2021-09-01 00:00:00'): Figure({\n       'data': [{'hovertemplate': 'Label=Actual Supplier Mix<br>Month=%{x}<br>Total Late Days=%{y}<extra></extra>',\n                 'legendgroup': 'Actual Supplier Mix',\n                 'line': {'color': '#636efa', 'dash': 'solid'},\n                 'marker': {'symbol': 'circle'},\n                 'mode': 'lines',\n                 'name': 'Actual Supplier Mix',\n                 'orientation': 'v',\n                 'showlegend': True,\n                 'type': 'scatter',\n                 'x': array([datetime.datetime(2019, 2, 28, 0, 0),\n                             datetime.datetime(2019, 3, 31, 0, 0),\n                             datetime.datetime(2019, 4, 30, 0, 0),\n                             datetime.datetime(2019, 5, 31, 0, 0),\n                             datetime.datetime(2019, 6, 30, 0, 0),\n                             datetime.datetime(2019, 7, 31, 0, 0),\n                             datetime.datetime(2019, 8, 31, 0, 0),\n                             datetime.datetime(2019, 9, 30, 0, 0),\n                             datetime.datetime(2019, 10, 31, 0, 0),\n                             datetime.datetime(2019, 11, 30, 0, 0),\n                             datetime.datetime(2019, 12, 31, 0, 0),\n                             datetime.datetime(2020, 1, 31, 0, 0),\n                             datetime.datetime(2020, 2, 29, 0, 0),\n                             datetime.datetime(2020, 3, 31, 0, 0),\n                             datetime.datetime(2020, 4, 30, 0, 0),\n                             datetime.datetime(2020, 5, 31, 0, 0),\n                             datetime.datetime(2020, 6, 30, 0, 0),\n                             datetime.datetime(2020, 7, 31, 0, 0),\n                             datetime.datetime(2020, 8, 31, 0, 0),\n                             datetime.datetime(2020, 9, 30, 0, 0),\n                             datetime.datetime(2020, 10, 31, 0, 0),\n                             datetime.datetime(2020, 11, 30, 0, 0),\n                             datetime.datetime(2020, 12, 31, 0, 0),\n                             datetime.datetime(2021, 1, 31, 0, 0),\n                             datetime.datetime(2021, 2, 28, 0, 0),\n                             datetime.datetime(2021, 3, 31, 0, 0),\n                             datetime.datetime(2021, 4, 30, 0, 0),\n                             datetime.datetime(2021, 5, 31, 0, 0),\n                             datetime.datetime(2021, 6, 30, 0, 0),\n                             datetime.datetime(2021, 7, 31, 0, 0),\n                             datetime.datetime(2021, 8, 31, 0, 0),\n                             datetime.datetime(2021, 9, 30, 0, 0),\n                             datetime.datetime(2021, 10, 31, 0, 0),\n                             datetime.datetime(2021, 11, 30, 0, 0),\n                             datetime.datetime(2021, 12, 31, 0, 0),\n                             datetime.datetime(2022, 1, 31, 0, 0),\n                             datetime.datetime(2022, 2, 28, 0, 0),\n                             datetime.datetime(2022, 3, 31, 0, 0),\n                             datetime.datetime(2022, 4, 30, 0, 0),\n                             datetime.datetime(2022, 5, 31, 0, 0),\n                             datetime.datetime(2022, 6, 30, 0, 0),\n                             datetime.datetime(2022, 7, 31, 0, 0),\n                             datetime.datetime(2022, 8, 31, 0, 0)], dtype=object),\n                 'xaxis': 'x',\n                 'y': array([  0.        ,   1.98484848,   3.87969925,   6.87544484,  23.87434555,\n                              35.65876777,  23.60869565,  21.        ,  17.63709677,  10.93714286,\n                               5.89772727,   0.        ,  11.91666667, 156.85135135,  25.        ,\n                              10.93209877,  17.68786127,  34.33712121,  50.09039548,  10.76842105,\n                             135.27659574,  15.09090909,  49.38582677,  20.57480315,  21.62601626,\n                              28.38888889,  64.89583333,  22.28421053,  17.30097087,  64.07843137,\n                              91.77884615,  61.43396226,  79.24271845,  57.44545455,  87.46666667,\n                              30.58823529,  29.47368421,  76.57657658,   4.85106383,  16.1875    ,\n                              20.26315789,   7.05405405,   0.        ]),\n                 'yaxis': 'y'},\n                {'hovertemplate': ('Label=Recommended Supplier Mix' ... ' Late Days=%{y}<extra></extra>'),\n                 'legendgroup': 'Recommended Supplier Mix',\n                 'line': {'color': '#EF553B', 'dash': 'solid'},\n                 'marker': {'symbol': 'circle'},\n                 'mode': 'lines',\n                 'name': 'Recommended Supplier Mix',\n                 'orientation': 'v',\n                 'showlegend': True,\n                 'type': 'scatter',\n                 'x': array([datetime.datetime(2021, 9, 30, 0, 0),\n                             datetime.datetime(2021, 10, 31, 0, 0),\n                             datetime.datetime(2021, 11, 30, 0, 0),\n                             datetime.datetime(2021, 12, 31, 0, 0),\n                             datetime.datetime(2022, 1, 31, 0, 0),\n                             datetime.datetime(2022, 2, 28, 0, 0),\n                             datetime.datetime(2022, 3, 31, 0, 0),\n                             datetime.datetime(2022, 4, 30, 0, 0),\n                             datetime.datetime(2022, 5, 31, 0, 0),\n                             datetime.datetime(2022, 6, 30, 0, 0),\n                             datetime.datetime(2022, 7, 31, 0, 0),\n                             datetime.datetime(2022, 8, 31, 0, 0)], dtype=object),\n                 'xaxis': 'x',\n                 'y': array([ 9.35      , 11.10576923, 34.19473684, 29.90588235, 19.5       ,\n                             33.2       , 29.75      ,  7.6       ,  7.4       ,  7.7       ,\n                              4.35      ,  0.        ]),\n                 'yaxis': 'y'}],\n       'layout': {'height': 600,\n                  'legend': {'title': {'text': 'Label'}, 'tracegroupgap': 0},\n                  'shapes': [{'type': 'line',\n                              'x0': Timestamp('2021-09-01 00:00:00'),\n                              'x1': Timestamp('2021-09-01 00:00:00'),\n                              'xref': 'x',\n                              'y0': 0,\n                              'y1': 1,\n                              'yref': 'y domain'}],\n                  'template': '...',\n                  'title': {'text': 'Marginal improvement of using recommended supplier mix'},\n                  'width': 1200,\n                  'xaxis': {'anchor': 'y', 'domain': [0.0, 1.0], 'title': {'text': 'Month'}},\n                  'yaxis': {'anchor': 'x', 'domain': [0.0, 1.0], 'title': {'text': 'Total Late Days'}}}\n   }),\n   Timestamp('2021-10-01 00:00:00'): Figure({\n       'data': [{'hovertemplate': 'Label=Actual Supplier Mix<br>Month=%{x}<br>Total Late Days=%{y}<extra></extra>',\n                 'legendgroup': 'Actual Supplier Mix',\n                 'line': {'color': '#636efa', 'dash': 'solid'},\n                 'marker': {'symbol': 'circle'},\n                 'mode': 'lines',\n                 'name': 'Actual Supplier Mix',\n                 'orientation': 'v',\n                 'showlegend': True,\n                 'type': 'scatter',\n                 'x': array([datetime.datetime(2019, 2, 28, 0, 0),\n                             datetime.datetime(2019, 3, 31, 0, 0),\n                             datetime.datetime(2019, 4, 30, 0, 0),\n                             datetime.datetime(2019, 5, 31, 0, 0),\n                             datetime.datetime(2019, 6, 30, 0, 0),\n                             datetime.datetime(2019, 7, 31, 0, 0),\n                             datetime.datetime(2019, 8, 31, 0, 0),\n                             datetime.datetime(2019, 9, 30, 0, 0),\n                             datetime.datetime(2019, 10, 31, 0, 0),\n                             datetime.datetime(2019, 11, 30, 0, 0),\n                             datetime.datetime(2019, 12, 31, 0, 0),\n                             datetime.datetime(2020, 1, 31, 0, 0),\n                             datetime.datetime(2020, 2, 29, 0, 0),\n                             datetime.datetime(2020, 3, 31, 0, 0),\n                             datetime.datetime(2020, 4, 30, 0, 0),\n                             datetime.datetime(2020, 5, 31, 0, 0),\n                             datetime.datetime(2020, 6, 30, 0, 0),\n                             datetime.datetime(2020, 7, 31, 0, 0),\n                             datetime.datetime(2020, 8, 31, 0, 0),\n                             datetime.datetime(2020, 9, 30, 0, 0),\n                             datetime.datetime(2020, 10, 31, 0, 0),\n                             datetime.datetime(2020, 11, 30, 0, 0),\n                             datetime.datetime(2020, 12, 31, 0, 0),\n                             datetime.datetime(2021, 1, 31, 0, 0),\n                             datetime.datetime(2021, 2, 28, 0, 0),\n                             datetime.datetime(2021, 3, 31, 0, 0),\n                             datetime.datetime(2021, 4, 30, 0, 0),\n                             datetime.datetime(2021, 5, 31, 0, 0),\n                             datetime.datetime(2021, 6, 30, 0, 0),\n                             datetime.datetime(2021, 7, 31, 0, 0),\n                             datetime.datetime(2021, 8, 31, 0, 0),\n                             datetime.datetime(2021, 9, 30, 0, 0),\n                             datetime.datetime(2021, 10, 31, 0, 0),\n                             datetime.datetime(2021, 11, 30, 0, 0),\n                             datetime.datetime(2021, 12, 31, 0, 0),\n                             datetime.datetime(2022, 1, 31, 0, 0),\n                             datetime.datetime(2022, 2, 28, 0, 0),\n                             datetime.datetime(2022, 3, 31, 0, 0),\n                             datetime.datetime(2022, 4, 30, 0, 0),\n                             datetime.datetime(2022, 5, 31, 0, 0),\n                             datetime.datetime(2022, 6, 30, 0, 0),\n                             datetime.datetime(2022, 7, 31, 0, 0),\n                             datetime.datetime(2022, 8, 31, 0, 0)], dtype=object),\n                 'xaxis': 'x',\n                 'y': array([  0.        ,   1.98484848,   3.87969925,   6.87544484,  23.87434555,\n                              35.65876777,  23.60869565,  21.        ,  17.63709677,  10.93714286,\n                               5.89772727,   0.        ,  11.91666667, 156.85135135,  25.        ,\n                              10.93209877,  17.68786127,  34.33712121,  50.09039548,  10.76842105,\n                             135.27659574,  15.09090909,  49.38582677,  20.57480315,  21.62601626,\n                              28.38888889,  64.89583333,  22.28421053,  17.30097087,  64.07843137,\n                              91.77884615,  61.43396226,  79.24271845,  57.44545455,  87.46666667,\n                              30.58823529,  29.47368421,  76.57657658,   4.85106383,  16.1875    ,\n                              20.26315789,   7.05405405,   0.        ]),\n                 'yaxis': 'y'},\n                {'hovertemplate': ('Label=Recommended Supplier Mix' ... ' Late Days=%{y}<extra></extra>'),\n                 'legendgroup': 'Recommended Supplier Mix',\n                 'line': {'color': '#EF553B', 'dash': 'solid'},\n                 'marker': {'symbol': 'circle'},\n                 'mode': 'lines',\n                 'name': 'Recommended Supplier Mix',\n                 'orientation': 'v',\n                 'showlegend': True,\n                 'type': 'scatter',\n                 'x': array([datetime.datetime(2021, 10, 31, 0, 0),\n                             datetime.datetime(2021, 11, 30, 0, 0),\n                             datetime.datetime(2021, 12, 31, 0, 0),\n                             datetime.datetime(2022, 1, 31, 0, 0),\n                             datetime.datetime(2022, 2, 28, 0, 0),\n                             datetime.datetime(2022, 3, 31, 0, 0),\n                             datetime.datetime(2022, 4, 30, 0, 0),\n                             datetime.datetime(2022, 5, 31, 0, 0),\n                             datetime.datetime(2022, 6, 30, 0, 0),\n                             datetime.datetime(2022, 7, 31, 0, 0),\n                             datetime.datetime(2022, 8, 31, 0, 0)], dtype=object),\n                 'xaxis': 'x',\n                 'y': array([11.10576923, 34.19473684, 29.90588235, 19.5       , 33.2       ,\n                             29.75      ,  7.6       ,  7.4       ,  7.7       ,  4.35      ,\n                              0.        ]),\n                 'yaxis': 'y'}],\n       'layout': {'height': 600,\n                  'legend': {'title': {'text': 'Label'}, 'tracegroupgap': 0},\n                  'shapes': [{'type': 'line',\n                              'x0': Timestamp('2021-10-01 00:00:00'),\n                              'x1': Timestamp('2021-10-01 00:00:00'),\n                              'xref': 'x',\n                              'y0': 0,\n                              'y1': 1,\n                              'yref': 'y domain'}],\n                  'template': '...',\n                  'title': {'text': 'Marginal improvement of using recommended supplier mix'},\n                  'width': 1200,\n                  'xaxis': {'anchor': 'y', 'domain': [0.0, 1.0], 'title': {'text': 'Month'}},\n                  'yaxis': {'anchor': 'x', 'domain': [0.0, 1.0], 'title': {'text': 'Total Late Days'}}}\n   })},\n  'Details': {Timestamp('2021-05-01 00:00:00'):                           Total Late Days\n   Label                                    \n   Actual Supplier Mix            666.025533\n   Recommended Supplier Mix       209.222178,\n   Timestamp('2021-06-01 00:00:00'):                           Total Late Days\n   Label                                    \n   Actual Supplier Mix            643.741322\n   Recommended Supplier Mix       201.576388,\n   Timestamp('2021-07-01 00:00:00'):                           Total Late Days\n   Label                                    \n   Actual Supplier Mix            626.440351\n   Recommended Supplier Mix       199.956388,\n   Timestamp('2021-08-01 00:00:00'):                           Total Late Days\n   Label                                    \n   Actual Supplier Mix            562.361920\n   Recommended Supplier Mix       197.376388,\n   Timestamp('2021-09-01 00:00:00'):                           Total Late Days\n   Label                                    \n   Actual Supplier Mix            470.583074\n   Recommended Supplier Mix       194.056388,\n   Timestamp('2021-10-01 00:00:00'):                           Total Late Days\n   Label                                    \n   Actual Supplier Mix            409.149112\n   Recommended Supplier Mix       184.706388},\n  'Weights': {Timestamp('2021-05-01 00:00:00'): 569547 days_late    0.9\n   561549 days_late    0.1\n   522865 days_late    0.0\n   Name: 20, dtype: float64,\n   Timestamp('2021-06-01 00:00:00'): 569547 days_late    0.9\n   561549 days_late    0.1\n   522865 days_late    0.0\n   Name: 20, dtype: float64,\n   Timestamp('2021-07-01 00:00:00'): 569547 days_late    0.9\n   561549 days_late    0.1\n   522865 days_late    0.0\n   Name: 20, dtype: float64,\n   Timestamp('2021-08-01 00:00:00'): 569547 days_late    0.9\n   561549 days_late    0.1\n   522865 days_late    0.0\n   Name: 20, dtype: float64,\n   Timestamp('2021-09-01 00:00:00'): 569547 days_late    0.9\n   561549 days_late    0.1\n   522865 days_late    0.0\n   Name: 20, dtype: float64,\n   Timestamp('2021-10-01 00:00:00'): 569547 days_late    0.9\n   561549 days_late    0.1\n   522865 days_late    0.0\n   Name: 20, dtype: float64}},\n '017': {'Validation': {Timestamp('2021-05-01 00:00:00'): Figure({\n       'data': [{'hovertemplate': 'Label=Actual Supplier Mix<br>Month=%{x}<br>Total Late Days=%{y}<extra></extra>',\n                 'legendgroup': 'Actual Supplier Mix',\n                 'line': {'color': '#636efa', 'dash': 'solid'},\n                 'marker': {'symbol': 'circle'},\n                 'mode': 'lines',\n                 'name': 'Actual Supplier Mix',\n                 'orientation': 'v',\n                 'showlegend': True,\n                 'type': 'scatter',\n                 'x': array([datetime.datetime(2018, 12, 31, 0, 0),\n                             datetime.datetime(2019, 1, 31, 0, 0),\n                             datetime.datetime(2019, 2, 28, 0, 0),\n                             datetime.datetime(2019, 3, 31, 0, 0),\n                             datetime.datetime(2019, 4, 30, 0, 0),\n                             datetime.datetime(2019, 5, 31, 0, 0),\n                             datetime.datetime(2019, 6, 30, 0, 0),\n                             datetime.datetime(2019, 7, 31, 0, 0),\n                             datetime.datetime(2019, 8, 31, 0, 0),\n                             datetime.datetime(2019, 9, 30, 0, 0),\n                             datetime.datetime(2019, 10, 31, 0, 0),\n                             datetime.datetime(2019, 11, 30, 0, 0),\n                             datetime.datetime(2019, 12, 31, 0, 0),\n                             datetime.datetime(2020, 1, 31, 0, 0),\n                             datetime.datetime(2020, 2, 29, 0, 0),\n                             datetime.datetime(2020, 3, 31, 0, 0),\n                             datetime.datetime(2020, 4, 30, 0, 0),\n                             datetime.datetime(2020, 5, 31, 0, 0),\n                             datetime.datetime(2020, 6, 30, 0, 0),\n                             datetime.datetime(2020, 7, 31, 0, 0),\n                             datetime.datetime(2020, 8, 31, 0, 0),\n                             datetime.datetime(2020, 9, 30, 0, 0),\n                             datetime.datetime(2020, 10, 31, 0, 0),\n                             datetime.datetime(2020, 11, 30, 0, 0),\n                             datetime.datetime(2020, 12, 31, 0, 0),\n                             datetime.datetime(2021, 1, 31, 0, 0),\n                             datetime.datetime(2021, 2, 28, 0, 0),\n                             datetime.datetime(2021, 3, 31, 0, 0),\n                             datetime.datetime(2021, 4, 30, 0, 0),\n                             datetime.datetime(2021, 5, 31, 0, 0),\n                             datetime.datetime(2021, 6, 30, 0, 0),\n                             datetime.datetime(2021, 7, 31, 0, 0),\n                             datetime.datetime(2021, 8, 31, 0, 0),\n                             datetime.datetime(2021, 9, 30, 0, 0),\n                             datetime.datetime(2021, 10, 31, 0, 0),\n                             datetime.datetime(2021, 11, 30, 0, 0),\n                             datetime.datetime(2021, 12, 31, 0, 0),\n                             datetime.datetime(2022, 1, 31, 0, 0),\n                             datetime.datetime(2022, 2, 28, 0, 0),\n                             datetime.datetime(2022, 3, 31, 0, 0),\n                             datetime.datetime(2022, 4, 30, 0, 0),\n                             datetime.datetime(2022, 5, 31, 0, 0),\n                             datetime.datetime(2022, 6, 30, 0, 0),\n                             datetime.datetime(2022, 7, 31, 0, 0),\n                             datetime.datetime(2022, 8, 31, 0, 0)], dtype=object),\n                 'xaxis': 'x',\n                 'y': array([  5.        ,   0.        ,  18.9       ,  17.6       ,  15.83333333,\n                              34.53030303,  87.125     , 161.50909091,  91.42857143,  18.62903226,\n                              15.37078652,  44.23880597,  30.50704225,  22.2962963 ,   3.25925926,\n                               4.04255319,   0.        ,   8.85245902,  18.        ,   0.        ,\n                              10.64516129,   1.75438596, 117.82978723,  20.75675676,   4.72222222,\n                              24.36      ,   6.88372093,  31.02      ,  78.20689655, 195.38028169,\n                             209.8245614 , 160.71428571, 379.6875    , 105.0862069 , 118.0212766 ,\n                              51.25581395,  19.6875    ,  71.59649123,  38.76190476,  10.90909091,\n                              28.        ,  16.5       ,  46.1754386 ,  44.28571429,   2.52272727]),\n                 'yaxis': 'y'},\n                {'hovertemplate': ('Label=Recommended Supplier Mix' ... ' Late Days=%{y}<extra></extra>'),\n                 'legendgroup': 'Recommended Supplier Mix',\n                 'line': {'color': '#EF553B', 'dash': 'solid'},\n                 'marker': {'symbol': 'circle'},\n                 'mode': 'lines',\n                 'name': 'Recommended Supplier Mix',\n                 'orientation': 'v',\n                 'showlegend': True,\n                 'type': 'scatter',\n                 'x': array([datetime.datetime(2021, 5, 31, 0, 0),\n                             datetime.datetime(2021, 6, 30, 0, 0),\n                             datetime.datetime(2021, 7, 31, 0, 0),\n                             datetime.datetime(2021, 8, 31, 0, 0),\n                             datetime.datetime(2021, 9, 30, 0, 0),\n                             datetime.datetime(2021, 10, 31, 0, 0),\n                             datetime.datetime(2021, 11, 30, 0, 0),\n                             datetime.datetime(2021, 12, 31, 0, 0),\n                             datetime.datetime(2022, 1, 31, 0, 0),\n                             datetime.datetime(2022, 2, 28, 0, 0),\n                             datetime.datetime(2022, 3, 31, 0, 0),\n                             datetime.datetime(2022, 4, 30, 0, 0),\n                             datetime.datetime(2022, 5, 31, 0, 0),\n                             datetime.datetime(2022, 6, 30, 0, 0),\n                             datetime.datetime(2022, 7, 31, 0, 0),\n                             datetime.datetime(2022, 8, 31, 0, 0)], dtype=object),\n                 'xaxis': 'x',\n                 'y': array([  0. ,   0. ,   0. ,  84. , 148.4, 180.6, 212.8, 315. , 445.2, 362.6,\n                             224. , 214.2, 207.9,   0. ,   0. ,   0. ]),\n                 'yaxis': 'y'}],\n       'layout': {'height': 600,\n                  'legend': {'title': {'text': 'Label'}, 'tracegroupgap': 0},\n                  'shapes': [{'type': 'line',\n                              'x0': Timestamp('2021-05-01 00:00:00'),\n                              'x1': Timestamp('2021-05-01 00:00:00'),\n                              'xref': 'x',\n                              'y0': 0,\n                              'y1': 1,\n                              'yref': 'y domain'}],\n                  'template': '...',\n                  'title': {'text': 'Marginal improvement of using recommended supplier mix'},\n                  'width': 1200,\n                  'xaxis': {'anchor': 'y', 'domain': [0.0, 1.0], 'title': {'text': 'Month'}},\n                  'yaxis': {'anchor': 'x', 'domain': [0.0, 1.0], 'title': {'text': 'Total Late Days'}}}\n   }),\n   Timestamp('2021-06-01 00:00:00'): Figure({\n       'data': [{'hovertemplate': 'Label=Actual Supplier Mix<br>Month=%{x}<br>Total Late Days=%{y}<extra></extra>',\n                 'legendgroup': 'Actual Supplier Mix',\n                 'line': {'color': '#636efa', 'dash': 'solid'},\n                 'marker': {'symbol': 'circle'},\n                 'mode': 'lines',\n                 'name': 'Actual Supplier Mix',\n                 'orientation': 'v',\n                 'showlegend': True,\n                 'type': 'scatter',\n                 'x': array([datetime.datetime(2018, 12, 31, 0, 0),\n                             datetime.datetime(2019, 1, 31, 0, 0),\n                             datetime.datetime(2019, 2, 28, 0, 0),\n                             datetime.datetime(2019, 3, 31, 0, 0),\n                             datetime.datetime(2019, 4, 30, 0, 0),\n                             datetime.datetime(2019, 5, 31, 0, 0),\n                             datetime.datetime(2019, 6, 30, 0, 0),\n                             datetime.datetime(2019, 7, 31, 0, 0),\n                             datetime.datetime(2019, 8, 31, 0, 0),\n                             datetime.datetime(2019, 9, 30, 0, 0),\n                             datetime.datetime(2019, 10, 31, 0, 0),\n                             datetime.datetime(2019, 11, 30, 0, 0),\n                             datetime.datetime(2019, 12, 31, 0, 0),\n                             datetime.datetime(2020, 1, 31, 0, 0),\n                             datetime.datetime(2020, 2, 29, 0, 0),\n                             datetime.datetime(2020, 3, 31, 0, 0),\n                             datetime.datetime(2020, 4, 30, 0, 0),\n                             datetime.datetime(2020, 5, 31, 0, 0),\n                             datetime.datetime(2020, 6, 30, 0, 0),\n                             datetime.datetime(2020, 7, 31, 0, 0),\n                             datetime.datetime(2020, 8, 31, 0, 0),\n                             datetime.datetime(2020, 9, 30, 0, 0),\n                             datetime.datetime(2020, 10, 31, 0, 0),\n                             datetime.datetime(2020, 11, 30, 0, 0),\n                             datetime.datetime(2020, 12, 31, 0, 0),\n                             datetime.datetime(2021, 1, 31, 0, 0),\n                             datetime.datetime(2021, 2, 28, 0, 0),\n                             datetime.datetime(2021, 3, 31, 0, 0),\n                             datetime.datetime(2021, 4, 30, 0, 0),\n                             datetime.datetime(2021, 5, 31, 0, 0),\n                             datetime.datetime(2021, 6, 30, 0, 0),\n                             datetime.datetime(2021, 7, 31, 0, 0),\n                             datetime.datetime(2021, 8, 31, 0, 0),\n                             datetime.datetime(2021, 9, 30, 0, 0),\n                             datetime.datetime(2021, 10, 31, 0, 0),\n                             datetime.datetime(2021, 11, 30, 0, 0),\n                             datetime.datetime(2021, 12, 31, 0, 0),\n                             datetime.datetime(2022, 1, 31, 0, 0),\n                             datetime.datetime(2022, 2, 28, 0, 0),\n                             datetime.datetime(2022, 3, 31, 0, 0),\n                             datetime.datetime(2022, 4, 30, 0, 0),\n                             datetime.datetime(2022, 5, 31, 0, 0),\n                             datetime.datetime(2022, 6, 30, 0, 0),\n                             datetime.datetime(2022, 7, 31, 0, 0),\n                             datetime.datetime(2022, 8, 31, 0, 0)], dtype=object),\n                 'xaxis': 'x',\n                 'y': array([  5.        ,   0.        ,  18.9       ,  17.6       ,  15.83333333,\n                              34.53030303,  87.125     , 161.50909091,  91.42857143,  18.62903226,\n                              15.37078652,  44.23880597,  30.50704225,  22.2962963 ,   3.25925926,\n                               4.04255319,   0.        ,   8.85245902,  18.        ,   0.        ,\n                              10.64516129,   1.75438596, 117.82978723,  20.75675676,   4.72222222,\n                              24.36      ,   6.88372093,  31.02      ,  78.20689655, 195.38028169,\n                             209.8245614 , 160.71428571, 379.6875    , 105.0862069 , 118.0212766 ,\n                              51.25581395,  19.6875    ,  71.59649123,  38.76190476,  10.90909091,\n                              28.        ,  16.5       ,  46.1754386 ,  44.28571429,   2.52272727]),\n                 'yaxis': 'y'},\n                {'hovertemplate': ('Label=Recommended Supplier Mix' ... ' Late Days=%{y}<extra></extra>'),\n                 'legendgroup': 'Recommended Supplier Mix',\n                 'line': {'color': '#EF553B', 'dash': 'solid'},\n                 'marker': {'symbol': 'circle'},\n                 'mode': 'lines',\n                 'name': 'Recommended Supplier Mix',\n                 'orientation': 'v',\n                 'showlegend': True,\n                 'type': 'scatter',\n                 'x': array([datetime.datetime(2021, 6, 30, 0, 0),\n                             datetime.datetime(2021, 7, 31, 0, 0),\n                             datetime.datetime(2021, 8, 31, 0, 0),\n                             datetime.datetime(2021, 9, 30, 0, 0),\n                             datetime.datetime(2021, 10, 31, 0, 0),\n                             datetime.datetime(2021, 11, 30, 0, 0),\n                             datetime.datetime(2021, 12, 31, 0, 0),\n                             datetime.datetime(2022, 1, 31, 0, 0),\n                             datetime.datetime(2022, 2, 28, 0, 0),\n                             datetime.datetime(2022, 3, 31, 0, 0),\n                             datetime.datetime(2022, 4, 30, 0, 0),\n                             datetime.datetime(2022, 5, 31, 0, 0),\n                             datetime.datetime(2022, 6, 30, 0, 0),\n                             datetime.datetime(2022, 7, 31, 0, 0),\n                             datetime.datetime(2022, 8, 31, 0, 0)], dtype=object),\n                 'xaxis': 'x',\n                 'y': array([  0. ,   0. ,  84. , 148.4, 180.6, 212.8, 315. , 445.2, 362.6, 224. ,\n                             214.2, 207.9,   0. ,   0. ,   0. ]),\n                 'yaxis': 'y'}],\n       'layout': {'height': 600,\n                  'legend': {'title': {'text': 'Label'}, 'tracegroupgap': 0},\n                  'shapes': [{'type': 'line',\n                              'x0': Timestamp('2021-06-01 00:00:00'),\n                              'x1': Timestamp('2021-06-01 00:00:00'),\n                              'xref': 'x',\n                              'y0': 0,\n                              'y1': 1,\n                              'yref': 'y domain'}],\n                  'template': '...',\n                  'title': {'text': 'Marginal improvement of using recommended supplier mix'},\n                  'width': 1200,\n                  'xaxis': {'anchor': 'y', 'domain': [0.0, 1.0], 'title': {'text': 'Month'}},\n                  'yaxis': {'anchor': 'x', 'domain': [0.0, 1.0], 'title': {'text': 'Total Late Days'}}}\n   }),\n   Timestamp('2021-07-01 00:00:00'): Figure({\n       'data': [{'hovertemplate': 'Label=Actual Supplier Mix<br>Month=%{x}<br>Total Late Days=%{y}<extra></extra>',\n                 'legendgroup': 'Actual Supplier Mix',\n                 'line': {'color': '#636efa', 'dash': 'solid'},\n                 'marker': {'symbol': 'circle'},\n                 'mode': 'lines',\n                 'name': 'Actual Supplier Mix',\n                 'orientation': 'v',\n                 'showlegend': True,\n                 'type': 'scatter',\n                 'x': array([datetime.datetime(2018, 12, 31, 0, 0),\n                             datetime.datetime(2019, 1, 31, 0, 0),\n                             datetime.datetime(2019, 2, 28, 0, 0),\n                             datetime.datetime(2019, 3, 31, 0, 0),\n                             datetime.datetime(2019, 4, 30, 0, 0),\n                             datetime.datetime(2019, 5, 31, 0, 0),\n                             datetime.datetime(2019, 6, 30, 0, 0),\n                             datetime.datetime(2019, 7, 31, 0, 0),\n                             datetime.datetime(2019, 8, 31, 0, 0),\n                             datetime.datetime(2019, 9, 30, 0, 0),\n                             datetime.datetime(2019, 10, 31, 0, 0),\n                             datetime.datetime(2019, 11, 30, 0, 0),\n                             datetime.datetime(2019, 12, 31, 0, 0),\n                             datetime.datetime(2020, 1, 31, 0, 0),\n                             datetime.datetime(2020, 2, 29, 0, 0),\n                             datetime.datetime(2020, 3, 31, 0, 0),\n                             datetime.datetime(2020, 4, 30, 0, 0),\n                             datetime.datetime(2020, 5, 31, 0, 0),\n                             datetime.datetime(2020, 6, 30, 0, 0),\n                             datetime.datetime(2020, 7, 31, 0, 0),\n                             datetime.datetime(2020, 8, 31, 0, 0),\n                             datetime.datetime(2020, 9, 30, 0, 0),\n                             datetime.datetime(2020, 10, 31, 0, 0),\n                             datetime.datetime(2020, 11, 30, 0, 0),\n                             datetime.datetime(2020, 12, 31, 0, 0),\n                             datetime.datetime(2021, 1, 31, 0, 0),\n                             datetime.datetime(2021, 2, 28, 0, 0),\n                             datetime.datetime(2021, 3, 31, 0, 0),\n                             datetime.datetime(2021, 4, 30, 0, 0),\n                             datetime.datetime(2021, 5, 31, 0, 0),\n                             datetime.datetime(2021, 6, 30, 0, 0),\n                             datetime.datetime(2021, 7, 31, 0, 0),\n                             datetime.datetime(2021, 8, 31, 0, 0),\n                             datetime.datetime(2021, 9, 30, 0, 0),\n                             datetime.datetime(2021, 10, 31, 0, 0),\n                             datetime.datetime(2021, 11, 30, 0, 0),\n                             datetime.datetime(2021, 12, 31, 0, 0),\n                             datetime.datetime(2022, 1, 31, 0, 0),\n                             datetime.datetime(2022, 2, 28, 0, 0),\n                             datetime.datetime(2022, 3, 31, 0, 0),\n                             datetime.datetime(2022, 4, 30, 0, 0),\n                             datetime.datetime(2022, 5, 31, 0, 0),\n                             datetime.datetime(2022, 6, 30, 0, 0),\n                             datetime.datetime(2022, 7, 31, 0, 0),\n                             datetime.datetime(2022, 8, 31, 0, 0)], dtype=object),\n                 'xaxis': 'x',\n                 'y': array([  5.        ,   0.        ,  18.9       ,  17.6       ,  15.83333333,\n                              34.53030303,  87.125     , 161.50909091,  91.42857143,  18.62903226,\n                              15.37078652,  44.23880597,  30.50704225,  22.2962963 ,   3.25925926,\n                               4.04255319,   0.        ,   8.85245902,  18.        ,   0.        ,\n                              10.64516129,   1.75438596, 117.82978723,  20.75675676,   4.72222222,\n                              24.36      ,   6.88372093,  31.02      ,  78.20689655, 195.38028169,\n                             209.8245614 , 160.71428571, 379.6875    , 105.0862069 , 118.0212766 ,\n                              51.25581395,  19.6875    ,  71.59649123,  38.76190476,  10.90909091,\n                              28.        ,  16.5       ,  46.1754386 ,  44.28571429,   2.52272727]),\n                 'yaxis': 'y'},\n                {'hovertemplate': ('Label=Recommended Supplier Mix' ... ' Late Days=%{y}<extra></extra>'),\n                 'legendgroup': 'Recommended Supplier Mix',\n                 'line': {'color': '#EF553B', 'dash': 'solid'},\n                 'marker': {'symbol': 'circle'},\n                 'mode': 'lines',\n                 'name': 'Recommended Supplier Mix',\n                 'orientation': 'v',\n                 'showlegend': True,\n                 'type': 'scatter',\n                 'x': array([datetime.datetime(2021, 7, 31, 0, 0),\n                             datetime.datetime(2021, 8, 31, 0, 0),\n                             datetime.datetime(2021, 9, 30, 0, 0),\n                             datetime.datetime(2021, 10, 31, 0, 0),\n                             datetime.datetime(2021, 11, 30, 0, 0),\n                             datetime.datetime(2021, 12, 31, 0, 0),\n                             datetime.datetime(2022, 1, 31, 0, 0),\n                             datetime.datetime(2022, 2, 28, 0, 0),\n                             datetime.datetime(2022, 3, 31, 0, 0),\n                             datetime.datetime(2022, 4, 30, 0, 0),\n                             datetime.datetime(2022, 5, 31, 0, 0),\n                             datetime.datetime(2022, 6, 30, 0, 0),\n                             datetime.datetime(2022, 7, 31, 0, 0),\n                             datetime.datetime(2022, 8, 31, 0, 0)], dtype=object),\n                 'xaxis': 'x',\n                 'y': array([ 0.        ,  9.33333333, 16.48888889, 20.06666667, 23.64444444,\n                             35.        , 49.46666667, 40.28888889, 24.88888889, 23.8       ,\n                             23.1       ,  0.        ,  0.        ,  0.        ]),\n                 'yaxis': 'y'}],\n       'layout': {'height': 600,\n                  'legend': {'title': {'text': 'Label'}, 'tracegroupgap': 0},\n                  'shapes': [{'type': 'line',\n                              'x0': Timestamp('2021-07-01 00:00:00'),\n                              'x1': Timestamp('2021-07-01 00:00:00'),\n                              'xref': 'x',\n                              'y0': 0,\n                              'y1': 1,\n                              'yref': 'y domain'}],\n                  'template': '...',\n                  'title': {'text': 'Marginal improvement of using recommended supplier mix'},\n                  'width': 1200,\n                  'xaxis': {'anchor': 'y', 'domain': [0.0, 1.0], 'title': {'text': 'Month'}},\n                  'yaxis': {'anchor': 'x', 'domain': [0.0, 1.0], 'title': {'text': 'Total Late Days'}}}\n   }),\n   Timestamp('2021-08-01 00:00:00'): Figure({\n       'data': [{'hovertemplate': 'Label=Actual Supplier Mix<br>Month=%{x}<br>Total Late Days=%{y}<extra></extra>',\n                 'legendgroup': 'Actual Supplier Mix',\n                 'line': {'color': '#636efa', 'dash': 'solid'},\n                 'marker': {'symbol': 'circle'},\n                 'mode': 'lines',\n                 'name': 'Actual Supplier Mix',\n                 'orientation': 'v',\n                 'showlegend': True,\n                 'type': 'scatter',\n                 'x': array([datetime.datetime(2018, 12, 31, 0, 0),\n                             datetime.datetime(2019, 1, 31, 0, 0),\n                             datetime.datetime(2019, 2, 28, 0, 0),\n                             datetime.datetime(2019, 3, 31, 0, 0),\n                             datetime.datetime(2019, 4, 30, 0, 0),\n                             datetime.datetime(2019, 5, 31, 0, 0),\n                             datetime.datetime(2019, 6, 30, 0, 0),\n                             datetime.datetime(2019, 7, 31, 0, 0),\n                             datetime.datetime(2019, 8, 31, 0, 0),\n                             datetime.datetime(2019, 9, 30, 0, 0),\n                             datetime.datetime(2019, 10, 31, 0, 0),\n                             datetime.datetime(2019, 11, 30, 0, 0),\n                             datetime.datetime(2019, 12, 31, 0, 0),\n                             datetime.datetime(2020, 1, 31, 0, 0),\n                             datetime.datetime(2020, 2, 29, 0, 0),\n                             datetime.datetime(2020, 3, 31, 0, 0),\n                             datetime.datetime(2020, 4, 30, 0, 0),\n                             datetime.datetime(2020, 5, 31, 0, 0),\n                             datetime.datetime(2020, 6, 30, 0, 0),\n                             datetime.datetime(2020, 7, 31, 0, 0),\n                             datetime.datetime(2020, 8, 31, 0, 0),\n                             datetime.datetime(2020, 9, 30, 0, 0),\n                             datetime.datetime(2020, 10, 31, 0, 0),\n                             datetime.datetime(2020, 11, 30, 0, 0),\n                             datetime.datetime(2020, 12, 31, 0, 0),\n                             datetime.datetime(2021, 1, 31, 0, 0),\n                             datetime.datetime(2021, 2, 28, 0, 0),\n                             datetime.datetime(2021, 3, 31, 0, 0),\n                             datetime.datetime(2021, 4, 30, 0, 0),\n                             datetime.datetime(2021, 5, 31, 0, 0),\n                             datetime.datetime(2021, 6, 30, 0, 0),\n                             datetime.datetime(2021, 7, 31, 0, 0),\n                             datetime.datetime(2021, 8, 31, 0, 0),\n                             datetime.datetime(2021, 9, 30, 0, 0),\n                             datetime.datetime(2021, 10, 31, 0, 0),\n                             datetime.datetime(2021, 11, 30, 0, 0),\n                             datetime.datetime(2021, 12, 31, 0, 0),\n                             datetime.datetime(2022, 1, 31, 0, 0),\n                             datetime.datetime(2022, 2, 28, 0, 0),\n                             datetime.datetime(2022, 3, 31, 0, 0),\n                             datetime.datetime(2022, 4, 30, 0, 0),\n                             datetime.datetime(2022, 5, 31, 0, 0),\n                             datetime.datetime(2022, 6, 30, 0, 0),\n                             datetime.datetime(2022, 7, 31, 0, 0),\n                             datetime.datetime(2022, 8, 31, 0, 0)], dtype=object),\n                 'xaxis': 'x',\n                 'y': array([  5.        ,   0.        ,  18.9       ,  17.6       ,  15.83333333,\n                              34.53030303,  87.125     , 161.50909091,  91.42857143,  18.62903226,\n                              15.37078652,  44.23880597,  30.50704225,  22.2962963 ,   3.25925926,\n                               4.04255319,   0.        ,   8.85245902,  18.        ,   0.        ,\n                              10.64516129,   1.75438596, 117.82978723,  20.75675676,   4.72222222,\n                              24.36      ,   6.88372093,  31.02      ,  78.20689655, 195.38028169,\n                             209.8245614 , 160.71428571, 379.6875    , 105.0862069 , 118.0212766 ,\n                              51.25581395,  19.6875    ,  71.59649123,  38.76190476,  10.90909091,\n                              28.        ,  16.5       ,  46.1754386 ,  44.28571429,   2.52272727]),\n                 'yaxis': 'y'},\n                {'hovertemplate': ('Label=Recommended Supplier Mix' ... ' Late Days=%{y}<extra></extra>'),\n                 'legendgroup': 'Recommended Supplier Mix',\n                 'line': {'color': '#EF553B', 'dash': 'solid'},\n                 'marker': {'symbol': 'circle'},\n                 'mode': 'lines',\n                 'name': 'Recommended Supplier Mix',\n                 'orientation': 'v',\n                 'showlegend': True,\n                 'type': 'scatter',\n                 'x': array([datetime.datetime(2021, 8, 31, 0, 0),\n                             datetime.datetime(2021, 9, 30, 0, 0),\n                             datetime.datetime(2021, 10, 31, 0, 0),\n                             datetime.datetime(2021, 11, 30, 0, 0),\n                             datetime.datetime(2021, 12, 31, 0, 0),\n                             datetime.datetime(2022, 1, 31, 0, 0),\n                             datetime.datetime(2022, 2, 28, 0, 0),\n                             datetime.datetime(2022, 3, 31, 0, 0),\n                             datetime.datetime(2022, 4, 30, 0, 0),\n                             datetime.datetime(2022, 5, 31, 0, 0),\n                             datetime.datetime(2022, 6, 30, 0, 0),\n                             datetime.datetime(2022, 7, 31, 0, 0),\n                             datetime.datetime(2022, 8, 31, 0, 0)], dtype=object),\n                 'xaxis': 'x',\n                 'y': array([ 84. , 148.4, 180.6, 212.8, 315. , 445.2, 362.6, 224. , 214.2, 207.9,\n                               0. ,   0. ,   0. ]),\n                 'yaxis': 'y'}],\n       'layout': {'height': 600,\n                  'legend': {'title': {'text': 'Label'}, 'tracegroupgap': 0},\n                  'shapes': [{'type': 'line',\n                              'x0': Timestamp('2021-08-01 00:00:00'),\n                              'x1': Timestamp('2021-08-01 00:00:00'),\n                              'xref': 'x',\n                              'y0': 0,\n                              'y1': 1,\n                              'yref': 'y domain'}],\n                  'template': '...',\n                  'title': {'text': 'Marginal improvement of using recommended supplier mix'},\n                  'width': 1200,\n                  'xaxis': {'anchor': 'y', 'domain': [0.0, 1.0], 'title': {'text': 'Month'}},\n                  'yaxis': {'anchor': 'x', 'domain': [0.0, 1.0], 'title': {'text': 'Total Late Days'}}}\n   }),\n   Timestamp('2021-09-01 00:00:00'): Figure({\n       'data': [{'hovertemplate': 'Label=Actual Supplier Mix<br>Month=%{x}<br>Total Late Days=%{y}<extra></extra>',\n                 'legendgroup': 'Actual Supplier Mix',\n                 'line': {'color': '#636efa', 'dash': 'solid'},\n                 'marker': {'symbol': 'circle'},\n                 'mode': 'lines',\n                 'name': 'Actual Supplier Mix',\n                 'orientation': 'v',\n                 'showlegend': True,\n                 'type': 'scatter',\n                 'x': array([datetime.datetime(2018, 12, 31, 0, 0),\n                             datetime.datetime(2019, 1, 31, 0, 0),\n                             datetime.datetime(2019, 2, 28, 0, 0),\n                             datetime.datetime(2019, 3, 31, 0, 0),\n                             datetime.datetime(2019, 4, 30, 0, 0),\n                             datetime.datetime(2019, 5, 31, 0, 0),\n                             datetime.datetime(2019, 6, 30, 0, 0),\n                             datetime.datetime(2019, 7, 31, 0, 0),\n                             datetime.datetime(2019, 8, 31, 0, 0),\n                             datetime.datetime(2019, 9, 30, 0, 0),\n                             datetime.datetime(2019, 10, 31, 0, 0),\n                             datetime.datetime(2019, 11, 30, 0, 0),\n                             datetime.datetime(2019, 12, 31, 0, 0),\n                             datetime.datetime(2020, 1, 31, 0, 0),\n                             datetime.datetime(2020, 2, 29, 0, 0),\n                             datetime.datetime(2020, 3, 31, 0, 0),\n                             datetime.datetime(2020, 4, 30, 0, 0),\n                             datetime.datetime(2020, 5, 31, 0, 0),\n                             datetime.datetime(2020, 6, 30, 0, 0),\n                             datetime.datetime(2020, 7, 31, 0, 0),\n                             datetime.datetime(2020, 8, 31, 0, 0),\n                             datetime.datetime(2020, 9, 30, 0, 0),\n                             datetime.datetime(2020, 10, 31, 0, 0),\n                             datetime.datetime(2020, 11, 30, 0, 0),\n                             datetime.datetime(2020, 12, 31, 0, 0),\n                             datetime.datetime(2021, 1, 31, 0, 0),\n                             datetime.datetime(2021, 2, 28, 0, 0),\n                             datetime.datetime(2021, 3, 31, 0, 0),\n                             datetime.datetime(2021, 4, 30, 0, 0),\n                             datetime.datetime(2021, 5, 31, 0, 0),\n                             datetime.datetime(2021, 6, 30, 0, 0),\n                             datetime.datetime(2021, 7, 31, 0, 0),\n                             datetime.datetime(2021, 8, 31, 0, 0),\n                             datetime.datetime(2021, 9, 30, 0, 0),\n                             datetime.datetime(2021, 10, 31, 0, 0),\n                             datetime.datetime(2021, 11, 30, 0, 0),\n                             datetime.datetime(2021, 12, 31, 0, 0),\n                             datetime.datetime(2022, 1, 31, 0, 0),\n                             datetime.datetime(2022, 2, 28, 0, 0),\n                             datetime.datetime(2022, 3, 31, 0, 0),\n                             datetime.datetime(2022, 4, 30, 0, 0),\n                             datetime.datetime(2022, 5, 31, 0, 0),\n                             datetime.datetime(2022, 6, 30, 0, 0),\n                             datetime.datetime(2022, 7, 31, 0, 0),\n                             datetime.datetime(2022, 8, 31, 0, 0)], dtype=object),\n                 'xaxis': 'x',\n                 'y': array([  5.        ,   0.        ,  18.9       ,  17.6       ,  15.83333333,\n                              34.53030303,  87.125     , 161.50909091,  91.42857143,  18.62903226,\n                              15.37078652,  44.23880597,  30.50704225,  22.2962963 ,   3.25925926,\n                               4.04255319,   0.        ,   8.85245902,  18.        ,   0.        ,\n                              10.64516129,   1.75438596, 117.82978723,  20.75675676,   4.72222222,\n                              24.36      ,   6.88372093,  31.02      ,  78.20689655, 195.38028169,\n                             209.8245614 , 160.71428571, 379.6875    , 105.0862069 , 118.0212766 ,\n                              51.25581395,  19.6875    ,  71.59649123,  38.76190476,  10.90909091,\n                              28.        ,  16.5       ,  46.1754386 ,  44.28571429,   2.52272727]),\n                 'yaxis': 'y'},\n                {'hovertemplate': ('Label=Recommended Supplier Mix' ... ' Late Days=%{y}<extra></extra>'),\n                 'legendgroup': 'Recommended Supplier Mix',\n                 'line': {'color': '#EF553B', 'dash': 'solid'},\n                 'marker': {'symbol': 'circle'},\n                 'mode': 'lines',\n                 'name': 'Recommended Supplier Mix',\n                 'orientation': 'v',\n                 'showlegend': True,\n                 'type': 'scatter',\n                 'x': array([datetime.datetime(2021, 9, 30, 0, 0),\n                             datetime.datetime(2021, 10, 31, 0, 0),\n                             datetime.datetime(2021, 11, 30, 0, 0),\n                             datetime.datetime(2021, 12, 31, 0, 0),\n                             datetime.datetime(2022, 1, 31, 0, 0),\n                             datetime.datetime(2022, 2, 28, 0, 0),\n                             datetime.datetime(2022, 3, 31, 0, 0),\n                             datetime.datetime(2022, 4, 30, 0, 0),\n                             datetime.datetime(2022, 5, 31, 0, 0),\n                             datetime.datetime(2022, 6, 30, 0, 0),\n                             datetime.datetime(2022, 7, 31, 0, 0),\n                             datetime.datetime(2022, 8, 31, 0, 0)], dtype=object),\n                 'xaxis': 'x',\n                 'y': array([16.48888889, 20.06666667, 23.64444444, 35.        , 49.46666667,\n                             40.28888889, 24.88888889, 23.8       , 23.1       ,  0.        ,\n                              0.        ,  0.        ]),\n                 'yaxis': 'y'}],\n       'layout': {'height': 600,\n                  'legend': {'title': {'text': 'Label'}, 'tracegroupgap': 0},\n                  'shapes': [{'type': 'line',\n                              'x0': Timestamp('2021-09-01 00:00:00'),\n                              'x1': Timestamp('2021-09-01 00:00:00'),\n                              'xref': 'x',\n                              'y0': 0,\n                              'y1': 1,\n                              'yref': 'y domain'}],\n                  'template': '...',\n                  'title': {'text': 'Marginal improvement of using recommended supplier mix'},\n                  'width': 1200,\n                  'xaxis': {'anchor': 'y', 'domain': [0.0, 1.0], 'title': {'text': 'Month'}},\n                  'yaxis': {'anchor': 'x', 'domain': [0.0, 1.0], 'title': {'text': 'Total Late Days'}}}\n   }),\n   Timestamp('2021-10-01 00:00:00'): Figure({\n       'data': [{'hovertemplate': 'Label=Actual Supplier Mix<br>Month=%{x}<br>Total Late Days=%{y}<extra></extra>',\n                 'legendgroup': 'Actual Supplier Mix',\n                 'line': {'color': '#636efa', 'dash': 'solid'},\n                 'marker': {'symbol': 'circle'},\n                 'mode': 'lines',\n                 'name': 'Actual Supplier Mix',\n                 'orientation': 'v',\n                 'showlegend': True,\n                 'type': 'scatter',\n                 'x': array([datetime.datetime(2018, 12, 31, 0, 0),\n                             datetime.datetime(2019, 1, 31, 0, 0),\n                             datetime.datetime(2019, 2, 28, 0, 0),\n                             datetime.datetime(2019, 3, 31, 0, 0),\n                             datetime.datetime(2019, 4, 30, 0, 0),\n                             datetime.datetime(2019, 5, 31, 0, 0),\n                             datetime.datetime(2019, 6, 30, 0, 0),\n                             datetime.datetime(2019, 7, 31, 0, 0),\n                             datetime.datetime(2019, 8, 31, 0, 0),\n                             datetime.datetime(2019, 9, 30, 0, 0),\n                             datetime.datetime(2019, 10, 31, 0, 0),\n                             datetime.datetime(2019, 11, 30, 0, 0),\n                             datetime.datetime(2019, 12, 31, 0, 0),\n                             datetime.datetime(2020, 1, 31, 0, 0),\n                             datetime.datetime(2020, 2, 29, 0, 0),\n                             datetime.datetime(2020, 3, 31, 0, 0),\n                             datetime.datetime(2020, 4, 30, 0, 0),\n                             datetime.datetime(2020, 5, 31, 0, 0),\n                             datetime.datetime(2020, 6, 30, 0, 0),\n                             datetime.datetime(2020, 7, 31, 0, 0),\n                             datetime.datetime(2020, 8, 31, 0, 0),\n                             datetime.datetime(2020, 9, 30, 0, 0),\n                             datetime.datetime(2020, 10, 31, 0, 0),\n                             datetime.datetime(2020, 11, 30, 0, 0),\n                             datetime.datetime(2020, 12, 31, 0, 0),\n                             datetime.datetime(2021, 1, 31, 0, 0),\n                             datetime.datetime(2021, 2, 28, 0, 0),\n                             datetime.datetime(2021, 3, 31, 0, 0),\n                             datetime.datetime(2021, 4, 30, 0, 0),\n                             datetime.datetime(2021, 5, 31, 0, 0),\n                             datetime.datetime(2021, 6, 30, 0, 0),\n                             datetime.datetime(2021, 7, 31, 0, 0),\n                             datetime.datetime(2021, 8, 31, 0, 0),\n                             datetime.datetime(2021, 9, 30, 0, 0),\n                             datetime.datetime(2021, 10, 31, 0, 0),\n                             datetime.datetime(2021, 11, 30, 0, 0),\n                             datetime.datetime(2021, 12, 31, 0, 0),\n                             datetime.datetime(2022, 1, 31, 0, 0),\n                             datetime.datetime(2022, 2, 28, 0, 0),\n                             datetime.datetime(2022, 3, 31, 0, 0),\n                             datetime.datetime(2022, 4, 30, 0, 0),\n                             datetime.datetime(2022, 5, 31, 0, 0),\n                             datetime.datetime(2022, 6, 30, 0, 0),\n                             datetime.datetime(2022, 7, 31, 0, 0),\n                             datetime.datetime(2022, 8, 31, 0, 0)], dtype=object),\n                 'xaxis': 'x',\n                 'y': array([  5.        ,   0.        ,  18.9       ,  17.6       ,  15.83333333,\n                              34.53030303,  87.125     , 161.50909091,  91.42857143,  18.62903226,\n                              15.37078652,  44.23880597,  30.50704225,  22.2962963 ,   3.25925926,\n                               4.04255319,   0.        ,   8.85245902,  18.        ,   0.        ,\n                              10.64516129,   1.75438596, 117.82978723,  20.75675676,   4.72222222,\n                              24.36      ,   6.88372093,  31.02      ,  78.20689655, 195.38028169,\n                             209.8245614 , 160.71428571, 379.6875    , 105.0862069 , 118.0212766 ,\n                              51.25581395,  19.6875    ,  71.59649123,  38.76190476,  10.90909091,\n                              28.        ,  16.5       ,  46.1754386 ,  44.28571429,   2.52272727]),\n                 'yaxis': 'y'},\n                {'hovertemplate': ('Label=Recommended Supplier Mix' ... ' Late Days=%{y}<extra></extra>'),\n                 'legendgroup': 'Recommended Supplier Mix',\n                 'line': {'color': '#EF553B', 'dash': 'solid'},\n                 'marker': {'symbol': 'circle'},\n                 'mode': 'lines',\n                 'name': 'Recommended Supplier Mix',\n                 'orientation': 'v',\n                 'showlegend': True,\n                 'type': 'scatter',\n                 'x': array([datetime.datetime(2021, 10, 31, 0, 0),\n                             datetime.datetime(2021, 11, 30, 0, 0),\n                             datetime.datetime(2021, 12, 31, 0, 0),\n                             datetime.datetime(2022, 1, 31, 0, 0),\n                             datetime.datetime(2022, 2, 28, 0, 0),\n                             datetime.datetime(2022, 3, 31, 0, 0),\n                             datetime.datetime(2022, 4, 30, 0, 0),\n                             datetime.datetime(2022, 5, 31, 0, 0),\n                             datetime.datetime(2022, 6, 30, 0, 0),\n                             datetime.datetime(2022, 7, 31, 0, 0),\n                             datetime.datetime(2022, 8, 31, 0, 0)], dtype=object),\n                 'xaxis': 'x',\n                 'y': array([20.06666667, 23.64444444, 35.        , 49.46666667, 40.28888889,\n                             24.88888889, 23.8       , 23.1       ,  0.        ,  0.        ,\n                              0.        ]),\n                 'yaxis': 'y'}],\n       'layout': {'height': 600,\n                  'legend': {'title': {'text': 'Label'}, 'tracegroupgap': 0},\n                  'shapes': [{'type': 'line',\n                              'x0': Timestamp('2021-10-01 00:00:00'),\n                              'x1': Timestamp('2021-10-01 00:00:00'),\n                              'xref': 'x',\n                              'y0': 0,\n                              'y1': 1,\n                              'yref': 'y domain'}],\n                  'template': '...',\n                  'title': {'text': 'Marginal improvement of using recommended supplier mix'},\n                  'width': 1200,\n                  'xaxis': {'anchor': 'y', 'domain': [0.0, 1.0], 'title': {'text': 'Month'}},\n                  'yaxis': {'anchor': 'x', 'domain': [0.0, 1.0], 'title': {'text': 'Total Late Days'}}}\n   })},\n  'Details': {Timestamp('2021-05-01 00:00:00'):                           Total Late Days\n   Label                                    \n   Actual Supplier Mix           1498.408793\n   Recommended Supplier Mix      2394.700000,\n   Timestamp('2021-06-01 00:00:00'):                           Total Late Days\n   Label                                    \n   Actual Supplier Mix           1303.028512\n   Recommended Supplier Mix      2394.700000,\n   Timestamp('2021-07-01 00:00:00'):                           Total Late Days\n   Label                                    \n   Actual Supplier Mix           1093.203950\n   Recommended Supplier Mix       266.077778,\n   Timestamp('2021-08-01 00:00:00'):                           Total Late Days\n   Label                                    \n   Actual Supplier Mix            932.489664\n   Recommended Supplier Mix      2394.700000,\n   Timestamp('2021-09-01 00:00:00'):                           Total Late Days\n   Label                                    \n   Actual Supplier Mix            552.802164\n   Recommended Supplier Mix       256.744444,\n   Timestamp('2021-10-01 00:00:00'):                           Total Late Days\n   Label                                    \n   Actual Supplier Mix            447.715958\n   Recommended Supplier Mix       240.255556},\n  'Weights': {Timestamp('2021-05-01 00:00:00'): 539850 days_late    0.9\n   539861 days_late    0.1\n   566041 days_late    0.0\n   505439 days_late    0.0\n   Name: 102, dtype: float64,\n   Timestamp('2021-06-01 00:00:00'): 539850 days_late    0.9\n   539861 days_late    0.1\n   566041 days_late    0.0\n   505439 days_late    0.0\n   Name: 102, dtype: float64,\n   Timestamp('2021-07-01 00:00:00'): 539850 days_late    0.1\n   539861 days_late    0.9\n   566041 days_late    0.0\n   505439 days_late    0.0\n   Name: 15, dtype: float64,\n   Timestamp('2021-08-01 00:00:00'): 539850 days_late    0.9\n   539861 days_late    0.1\n   566041 days_late    0.0\n   505439 days_late    0.0\n   Name: 102, dtype: float64,\n   Timestamp('2021-09-01 00:00:00'): 539850 days_late    0.1\n   539861 days_late    0.9\n   566041 days_late    0.0\n   505439 days_late    0.0\n   Name: 15, dtype: float64,\n   Timestamp('2021-10-01 00:00:00'): 539850 days_late    0.1\n   539861 days_late    0.9\n   566041 days_late    0.0\n   505439 days_late    0.0\n   Name: 15, dtype: float64}}}"
     },
     "execution_count": 313,
     "metadata": {},
     "output_type": "execute_result"
    }
   ],
   "source": [
    "results"
   ],
   "metadata": {
    "collapsed": false,
    "pycharm": {
     "name": "#%%\n"
    }
   }
  },
  {
   "cell_type": "code",
   "execution_count": 348,
   "outputs": [
    {
     "data": {
      "application/vnd.plotly.v1+json": {
       "data": [
        {
         "hovertemplate": "Label=Actual Supplier Mix<br>Month=%{x}<br>Total Late Days=%{y}<extra></extra>",
         "legendgroup": "Actual Supplier Mix",
         "line": {
          "color": "#636efa",
          "dash": "solid"
         },
         "marker": {
          "symbol": "circle"
         },
         "mode": "lines",
         "name": "Actual Supplier Mix",
         "orientation": "v",
         "showlegend": true,
         "x": [
          "2018-12-31T00:00:00",
          "2019-01-31T00:00:00",
          "2019-02-28T00:00:00",
          "2019-03-31T00:00:00",
          "2019-04-30T00:00:00",
          "2019-05-31T00:00:00",
          "2019-06-30T00:00:00",
          "2019-07-31T00:00:00",
          "2019-08-31T00:00:00",
          "2019-09-30T00:00:00",
          "2019-10-31T00:00:00",
          "2019-11-30T00:00:00",
          "2019-12-31T00:00:00",
          "2020-01-31T00:00:00",
          "2020-02-29T00:00:00",
          "2020-03-31T00:00:00",
          "2020-04-30T00:00:00",
          "2020-05-31T00:00:00",
          "2020-06-30T00:00:00",
          "2020-07-31T00:00:00",
          "2020-08-31T00:00:00",
          "2020-09-30T00:00:00",
          "2020-10-31T00:00:00",
          "2020-11-30T00:00:00",
          "2020-12-31T00:00:00",
          "2021-01-31T00:00:00",
          "2021-02-28T00:00:00",
          "2021-03-31T00:00:00",
          "2021-04-30T00:00:00",
          "2021-05-31T00:00:00",
          "2021-06-30T00:00:00",
          "2021-07-31T00:00:00",
          "2021-08-31T00:00:00",
          "2021-09-30T00:00:00",
          "2021-10-31T00:00:00",
          "2021-11-30T00:00:00",
          "2021-12-31T00:00:00",
          "2022-01-31T00:00:00",
          "2022-02-28T00:00:00",
          "2022-03-31T00:00:00",
          "2022-04-30T00:00:00",
          "2022-05-31T00:00:00",
          "2022-06-30T00:00:00",
          "2022-07-31T00:00:00",
          "2022-08-31T00:00:00"
         ],
         "xaxis": "x",
         "y": [
          5.0,
          0.0,
          18.900000000000002,
          17.599999999999998,
          15.833333333333334,
          34.53030303030303,
          87.125,
          161.50909090909093,
          91.42857142857143,
          18.629032258064516,
          15.370786516853933,
          44.23880597014925,
          30.507042253521128,
          22.296296296296294,
          3.259259259259259,
          4.042553191489362,
          0.0,
          8.852459016393443,
          18.0,
          0.0,
          10.64516129032258,
          1.7543859649122806,
          117.82978723404256,
          20.756756756756758,
          4.722222222222222,
          24.36,
          6.883720930232558,
          31.020000000000003,
          78.20689655172414,
          195.38028169014086,
          209.82456140350877,
          160.71428571428572,
          379.6875,
          105.08620689655173,
          118.02127659574468,
          51.25581395348837,
          19.6875,
          71.59649122807018,
          38.761904761904766,
          10.909090909090908,
          28.0,
          16.5,
          46.175438596491226,
          44.285714285714285,
          2.5227272727272725
         ],
         "yaxis": "y",
         "type": "scatter"
        },
        {
         "hovertemplate": "Label=Recommended Supplier Mix<br>Month=%{x}<br>Total Late Days=%{y}<extra></extra>",
         "legendgroup": "Recommended Supplier Mix",
         "line": {
          "color": "#EF553B",
          "dash": "solid"
         },
         "marker": {
          "symbol": "circle"
         },
         "mode": "lines",
         "name": "Recommended Supplier Mix",
         "orientation": "v",
         "showlegend": true,
         "x": [
          "2021-09-30T00:00:00",
          "2021-10-31T00:00:00",
          "2021-11-30T00:00:00",
          "2021-12-31T00:00:00",
          "2022-01-31T00:00:00",
          "2022-02-28T00:00:00",
          "2022-03-31T00:00:00",
          "2022-04-30T00:00:00",
          "2022-05-31T00:00:00",
          "2022-06-30T00:00:00",
          "2022-07-31T00:00:00",
          "2022-08-31T00:00:00"
         ],
         "xaxis": "x",
         "y": [
          16.48888888888889,
          20.06666666666667,
          23.644444444444446,
          35.0,
          49.466666666666676,
          40.28888888888889,
          24.88888888888889,
          23.8,
          23.1,
          0.0,
          0.0,
          0.0
         ],
         "yaxis": "y",
         "type": "scatter"
        }
       ],
       "layout": {
        "template": {
         "data": {
          "histogram2dcontour": [
           {
            "type": "histogram2dcontour",
            "colorbar": {
             "outlinewidth": 0,
             "ticks": ""
            },
            "colorscale": [
             [
              0.0,
              "#0d0887"
             ],
             [
              0.1111111111111111,
              "#46039f"
             ],
             [
              0.2222222222222222,
              "#7201a8"
             ],
             [
              0.3333333333333333,
              "#9c179e"
             ],
             [
              0.4444444444444444,
              "#bd3786"
             ],
             [
              0.5555555555555556,
              "#d8576b"
             ],
             [
              0.6666666666666666,
              "#ed7953"
             ],
             [
              0.7777777777777778,
              "#fb9f3a"
             ],
             [
              0.8888888888888888,
              "#fdca26"
             ],
             [
              1.0,
              "#f0f921"
             ]
            ]
           }
          ],
          "choropleth": [
           {
            "type": "choropleth",
            "colorbar": {
             "outlinewidth": 0,
             "ticks": ""
            }
           }
          ],
          "histogram2d": [
           {
            "type": "histogram2d",
            "colorbar": {
             "outlinewidth": 0,
             "ticks": ""
            },
            "colorscale": [
             [
              0.0,
              "#0d0887"
             ],
             [
              0.1111111111111111,
              "#46039f"
             ],
             [
              0.2222222222222222,
              "#7201a8"
             ],
             [
              0.3333333333333333,
              "#9c179e"
             ],
             [
              0.4444444444444444,
              "#bd3786"
             ],
             [
              0.5555555555555556,
              "#d8576b"
             ],
             [
              0.6666666666666666,
              "#ed7953"
             ],
             [
              0.7777777777777778,
              "#fb9f3a"
             ],
             [
              0.8888888888888888,
              "#fdca26"
             ],
             [
              1.0,
              "#f0f921"
             ]
            ]
           }
          ],
          "heatmap": [
           {
            "type": "heatmap",
            "colorbar": {
             "outlinewidth": 0,
             "ticks": ""
            },
            "colorscale": [
             [
              0.0,
              "#0d0887"
             ],
             [
              0.1111111111111111,
              "#46039f"
             ],
             [
              0.2222222222222222,
              "#7201a8"
             ],
             [
              0.3333333333333333,
              "#9c179e"
             ],
             [
              0.4444444444444444,
              "#bd3786"
             ],
             [
              0.5555555555555556,
              "#d8576b"
             ],
             [
              0.6666666666666666,
              "#ed7953"
             ],
             [
              0.7777777777777778,
              "#fb9f3a"
             ],
             [
              0.8888888888888888,
              "#fdca26"
             ],
             [
              1.0,
              "#f0f921"
             ]
            ]
           }
          ],
          "heatmapgl": [
           {
            "type": "heatmapgl",
            "colorbar": {
             "outlinewidth": 0,
             "ticks": ""
            },
            "colorscale": [
             [
              0.0,
              "#0d0887"
             ],
             [
              0.1111111111111111,
              "#46039f"
             ],
             [
              0.2222222222222222,
              "#7201a8"
             ],
             [
              0.3333333333333333,
              "#9c179e"
             ],
             [
              0.4444444444444444,
              "#bd3786"
             ],
             [
              0.5555555555555556,
              "#d8576b"
             ],
             [
              0.6666666666666666,
              "#ed7953"
             ],
             [
              0.7777777777777778,
              "#fb9f3a"
             ],
             [
              0.8888888888888888,
              "#fdca26"
             ],
             [
              1.0,
              "#f0f921"
             ]
            ]
           }
          ],
          "contourcarpet": [
           {
            "type": "contourcarpet",
            "colorbar": {
             "outlinewidth": 0,
             "ticks": ""
            }
           }
          ],
          "contour": [
           {
            "type": "contour",
            "colorbar": {
             "outlinewidth": 0,
             "ticks": ""
            },
            "colorscale": [
             [
              0.0,
              "#0d0887"
             ],
             [
              0.1111111111111111,
              "#46039f"
             ],
             [
              0.2222222222222222,
              "#7201a8"
             ],
             [
              0.3333333333333333,
              "#9c179e"
             ],
             [
              0.4444444444444444,
              "#bd3786"
             ],
             [
              0.5555555555555556,
              "#d8576b"
             ],
             [
              0.6666666666666666,
              "#ed7953"
             ],
             [
              0.7777777777777778,
              "#fb9f3a"
             ],
             [
              0.8888888888888888,
              "#fdca26"
             ],
             [
              1.0,
              "#f0f921"
             ]
            ]
           }
          ],
          "surface": [
           {
            "type": "surface",
            "colorbar": {
             "outlinewidth": 0,
             "ticks": ""
            },
            "colorscale": [
             [
              0.0,
              "#0d0887"
             ],
             [
              0.1111111111111111,
              "#46039f"
             ],
             [
              0.2222222222222222,
              "#7201a8"
             ],
             [
              0.3333333333333333,
              "#9c179e"
             ],
             [
              0.4444444444444444,
              "#bd3786"
             ],
             [
              0.5555555555555556,
              "#d8576b"
             ],
             [
              0.6666666666666666,
              "#ed7953"
             ],
             [
              0.7777777777777778,
              "#fb9f3a"
             ],
             [
              0.8888888888888888,
              "#fdca26"
             ],
             [
              1.0,
              "#f0f921"
             ]
            ]
           }
          ],
          "mesh3d": [
           {
            "type": "mesh3d",
            "colorbar": {
             "outlinewidth": 0,
             "ticks": ""
            }
           }
          ],
          "scatter": [
           {
            "fillpattern": {
             "fillmode": "overlay",
             "size": 10,
             "solidity": 0.2
            },
            "type": "scatter"
           }
          ],
          "parcoords": [
           {
            "type": "parcoords",
            "line": {
             "colorbar": {
              "outlinewidth": 0,
              "ticks": ""
             }
            }
           }
          ],
          "scatterpolargl": [
           {
            "type": "scatterpolargl",
            "marker": {
             "colorbar": {
              "outlinewidth": 0,
              "ticks": ""
             }
            }
           }
          ],
          "bar": [
           {
            "error_x": {
             "color": "#2a3f5f"
            },
            "error_y": {
             "color": "#2a3f5f"
            },
            "marker": {
             "line": {
              "color": "#E5ECF6",
              "width": 0.5
             },
             "pattern": {
              "fillmode": "overlay",
              "size": 10,
              "solidity": 0.2
             }
            },
            "type": "bar"
           }
          ],
          "scattergeo": [
           {
            "type": "scattergeo",
            "marker": {
             "colorbar": {
              "outlinewidth": 0,
              "ticks": ""
             }
            }
           }
          ],
          "scatterpolar": [
           {
            "type": "scatterpolar",
            "marker": {
             "colorbar": {
              "outlinewidth": 0,
              "ticks": ""
             }
            }
           }
          ],
          "histogram": [
           {
            "marker": {
             "pattern": {
              "fillmode": "overlay",
              "size": 10,
              "solidity": 0.2
             }
            },
            "type": "histogram"
           }
          ],
          "scattergl": [
           {
            "type": "scattergl",
            "marker": {
             "colorbar": {
              "outlinewidth": 0,
              "ticks": ""
             }
            }
           }
          ],
          "scatter3d": [
           {
            "type": "scatter3d",
            "line": {
             "colorbar": {
              "outlinewidth": 0,
              "ticks": ""
             }
            },
            "marker": {
             "colorbar": {
              "outlinewidth": 0,
              "ticks": ""
             }
            }
           }
          ],
          "scattermapbox": [
           {
            "type": "scattermapbox",
            "marker": {
             "colorbar": {
              "outlinewidth": 0,
              "ticks": ""
             }
            }
           }
          ],
          "scatterternary": [
           {
            "type": "scatterternary",
            "marker": {
             "colorbar": {
              "outlinewidth": 0,
              "ticks": ""
             }
            }
           }
          ],
          "scattercarpet": [
           {
            "type": "scattercarpet",
            "marker": {
             "colorbar": {
              "outlinewidth": 0,
              "ticks": ""
             }
            }
           }
          ],
          "carpet": [
           {
            "aaxis": {
             "endlinecolor": "#2a3f5f",
             "gridcolor": "white",
             "linecolor": "white",
             "minorgridcolor": "white",
             "startlinecolor": "#2a3f5f"
            },
            "baxis": {
             "endlinecolor": "#2a3f5f",
             "gridcolor": "white",
             "linecolor": "white",
             "minorgridcolor": "white",
             "startlinecolor": "#2a3f5f"
            },
            "type": "carpet"
           }
          ],
          "table": [
           {
            "cells": {
             "fill": {
              "color": "#EBF0F8"
             },
             "line": {
              "color": "white"
             }
            },
            "header": {
             "fill": {
              "color": "#C8D4E3"
             },
             "line": {
              "color": "white"
             }
            },
            "type": "table"
           }
          ],
          "barpolar": [
           {
            "marker": {
             "line": {
              "color": "#E5ECF6",
              "width": 0.5
             },
             "pattern": {
              "fillmode": "overlay",
              "size": 10,
              "solidity": 0.2
             }
            },
            "type": "barpolar"
           }
          ],
          "pie": [
           {
            "automargin": true,
            "type": "pie"
           }
          ]
         },
         "layout": {
          "autotypenumbers": "strict",
          "colorway": [
           "#636efa",
           "#EF553B",
           "#00cc96",
           "#ab63fa",
           "#FFA15A",
           "#19d3f3",
           "#FF6692",
           "#B6E880",
           "#FF97FF",
           "#FECB52"
          ],
          "font": {
           "color": "#2a3f5f"
          },
          "hovermode": "closest",
          "hoverlabel": {
           "align": "left"
          },
          "paper_bgcolor": "white",
          "plot_bgcolor": "#E5ECF6",
          "polar": {
           "bgcolor": "#E5ECF6",
           "angularaxis": {
            "gridcolor": "white",
            "linecolor": "white",
            "ticks": ""
           },
           "radialaxis": {
            "gridcolor": "white",
            "linecolor": "white",
            "ticks": ""
           }
          },
          "ternary": {
           "bgcolor": "#E5ECF6",
           "aaxis": {
            "gridcolor": "white",
            "linecolor": "white",
            "ticks": ""
           },
           "baxis": {
            "gridcolor": "white",
            "linecolor": "white",
            "ticks": ""
           },
           "caxis": {
            "gridcolor": "white",
            "linecolor": "white",
            "ticks": ""
           }
          },
          "coloraxis": {
           "colorbar": {
            "outlinewidth": 0,
            "ticks": ""
           }
          },
          "colorscale": {
           "sequential": [
            [
             0.0,
             "#0d0887"
            ],
            [
             0.1111111111111111,
             "#46039f"
            ],
            [
             0.2222222222222222,
             "#7201a8"
            ],
            [
             0.3333333333333333,
             "#9c179e"
            ],
            [
             0.4444444444444444,
             "#bd3786"
            ],
            [
             0.5555555555555556,
             "#d8576b"
            ],
            [
             0.6666666666666666,
             "#ed7953"
            ],
            [
             0.7777777777777778,
             "#fb9f3a"
            ],
            [
             0.8888888888888888,
             "#fdca26"
            ],
            [
             1.0,
             "#f0f921"
            ]
           ],
           "sequentialminus": [
            [
             0.0,
             "#0d0887"
            ],
            [
             0.1111111111111111,
             "#46039f"
            ],
            [
             0.2222222222222222,
             "#7201a8"
            ],
            [
             0.3333333333333333,
             "#9c179e"
            ],
            [
             0.4444444444444444,
             "#bd3786"
            ],
            [
             0.5555555555555556,
             "#d8576b"
            ],
            [
             0.6666666666666666,
             "#ed7953"
            ],
            [
             0.7777777777777778,
             "#fb9f3a"
            ],
            [
             0.8888888888888888,
             "#fdca26"
            ],
            [
             1.0,
             "#f0f921"
            ]
           ],
           "diverging": [
            [
             0,
             "#8e0152"
            ],
            [
             0.1,
             "#c51b7d"
            ],
            [
             0.2,
             "#de77ae"
            ],
            [
             0.3,
             "#f1b6da"
            ],
            [
             0.4,
             "#fde0ef"
            ],
            [
             0.5,
             "#f7f7f7"
            ],
            [
             0.6,
             "#e6f5d0"
            ],
            [
             0.7,
             "#b8e186"
            ],
            [
             0.8,
             "#7fbc41"
            ],
            [
             0.9,
             "#4d9221"
            ],
            [
             1,
             "#276419"
            ]
           ]
          },
          "xaxis": {
           "gridcolor": "white",
           "linecolor": "white",
           "ticks": "",
           "title": {
            "standoff": 15
           },
           "zerolinecolor": "white",
           "automargin": true,
           "zerolinewidth": 2
          },
          "yaxis": {
           "gridcolor": "white",
           "linecolor": "white",
           "ticks": "",
           "title": {
            "standoff": 15
           },
           "zerolinecolor": "white",
           "automargin": true,
           "zerolinewidth": 2
          },
          "scene": {
           "xaxis": {
            "backgroundcolor": "#E5ECF6",
            "gridcolor": "white",
            "linecolor": "white",
            "showbackground": true,
            "ticks": "",
            "zerolinecolor": "white",
            "gridwidth": 2
           },
           "yaxis": {
            "backgroundcolor": "#E5ECF6",
            "gridcolor": "white",
            "linecolor": "white",
            "showbackground": true,
            "ticks": "",
            "zerolinecolor": "white",
            "gridwidth": 2
           },
           "zaxis": {
            "backgroundcolor": "#E5ECF6",
            "gridcolor": "white",
            "linecolor": "white",
            "showbackground": true,
            "ticks": "",
            "zerolinecolor": "white",
            "gridwidth": 2
           }
          },
          "shapedefaults": {
           "line": {
            "color": "#2a3f5f"
           }
          },
          "annotationdefaults": {
           "arrowcolor": "#2a3f5f",
           "arrowhead": 0,
           "arrowwidth": 1
          },
          "geo": {
           "bgcolor": "white",
           "landcolor": "#E5ECF6",
           "subunitcolor": "white",
           "showland": true,
           "showlakes": true,
           "lakecolor": "white"
          },
          "title": {
           "x": 0.05
          },
          "mapbox": {
           "style": "light"
          }
         }
        },
        "xaxis": {
         "anchor": "y",
         "domain": [
          0.0,
          1.0
         ],
         "title": {
          "text": "Month"
         }
        },
        "yaxis": {
         "anchor": "x",
         "domain": [
          0.0,
          1.0
         ],
         "title": {
          "text": "Total Late Days"
         }
        },
        "legend": {
         "title": {
          "text": "Label"
         },
         "tracegroupgap": 0
        },
        "title": {
         "text": "Marginal improvement of using recommended supplier mix"
        },
        "width": 1200,
        "height": 600,
        "shapes": [
         {
          "type": "line",
          "x0": "2021-09-01T00:00:00",
          "x1": "2021-09-01T00:00:00",
          "xref": "x",
          "y0": 0,
          "y1": 1,
          "yref": "y domain"
         }
        ]
       },
       "config": {
        "plotlyServerURL": "https://plot.ly"
       }
      },
      "text/html": "<div>                            <div id=\"354e5446-f3c0-40ef-a797-1015f7c3e239\" class=\"plotly-graph-div\" style=\"height:600px; width:1200px;\"></div>            <script type=\"text/javascript\">                require([\"plotly\"], function(Plotly) {                    window.PLOTLYENV=window.PLOTLYENV || {};                                    if (document.getElementById(\"354e5446-f3c0-40ef-a797-1015f7c3e239\")) {                    Plotly.newPlot(                        \"354e5446-f3c0-40ef-a797-1015f7c3e239\",                        [{\"hovertemplate\":\"Label=Actual Supplier Mix<br>Month=%{x}<br>Total Late Days=%{y}<extra></extra>\",\"legendgroup\":\"Actual Supplier Mix\",\"line\":{\"color\":\"#636efa\",\"dash\":\"solid\"},\"marker\":{\"symbol\":\"circle\"},\"mode\":\"lines\",\"name\":\"Actual Supplier Mix\",\"orientation\":\"v\",\"showlegend\":true,\"x\":[\"2018-12-31T00:00:00\",\"2019-01-31T00:00:00\",\"2019-02-28T00:00:00\",\"2019-03-31T00:00:00\",\"2019-04-30T00:00:00\",\"2019-05-31T00:00:00\",\"2019-06-30T00:00:00\",\"2019-07-31T00:00:00\",\"2019-08-31T00:00:00\",\"2019-09-30T00:00:00\",\"2019-10-31T00:00:00\",\"2019-11-30T00:00:00\",\"2019-12-31T00:00:00\",\"2020-01-31T00:00:00\",\"2020-02-29T00:00:00\",\"2020-03-31T00:00:00\",\"2020-04-30T00:00:00\",\"2020-05-31T00:00:00\",\"2020-06-30T00:00:00\",\"2020-07-31T00:00:00\",\"2020-08-31T00:00:00\",\"2020-09-30T00:00:00\",\"2020-10-31T00:00:00\",\"2020-11-30T00:00:00\",\"2020-12-31T00:00:00\",\"2021-01-31T00:00:00\",\"2021-02-28T00:00:00\",\"2021-03-31T00:00:00\",\"2021-04-30T00:00:00\",\"2021-05-31T00:00:00\",\"2021-06-30T00:00:00\",\"2021-07-31T00:00:00\",\"2021-08-31T00:00:00\",\"2021-09-30T00:00:00\",\"2021-10-31T00:00:00\",\"2021-11-30T00:00:00\",\"2021-12-31T00:00:00\",\"2022-01-31T00:00:00\",\"2022-02-28T00:00:00\",\"2022-03-31T00:00:00\",\"2022-04-30T00:00:00\",\"2022-05-31T00:00:00\",\"2022-06-30T00:00:00\",\"2022-07-31T00:00:00\",\"2022-08-31T00:00:00\"],\"xaxis\":\"x\",\"y\":[5.0,0.0,18.900000000000002,17.599999999999998,15.833333333333334,34.53030303030303,87.125,161.50909090909093,91.42857142857143,18.629032258064516,15.370786516853933,44.23880597014925,30.507042253521128,22.296296296296294,3.259259259259259,4.042553191489362,0.0,8.852459016393443,18.0,0.0,10.64516129032258,1.7543859649122806,117.82978723404256,20.756756756756758,4.722222222222222,24.36,6.883720930232558,31.020000000000003,78.20689655172414,195.38028169014086,209.82456140350877,160.71428571428572,379.6875,105.08620689655173,118.02127659574468,51.25581395348837,19.6875,71.59649122807018,38.761904761904766,10.909090909090908,28.0,16.5,46.175438596491226,44.285714285714285,2.5227272727272725],\"yaxis\":\"y\",\"type\":\"scatter\"},{\"hovertemplate\":\"Label=Recommended Supplier Mix<br>Month=%{x}<br>Total Late Days=%{y}<extra></extra>\",\"legendgroup\":\"Recommended Supplier Mix\",\"line\":{\"color\":\"#EF553B\",\"dash\":\"solid\"},\"marker\":{\"symbol\":\"circle\"},\"mode\":\"lines\",\"name\":\"Recommended Supplier Mix\",\"orientation\":\"v\",\"showlegend\":true,\"x\":[\"2021-09-30T00:00:00\",\"2021-10-31T00:00:00\",\"2021-11-30T00:00:00\",\"2021-12-31T00:00:00\",\"2022-01-31T00:00:00\",\"2022-02-28T00:00:00\",\"2022-03-31T00:00:00\",\"2022-04-30T00:00:00\",\"2022-05-31T00:00:00\",\"2022-06-30T00:00:00\",\"2022-07-31T00:00:00\",\"2022-08-31T00:00:00\"],\"xaxis\":\"x\",\"y\":[16.48888888888889,20.06666666666667,23.644444444444446,35.0,49.466666666666676,40.28888888888889,24.88888888888889,23.8,23.1,0.0,0.0,0.0],\"yaxis\":\"y\",\"type\":\"scatter\"}],                        {\"template\":{\"data\":{\"histogram2dcontour\":[{\"type\":\"histogram2dcontour\",\"colorbar\":{\"outlinewidth\":0,\"ticks\":\"\"},\"colorscale\":[[0.0,\"#0d0887\"],[0.1111111111111111,\"#46039f\"],[0.2222222222222222,\"#7201a8\"],[0.3333333333333333,\"#9c179e\"],[0.4444444444444444,\"#bd3786\"],[0.5555555555555556,\"#d8576b\"],[0.6666666666666666,\"#ed7953\"],[0.7777777777777778,\"#fb9f3a\"],[0.8888888888888888,\"#fdca26\"],[1.0,\"#f0f921\"]]}],\"choropleth\":[{\"type\":\"choropleth\",\"colorbar\":{\"outlinewidth\":0,\"ticks\":\"\"}}],\"histogram2d\":[{\"type\":\"histogram2d\",\"colorbar\":{\"outlinewidth\":0,\"ticks\":\"\"},\"colorscale\":[[0.0,\"#0d0887\"],[0.1111111111111111,\"#46039f\"],[0.2222222222222222,\"#7201a8\"],[0.3333333333333333,\"#9c179e\"],[0.4444444444444444,\"#bd3786\"],[0.5555555555555556,\"#d8576b\"],[0.6666666666666666,\"#ed7953\"],[0.7777777777777778,\"#fb9f3a\"],[0.8888888888888888,\"#fdca26\"],[1.0,\"#f0f921\"]]}],\"heatmap\":[{\"type\":\"heatmap\",\"colorbar\":{\"outlinewidth\":0,\"ticks\":\"\"},\"colorscale\":[[0.0,\"#0d0887\"],[0.1111111111111111,\"#46039f\"],[0.2222222222222222,\"#7201a8\"],[0.3333333333333333,\"#9c179e\"],[0.4444444444444444,\"#bd3786\"],[0.5555555555555556,\"#d8576b\"],[0.6666666666666666,\"#ed7953\"],[0.7777777777777778,\"#fb9f3a\"],[0.8888888888888888,\"#fdca26\"],[1.0,\"#f0f921\"]]}],\"heatmapgl\":[{\"type\":\"heatmapgl\",\"colorbar\":{\"outlinewidth\":0,\"ticks\":\"\"},\"colorscale\":[[0.0,\"#0d0887\"],[0.1111111111111111,\"#46039f\"],[0.2222222222222222,\"#7201a8\"],[0.3333333333333333,\"#9c179e\"],[0.4444444444444444,\"#bd3786\"],[0.5555555555555556,\"#d8576b\"],[0.6666666666666666,\"#ed7953\"],[0.7777777777777778,\"#fb9f3a\"],[0.8888888888888888,\"#fdca26\"],[1.0,\"#f0f921\"]]}],\"contourcarpet\":[{\"type\":\"contourcarpet\",\"colorbar\":{\"outlinewidth\":0,\"ticks\":\"\"}}],\"contour\":[{\"type\":\"contour\",\"colorbar\":{\"outlinewidth\":0,\"ticks\":\"\"},\"colorscale\":[[0.0,\"#0d0887\"],[0.1111111111111111,\"#46039f\"],[0.2222222222222222,\"#7201a8\"],[0.3333333333333333,\"#9c179e\"],[0.4444444444444444,\"#bd3786\"],[0.5555555555555556,\"#d8576b\"],[0.6666666666666666,\"#ed7953\"],[0.7777777777777778,\"#fb9f3a\"],[0.8888888888888888,\"#fdca26\"],[1.0,\"#f0f921\"]]}],\"surface\":[{\"type\":\"surface\",\"colorbar\":{\"outlinewidth\":0,\"ticks\":\"\"},\"colorscale\":[[0.0,\"#0d0887\"],[0.1111111111111111,\"#46039f\"],[0.2222222222222222,\"#7201a8\"],[0.3333333333333333,\"#9c179e\"],[0.4444444444444444,\"#bd3786\"],[0.5555555555555556,\"#d8576b\"],[0.6666666666666666,\"#ed7953\"],[0.7777777777777778,\"#fb9f3a\"],[0.8888888888888888,\"#fdca26\"],[1.0,\"#f0f921\"]]}],\"mesh3d\":[{\"type\":\"mesh3d\",\"colorbar\":{\"outlinewidth\":0,\"ticks\":\"\"}}],\"scatter\":[{\"fillpattern\":{\"fillmode\":\"overlay\",\"size\":10,\"solidity\":0.2},\"type\":\"scatter\"}],\"parcoords\":[{\"type\":\"parcoords\",\"line\":{\"colorbar\":{\"outlinewidth\":0,\"ticks\":\"\"}}}],\"scatterpolargl\":[{\"type\":\"scatterpolargl\",\"marker\":{\"colorbar\":{\"outlinewidth\":0,\"ticks\":\"\"}}}],\"bar\":[{\"error_x\":{\"color\":\"#2a3f5f\"},\"error_y\":{\"color\":\"#2a3f5f\"},\"marker\":{\"line\":{\"color\":\"#E5ECF6\",\"width\":0.5},\"pattern\":{\"fillmode\":\"overlay\",\"size\":10,\"solidity\":0.2}},\"type\":\"bar\"}],\"scattergeo\":[{\"type\":\"scattergeo\",\"marker\":{\"colorbar\":{\"outlinewidth\":0,\"ticks\":\"\"}}}],\"scatterpolar\":[{\"type\":\"scatterpolar\",\"marker\":{\"colorbar\":{\"outlinewidth\":0,\"ticks\":\"\"}}}],\"histogram\":[{\"marker\":{\"pattern\":{\"fillmode\":\"overlay\",\"size\":10,\"solidity\":0.2}},\"type\":\"histogram\"}],\"scattergl\":[{\"type\":\"scattergl\",\"marker\":{\"colorbar\":{\"outlinewidth\":0,\"ticks\":\"\"}}}],\"scatter3d\":[{\"type\":\"scatter3d\",\"line\":{\"colorbar\":{\"outlinewidth\":0,\"ticks\":\"\"}},\"marker\":{\"colorbar\":{\"outlinewidth\":0,\"ticks\":\"\"}}}],\"scattermapbox\":[{\"type\":\"scattermapbox\",\"marker\":{\"colorbar\":{\"outlinewidth\":0,\"ticks\":\"\"}}}],\"scatterternary\":[{\"type\":\"scatterternary\",\"marker\":{\"colorbar\":{\"outlinewidth\":0,\"ticks\":\"\"}}}],\"scattercarpet\":[{\"type\":\"scattercarpet\",\"marker\":{\"colorbar\":{\"outlinewidth\":0,\"ticks\":\"\"}}}],\"carpet\":[{\"aaxis\":{\"endlinecolor\":\"#2a3f5f\",\"gridcolor\":\"white\",\"linecolor\":\"white\",\"minorgridcolor\":\"white\",\"startlinecolor\":\"#2a3f5f\"},\"baxis\":{\"endlinecolor\":\"#2a3f5f\",\"gridcolor\":\"white\",\"linecolor\":\"white\",\"minorgridcolor\":\"white\",\"startlinecolor\":\"#2a3f5f\"},\"type\":\"carpet\"}],\"table\":[{\"cells\":{\"fill\":{\"color\":\"#EBF0F8\"},\"line\":{\"color\":\"white\"}},\"header\":{\"fill\":{\"color\":\"#C8D4E3\"},\"line\":{\"color\":\"white\"}},\"type\":\"table\"}],\"barpolar\":[{\"marker\":{\"line\":{\"color\":\"#E5ECF6\",\"width\":0.5},\"pattern\":{\"fillmode\":\"overlay\",\"size\":10,\"solidity\":0.2}},\"type\":\"barpolar\"}],\"pie\":[{\"automargin\":true,\"type\":\"pie\"}]},\"layout\":{\"autotypenumbers\":\"strict\",\"colorway\":[\"#636efa\",\"#EF553B\",\"#00cc96\",\"#ab63fa\",\"#FFA15A\",\"#19d3f3\",\"#FF6692\",\"#B6E880\",\"#FF97FF\",\"#FECB52\"],\"font\":{\"color\":\"#2a3f5f\"},\"hovermode\":\"closest\",\"hoverlabel\":{\"align\":\"left\"},\"paper_bgcolor\":\"white\",\"plot_bgcolor\":\"#E5ECF6\",\"polar\":{\"bgcolor\":\"#E5ECF6\",\"angularaxis\":{\"gridcolor\":\"white\",\"linecolor\":\"white\",\"ticks\":\"\"},\"radialaxis\":{\"gridcolor\":\"white\",\"linecolor\":\"white\",\"ticks\":\"\"}},\"ternary\":{\"bgcolor\":\"#E5ECF6\",\"aaxis\":{\"gridcolor\":\"white\",\"linecolor\":\"white\",\"ticks\":\"\"},\"baxis\":{\"gridcolor\":\"white\",\"linecolor\":\"white\",\"ticks\":\"\"},\"caxis\":{\"gridcolor\":\"white\",\"linecolor\":\"white\",\"ticks\":\"\"}},\"coloraxis\":{\"colorbar\":{\"outlinewidth\":0,\"ticks\":\"\"}},\"colorscale\":{\"sequential\":[[0.0,\"#0d0887\"],[0.1111111111111111,\"#46039f\"],[0.2222222222222222,\"#7201a8\"],[0.3333333333333333,\"#9c179e\"],[0.4444444444444444,\"#bd3786\"],[0.5555555555555556,\"#d8576b\"],[0.6666666666666666,\"#ed7953\"],[0.7777777777777778,\"#fb9f3a\"],[0.8888888888888888,\"#fdca26\"],[1.0,\"#f0f921\"]],\"sequentialminus\":[[0.0,\"#0d0887\"],[0.1111111111111111,\"#46039f\"],[0.2222222222222222,\"#7201a8\"],[0.3333333333333333,\"#9c179e\"],[0.4444444444444444,\"#bd3786\"],[0.5555555555555556,\"#d8576b\"],[0.6666666666666666,\"#ed7953\"],[0.7777777777777778,\"#fb9f3a\"],[0.8888888888888888,\"#fdca26\"],[1.0,\"#f0f921\"]],\"diverging\":[[0,\"#8e0152\"],[0.1,\"#c51b7d\"],[0.2,\"#de77ae\"],[0.3,\"#f1b6da\"],[0.4,\"#fde0ef\"],[0.5,\"#f7f7f7\"],[0.6,\"#e6f5d0\"],[0.7,\"#b8e186\"],[0.8,\"#7fbc41\"],[0.9,\"#4d9221\"],[1,\"#276419\"]]},\"xaxis\":{\"gridcolor\":\"white\",\"linecolor\":\"white\",\"ticks\":\"\",\"title\":{\"standoff\":15},\"zerolinecolor\":\"white\",\"automargin\":true,\"zerolinewidth\":2},\"yaxis\":{\"gridcolor\":\"white\",\"linecolor\":\"white\",\"ticks\":\"\",\"title\":{\"standoff\":15},\"zerolinecolor\":\"white\",\"automargin\":true,\"zerolinewidth\":2},\"scene\":{\"xaxis\":{\"backgroundcolor\":\"#E5ECF6\",\"gridcolor\":\"white\",\"linecolor\":\"white\",\"showbackground\":true,\"ticks\":\"\",\"zerolinecolor\":\"white\",\"gridwidth\":2},\"yaxis\":{\"backgroundcolor\":\"#E5ECF6\",\"gridcolor\":\"white\",\"linecolor\":\"white\",\"showbackground\":true,\"ticks\":\"\",\"zerolinecolor\":\"white\",\"gridwidth\":2},\"zaxis\":{\"backgroundcolor\":\"#E5ECF6\",\"gridcolor\":\"white\",\"linecolor\":\"white\",\"showbackground\":true,\"ticks\":\"\",\"zerolinecolor\":\"white\",\"gridwidth\":2}},\"shapedefaults\":{\"line\":{\"color\":\"#2a3f5f\"}},\"annotationdefaults\":{\"arrowcolor\":\"#2a3f5f\",\"arrowhead\":0,\"arrowwidth\":1},\"geo\":{\"bgcolor\":\"white\",\"landcolor\":\"#E5ECF6\",\"subunitcolor\":\"white\",\"showland\":true,\"showlakes\":true,\"lakecolor\":\"white\"},\"title\":{\"x\":0.05},\"mapbox\":{\"style\":\"light\"}}},\"xaxis\":{\"anchor\":\"y\",\"domain\":[0.0,1.0],\"title\":{\"text\":\"Month\"}},\"yaxis\":{\"anchor\":\"x\",\"domain\":[0.0,1.0],\"title\":{\"text\":\"Total Late Days\"}},\"legend\":{\"title\":{\"text\":\"Label\"},\"tracegroupgap\":0},\"title\":{\"text\":\"Marginal improvement of using recommended supplier mix\"},\"width\":1200,\"height\":600,\"shapes\":[{\"type\":\"line\",\"x0\":\"2021-09-01T00:00:00\",\"x1\":\"2021-09-01T00:00:00\",\"xref\":\"x\",\"y0\":0,\"y1\":1,\"yref\":\"y domain\"}]},                        {\"responsive\": true}                    ).then(function(){\n                            \nvar gd = document.getElementById('354e5446-f3c0-40ef-a797-1015f7c3e239');\nvar x = new MutationObserver(function (mutations, observer) {{\n        var display = window.getComputedStyle(gd).display;\n        if (!display || display === 'none') {{\n            console.log([gd, 'removed!']);\n            Plotly.purge(gd);\n            observer.disconnect();\n        }}\n}});\n\n// Listen for the removal of the full notebook cells\nvar notebookContainer = gd.closest('#notebook-container');\nif (notebookContainer) {{\n    x.observe(notebookContainer, {childList: true});\n}}\n\n// Listen for the clearing of the current output cell\nvar outputEl = gd.closest('.output');\nif (outputEl) {{\n    x.observe(outputEl, {childList: true});\n}}\n\n                        })                };                });            </script>        </div>"
     },
     "metadata": {},
     "output_type": "display_data"
    }
   ],
   "source": [
    "time = pd.to_datetime('2021-09-01', format='%Y-%m-%d')\n",
    "results['017']['Validation'][time]"
   ],
   "metadata": {
    "collapsed": false,
    "pycharm": {
     "name": "#%%\n"
    }
   }
  },
  {
   "cell_type": "code",
   "execution_count": 53,
   "outputs": [],
   "source": [
    "best_dist = [index for index in dist_indexer.keys() if dist_indexer[index]==min(dist_indexer.values())][0]"
   ],
   "metadata": {
    "collapsed": false,
    "pycharm": {
     "name": "#%%\n"
    }
   }
  },
  {
   "cell_type": "code",
   "execution_count": 60,
   "outputs": [
    {
     "data": {
      "text/plain": "     Z  Probability\n0  0.0         0.75\n1  0.1         0.25",
      "text/html": "<div>\n<style scoped>\n    .dataframe tbody tr th:only-of-type {\n        vertical-align: middle;\n    }\n\n    .dataframe tbody tr th {\n        vertical-align: top;\n    }\n\n    .dataframe thead th {\n        text-align: right;\n    }\n</style>\n<table border=\"1\" class=\"dataframe\">\n  <thead>\n    <tr style=\"text-align: right;\">\n      <th></th>\n      <th>Z</th>\n      <th>Probability</th>\n    </tr>\n  </thead>\n  <tbody>\n    <tr>\n      <th>0</th>\n      <td>0.0</td>\n      <td>0.75</td>\n    </tr>\n    <tr>\n      <th>1</th>\n      <td>0.1</td>\n      <td>0.25</td>\n    </tr>\n  </tbody>\n</table>\n</div>"
     },
     "execution_count": 60,
     "metadata": {},
     "output_type": "execute_result"
    }
   ],
   "source": [
    "dist_dics[best_dist].groupby('Z').sum()[['Probability']].reset_index()"
   ],
   "metadata": {
    "collapsed": false,
    "pycharm": {
     "name": "#%%\n"
    }
   }
  },
  {
   "cell_type": "code",
   "execution_count": 55,
   "outputs": [
    {
     "data": {
      "text/plain": "539850 days_late    0.0\n578425 days_late    0.0\n539861 days_late    0.9\n566041 days_late    0.1\n505439 days_late    0.0\nName: 530, dtype: float64"
     },
     "execution_count": 55,
     "metadata": {},
     "output_type": "execute_result"
    }
   ],
   "source": [
    "weights.loc[best_dist]"
   ],
   "metadata": {
    "collapsed": false,
    "pycharm": {
     "name": "#%%\n"
    }
   }
  },
  {
   "cell_type": "code",
   "execution_count": 63,
   "outputs": [
    {
     "data": {
      "text/plain": "    539850 days_late  578425 days_late  539861 days_late  566041 days_late  \\\n0                0.0               0.0               0.0               0.0   \n1                0.0               0.1               0.0               0.0   \n2                0.0               0.1               0.0               0.0   \n3                0.0               0.1               0.0               0.0   \n4                0.0               0.1               0.0               0.0   \n5                0.0               0.2               0.0               0.0   \n6                0.0               0.2               0.0               0.0   \n7                0.2               0.2               0.0               0.0   \n8                0.4               0.0               0.0               0.0   \n9                0.4               0.0               0.0               0.0   \n10               0.4               0.1               0.0               0.0   \n11               0.4               0.1               0.0               0.0   \n12               0.4               0.1               0.0               0.0   \n13               0.4               0.2               0.0               0.0   \n\n    505439 days_late    Z  Probability   E[Z]  E[Z^2]  \n0                0.4  0.4         0.05  0.020  0.0080  \n1                0.4  0.5         0.05  0.025  0.0125  \n2                0.8  0.9         0.05  0.045  0.0405  \n3                0.4  0.5         0.05  0.025  0.0125  \n4                0.8  0.9         0.05  0.045  0.0405  \n5                0.8  1.0         0.05  0.050  0.0500  \n6                0.8  1.0         0.05  0.050  0.0500  \n7                0.8  1.2         0.05  0.060  0.0720  \n8                0.4  0.8         0.10  0.080  0.0640  \n9                0.8  1.2         0.05  0.060  0.0720  \n10               0.4  0.9         0.25  0.225  0.2025  \n11               0.8  1.3         0.10  0.130  0.1690  \n12               0.4  0.9         0.05  0.045  0.0405  \n13               0.4  1.0         0.05  0.050  0.0500  ",
      "text/html": "<div>\n<style scoped>\n    .dataframe tbody tr th:only-of-type {\n        vertical-align: middle;\n    }\n\n    .dataframe tbody tr th {\n        vertical-align: top;\n    }\n\n    .dataframe thead th {\n        text-align: right;\n    }\n</style>\n<table border=\"1\" class=\"dataframe\">\n  <thead>\n    <tr style=\"text-align: right;\">\n      <th></th>\n      <th>539850 days_late</th>\n      <th>578425 days_late</th>\n      <th>539861 days_late</th>\n      <th>566041 days_late</th>\n      <th>505439 days_late</th>\n      <th>Z</th>\n      <th>Probability</th>\n      <th>E[Z]</th>\n      <th>E[Z^2]</th>\n    </tr>\n  </thead>\n  <tbody>\n    <tr>\n      <th>0</th>\n      <td>0.0</td>\n      <td>0.0</td>\n      <td>0.0</td>\n      <td>0.0</td>\n      <td>0.4</td>\n      <td>0.4</td>\n      <td>0.05</td>\n      <td>0.020</td>\n      <td>0.0080</td>\n    </tr>\n    <tr>\n      <th>1</th>\n      <td>0.0</td>\n      <td>0.1</td>\n      <td>0.0</td>\n      <td>0.0</td>\n      <td>0.4</td>\n      <td>0.5</td>\n      <td>0.05</td>\n      <td>0.025</td>\n      <td>0.0125</td>\n    </tr>\n    <tr>\n      <th>2</th>\n      <td>0.0</td>\n      <td>0.1</td>\n      <td>0.0</td>\n      <td>0.0</td>\n      <td>0.8</td>\n      <td>0.9</td>\n      <td>0.05</td>\n      <td>0.045</td>\n      <td>0.0405</td>\n    </tr>\n    <tr>\n      <th>3</th>\n      <td>0.0</td>\n      <td>0.1</td>\n      <td>0.0</td>\n      <td>0.0</td>\n      <td>0.4</td>\n      <td>0.5</td>\n      <td>0.05</td>\n      <td>0.025</td>\n      <td>0.0125</td>\n    </tr>\n    <tr>\n      <th>4</th>\n      <td>0.0</td>\n      <td>0.1</td>\n      <td>0.0</td>\n      <td>0.0</td>\n      <td>0.8</td>\n      <td>0.9</td>\n      <td>0.05</td>\n      <td>0.045</td>\n      <td>0.0405</td>\n    </tr>\n    <tr>\n      <th>5</th>\n      <td>0.0</td>\n      <td>0.2</td>\n      <td>0.0</td>\n      <td>0.0</td>\n      <td>0.8</td>\n      <td>1.0</td>\n      <td>0.05</td>\n      <td>0.050</td>\n      <td>0.0500</td>\n    </tr>\n    <tr>\n      <th>6</th>\n      <td>0.0</td>\n      <td>0.2</td>\n      <td>0.0</td>\n      <td>0.0</td>\n      <td>0.8</td>\n      <td>1.0</td>\n      <td>0.05</td>\n      <td>0.050</td>\n      <td>0.0500</td>\n    </tr>\n    <tr>\n      <th>7</th>\n      <td>0.2</td>\n      <td>0.2</td>\n      <td>0.0</td>\n      <td>0.0</td>\n      <td>0.8</td>\n      <td>1.2</td>\n      <td>0.05</td>\n      <td>0.060</td>\n      <td>0.0720</td>\n    </tr>\n    <tr>\n      <th>8</th>\n      <td>0.4</td>\n      <td>0.0</td>\n      <td>0.0</td>\n      <td>0.0</td>\n      <td>0.4</td>\n      <td>0.8</td>\n      <td>0.10</td>\n      <td>0.080</td>\n      <td>0.0640</td>\n    </tr>\n    <tr>\n      <th>9</th>\n      <td>0.4</td>\n      <td>0.0</td>\n      <td>0.0</td>\n      <td>0.0</td>\n      <td>0.8</td>\n      <td>1.2</td>\n      <td>0.05</td>\n      <td>0.060</td>\n      <td>0.0720</td>\n    </tr>\n    <tr>\n      <th>10</th>\n      <td>0.4</td>\n      <td>0.1</td>\n      <td>0.0</td>\n      <td>0.0</td>\n      <td>0.4</td>\n      <td>0.9</td>\n      <td>0.25</td>\n      <td>0.225</td>\n      <td>0.2025</td>\n    </tr>\n    <tr>\n      <th>11</th>\n      <td>0.4</td>\n      <td>0.1</td>\n      <td>0.0</td>\n      <td>0.0</td>\n      <td>0.8</td>\n      <td>1.3</td>\n      <td>0.10</td>\n      <td>0.130</td>\n      <td>0.1690</td>\n    </tr>\n    <tr>\n      <th>12</th>\n      <td>0.4</td>\n      <td>0.1</td>\n      <td>0.0</td>\n      <td>0.0</td>\n      <td>0.4</td>\n      <td>0.9</td>\n      <td>0.05</td>\n      <td>0.045</td>\n      <td>0.0405</td>\n    </tr>\n    <tr>\n      <th>13</th>\n      <td>0.4</td>\n      <td>0.2</td>\n      <td>0.0</td>\n      <td>0.0</td>\n      <td>0.4</td>\n      <td>1.0</td>\n      <td>0.05</td>\n      <td>0.050</td>\n      <td>0.0500</td>\n    </tr>\n  </tbody>\n</table>\n</div>"
     },
     "execution_count": 63,
     "metadata": {},
     "output_type": "execute_result"
    }
   ],
   "source": [
    "dist_dics[0]"
   ],
   "metadata": {
    "collapsed": false,
    "pycharm": {
     "name": "#%%\n"
    }
   }
  },
  {
   "cell_type": "code",
   "execution_count": 72,
   "outputs": [
    {
     "data": {
      "text/plain": "               PO_Number\nVendor_number           \n500003          0.003008\n500023          0.000040\n500061          0.000633\n500124          0.002929\n500288          0.029689\n...                  ...\n577711          0.001663\n578425          0.009619\n578522          0.000079\n578536          0.000158\n578932          0.000040\n\n[168 rows x 1 columns]",
      "text/html": "<div>\n<style scoped>\n    .dataframe tbody tr th:only-of-type {\n        vertical-align: middle;\n    }\n\n    .dataframe tbody tr th {\n        vertical-align: top;\n    }\n\n    .dataframe thead th {\n        text-align: right;\n    }\n</style>\n<table border=\"1\" class=\"dataframe\">\n  <thead>\n    <tr style=\"text-align: right;\">\n      <th></th>\n      <th>PO_Number</th>\n    </tr>\n    <tr>\n      <th>Vendor_number</th>\n      <th></th>\n    </tr>\n  </thead>\n  <tbody>\n    <tr>\n      <th>500003</th>\n      <td>0.003008</td>\n    </tr>\n    <tr>\n      <th>500023</th>\n      <td>0.000040</td>\n    </tr>\n    <tr>\n      <th>500061</th>\n      <td>0.000633</td>\n    </tr>\n    <tr>\n      <th>500124</th>\n      <td>0.002929</td>\n    </tr>\n    <tr>\n      <th>500288</th>\n      <td>0.029689</td>\n    </tr>\n    <tr>\n      <th>...</th>\n      <td>...</td>\n    </tr>\n    <tr>\n      <th>577711</th>\n      <td>0.001663</td>\n    </tr>\n    <tr>\n      <th>578425</th>\n      <td>0.009619</td>\n    </tr>\n    <tr>\n      <th>578522</th>\n      <td>0.000079</td>\n    </tr>\n    <tr>\n      <th>578536</th>\n      <td>0.000158</td>\n    </tr>\n    <tr>\n      <th>578932</th>\n      <td>0.000040</td>\n    </tr>\n  </tbody>\n</table>\n<p>168 rows × 1 columns</p>\n</div>"
     },
     "execution_count": 72,
     "metadata": {},
     "output_type": "execute_result"
    }
   ],
   "source": [],
   "metadata": {
    "collapsed": false,
    "pycharm": {
     "name": "#%%\n"
    }
   }
  },
  {
   "cell_type": "code",
   "execution_count": 485,
   "outputs": [
    {
     "data": {
      "text/plain": "        Month  539850 days_late  578425 days_late  539861 days_late  \\\n43 2018-12-31          5.000000          0.000000               0.0   \n44 2019-01-31          5.000000          0.000000               0.0   \n25 2021-03-31          0.000000          1.217391               0.0   \n26 2021-04-30          2.666667          1.379310               0.0   \n27 2021-05-31          0.000000          2.900000               0.0   \n28 2021-06-30          0.000000          0.833333               0.0   \n29 2021-07-31          0.000000          4.111111               0.0   \n30 2021-08-31          1.555556          4.642857               0.0   \n31 2021-09-30          3.111111          0.214286               0.0   \n32 2021-10-31          4.666667          0.000000               0.0   \n33 2021-11-30          6.222222          0.117647               0.0   \n34 2021-12-31          7.777778          1.111111               0.0   \n35 2022-01-31          9.333333          3.818182               0.0   \n36 2022-02-28         10.888889          1.416667               0.0   \n37 2022-03-31         12.444444          0.909091               0.0   \n38 2022-04-30         14.000000          1.500000               0.0   \n39 2022-05-31          7.000000          1.125000               0.0   \n40 2022-06-30          0.000000          1.777778               0.0   \n41 2022-07-31          0.000000          1.250000               0.0   \n42 2022-08-31          0.000000          0.000000               0.0   \n\n    566041 days_late  505439 days_late  \n43          0.000000          0.130435  \n44          0.000000          0.130435  \n25          0.000000          0.312500  \n26          0.000000          1.894737  \n27          1.000000          3.333333  \n28          0.166667          6.606061  \n29          0.000000          4.076923  \n30          0.000000          9.294118  \n31          0.000000          3.612903  \n32          0.000000          5.160000  \n33          0.000000          3.500000  \n34          0.000000          0.062500  \n35          0.250000          1.100000  \n36          0.250000          1.388889  \n37          0.000000          1.027778  \n38          0.000000          0.666667  \n39          0.000000          0.642857  \n40          0.285714          1.636364  \n41          0.000000          2.368421  \n42          0.000000          0.130435  ",
      "text/html": "<div>\n<style scoped>\n    .dataframe tbody tr th:only-of-type {\n        vertical-align: middle;\n    }\n\n    .dataframe tbody tr th {\n        vertical-align: top;\n    }\n\n    .dataframe thead th {\n        text-align: right;\n    }\n</style>\n<table border=\"1\" class=\"dataframe\">\n  <thead>\n    <tr style=\"text-align: right;\">\n      <th></th>\n      <th>Month</th>\n      <th>539850 days_late</th>\n      <th>578425 days_late</th>\n      <th>539861 days_late</th>\n      <th>566041 days_late</th>\n      <th>505439 days_late</th>\n    </tr>\n  </thead>\n  <tbody>\n    <tr>\n      <th>43</th>\n      <td>2018-12-31</td>\n      <td>5.000000</td>\n      <td>0.000000</td>\n      <td>0.0</td>\n      <td>0.000000</td>\n      <td>0.130435</td>\n    </tr>\n    <tr>\n      <th>44</th>\n      <td>2019-01-31</td>\n      <td>5.000000</td>\n      <td>0.000000</td>\n      <td>0.0</td>\n      <td>0.000000</td>\n      <td>0.130435</td>\n    </tr>\n    <tr>\n      <th>25</th>\n      <td>2021-03-31</td>\n      <td>0.000000</td>\n      <td>1.217391</td>\n      <td>0.0</td>\n      <td>0.000000</td>\n      <td>0.312500</td>\n    </tr>\n    <tr>\n      <th>26</th>\n      <td>2021-04-30</td>\n      <td>2.666667</td>\n      <td>1.379310</td>\n      <td>0.0</td>\n      <td>0.000000</td>\n      <td>1.894737</td>\n    </tr>\n    <tr>\n      <th>27</th>\n      <td>2021-05-31</td>\n      <td>0.000000</td>\n      <td>2.900000</td>\n      <td>0.0</td>\n      <td>1.000000</td>\n      <td>3.333333</td>\n    </tr>\n    <tr>\n      <th>28</th>\n      <td>2021-06-30</td>\n      <td>0.000000</td>\n      <td>0.833333</td>\n      <td>0.0</td>\n      <td>0.166667</td>\n      <td>6.606061</td>\n    </tr>\n    <tr>\n      <th>29</th>\n      <td>2021-07-31</td>\n      <td>0.000000</td>\n      <td>4.111111</td>\n      <td>0.0</td>\n      <td>0.000000</td>\n      <td>4.076923</td>\n    </tr>\n    <tr>\n      <th>30</th>\n      <td>2021-08-31</td>\n      <td>1.555556</td>\n      <td>4.642857</td>\n      <td>0.0</td>\n      <td>0.000000</td>\n      <td>9.294118</td>\n    </tr>\n    <tr>\n      <th>31</th>\n      <td>2021-09-30</td>\n      <td>3.111111</td>\n      <td>0.214286</td>\n      <td>0.0</td>\n      <td>0.000000</td>\n      <td>3.612903</td>\n    </tr>\n    <tr>\n      <th>32</th>\n      <td>2021-10-31</td>\n      <td>4.666667</td>\n      <td>0.000000</td>\n      <td>0.0</td>\n      <td>0.000000</td>\n      <td>5.160000</td>\n    </tr>\n    <tr>\n      <th>33</th>\n      <td>2021-11-30</td>\n      <td>6.222222</td>\n      <td>0.117647</td>\n      <td>0.0</td>\n      <td>0.000000</td>\n      <td>3.500000</td>\n    </tr>\n    <tr>\n      <th>34</th>\n      <td>2021-12-31</td>\n      <td>7.777778</td>\n      <td>1.111111</td>\n      <td>0.0</td>\n      <td>0.000000</td>\n      <td>0.062500</td>\n    </tr>\n    <tr>\n      <th>35</th>\n      <td>2022-01-31</td>\n      <td>9.333333</td>\n      <td>3.818182</td>\n      <td>0.0</td>\n      <td>0.250000</td>\n      <td>1.100000</td>\n    </tr>\n    <tr>\n      <th>36</th>\n      <td>2022-02-28</td>\n      <td>10.888889</td>\n      <td>1.416667</td>\n      <td>0.0</td>\n      <td>0.250000</td>\n      <td>1.388889</td>\n    </tr>\n    <tr>\n      <th>37</th>\n      <td>2022-03-31</td>\n      <td>12.444444</td>\n      <td>0.909091</td>\n      <td>0.0</td>\n      <td>0.000000</td>\n      <td>1.027778</td>\n    </tr>\n    <tr>\n      <th>38</th>\n      <td>2022-04-30</td>\n      <td>14.000000</td>\n      <td>1.500000</td>\n      <td>0.0</td>\n      <td>0.000000</td>\n      <td>0.666667</td>\n    </tr>\n    <tr>\n      <th>39</th>\n      <td>2022-05-31</td>\n      <td>7.000000</td>\n      <td>1.125000</td>\n      <td>0.0</td>\n      <td>0.000000</td>\n      <td>0.642857</td>\n    </tr>\n    <tr>\n      <th>40</th>\n      <td>2022-06-30</td>\n      <td>0.000000</td>\n      <td>1.777778</td>\n      <td>0.0</td>\n      <td>0.285714</td>\n      <td>1.636364</td>\n    </tr>\n    <tr>\n      <th>41</th>\n      <td>2022-07-31</td>\n      <td>0.000000</td>\n      <td>1.250000</td>\n      <td>0.0</td>\n      <td>0.000000</td>\n      <td>2.368421</td>\n    </tr>\n    <tr>\n      <th>42</th>\n      <td>2022-08-31</td>\n      <td>0.000000</td>\n      <td>0.000000</td>\n      <td>0.0</td>\n      <td>0.000000</td>\n      <td>0.130435</td>\n    </tr>\n  </tbody>\n</table>\n</div>"
     },
     "execution_count": 485,
     "metadata": {},
     "output_type": "execute_result"
    }
   ],
   "source": [
    "MVEF_Clean2"
   ],
   "metadata": {
    "collapsed": false,
    "pycharm": {
     "name": "#%%\n"
    }
   }
  },
  {
   "cell_type": "code",
   "execution_count": 513,
   "outputs": [],
   "source": [
    "egg = {\n",
    "    'Month':(list(MVEF_Clean['Month']) + list(MVEF_Clean['Month'])),\n",
    "    'Average Days Late':list(MVEF_Clean['505439 days_late']) + list(MVEF_Clean['578425 days_late']),\n",
    "    'Supplier':['Suplier 1']*20 + ['Suplier 2']*20\n",
    "}\n",
    "new_df = pd.DataFrame(egg)\n",
    "egg['Month'] = pd.to_datetime(egg['Month'], format='%Y-%m-%d')"
   ],
   "metadata": {
    "collapsed": false,
    "pycharm": {
     "name": "#%%\n"
    }
   }
  },
  {
   "cell_type": "code",
   "execution_count": 525,
   "outputs": [
    {
     "data": {
      "text/plain": "<Figure size 1015.5x600 with 1 Axes>",
      "image/png": "[encoded data removed]"
     },
     "metadata": {},
     "output_type": "display_data"
    }
   ],
   "source": [
    "sns.set(style=\"darkgrid\")\n",
    "sns.relplot(\n",
    "    data=new_df,\n",
    "    x=\"Month\", y=\"Average Days Late\", hue=\"Supplier\",\n",
    "    height=6, aspect=1.5,\n",
    "    kind=\"line\",\n",
    "    # row=\"Supplier\",\n",
    ").set(title=\"Average Days Late per Month\")\n",
    "plt.xlim(pd.to_datetime('2021-05-01'),pd.to_datetime('2022-09-01'))\n",
    "\n",
    "# label points on the plot\n",
    "# for x, y in zip(new_df[\"Month\"], new_df[\"Average Days Late\"]):\n",
    "#     if x >= pd.to_datetime('2021-05-01'):\n",
    "#         # the position of the data label relative to the data point can be adjusted by adding/subtracting a value from the x &/ y coordinates\n",
    "#         plt.text(x = x, # x-coordinate position of data label\n",
    "#         y = y, # y-coordinate position of data label, adjusted to be 150 below the data point\n",
    "#         s = \"{:.1f}\".format(y), # data label, formatted to ignore decimals\n",
    "#         color = \"Black\") # set colour of line\n",
    "plt.savefig(\"ADL.png\",bbox_inches='tight')"
   ],
   "metadata": {
    "collapsed": false,
    "pycharm": {
     "name": "#%%\n"
    }
   }
  },
  {
   "cell_type": "code",
   "execution_count": null,
   "outputs": [],
   "source": [],
   "metadata": {
    "collapsed": false,
    "pycharm": {
     "name": "#%%\n"
    }
   }
  }
 ],
 "metadata": {
  "kernelspec": {
   "display_name": "Python 3",
   "language": "python",
   "name": "python3"
  },
  "language_info": {
   "codemirror_mode": {
    "name": "ipython",
    "version": 2
   },
   "file_extension": ".py",
   "mimetype": "text/x-python",
   "name": "python",
   "nbconvert_exporter": "python",
   "pygments_lexer": "ipython2",
   "version": "2.7.6"
  }
 },
 "nbformat": 4,
 "nbformat_minor": 0
}