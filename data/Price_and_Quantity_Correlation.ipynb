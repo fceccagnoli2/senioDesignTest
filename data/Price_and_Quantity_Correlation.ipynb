{
 "cells": [
  {
   "cell_type": "code",
   "execution_count": 11,
   "metadata": {
    "collapsed": true
   },
   "outputs": [],
   "source": [
    "import pandas as pd\n",
    "import numpy as np\n",
    "from pmdarima.arima import auto_arima"
   ]
  },
  {
   "cell_type": "code",
   "execution_count": 3,
   "outputs": [],
   "source": [
    "data = pd.read_csv('model_data3.csv')"
   ],
   "metadata": {
    "collapsed": false
   }
  },
  {
   "cell_type": "code",
   "execution_count": 15,
   "outputs": [
    {
     "data": {
      "text/plain": "                             Supplier  days_late  Invoice ($)  Invoice Qty  \\\n1                      ELMO SWEDEN AB       -2.0       295.96        51.99   \n2             SHORELINE CONTAINER LLC        0.0       672.25       125.00   \n3      ROYAL TECHNOLOGIES CORPORATION       -1.0       852.00       400.00   \n5                           JEMNI INC        0.0       155.84       600.00   \n6      ROYAL TECHNOLOGIES CORPORATION       -1.0       325.00       100.00   \n...                               ...        ...          ...          ...   \n67198            MEDWAY PLASTICS CORP     -306.0     11197.44      1152.00   \n67228  GRAND RAPIDS FOAM TECHNOLOGIES     -357.0      1676.40       120.00   \n67255                 MAYER-PAETZ INC     -298.0        57.58         3.50   \n67265         APPLIED INDUSTRIAL TECH     -189.0     31920.00      8000.00   \n67283                 MAYER-PAETZ INC     -435.0        28.79         1.75   \n\n       Purchase Order $  Purchase Order Qty  \n1                212.50               50.00  \n2                672.25              125.00  \n3                852.00              400.00  \n5                155.84              600.00  \n6                325.00              100.00  \n...                 ...                 ...  \n67198          11957.76             1152.00  \n67228           1676.40              120.00  \n67255             57.58                3.50  \n67265          31920.00             8000.00  \n67283             28.79                1.75  \n\n[58524 rows x 6 columns]",
      "text/html": "<div>\n<style scoped>\n    .dataframe tbody tr th:only-of-type {\n        vertical-align: middle;\n    }\n\n    .dataframe tbody tr th {\n        vertical-align: top;\n    }\n\n    .dataframe thead th {\n        text-align: right;\n    }\n</style>\n<table border=\"1\" class=\"dataframe\">\n  <thead>\n    <tr style=\"text-align: right;\">\n      <th></th>\n      <th>Supplier</th>\n      <th>days_late</th>\n      <th>Invoice ($)</th>\n      <th>Invoice Qty</th>\n      <th>Purchase Order $</th>\n      <th>Purchase Order Qty</th>\n    </tr>\n  </thead>\n  <tbody>\n    <tr>\n      <th>1</th>\n      <td>ELMO SWEDEN AB</td>\n      <td>-2.0</td>\n      <td>295.96</td>\n      <td>51.99</td>\n      <td>212.50</td>\n      <td>50.00</td>\n    </tr>\n    <tr>\n      <th>2</th>\n      <td>SHORELINE CONTAINER LLC</td>\n      <td>0.0</td>\n      <td>672.25</td>\n      <td>125.00</td>\n      <td>672.25</td>\n      <td>125.00</td>\n    </tr>\n    <tr>\n      <th>3</th>\n      <td>ROYAL TECHNOLOGIES CORPORATION</td>\n      <td>-1.0</td>\n      <td>852.00</td>\n      <td>400.00</td>\n      <td>852.00</td>\n      <td>400.00</td>\n    </tr>\n    <tr>\n      <th>5</th>\n      <td>JEMNI INC</td>\n      <td>0.0</td>\n      <td>155.84</td>\n      <td>600.00</td>\n      <td>155.84</td>\n      <td>600.00</td>\n    </tr>\n    <tr>\n      <th>6</th>\n      <td>ROYAL TECHNOLOGIES CORPORATION</td>\n      <td>-1.0</td>\n      <td>325.00</td>\n      <td>100.00</td>\n      <td>325.00</td>\n      <td>100.00</td>\n    </tr>\n    <tr>\n      <th>...</th>\n      <td>...</td>\n      <td>...</td>\n      <td>...</td>\n      <td>...</td>\n      <td>...</td>\n      <td>...</td>\n    </tr>\n    <tr>\n      <th>67198</th>\n      <td>MEDWAY PLASTICS CORP</td>\n      <td>-306.0</td>\n      <td>11197.44</td>\n      <td>1152.00</td>\n      <td>11957.76</td>\n      <td>1152.00</td>\n    </tr>\n    <tr>\n      <th>67228</th>\n      <td>GRAND RAPIDS FOAM TECHNOLOGIES</td>\n      <td>-357.0</td>\n      <td>1676.40</td>\n      <td>120.00</td>\n      <td>1676.40</td>\n      <td>120.00</td>\n    </tr>\n    <tr>\n      <th>67255</th>\n      <td>MAYER-PAETZ INC</td>\n      <td>-298.0</td>\n      <td>57.58</td>\n      <td>3.50</td>\n      <td>57.58</td>\n      <td>3.50</td>\n    </tr>\n    <tr>\n      <th>67265</th>\n      <td>APPLIED INDUSTRIAL TECH</td>\n      <td>-189.0</td>\n      <td>31920.00</td>\n      <td>8000.00</td>\n      <td>31920.00</td>\n      <td>8000.00</td>\n    </tr>\n    <tr>\n      <th>67283</th>\n      <td>MAYER-PAETZ INC</td>\n      <td>-435.0</td>\n      <td>28.79</td>\n      <td>1.75</td>\n      <td>28.79</td>\n      <td>1.75</td>\n    </tr>\n  </tbody>\n</table>\n<p>58524 rows × 6 columns</p>\n</div>"
     },
     "execution_count": 15,
     "metadata": {},
     "output_type": "execute_result"
    }
   ],
   "source": [
    "# Creating more condensed table and dropping null values\n",
    "\n",
    "new = data[['Supplier', 'days_late', 'Invoice ($)', 'Invoice Qty', 'Purchase Order $', 'Purchase Order Qty']].dropna()\n",
    "new"
   ],
   "metadata": {
    "collapsed": false
   }
  },
  {
   "cell_type": "markdown",
   "source": [
    "## Correlation Between Price/Quantity and On Time"
   ],
   "metadata": {
    "collapsed": false
   }
  },
  {
   "cell_type": "code",
   "execution_count": 53,
   "outputs": [
    {
     "data": {
      "text/plain": "array([[1.        , 0.14840799],\n       [0.14840799, 1.        ]])"
     },
     "execution_count": 53,
     "metadata": {},
     "output_type": "execute_result"
    }
   ],
   "source": [
    "# Correlation of full dataset\n",
    "\n",
    "def full(df, column):\n",
    "    return np.corrcoef(df['days_late'] > 0, new[column])"
   ],
   "metadata": {
    "collapsed": false
   }
  },
  {
   "cell_type": "code",
   "execution_count": 76,
   "outputs": [
    {
     "name": "stdout",
     "output_type": "stream",
     "text": [
      "1: 0.01717745566491543\n",
      "2: 0.03432127888712984\n",
      "3: 0.005819377962920769\n",
      "4: -0.19103142615968757\n",
      "5: -0.0552780840775975\n",
      "None\n"
     ]
    }
   ],
   "source": [
    "# Correlation of price with different percentiles late or not\n",
    "\n",
    "\n",
    "def percentile(df, column):\n",
    "    greater_25 = df.loc[df[column] > df[column].quantile(q = .25)]\n",
    "    greater_75 = df.loc[df[column] > df[column].quantile(q = .75)]\n",
    "    middle_25_75 = df.loc[(new[column] > df[column].quantile(q = .25)) & ((df[column] < df[column].quantile(q = .75)))]\n",
    "    less_75 = df.loc[new[column] < df[column].quantile(q = .75)]\n",
    "    less_25 = df.loc[new[column] < df[column].quantile(q = .25)]\n",
    "\n",
    "    count = 0\n",
    "    for frame in [greater_25, greater_75, middle_25_75, less_25, less_75]:\n",
    "        count += 1\n",
    "        print(f'{count}: {np.corrcoef(frame[\"days_late\"] > 0, frame[column])[0][1]}')\n",
    "\n",
    "\n",
    "print(percentile(new, 'Invoice Qty'))\n",
    "\n"
   ],
   "metadata": {
    "collapsed": false
   }
  },
  {
   "cell_type": "code",
   "execution_count": 69,
   "outputs": [
    {
     "data": {
      "text/plain": "                                     days_late  Invoice ($)  Invoice Qty  \\\nSupplier                                                                   \nROYAL TECHNOLOGIES CORPORATION            7466         7466         7466   \nSHORELINE CONTAINER LLC                   2807         2807         2807   \nGRAND RAPIDS FOAM TECHNOLOGIES             889          889          889   \nWRIGHT COATING COMPANY                     582          582          582   \nACTION INDUSTRIAL SUPPLY CO                408          408          408   \nMANSCO A DIVISION OF FASTENAL              315          315          315   \nELMO SWEDEN AB                             281          281          281   \nERVINS GROUP LLC                           218          218          218   \nMEDWAY PLASTICS CORP                       199          199          199   \nR S HUGHES CO INC                          182          182          182   \nJEMNI INC                                  140          140          140   \nINTEX TECHNOLOGIES LLC                     136          136          136   \nSTEELCASE SA (FRANCE)                      128          128          128   \nDESIGNTEX  GROUP INC                        97           97           97   \nANCHOR WIPING CLOTH COMPANY                 88           88           88   \nWELFORMED,A DIVISION OF GENESIS PRO         87           87           87   \nSPECTRUM INDUSTRIES INC                     79           79           79   \nSOUNDTECH INC                               74           74           74   \nINDUSTRIAL STRIPPING SERVICE                72           72           72   \nSILAS DISTRIBUTORS INC                      52           52           52   \nB AND V MECHANICAL INC                      43           43           43   \nALL METAL DESIGNS INC                       36           36           36   \nMIDWEST PLATING CO. INC                     30           30           30   \nMOMENTUM GROUP                              28           28           28   \nSTEELCASE ASIA PACIFIC LTD                  18           18           18   \nSAMHONGSA CO LTD                            13           13           13   \nLEATHER RESOURCE OF AMERICA                 12           12           12   \nSP FULFILLMENT LLC                          11           11           11   \nKVADRAT INC                                 11           11           11   \nMAYER-PAETZ INC                             10           10           10   \nAPPLIED INDUSTRIAL TECH                      9            9            9   \nEAM-MOSCA CORP                               9            9            9   \nWW GRAINGER INC                              7            7            7   \nEMILSIDER MECCANICA SPA                      6            6            6   \nMCMASTER CARR SUPPLY CO                      5            5            5   \nULTRAFABRICS INC                             4            4            4   \nULINE SHIPPING SUPPLY SPECIALIST             4            4            4   \nMAHARAM FABRIC CORPORATION                   3            3            3   \nPRINTING PRODUCTIONS INK                     3            3            3   \nTSG FINISHING LLC                            2            2            2   \nTRU DIE CAST CORPORATION                     2            2            2   \nTOTAL PLASTICS RESOURCES LLC                 2            2            2   \nHAFELE AMERICA CO                            2            2            2   \nTAYLOR COMMUNICATIONS                        2            2            2   \nH&L ADVANTAGE                                2            2            2   \nLOWRY COMPUTER PRODUCTS INC                  1            1            1   \nPOLLACK & ASSOCIATES                         1            1            1   \nPREMIER PRINTS                               1            1            1   \nGRAND RAPIDS FOAM SOUTH TEXAS                1            1            1   \nH B F TEXTILES                               1            1            1   \nVERITIV CORPORATION                          1            1            1   \nDIXON TICONDEROGA COMPANY                    1            1            1   \nWILHEIT PACKAGING LLC                        1            1            1   \nTEKNION LLC                                  1            1            1   \n\n                                     Purchase Order $  Purchase Order Qty  \nSupplier                                                                   \nROYAL TECHNOLOGIES CORPORATION                   7466                7466  \nSHORELINE CONTAINER LLC                          2807                2807  \nGRAND RAPIDS FOAM TECHNOLOGIES                    889                 889  \nWRIGHT COATING COMPANY                            582                 582  \nACTION INDUSTRIAL SUPPLY CO                       408                 408  \nMANSCO A DIVISION OF FASTENAL                     315                 315  \nELMO SWEDEN AB                                    281                 281  \nERVINS GROUP LLC                                  218                 218  \nMEDWAY PLASTICS CORP                              199                 199  \nR S HUGHES CO INC                                 182                 182  \nJEMNI INC                                         140                 140  \nINTEX TECHNOLOGIES LLC                            136                 136  \nSTEELCASE SA (FRANCE)                             128                 128  \nDESIGNTEX  GROUP INC                               97                  97  \nANCHOR WIPING CLOTH COMPANY                        88                  88  \nWELFORMED,A DIVISION OF GENESIS PRO                87                  87  \nSPECTRUM INDUSTRIES INC                            79                  79  \nSOUNDTECH INC                                      74                  74  \nINDUSTRIAL STRIPPING SERVICE                       72                  72  \nSILAS DISTRIBUTORS INC                             52                  52  \nB AND V MECHANICAL INC                             43                  43  \nALL METAL DESIGNS INC                              36                  36  \nMIDWEST PLATING CO. INC                            30                  30  \nMOMENTUM GROUP                                     28                  28  \nSTEELCASE ASIA PACIFIC LTD                         18                  18  \nSAMHONGSA CO LTD                                   13                  13  \nLEATHER RESOURCE OF AMERICA                        12                  12  \nSP FULFILLMENT LLC                                 11                  11  \nKVADRAT INC                                        11                  11  \nMAYER-PAETZ INC                                    10                  10  \nAPPLIED INDUSTRIAL TECH                             9                   9  \nEAM-MOSCA CORP                                      9                   9  \nWW GRAINGER INC                                     7                   7  \nEMILSIDER MECCANICA SPA                             6                   6  \nMCMASTER CARR SUPPLY CO                             5                   5  \nULTRAFABRICS INC                                    4                   4  \nULINE SHIPPING SUPPLY SPECIALIST                    4                   4  \nMAHARAM FABRIC CORPORATION                          3                   3  \nPRINTING PRODUCTIONS INK                            3                   3  \nTSG FINISHING LLC                                   2                   2  \nTRU DIE CAST CORPORATION                            2                   2  \nTOTAL PLASTICS RESOURCES LLC                        2                   2  \nHAFELE AMERICA CO                                   2                   2  \nTAYLOR COMMUNICATIONS                               2                   2  \nH&L ADVANTAGE                                       2                   2  \nLOWRY COMPUTER PRODUCTS INC                         1                   1  \nPOLLACK & ASSOCIATES                                1                   1  \nPREMIER PRINTS                                      1                   1  \nGRAND RAPIDS FOAM SOUTH TEXAS                       1                   1  \nH B F TEXTILES                                      1                   1  \nVERITIV CORPORATION                                 1                   1  \nDIXON TICONDEROGA COMPANY                           1                   1  \nWILHEIT PACKAGING LLC                               1                   1  \nTEKNION LLC                                         1                   1  ",
      "text/html": "<div>\n<style scoped>\n    .dataframe tbody tr th:only-of-type {\n        vertical-align: middle;\n    }\n\n    .dataframe tbody tr th {\n        vertical-align: top;\n    }\n\n    .dataframe thead th {\n        text-align: right;\n    }\n</style>\n<table border=\"1\" class=\"dataframe\">\n  <thead>\n    <tr style=\"text-align: right;\">\n      <th></th>\n      <th>days_late</th>\n      <th>Invoice ($)</th>\n      <th>Invoice Qty</th>\n      <th>Purchase Order $</th>\n      <th>Purchase Order Qty</th>\n    </tr>\n    <tr>\n      <th>Supplier</th>\n      <th></th>\n      <th></th>\n      <th></th>\n      <th></th>\n      <th></th>\n    </tr>\n  </thead>\n  <tbody>\n    <tr>\n      <th>ROYAL TECHNOLOGIES CORPORATION</th>\n      <td>7466</td>\n      <td>7466</td>\n      <td>7466</td>\n      <td>7466</td>\n      <td>7466</td>\n    </tr>\n    <tr>\n      <th>SHORELINE CONTAINER LLC</th>\n      <td>2807</td>\n      <td>2807</td>\n      <td>2807</td>\n      <td>2807</td>\n      <td>2807</td>\n    </tr>\n    <tr>\n      <th>GRAND RAPIDS FOAM TECHNOLOGIES</th>\n      <td>889</td>\n      <td>889</td>\n      <td>889</td>\n      <td>889</td>\n      <td>889</td>\n    </tr>\n    <tr>\n      <th>WRIGHT COATING COMPANY</th>\n      <td>582</td>\n      <td>582</td>\n      <td>582</td>\n      <td>582</td>\n      <td>582</td>\n    </tr>\n    <tr>\n      <th>ACTION INDUSTRIAL SUPPLY CO</th>\n      <td>408</td>\n      <td>408</td>\n      <td>408</td>\n      <td>408</td>\n      <td>408</td>\n    </tr>\n    <tr>\n      <th>MANSCO A DIVISION OF FASTENAL</th>\n      <td>315</td>\n      <td>315</td>\n      <td>315</td>\n      <td>315</td>\n      <td>315</td>\n    </tr>\n    <tr>\n      <th>ELMO SWEDEN AB</th>\n      <td>281</td>\n      <td>281</td>\n      <td>281</td>\n      <td>281</td>\n      <td>281</td>\n    </tr>\n    <tr>\n      <th>ERVINS GROUP LLC</th>\n      <td>218</td>\n      <td>218</td>\n      <td>218</td>\n      <td>218</td>\n      <td>218</td>\n    </tr>\n    <tr>\n      <th>MEDWAY PLASTICS CORP</th>\n      <td>199</td>\n      <td>199</td>\n      <td>199</td>\n      <td>199</td>\n      <td>199</td>\n    </tr>\n    <tr>\n      <th>R S HUGHES CO INC</th>\n      <td>182</td>\n      <td>182</td>\n      <td>182</td>\n      <td>182</td>\n      <td>182</td>\n    </tr>\n    <tr>\n      <th>JEMNI INC</th>\n      <td>140</td>\n      <td>140</td>\n      <td>140</td>\n      <td>140</td>\n      <td>140</td>\n    </tr>\n    <tr>\n      <th>INTEX TECHNOLOGIES LLC</th>\n      <td>136</td>\n      <td>136</td>\n      <td>136</td>\n      <td>136</td>\n      <td>136</td>\n    </tr>\n    <tr>\n      <th>STEELCASE SA (FRANCE)</th>\n      <td>128</td>\n      <td>128</td>\n      <td>128</td>\n      <td>128</td>\n      <td>128</td>\n    </tr>\n    <tr>\n      <th>DESIGNTEX  GROUP INC</th>\n      <td>97</td>\n      <td>97</td>\n      <td>97</td>\n      <td>97</td>\n      <td>97</td>\n    </tr>\n    <tr>\n      <th>ANCHOR WIPING CLOTH COMPANY</th>\n      <td>88</td>\n      <td>88</td>\n      <td>88</td>\n      <td>88</td>\n      <td>88</td>\n    </tr>\n    <tr>\n      <th>WELFORMED,A DIVISION OF GENESIS PRO</th>\n      <td>87</td>\n      <td>87</td>\n      <td>87</td>\n      <td>87</td>\n      <td>87</td>\n    </tr>\n    <tr>\n      <th>SPECTRUM INDUSTRIES INC</th>\n      <td>79</td>\n      <td>79</td>\n      <td>79</td>\n      <td>79</td>\n      <td>79</td>\n    </tr>\n    <tr>\n      <th>SOUNDTECH INC</th>\n      <td>74</td>\n      <td>74</td>\n      <td>74</td>\n      <td>74</td>\n      <td>74</td>\n    </tr>\n    <tr>\n      <th>INDUSTRIAL STRIPPING SERVICE</th>\n      <td>72</td>\n      <td>72</td>\n      <td>72</td>\n      <td>72</td>\n      <td>72</td>\n    </tr>\n    <tr>\n      <th>SILAS DISTRIBUTORS INC</th>\n      <td>52</td>\n      <td>52</td>\n      <td>52</td>\n      <td>52</td>\n      <td>52</td>\n    </tr>\n    <tr>\n      <th>B AND V MECHANICAL INC</th>\n      <td>43</td>\n      <td>43</td>\n      <td>43</td>\n      <td>43</td>\n      <td>43</td>\n    </tr>\n    <tr>\n      <th>ALL METAL DESIGNS INC</th>\n      <td>36</td>\n      <td>36</td>\n      <td>36</td>\n      <td>36</td>\n      <td>36</td>\n    </tr>\n    <tr>\n      <th>MIDWEST PLATING CO. INC</th>\n      <td>30</td>\n      <td>30</td>\n      <td>30</td>\n      <td>30</td>\n      <td>30</td>\n    </tr>\n    <tr>\n      <th>MOMENTUM GROUP</th>\n      <td>28</td>\n      <td>28</td>\n      <td>28</td>\n      <td>28</td>\n      <td>28</td>\n    </tr>\n    <tr>\n      <th>STEELCASE ASIA PACIFIC LTD</th>\n      <td>18</td>\n      <td>18</td>\n      <td>18</td>\n      <td>18</td>\n      <td>18</td>\n    </tr>\n    <tr>\n      <th>SAMHONGSA CO LTD</th>\n      <td>13</td>\n      <td>13</td>\n      <td>13</td>\n      <td>13</td>\n      <td>13</td>\n    </tr>\n    <tr>\n      <th>LEATHER RESOURCE OF AMERICA</th>\n      <td>12</td>\n      <td>12</td>\n      <td>12</td>\n      <td>12</td>\n      <td>12</td>\n    </tr>\n    <tr>\n      <th>SP FULFILLMENT LLC</th>\n      <td>11</td>\n      <td>11</td>\n      <td>11</td>\n      <td>11</td>\n      <td>11</td>\n    </tr>\n    <tr>\n      <th>KVADRAT INC</th>\n      <td>11</td>\n      <td>11</td>\n      <td>11</td>\n      <td>11</td>\n      <td>11</td>\n    </tr>\n    <tr>\n      <th>MAYER-PAETZ INC</th>\n      <td>10</td>\n      <td>10</td>\n      <td>10</td>\n      <td>10</td>\n      <td>10</td>\n    </tr>\n    <tr>\n      <th>APPLIED INDUSTRIAL TECH</th>\n      <td>9</td>\n      <td>9</td>\n      <td>9</td>\n      <td>9</td>\n      <td>9</td>\n    </tr>\n    <tr>\n      <th>EAM-MOSCA CORP</th>\n      <td>9</td>\n      <td>9</td>\n      <td>9</td>\n      <td>9</td>\n      <td>9</td>\n    </tr>\n    <tr>\n      <th>WW GRAINGER INC</th>\n      <td>7</td>\n      <td>7</td>\n      <td>7</td>\n      <td>7</td>\n      <td>7</td>\n    </tr>\n    <tr>\n      <th>EMILSIDER MECCANICA SPA</th>\n      <td>6</td>\n      <td>6</td>\n      <td>6</td>\n      <td>6</td>\n      <td>6</td>\n    </tr>\n    <tr>\n      <th>MCMASTER CARR SUPPLY CO</th>\n      <td>5</td>\n      <td>5</td>\n      <td>5</td>\n      <td>5</td>\n      <td>5</td>\n    </tr>\n    <tr>\n      <th>ULTRAFABRICS INC</th>\n      <td>4</td>\n      <td>4</td>\n      <td>4</td>\n      <td>4</td>\n      <td>4</td>\n    </tr>\n    <tr>\n      <th>ULINE SHIPPING SUPPLY SPECIALIST</th>\n      <td>4</td>\n      <td>4</td>\n      <td>4</td>\n      <td>4</td>\n      <td>4</td>\n    </tr>\n    <tr>\n      <th>MAHARAM FABRIC CORPORATION</th>\n      <td>3</td>\n      <td>3</td>\n      <td>3</td>\n      <td>3</td>\n      <td>3</td>\n    </tr>\n    <tr>\n      <th>PRINTING PRODUCTIONS INK</th>\n      <td>3</td>\n      <td>3</td>\n      <td>3</td>\n      <td>3</td>\n      <td>3</td>\n    </tr>\n    <tr>\n      <th>TSG FINISHING LLC</th>\n      <td>2</td>\n      <td>2</td>\n      <td>2</td>\n      <td>2</td>\n      <td>2</td>\n    </tr>\n    <tr>\n      <th>TRU DIE CAST CORPORATION</th>\n      <td>2</td>\n      <td>2</td>\n      <td>2</td>\n      <td>2</td>\n      <td>2</td>\n    </tr>\n    <tr>\n      <th>TOTAL PLASTICS RESOURCES LLC</th>\n      <td>2</td>\n      <td>2</td>\n      <td>2</td>\n      <td>2</td>\n      <td>2</td>\n    </tr>\n    <tr>\n      <th>HAFELE AMERICA CO</th>\n      <td>2</td>\n      <td>2</td>\n      <td>2</td>\n      <td>2</td>\n      <td>2</td>\n    </tr>\n    <tr>\n      <th>TAYLOR COMMUNICATIONS</th>\n      <td>2</td>\n      <td>2</td>\n      <td>2</td>\n      <td>2</td>\n      <td>2</td>\n    </tr>\n    <tr>\n      <th>H&amp;L ADVANTAGE</th>\n      <td>2</td>\n      <td>2</td>\n      <td>2</td>\n      <td>2</td>\n      <td>2</td>\n    </tr>\n    <tr>\n      <th>LOWRY COMPUTER PRODUCTS INC</th>\n      <td>1</td>\n      <td>1</td>\n      <td>1</td>\n      <td>1</td>\n      <td>1</td>\n    </tr>\n    <tr>\n      <th>POLLACK &amp; ASSOCIATES</th>\n      <td>1</td>\n      <td>1</td>\n      <td>1</td>\n      <td>1</td>\n      <td>1</td>\n    </tr>\n    <tr>\n      <th>PREMIER PRINTS</th>\n      <td>1</td>\n      <td>1</td>\n      <td>1</td>\n      <td>1</td>\n      <td>1</td>\n    </tr>\n    <tr>\n      <th>GRAND RAPIDS FOAM SOUTH TEXAS</th>\n      <td>1</td>\n      <td>1</td>\n      <td>1</td>\n      <td>1</td>\n      <td>1</td>\n    </tr>\n    <tr>\n      <th>H B F TEXTILES</th>\n      <td>1</td>\n      <td>1</td>\n      <td>1</td>\n      <td>1</td>\n      <td>1</td>\n    </tr>\n    <tr>\n      <th>VERITIV CORPORATION</th>\n      <td>1</td>\n      <td>1</td>\n      <td>1</td>\n      <td>1</td>\n      <td>1</td>\n    </tr>\n    <tr>\n      <th>DIXON TICONDEROGA COMPANY</th>\n      <td>1</td>\n      <td>1</td>\n      <td>1</td>\n      <td>1</td>\n      <td>1</td>\n    </tr>\n    <tr>\n      <th>WILHEIT PACKAGING LLC</th>\n      <td>1</td>\n      <td>1</td>\n      <td>1</td>\n      <td>1</td>\n      <td>1</td>\n    </tr>\n    <tr>\n      <th>TEKNION LLC</th>\n      <td>1</td>\n      <td>1</td>\n      <td>1</td>\n      <td>1</td>\n      <td>1</td>\n    </tr>\n  </tbody>\n</table>\n</div>"
     },
     "execution_count": 69,
     "metadata": {},
     "output_type": "execute_result"
    }
   ],
   "source": [
    "less_25.groupby('Supplier').agg('count').sort_values(by = 'days_late', ascending = False)"
   ],
   "metadata": {
    "collapsed": false
   }
  },
  {
   "cell_type": "code",
   "execution_count": 103,
   "outputs": [],
   "source": [
    "# Average PPU vs On Time\n",
    "\n",
    "data['Late'] = [1 if line > 0 else 0 for line in data['days_late']]\n",
    "a = data[['Supplier', 'avg_unit_price', 'Late']].groupby('Supplier').agg('mean').dropna()\n",
    "np.corrcoef(a['avg_unit_price'], a['Late'])"
   ],
   "metadata": {
    "collapsed": false
   }
  },
  {
   "cell_type": "markdown",
   "source": [
    "## Regression"
   ],
   "metadata": {
    "collapsed": false
   }
  },
  {
   "cell_type": "code",
   "execution_count": 115,
   "outputs": [
    {
     "ename": "ValueError",
     "evalue": "Pandas data cast to numpy dtype of object. Check input data with np.asarray(data).",
     "output_type": "error",
     "traceback": [
      "\u001B[0;31m---------------------------------------------------------------------------\u001B[0m",
      "\u001B[0;31mValueError\u001B[0m                                Traceback (most recent call last)",
      "Input \u001B[0;32mIn [115]\u001B[0m, in \u001B[0;36m<cell line: 6>\u001B[0;34m()\u001B[0m\n\u001B[1;32m      3\u001B[0m X \u001B[38;5;241m=\u001B[39m data[[\u001B[38;5;124m'\u001B[39m\u001B[38;5;124mSupplier\u001B[39m\u001B[38;5;124m'\u001B[39m, \u001B[38;5;124m'\u001B[39m\u001B[38;5;124mMaterial\u001B[39m\u001B[38;5;124m'\u001B[39m, \u001B[38;5;124m'\u001B[39m\u001B[38;5;124mMaterial_Group\u001B[39m\u001B[38;5;124m'\u001B[39m, \u001B[38;5;124m'\u001B[39m\u001B[38;5;124mdays_late\u001B[39m\u001B[38;5;124m'\u001B[39m, \u001B[38;5;124m'\u001B[39m\u001B[38;5;124mdayofweek\u001B[39m\u001B[38;5;124m'\u001B[39m, \u001B[38;5;124m'\u001B[39m\u001B[38;5;124merror_code\u001B[39m\u001B[38;5;124m'\u001B[39m, \u001B[38;5;124m'\u001B[39m\u001B[38;5;124mavg_unit_price\u001B[39m\u001B[38;5;124m'\u001B[39m, \u001B[38;5;124m'\u001B[39m\u001B[38;5;124mdelivery_month\u001B[39m\u001B[38;5;124m'\u001B[39m, \u001B[38;5;124m'\u001B[39m\u001B[38;5;124mdelivery_season\u001B[39m\u001B[38;5;124m'\u001B[39m, \u001B[38;5;124m'\u001B[39m\u001B[38;5;124mInvoice Qty\u001B[39m\u001B[38;5;124m'\u001B[39m, \u001B[38;5;124m'\u001B[39m\u001B[38;5;124mInvoice ($)\u001B[39m\u001B[38;5;124m'\u001B[39m]]\n\u001B[1;32m      4\u001B[0m Y \u001B[38;5;241m=\u001B[39m data[\u001B[38;5;124m'\u001B[39m\u001B[38;5;124mLate\u001B[39m\u001B[38;5;124m'\u001B[39m]\n\u001B[0;32m----> 6\u001B[0m est \u001B[38;5;241m=\u001B[39m \u001B[43msm\u001B[49m\u001B[38;5;241;43m.\u001B[39;49m\u001B[43mOLS\u001B[49m\u001B[43m(\u001B[49m\u001B[43mY\u001B[49m\u001B[43m,\u001B[49m\u001B[43m \u001B[49m\u001B[43mX\u001B[49m\u001B[43m)\u001B[49m\n\u001B[1;32m      7\u001B[0m est2 \u001B[38;5;241m=\u001B[39m est\u001B[38;5;241m.\u001B[39mfit()\n\u001B[1;32m      8\u001B[0m \u001B[38;5;28mprint\u001B[39m(est2\u001B[38;5;241m.\u001B[39msummary())\n",
      "File \u001B[0;32m~/opt/anaconda3/lib/python3.10/site-packages/statsmodels/regression/linear_model.py:890\u001B[0m, in \u001B[0;36mOLS.__init__\u001B[0;34m(self, endog, exog, missing, hasconst, **kwargs)\u001B[0m\n\u001B[1;32m    887\u001B[0m     msg \u001B[38;5;241m=\u001B[39m (\u001B[38;5;124m\"\u001B[39m\u001B[38;5;124mWeights are not supported in OLS and will be ignored\u001B[39m\u001B[38;5;124m\"\u001B[39m\n\u001B[1;32m    888\u001B[0m            \u001B[38;5;124m\"\u001B[39m\u001B[38;5;124mAn exception will be raised in the next version.\u001B[39m\u001B[38;5;124m\"\u001B[39m)\n\u001B[1;32m    889\u001B[0m     warnings\u001B[38;5;241m.\u001B[39mwarn(msg, ValueWarning)\n\u001B[0;32m--> 890\u001B[0m \u001B[38;5;28;43msuper\u001B[39;49m\u001B[43m(\u001B[49m\u001B[43mOLS\u001B[49m\u001B[43m,\u001B[49m\u001B[43m \u001B[49m\u001B[38;5;28;43mself\u001B[39;49m\u001B[43m)\u001B[49m\u001B[38;5;241;43m.\u001B[39;49m\u001B[38;5;21;43m__init__\u001B[39;49m\u001B[43m(\u001B[49m\u001B[43mendog\u001B[49m\u001B[43m,\u001B[49m\u001B[43m \u001B[49m\u001B[43mexog\u001B[49m\u001B[43m,\u001B[49m\u001B[43m \u001B[49m\u001B[43mmissing\u001B[49m\u001B[38;5;241;43m=\u001B[39;49m\u001B[43mmissing\u001B[49m\u001B[43m,\u001B[49m\n\u001B[1;32m    891\u001B[0m \u001B[43m                          \u001B[49m\u001B[43mhasconst\u001B[49m\u001B[38;5;241;43m=\u001B[39;49m\u001B[43mhasconst\u001B[49m\u001B[43m,\u001B[49m\u001B[43m \u001B[49m\u001B[38;5;241;43m*\u001B[39;49m\u001B[38;5;241;43m*\u001B[39;49m\u001B[43mkwargs\u001B[49m\u001B[43m)\u001B[49m\n\u001B[1;32m    892\u001B[0m \u001B[38;5;28;01mif\u001B[39;00m \u001B[38;5;124m\"\u001B[39m\u001B[38;5;124mweights\u001B[39m\u001B[38;5;124m\"\u001B[39m \u001B[38;5;129;01min\u001B[39;00m \u001B[38;5;28mself\u001B[39m\u001B[38;5;241m.\u001B[39m_init_keys:\n\u001B[1;32m    893\u001B[0m     \u001B[38;5;28mself\u001B[39m\u001B[38;5;241m.\u001B[39m_init_keys\u001B[38;5;241m.\u001B[39mremove(\u001B[38;5;124m\"\u001B[39m\u001B[38;5;124mweights\u001B[39m\u001B[38;5;124m\"\u001B[39m)\n",
      "File \u001B[0;32m~/opt/anaconda3/lib/python3.10/site-packages/statsmodels/regression/linear_model.py:717\u001B[0m, in \u001B[0;36mWLS.__init__\u001B[0;34m(self, endog, exog, weights, missing, hasconst, **kwargs)\u001B[0m\n\u001B[1;32m    715\u001B[0m \u001B[38;5;28;01melse\u001B[39;00m:\n\u001B[1;32m    716\u001B[0m     weights \u001B[38;5;241m=\u001B[39m weights\u001B[38;5;241m.\u001B[39msqueeze()\n\u001B[0;32m--> 717\u001B[0m \u001B[38;5;28;43msuper\u001B[39;49m\u001B[43m(\u001B[49m\u001B[43mWLS\u001B[49m\u001B[43m,\u001B[49m\u001B[43m \u001B[49m\u001B[38;5;28;43mself\u001B[39;49m\u001B[43m)\u001B[49m\u001B[38;5;241;43m.\u001B[39;49m\u001B[38;5;21;43m__init__\u001B[39;49m\u001B[43m(\u001B[49m\u001B[43mendog\u001B[49m\u001B[43m,\u001B[49m\u001B[43m \u001B[49m\u001B[43mexog\u001B[49m\u001B[43m,\u001B[49m\u001B[43m \u001B[49m\u001B[43mmissing\u001B[49m\u001B[38;5;241;43m=\u001B[39;49m\u001B[43mmissing\u001B[49m\u001B[43m,\u001B[49m\n\u001B[1;32m    718\u001B[0m \u001B[43m                          \u001B[49m\u001B[43mweights\u001B[49m\u001B[38;5;241;43m=\u001B[39;49m\u001B[43mweights\u001B[49m\u001B[43m,\u001B[49m\u001B[43m \u001B[49m\u001B[43mhasconst\u001B[49m\u001B[38;5;241;43m=\u001B[39;49m\u001B[43mhasconst\u001B[49m\u001B[43m,\u001B[49m\u001B[43m \u001B[49m\u001B[38;5;241;43m*\u001B[39;49m\u001B[38;5;241;43m*\u001B[39;49m\u001B[43mkwargs\u001B[49m\u001B[43m)\u001B[49m\n\u001B[1;32m    719\u001B[0m nobs \u001B[38;5;241m=\u001B[39m \u001B[38;5;28mself\u001B[39m\u001B[38;5;241m.\u001B[39mexog\u001B[38;5;241m.\u001B[39mshape[\u001B[38;5;241m0\u001B[39m]\n\u001B[1;32m    720\u001B[0m weights \u001B[38;5;241m=\u001B[39m \u001B[38;5;28mself\u001B[39m\u001B[38;5;241m.\u001B[39mweights\n",
      "File \u001B[0;32m~/opt/anaconda3/lib/python3.10/site-packages/statsmodels/regression/linear_model.py:191\u001B[0m, in \u001B[0;36mRegressionModel.__init__\u001B[0;34m(self, endog, exog, **kwargs)\u001B[0m\n\u001B[1;32m    190\u001B[0m \u001B[38;5;28;01mdef\u001B[39;00m \u001B[38;5;21m__init__\u001B[39m(\u001B[38;5;28mself\u001B[39m, endog, exog, \u001B[38;5;241m*\u001B[39m\u001B[38;5;241m*\u001B[39mkwargs):\n\u001B[0;32m--> 191\u001B[0m     \u001B[38;5;28;43msuper\u001B[39;49m\u001B[43m(\u001B[49m\u001B[43mRegressionModel\u001B[49m\u001B[43m,\u001B[49m\u001B[43m \u001B[49m\u001B[38;5;28;43mself\u001B[39;49m\u001B[43m)\u001B[49m\u001B[38;5;241;43m.\u001B[39;49m\u001B[38;5;21;43m__init__\u001B[39;49m\u001B[43m(\u001B[49m\u001B[43mendog\u001B[49m\u001B[43m,\u001B[49m\u001B[43m \u001B[49m\u001B[43mexog\u001B[49m\u001B[43m,\u001B[49m\u001B[43m \u001B[49m\u001B[38;5;241;43m*\u001B[39;49m\u001B[38;5;241;43m*\u001B[39;49m\u001B[43mkwargs\u001B[49m\u001B[43m)\u001B[49m\n\u001B[1;32m    192\u001B[0m     \u001B[38;5;28mself\u001B[39m\u001B[38;5;241m.\u001B[39m_data_attr\u001B[38;5;241m.\u001B[39mextend([\u001B[38;5;124m'\u001B[39m\u001B[38;5;124mpinv_wexog\u001B[39m\u001B[38;5;124m'\u001B[39m, \u001B[38;5;124m'\u001B[39m\u001B[38;5;124mwendog\u001B[39m\u001B[38;5;124m'\u001B[39m, \u001B[38;5;124m'\u001B[39m\u001B[38;5;124mwexog\u001B[39m\u001B[38;5;124m'\u001B[39m, \u001B[38;5;124m'\u001B[39m\u001B[38;5;124mweights\u001B[39m\u001B[38;5;124m'\u001B[39m])\n",
      "File \u001B[0;32m~/opt/anaconda3/lib/python3.10/site-packages/statsmodels/base/model.py:267\u001B[0m, in \u001B[0;36mLikelihoodModel.__init__\u001B[0;34m(self, endog, exog, **kwargs)\u001B[0m\n\u001B[1;32m    266\u001B[0m \u001B[38;5;28;01mdef\u001B[39;00m \u001B[38;5;21m__init__\u001B[39m(\u001B[38;5;28mself\u001B[39m, endog, exog\u001B[38;5;241m=\u001B[39m\u001B[38;5;28;01mNone\u001B[39;00m, \u001B[38;5;241m*\u001B[39m\u001B[38;5;241m*\u001B[39mkwargs):\n\u001B[0;32m--> 267\u001B[0m     \u001B[38;5;28;43msuper\u001B[39;49m\u001B[43m(\u001B[49m\u001B[43m)\u001B[49m\u001B[38;5;241;43m.\u001B[39;49m\u001B[38;5;21;43m__init__\u001B[39;49m\u001B[43m(\u001B[49m\u001B[43mendog\u001B[49m\u001B[43m,\u001B[49m\u001B[43m \u001B[49m\u001B[43mexog\u001B[49m\u001B[43m,\u001B[49m\u001B[43m \u001B[49m\u001B[38;5;241;43m*\u001B[39;49m\u001B[38;5;241;43m*\u001B[39;49m\u001B[43mkwargs\u001B[49m\u001B[43m)\u001B[49m\n\u001B[1;32m    268\u001B[0m     \u001B[38;5;28mself\u001B[39m\u001B[38;5;241m.\u001B[39minitialize()\n",
      "File \u001B[0;32m~/opt/anaconda3/lib/python3.10/site-packages/statsmodels/base/model.py:92\u001B[0m, in \u001B[0;36mModel.__init__\u001B[0;34m(self, endog, exog, **kwargs)\u001B[0m\n\u001B[1;32m     90\u001B[0m missing \u001B[38;5;241m=\u001B[39m kwargs\u001B[38;5;241m.\u001B[39mpop(\u001B[38;5;124m'\u001B[39m\u001B[38;5;124mmissing\u001B[39m\u001B[38;5;124m'\u001B[39m, \u001B[38;5;124m'\u001B[39m\u001B[38;5;124mnone\u001B[39m\u001B[38;5;124m'\u001B[39m)\n\u001B[1;32m     91\u001B[0m hasconst \u001B[38;5;241m=\u001B[39m kwargs\u001B[38;5;241m.\u001B[39mpop(\u001B[38;5;124m'\u001B[39m\u001B[38;5;124mhasconst\u001B[39m\u001B[38;5;124m'\u001B[39m, \u001B[38;5;28;01mNone\u001B[39;00m)\n\u001B[0;32m---> 92\u001B[0m \u001B[38;5;28mself\u001B[39m\u001B[38;5;241m.\u001B[39mdata \u001B[38;5;241m=\u001B[39m \u001B[38;5;28;43mself\u001B[39;49m\u001B[38;5;241;43m.\u001B[39;49m\u001B[43m_handle_data\u001B[49m\u001B[43m(\u001B[49m\u001B[43mendog\u001B[49m\u001B[43m,\u001B[49m\u001B[43m \u001B[49m\u001B[43mexog\u001B[49m\u001B[43m,\u001B[49m\u001B[43m \u001B[49m\u001B[43mmissing\u001B[49m\u001B[43m,\u001B[49m\u001B[43m \u001B[49m\u001B[43mhasconst\u001B[49m\u001B[43m,\u001B[49m\n\u001B[1;32m     93\u001B[0m \u001B[43m                              \u001B[49m\u001B[38;5;241;43m*\u001B[39;49m\u001B[38;5;241;43m*\u001B[39;49m\u001B[43mkwargs\u001B[49m\u001B[43m)\u001B[49m\n\u001B[1;32m     94\u001B[0m \u001B[38;5;28mself\u001B[39m\u001B[38;5;241m.\u001B[39mk_constant \u001B[38;5;241m=\u001B[39m \u001B[38;5;28mself\u001B[39m\u001B[38;5;241m.\u001B[39mdata\u001B[38;5;241m.\u001B[39mk_constant\n\u001B[1;32m     95\u001B[0m \u001B[38;5;28mself\u001B[39m\u001B[38;5;241m.\u001B[39mexog \u001B[38;5;241m=\u001B[39m \u001B[38;5;28mself\u001B[39m\u001B[38;5;241m.\u001B[39mdata\u001B[38;5;241m.\u001B[39mexog\n",
      "File \u001B[0;32m~/opt/anaconda3/lib/python3.10/site-packages/statsmodels/base/model.py:132\u001B[0m, in \u001B[0;36mModel._handle_data\u001B[0;34m(self, endog, exog, missing, hasconst, **kwargs)\u001B[0m\n\u001B[1;32m    131\u001B[0m \u001B[38;5;28;01mdef\u001B[39;00m \u001B[38;5;21m_handle_data\u001B[39m(\u001B[38;5;28mself\u001B[39m, endog, exog, missing, hasconst, \u001B[38;5;241m*\u001B[39m\u001B[38;5;241m*\u001B[39mkwargs):\n\u001B[0;32m--> 132\u001B[0m     data \u001B[38;5;241m=\u001B[39m \u001B[43mhandle_data\u001B[49m\u001B[43m(\u001B[49m\u001B[43mendog\u001B[49m\u001B[43m,\u001B[49m\u001B[43m \u001B[49m\u001B[43mexog\u001B[49m\u001B[43m,\u001B[49m\u001B[43m \u001B[49m\u001B[43mmissing\u001B[49m\u001B[43m,\u001B[49m\u001B[43m \u001B[49m\u001B[43mhasconst\u001B[49m\u001B[43m,\u001B[49m\u001B[43m \u001B[49m\u001B[38;5;241;43m*\u001B[39;49m\u001B[38;5;241;43m*\u001B[39;49m\u001B[43mkwargs\u001B[49m\u001B[43m)\u001B[49m\n\u001B[1;32m    133\u001B[0m     \u001B[38;5;66;03m# kwargs arrays could have changed, easier to just attach here\u001B[39;00m\n\u001B[1;32m    134\u001B[0m     \u001B[38;5;28;01mfor\u001B[39;00m key \u001B[38;5;129;01min\u001B[39;00m kwargs:\n",
      "File \u001B[0;32m~/opt/anaconda3/lib/python3.10/site-packages/statsmodels/base/data.py:673\u001B[0m, in \u001B[0;36mhandle_data\u001B[0;34m(endog, exog, missing, hasconst, **kwargs)\u001B[0m\n\u001B[1;32m    670\u001B[0m     exog \u001B[38;5;241m=\u001B[39m np\u001B[38;5;241m.\u001B[39masarray(exog)\n\u001B[1;32m    672\u001B[0m klass \u001B[38;5;241m=\u001B[39m handle_data_class_factory(endog, exog)\n\u001B[0;32m--> 673\u001B[0m \u001B[38;5;28;01mreturn\u001B[39;00m \u001B[43mklass\u001B[49m\u001B[43m(\u001B[49m\u001B[43mendog\u001B[49m\u001B[43m,\u001B[49m\u001B[43m \u001B[49m\u001B[43mexog\u001B[49m\u001B[38;5;241;43m=\u001B[39;49m\u001B[43mexog\u001B[49m\u001B[43m,\u001B[49m\u001B[43m \u001B[49m\u001B[43mmissing\u001B[49m\u001B[38;5;241;43m=\u001B[39;49m\u001B[43mmissing\u001B[49m\u001B[43m,\u001B[49m\u001B[43m \u001B[49m\u001B[43mhasconst\u001B[49m\u001B[38;5;241;43m=\u001B[39;49m\u001B[43mhasconst\u001B[49m\u001B[43m,\u001B[49m\n\u001B[1;32m    674\u001B[0m \u001B[43m             \u001B[49m\u001B[38;5;241;43m*\u001B[39;49m\u001B[38;5;241;43m*\u001B[39;49m\u001B[43mkwargs\u001B[49m\u001B[43m)\u001B[49m\n",
      "File \u001B[0;32m~/opt/anaconda3/lib/python3.10/site-packages/statsmodels/base/data.py:82\u001B[0m, in \u001B[0;36mModelData.__init__\u001B[0;34m(self, endog, exog, missing, hasconst, **kwargs)\u001B[0m\n\u001B[1;32m     80\u001B[0m     \u001B[38;5;28mself\u001B[39m\u001B[38;5;241m.\u001B[39morig_endog \u001B[38;5;241m=\u001B[39m endog\n\u001B[1;32m     81\u001B[0m     \u001B[38;5;28mself\u001B[39m\u001B[38;5;241m.\u001B[39morig_exog \u001B[38;5;241m=\u001B[39m exog\n\u001B[0;32m---> 82\u001B[0m     \u001B[38;5;28mself\u001B[39m\u001B[38;5;241m.\u001B[39mendog, \u001B[38;5;28mself\u001B[39m\u001B[38;5;241m.\u001B[39mexog \u001B[38;5;241m=\u001B[39m \u001B[38;5;28;43mself\u001B[39;49m\u001B[38;5;241;43m.\u001B[39;49m\u001B[43m_convert_endog_exog\u001B[49m\u001B[43m(\u001B[49m\u001B[43mendog\u001B[49m\u001B[43m,\u001B[49m\u001B[43m \u001B[49m\u001B[43mexog\u001B[49m\u001B[43m)\u001B[49m\n\u001B[1;32m     84\u001B[0m \u001B[38;5;28mself\u001B[39m\u001B[38;5;241m.\u001B[39mconst_idx \u001B[38;5;241m=\u001B[39m \u001B[38;5;28;01mNone\u001B[39;00m\n\u001B[1;32m     85\u001B[0m \u001B[38;5;28mself\u001B[39m\u001B[38;5;241m.\u001B[39mk_constant \u001B[38;5;241m=\u001B[39m \u001B[38;5;241m0\u001B[39m\n",
      "File \u001B[0;32m~/opt/anaconda3/lib/python3.10/site-packages/statsmodels/base/data.py:507\u001B[0m, in \u001B[0;36mPandasData._convert_endog_exog\u001B[0;34m(self, endog, exog)\u001B[0m\n\u001B[1;32m    505\u001B[0m exog \u001B[38;5;241m=\u001B[39m exog \u001B[38;5;28;01mif\u001B[39;00m exog \u001B[38;5;129;01mis\u001B[39;00m \u001B[38;5;28;01mNone\u001B[39;00m \u001B[38;5;28;01melse\u001B[39;00m np\u001B[38;5;241m.\u001B[39masarray(exog)\n\u001B[1;32m    506\u001B[0m \u001B[38;5;28;01mif\u001B[39;00m endog\u001B[38;5;241m.\u001B[39mdtype \u001B[38;5;241m==\u001B[39m \u001B[38;5;28mobject\u001B[39m \u001B[38;5;129;01mor\u001B[39;00m exog \u001B[38;5;129;01mis\u001B[39;00m \u001B[38;5;129;01mnot\u001B[39;00m \u001B[38;5;28;01mNone\u001B[39;00m \u001B[38;5;129;01mand\u001B[39;00m exog\u001B[38;5;241m.\u001B[39mdtype \u001B[38;5;241m==\u001B[39m \u001B[38;5;28mobject\u001B[39m:\n\u001B[0;32m--> 507\u001B[0m     \u001B[38;5;28;01mraise\u001B[39;00m \u001B[38;5;167;01mValueError\u001B[39;00m(\u001B[38;5;124m\"\u001B[39m\u001B[38;5;124mPandas data cast to numpy dtype of object. \u001B[39m\u001B[38;5;124m\"\u001B[39m\n\u001B[1;32m    508\u001B[0m                      \u001B[38;5;124m\"\u001B[39m\u001B[38;5;124mCheck input data with np.asarray(data).\u001B[39m\u001B[38;5;124m\"\u001B[39m)\n\u001B[1;32m    509\u001B[0m \u001B[38;5;28;01mreturn\u001B[39;00m \u001B[38;5;28msuper\u001B[39m(PandasData, \u001B[38;5;28mself\u001B[39m)\u001B[38;5;241m.\u001B[39m_convert_endog_exog(endog, exog)\n",
      "\u001B[0;31mValueError\u001B[0m: Pandas data cast to numpy dtype of object. Check input data with np.asarray(data)."
     ]
    }
   ],
   "source": [
    "import statsmodels.api as sm\n",
    "\n",
    "X = data[['Supplier', 'Material', 'Material_Group', 'days_late', 'dayofweek', 'error_code', 'avg_unit_price', 'delivery_month', 'delivery_season', 'Invoice Qty', 'Invoice ($)']]\n",
    "Y = data['Late']\n",
    "\n",
    "est = sm.OLS(Y, X)\n",
    "est2 = est.fit()\n",
    "print(est2.summary())"
   ],
   "metadata": {
    "collapsed": false
   }
  },
  {
   "cell_type": "code",
   "execution_count": 180,
   "outputs": [
    {
     "ename": "TypeError",
     "evalue": "The DType <class 'numpy.dtype[float64]'> could not be promoted by <class 'numpy.dtype[datetime64]'>. This means that no common DType exists for the given inputs. For example they cannot be stored in a single array unless the dtype is `object`. The full list of DTypes is: (<class 'numpy.dtype[float64]'>, <class 'numpy.dtype[datetime64]'>)",
     "output_type": "error",
     "traceback": [
      "\u001B[0;31m---------------------------------------------------------------------------\u001B[0m",
      "\u001B[0;31mTypeError\u001B[0m                                 Traceback (most recent call last)",
      "Input \u001B[0;32mIn [180]\u001B[0m, in \u001B[0;36m<cell line: 12>\u001B[0;34m()\u001B[0m\n\u001B[1;32m     10\u001B[0m time_series \u001B[38;5;241m=\u001B[39m df3[[\u001B[38;5;124m'\u001B[39m\u001B[38;5;124mmean\u001B[39m\u001B[38;5;124m'\u001B[39m, \u001B[38;5;124m'\u001B[39m\u001B[38;5;124mDate\u001B[39m\u001B[38;5;124m'\u001B[39m]]\n\u001B[1;32m     11\u001B[0m time_series\n\u001B[0;32m---> 12\u001B[0m \u001B[43mauto_arima\u001B[49m\u001B[43m(\u001B[49m\u001B[43mtime_series\u001B[49m\u001B[38;5;241;43m.\u001B[39;49m\u001B[43mdropna\u001B[49m\u001B[43m(\u001B[49m\u001B[43m)\u001B[49m\u001B[43m)\u001B[49m\n",
      "File \u001B[0;32m~/opt/anaconda3/lib/python3.10/site-packages/pmdarima/arima/auto.py:438\u001B[0m, in \u001B[0;36mauto_arima\u001B[0;34m(y, X, start_p, d, start_q, max_p, max_d, max_q, start_P, D, start_Q, max_P, max_D, max_Q, max_order, m, seasonal, stationary, information_criterion, alpha, test, seasonal_test, stepwise, n_jobs, start_params, trend, method, maxiter, offset_test_args, seasonal_test_args, suppress_warnings, error_action, trace, random, random_state, n_fits, return_valid_fits, out_of_sample_size, scoring, scoring_args, with_intercept, sarimax_kwargs, **fit_args)\u001B[0m\n\u001B[1;32m    435\u001B[0m start \u001B[38;5;241m=\u001B[39m time\u001B[38;5;241m.\u001B[39mtime()\n\u001B[1;32m    437\u001B[0m \u001B[38;5;66;03m# copy array\u001B[39;00m\n\u001B[0;32m--> 438\u001B[0m y \u001B[38;5;241m=\u001B[39m \u001B[43mcheck_endog\u001B[49m\u001B[43m(\u001B[49m\u001B[43my\u001B[49m\u001B[43m,\u001B[49m\u001B[43m \u001B[49m\u001B[43mdtype\u001B[49m\u001B[38;5;241;43m=\u001B[39;49m\u001B[43mDTYPE\u001B[49m\u001B[43m)\u001B[49m\n\u001B[1;32m    439\u001B[0m n_samples \u001B[38;5;241m=\u001B[39m y\u001B[38;5;241m.\u001B[39mshape[\u001B[38;5;241m0\u001B[39m]\n\u001B[1;32m    441\u001B[0m \u001B[38;5;66;03m# the workhorse of the model fits\u001B[39;00m\n",
      "File \u001B[0;32m~/opt/anaconda3/lib/python3.10/site-packages/pmdarima/utils/array.py:170\u001B[0m, in \u001B[0;36mcheck_endog\u001B[0;34m(y, dtype, copy, force_all_finite)\u001B[0m\n\u001B[1;32m    141\u001B[0m \u001B[38;5;28;01mdef\u001B[39;00m \u001B[38;5;21mcheck_endog\u001B[39m(y, dtype\u001B[38;5;241m=\u001B[39mDTYPE, copy\u001B[38;5;241m=\u001B[39m\u001B[38;5;28;01mTrue\u001B[39;00m, force_all_finite\u001B[38;5;241m=\u001B[39m\u001B[38;5;28;01mFalse\u001B[39;00m):\n\u001B[1;32m    142\u001B[0m     \u001B[38;5;124;03m\"\"\"Wrapper for ``check_array`` and ``column_or_1d`` from sklearn\u001B[39;00m\n\u001B[1;32m    143\u001B[0m \n\u001B[1;32m    144\u001B[0m \u001B[38;5;124;03m    Parameters\u001B[39;00m\n\u001B[0;32m   (...)\u001B[0m\n\u001B[1;32m    167\u001B[0m \u001B[38;5;124;03m        A 1d numpy ndarray\u001B[39;00m\n\u001B[1;32m    168\u001B[0m \u001B[38;5;124;03m    \"\"\"\u001B[39;00m\n\u001B[1;32m    169\u001B[0m     \u001B[38;5;28;01mreturn\u001B[39;00m column_or_1d(\n\u001B[0;32m--> 170\u001B[0m         \u001B[43mcheck_array\u001B[49m\u001B[43m(\u001B[49m\u001B[43my\u001B[49m\u001B[43m,\u001B[49m\u001B[43m \u001B[49m\u001B[43mensure_2d\u001B[49m\u001B[38;5;241;43m=\u001B[39;49m\u001B[38;5;28;43;01mFalse\u001B[39;49;00m\u001B[43m,\u001B[49m\u001B[43m \u001B[49m\u001B[43mforce_all_finite\u001B[49m\u001B[38;5;241;43m=\u001B[39;49m\u001B[43mforce_all_finite\u001B[49m\u001B[43m,\u001B[49m\n\u001B[1;32m    171\u001B[0m \u001B[43m                    \u001B[49m\u001B[43mcopy\u001B[49m\u001B[38;5;241;43m=\u001B[39;49m\u001B[43mcopy\u001B[49m\u001B[43m,\u001B[49m\u001B[43m \u001B[49m\u001B[43mdtype\u001B[49m\u001B[38;5;241;43m=\u001B[39;49m\u001B[43mdtype\u001B[49m\u001B[43m)\u001B[49m)\n",
      "File \u001B[0;32m~/opt/anaconda3/lib/python3.10/site-packages/sklearn/utils/validation.py:768\u001B[0m, in \u001B[0;36mcheck_array\u001B[0;34m(array, accept_sparse, accept_large_sparse, dtype, order, copy, force_all_finite, ensure_2d, allow_nd, ensure_min_samples, ensure_min_features, estimator, input_name)\u001B[0m\n\u001B[1;32m    764\u001B[0m     pandas_requires_conversion \u001B[38;5;241m=\u001B[39m \u001B[38;5;28many\u001B[39m(\n\u001B[1;32m    765\u001B[0m         _pandas_dtype_needs_early_conversion(i) \u001B[38;5;28;01mfor\u001B[39;00m i \u001B[38;5;129;01min\u001B[39;00m dtypes_orig\n\u001B[1;32m    766\u001B[0m     )\n\u001B[1;32m    767\u001B[0m     \u001B[38;5;28;01mif\u001B[39;00m \u001B[38;5;28mall\u001B[39m(\u001B[38;5;28misinstance\u001B[39m(dtype_iter, np\u001B[38;5;241m.\u001B[39mdtype) \u001B[38;5;28;01mfor\u001B[39;00m dtype_iter \u001B[38;5;129;01min\u001B[39;00m dtypes_orig):\n\u001B[0;32m--> 768\u001B[0m         dtype_orig \u001B[38;5;241m=\u001B[39m \u001B[43mnp\u001B[49m\u001B[38;5;241;43m.\u001B[39;49m\u001B[43mresult_type\u001B[49m\u001B[43m(\u001B[49m\u001B[38;5;241;43m*\u001B[39;49m\u001B[43mdtypes_orig\u001B[49m\u001B[43m)\u001B[49m\n\u001B[1;32m    770\u001B[0m \u001B[38;5;28;01mif\u001B[39;00m dtype_numeric:\n\u001B[1;32m    771\u001B[0m     \u001B[38;5;28;01mif\u001B[39;00m dtype_orig \u001B[38;5;129;01mis\u001B[39;00m \u001B[38;5;129;01mnot\u001B[39;00m \u001B[38;5;28;01mNone\u001B[39;00m \u001B[38;5;129;01mand\u001B[39;00m dtype_orig\u001B[38;5;241m.\u001B[39mkind \u001B[38;5;241m==\u001B[39m \u001B[38;5;124m\"\u001B[39m\u001B[38;5;124mO\u001B[39m\u001B[38;5;124m\"\u001B[39m:\n\u001B[1;32m    772\u001B[0m         \u001B[38;5;66;03m# if input is object, convert to float.\u001B[39;00m\n",
      "File \u001B[0;32m<__array_function__ internals>:5\u001B[0m, in \u001B[0;36mresult_type\u001B[0;34m(*args, **kwargs)\u001B[0m\n",
      "\u001B[0;31mTypeError\u001B[0m: The DType <class 'numpy.dtype[float64]'> could not be promoted by <class 'numpy.dtype[datetime64]'>. This means that no common DType exists for the given inputs. For example they cannot be stored in a single array unless the dtype is `object`. The full list of DTypes is: (<class 'numpy.dtype[float64]'>, <class 'numpy.dtype[datetime64]'>)"
     ]
    }
   ],
   "source": [
    "from pmdarima.arima import auto_arima\n",
    "\n",
    "Royal = data[data['Supplier'] == \"ROYAL TECHNOLOGIES CORPORATION\"]\n",
    "Royal = Royal[['Late', 'Posting_Date']].reset_index()\n",
    "Royal['Date'] = pd.to_datetime(Royal['Posting_Date'])\n",
    "# Royal['Date'] = pd.DatetimeIndex(Royal['Posting_Date']).to_period('M')\n",
    "\n",
    "df3 = Royal.groupby([pd.Grouper(key='Date', freq='MS')])['Late'].agg(['mean']).reset_index()\n",
    "\n",
    "time_series = df3[['mean', 'Date']]\n",
    "\n",
    "auto_arima(time_series)\n",
    "\n",
    "# time = pd.to_datetime(Royal['Posting_Date'])\n"
   ],
   "metadata": {
    "collapsed": false
   }
  },
  {
   "cell_type": "code",
   "execution_count": 174,
   "outputs": [
    {
     "data": {
      "text/plain": "PeriodIndex(['2019-02', '2019-03', '2019-04', '2019-05', '2019-06', '2019-07',\n             '2019-08', '2019-09', '2019-10', '2019-11', '2019-12', '2020-01',\n             '2020-02', '2020-03', '2020-04', '2020-05', '2020-06', '2020-07',\n             '2020-08', '2020-09', '2020-10', '2020-11', '2020-12', '2021-01',\n             '2021-02', '2021-03', '2021-04', '2021-05', '2021-06', '2021-07',\n             '2021-08', '2021-09', '2021-10', '2021-11', '2021-12', '2022-01',\n             '2022-02', '2022-03', '2022-04', '2022-05', '2022-06', '2022-07',\n             '2022-08'],\n            dtype='period[M]', name='Date')"
     },
     "execution_count": 174,
     "metadata": {},
     "output_type": "execute_result"
    }
   ],
   "source": [],
   "metadata": {
    "collapsed": false
   }
  },
  {
   "cell_type": "code",
   "execution_count": null,
   "outputs": [],
   "source": [],
   "metadata": {
    "collapsed": false
   }
  }
 ],
 "metadata": {
  "kernelspec": {
   "display_name": "Python 3",
   "language": "python",
   "name": "python3"
  },
  "language_info": {
   "codemirror_mode": {
    "name": "ipython",
    "version": 2
   },
   "file_extension": ".py",
   "mimetype": "text/x-python",
   "name": "python",
   "nbconvert_exporter": "python",
   "pygments_lexer": "ipython2",
   "version": "2.7.6"
  }
 },
 "nbformat": 4,
 "nbformat_minor": 0
}
