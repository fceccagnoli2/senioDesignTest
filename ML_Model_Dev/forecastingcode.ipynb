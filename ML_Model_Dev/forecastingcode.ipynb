{
 "cells": [
  {
   "cell_type": "code",
   "execution_count": 1,
   "metadata": {},
   "outputs": [],
   "source": [
    "import pandas as pd\n",
    "import numpy as np\n",
    "import sqlite3\n",
    "import seaborn as sns\n",
    "import matplotlib.pyplot as plt\n",
    "import matplotlib.dates as mdates\n",
    "import datetime\n",
    "import matplotlib.ticker as mtick\n",
    "import os\n",
    "from statsmodels.tsa.arima.model import ARIMA"
   ]
  },
  {
   "cell_type": "code",
   "execution_count": 2,
   "metadata": {},
   "outputs": [],
   "source": [
    "df = pd.read_csv ('VizData.csv')\n",
    "#check if plotting on which date time col, using scheduled relevant delivery date, make sure datatype is datetime\n",
    "df['Scheduled_relevant_delivery_date'] = pd.to_datetime(df['Posting_Date'], format='%Y-%m-%d %H:%M:%S')\n"
   ]
  },
  {
   "cell_type": "code",
   "execution_count": 10,
   "metadata": {},
   "outputs": [
    {
     "name": "stdout",
     "output_type": "stream",
     "text": [
      "41    1.601363\n",
      "42    2.300244\n",
      "43    3.079540\n",
      "44    3.941131\n",
      "Name: predicted_mean, dtype: float64\n"
     ]
    }
   ],
   "source": [
    "def forecast_sup_avglatedays(suppliername,monthstopredict):\n",
    "    df.sort_values(by='Scheduled_relevant_delivery_date')\n",
    "    df2= df[df['Supplier']==suppliername]\n",
    "    df3=df2.groupby(['Supplier',pd.Grouper(key='Scheduled_relevant_delivery_date', freq='MS')])['late_bin'].agg(['sum','count']).reset_index()\n",
    "    #currently not dealing with empty data\n",
    "    df3['latepercentage']=df3['sum']/df3['count']\n",
    "    model = ARIMA(df3['latepercentage'], order=(2,3,1))\n",
    "    model_fit = model.fit()\n",
    "    predictions=model_fit.predict(start=((df3.shape[0])),end=((df3.shape[0])+monthstopredict))\n",
    "    return(predictions)\n",
    "print(forecast_supplier_avglatedays('ROYAL TECHNOLOGIES CORPORATION',3))\n"
   ]
  },
  {
   "cell_type": "code",
   "execution_count": 4,
   "metadata": {},
   "outputs": [],
   "source": [
    "def forecasting(df,monthstopredict):\n",
    "    df.sort_values(by='Scheduled_relevant_delivery_date')\n",
    "    df3=df\n",
    "    df3['latepercentage']=df3['sum']/df3['count']\n",
    "    model = ARIMA(df3['latepercentage'], order=(2,3,1))\n",
    "    model_fit = model.fit()\n",
    "    predictions=model_fit.predict(start=((df3.shape[0])),end=((df3.shape[0])+monthstopredict))\n",
    "    return(predictions)"
   ]
  },
  {
   "cell_type": "code",
   "execution_count": 5,
   "metadata": {},
   "outputs": [
    {
     "name": "stdout",
     "output_type": "stream",
     "text": [
      "41    1.601363\n",
      "42    2.300244\n",
      "43    3.079540\n",
      "44    3.941131\n",
      "Name: predicted_mean, dtype: float64\n"
     ]
    }
   ],
   "source": [
    "def forecast_supplier_avglatedays(suppliername,monthstopredict):\n",
    "    df.sort_values(by='Scheduled_relevant_delivery_date')\n",
    "    df2= df[df['Supplier']==suppliername]\n",
    "    df3=df2.groupby([pd.Grouper(key='Scheduled_relevant_delivery_date', freq='MS')])['late_bin'].agg(['sum','count']).reset_index()\n",
    "    return(forecasting(df3,monthstopredict))\n",
    "print(forecast_supplier_avglatedays('ROYAL TECHNOLOGIES CORPORATION',3))\n"
   ]
  },
  {
   "cell_type": "code",
   "execution_count": 6,
   "metadata": {},
   "outputs": [
    {
     "name": "stdout",
     "output_type": "stream",
     "text": [
      "0    0.0\n",
      "1    0.0\n",
      "2    0.0\n",
      "3    0.0\n",
      "Name: predicted_mean, dtype: float64\n"
     ]
    },
    {
     "name": "stderr",
     "output_type": "stream",
     "text": [
      "/Users/LucaKurtz/opt/anaconda3/lib/python3.8/site-packages/statsmodels/tsa/statespace/sarimax.py:865: UserWarning: Too few observations to estimate starting parameters for ARMA and trend. All parameters except for variances will be set to zeros.\n",
      "  warn('Too few observations to estimate starting parameters%s.'\n",
      "/Users/LucaKurtz/opt/anaconda3/lib/python3.8/site-packages/statsmodels/base/model.py:501: RuntimeWarning: invalid value encountered in double_scalars\n",
      "  return -self.loglike(params, *args) / nobs\n",
      "/Users/LucaKurtz/opt/anaconda3/lib/python3.8/site-packages/statsmodels/base/model.py:566: ConvergenceWarning: Maximum Likelihood optimization failed to converge. Check mle_retvals\n",
      "  warnings.warn(\"Maximum Likelihood optimization failed to \"\n"
     ]
    }
   ],
   "source": [
    "def forecast_materielgroup_avglatedays(materielgroup,monthstopredict):\n",
    "    df.sort_values(by='Scheduled_relevant_delivery_date')\n",
    "    df2= df[df['Material_Group']==materielgroup]\n",
    "    df3=df2.groupby([pd.Grouper(key='Scheduled_relevant_delivery_date', freq='MS')])['late_bin'].agg(['sum','count']).reset_index()\n",
    "    return(forecasting(df3,monthstopredict))\n",
    "print(forecast_supplier_avglatedays('73',3))"
   ]
  },
  {
   "cell_type": "code",
   "execution_count": 7,
   "metadata": {},
   "outputs": [
    {
     "name": "stdout",
     "output_type": "stream",
     "text": [
      "42    1.260909\n",
      "43    1.612815\n",
      "44    1.813032\n",
      "45    2.063802\n",
      "Name: predicted_mean, dtype: float64\n"
     ]
    }
   ],
   "source": [
    "def forecast_supplier_materielgroup_avglatedays(suppliername,materielgroup,monthstopredict):\n",
    "    df.sort_values(by='Scheduled_relevant_delivery_date')\n",
    "    df2= df[df['Material_Group']==materielgroup]\n",
    "    df3=df2[df2['Supplier']==suppliername]\n",
    "    df3=df2.groupby([pd.Grouper(key='Scheduled_relevant_delivery_date', freq='MS')])['late_bin'].agg(['sum','count']).reset_index()\n",
    "    return(forecasting(df3,monthstopredict))\n",
    "print(forecast_supplier_materielgroup_avglatedays('ROYAL TECHNOLOGIES CORPORATION','73',3))"
   ]
  },
  {
   "cell_type": "code",
   "execution_count": 9,
   "metadata": {},
   "outputs": [
    {
     "name": "stdout",
     "output_type": "stream",
     "text": [
      "45    0.999571\n",
      "46    0.998998\n",
      "47    0.998225\n",
      "48    0.997200\n",
      "Name: predicted_mean, dtype: float64\n"
     ]
    }
   ],
   "source": [
    "def forecast_avglatedays(monthstopredict):\n",
    "    df.sort_values(by='Scheduled_relevant_delivery_date')\n",
    "    df2=df\n",
    "    df3=df2.groupby([pd.Grouper(key='Scheduled_relevant_delivery_date', freq='MS')])['late_bin'].agg(['sum','count']).reset_index()\n",
    "    return(forecasting(df3,monthstopredict))\n",
    "print(forecast_avglatedays(3))\n"
   ]
  },
  {
   "cell_type": "code",
   "execution_count": null,
   "metadata": {},
   "outputs": [],
   "source": []
  }
 ],
 "metadata": {
  "kernelspec": {
   "display_name": "Python 3",
   "language": "python",
   "name": "python3"
  },
  "language_info": {
   "codemirror_mode": {
    "name": "ipython",
    "version": 3
   },
   "file_extension": ".py",
   "mimetype": "text/x-python",
   "name": "python",
   "nbconvert_exporter": "python",
   "pygments_lexer": "ipython3",
   "version": "3.8.5"
  }
 },
 "nbformat": 4,
 "nbformat_minor": 4
}
